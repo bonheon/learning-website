{
  "cells": [
    {
      "cell_type": "code",
      "execution_count": null,
      "id": "64dcd7c6",
      "metadata": {
        "id": "64dcd7c6"
      },
      "outputs": [],
      "source": [
        "import pandas as pd\n",
        "import matplotlib.pyplot as plt   # 데이터 시각화 라이브러리 및 모듈\n",
        "import seaborn as sns             # 데이터 시각화 라이브러리"
      ]
    },
    {
      "cell_type": "code",
      "execution_count": null,
      "id": "7a8c8de7",
      "metadata": {
        "id": "7a8c8de7"
      },
      "outputs": [],
      "source": [
        "from google.colab import drive\n",
        "drive.mount('/content/drive')\n",
        "prac_data=pd.read_csv(\"/content/drive/MyDrive/Colab Notebooks/data/Preprocessing_Data.csv\",encoding=\"EUC-KR\")\n",
        "# prac_data=pd.read_csv(r\"dataset\\Preprocessing_Data.csv\",encoding=\"EUC-KR\",engine=\"python\")"
      ]
    },
    {
      "cell_type": "code",
      "execution_count": null,
      "id": "769ce30c",
      "metadata": {
        "id": "769ce30c"
      },
      "outputs": [],
      "source": [
        "# prac_data.head(n=5)\n",
        "prac_data.tail(n=5)"
      ]
    },
    {
      "cell_type": "code",
      "execution_count": null,
      "id": "3e1bd67f",
      "metadata": {
        "id": "3e1bd67f"
      },
      "outputs": [],
      "source": [
        "prac_data.shape\n",
        "# 데이터프레임명.shape\n",
        "# 데이터 크기 확인"
      ]
    },
    {
      "cell_type": "code",
      "source": [
        "prac_data.info()"
      ],
      "metadata": {
        "id": "3qVSMINivz7o"
      },
      "id": "3qVSMINivz7o",
      "execution_count": null,
      "outputs": []
    },
    {
      "cell_type": "code",
      "execution_count": null,
      "id": "ed38276f",
      "metadata": {
        "id": "ed38276f"
      },
      "outputs": [],
      "source": [
        "prac_data.describe(include='all')"
      ]
    },
    {
      "cell_type": "code",
      "source": [
        "prac_data.mean()"
      ],
      "metadata": {
        "id": "RiHnSUiDR6uB"
      },
      "id": "RiHnSUiDR6uB",
      "execution_count": null,
      "outputs": []
    },
    {
      "cell_type": "code",
      "source": [
        "prac_data.std()"
      ],
      "metadata": {
        "id": "H2Wxl05tR7v-"
      },
      "id": "H2Wxl05tR7v-",
      "execution_count": null,
      "outputs": []
    },
    {
      "cell_type": "code",
      "source": [
        "prac_data.count()"
      ],
      "metadata": {
        "id": "VhlN3hbPR71t"
      },
      "id": "VhlN3hbPR71t",
      "execution_count": null,
      "outputs": []
    },
    {
      "cell_type": "code",
      "source": [
        "# prac_data.loc[:,\"x3\"]\n",
        "prac_data['x3']"
      ],
      "metadata": {
        "id": "Gcfl8elzs8mC"
      },
      "id": "Gcfl8elzs8mC",
      "execution_count": null,
      "outputs": []
    },
    {
      "cell_type": "code",
      "source": [
        "prac_data.loc[:,\"x3\"].quantile(0.25)"
      ],
      "metadata": {
        "id": "yiCU_yGfR_lu"
      },
      "id": "yiCU_yGfR_lu",
      "execution_count": null,
      "outputs": []
    },
    {
      "cell_type": "code",
      "source": [
        "prac_data[[\"x3\",\"x7\"]].quantile(0.75)"
      ],
      "metadata": {
        "id": "UJhW2tDCSBXG"
      },
      "id": "UJhW2tDCSBXG",
      "execution_count": null,
      "outputs": []
    },
    {
      "cell_type": "code",
      "source": [
        "prac_data.quantile(0.75)"
      ],
      "metadata": {
        "id": "uvvysbf6tNub"
      },
      "id": "uvvysbf6tNub",
      "execution_count": null,
      "outputs": []
    },
    {
      "cell_type": "code",
      "source": [
        "prac_data"
      ],
      "metadata": {
        "id": "2VyREGdytbia"
      },
      "id": "2VyREGdytbia",
      "execution_count": null,
      "outputs": []
    },
    {
      "cell_type": "code",
      "source": [
        "# prac_data.groupby('x2').mean().T\n",
        "group_data=prac_data.groupby([\"x2\"])\n",
        "group_data"
      ],
      "metadata": {
        "id": "CJ2j5YPDCMKe"
      },
      "id": "CJ2j5YPDCMKe",
      "execution_count": null,
      "outputs": []
    },
    {
      "cell_type": "code",
      "source": [
        "group_data=prac_data.groupby([\"x2\"])\n",
        "group_data.mean()"
      ],
      "metadata": {
        "id": "j2bPkTkYSS3_"
      },
      "id": "j2bPkTkYSS3_",
      "execution_count": null,
      "outputs": []
    },
    {
      "cell_type": "code",
      "source": [
        "prac_data.groupby([\"x2\",\"x12\"]).mean()"
      ],
      "metadata": {
        "id": "5-_NHgptSxd5"
      },
      "id": "5-_NHgptSxd5",
      "execution_count": null,
      "outputs": []
    },
    {
      "cell_type": "code",
      "source": [
        "group_summary=prac_data.groupby([\"x2\",\"x12\"]).mean()"
      ],
      "metadata": {
        "id": "x4Eh8LomTP2v"
      },
      "id": "x4Eh8LomTP2v",
      "execution_count": null,
      "outputs": []
    },
    {
      "cell_type": "code",
      "source": [
        "group_summary"
      ],
      "metadata": {
        "id": "jzTx8d2pTUoh"
      },
      "id": "jzTx8d2pTUoh",
      "execution_count": null,
      "outputs": []
    },
    {
      "cell_type": "code",
      "source": [
        "# group_summary.loc[(\"A\"),:] # A만\n",
        "group_summary.loc[(\"A\")]"
      ],
      "metadata": {
        "id": "DRpKvnwnTVnt"
      },
      "id": "DRpKvnwnTVnt",
      "execution_count": null,
      "outputs": []
    },
    {
      "cell_type": "code",
      "source": [
        "group_summary.loc[(\"A\", \"AKT 127\")] # A에서 AKT 127만"
      ],
      "metadata": {
        "id": "KyM9fQ-1TmYZ"
      },
      "id": "KyM9fQ-1TmYZ",
      "execution_count": null,
      "outputs": []
    },
    {
      "cell_type": "code",
      "source": [
        "group_summary.loc[(slice(None),\"AKT 127\"),] # AKT 127만"
      ],
      "metadata": {
        "id": "OhRxNm_ZTqkH"
      },
      "id": "OhRxNm_ZTqkH",
      "execution_count": null,
      "outputs": []
    },
    {
      "cell_type": "code",
      "source": [
        "group_summary.loc[slice((\"A\", \"AKT 127\"), (\"B\", \"RJK 194\"))]"
      ],
      "metadata": {
        "id": "0xBEssRUUcgv"
      },
      "id": "0xBEssRUUcgv",
      "execution_count": null,
      "outputs": []
    },
    {
      "cell_type": "code",
      "source": [
        "group_summary.loc[(slice(\"A\",\"B\"),slice(\"AKT 127\", \"RJK 194\")),:]"
      ],
      "metadata": {
        "id": "k3z8Qp2cUi6f"
      },
      "id": "k3z8Qp2cUi6f",
      "execution_count": null,
      "outputs": []
    },
    {
      "cell_type": "code",
      "source": [
        "group_summary=group_summary.reset_index()\n",
        "group_summary"
      ],
      "metadata": {
        "id": "EUmIB1PzU6zW"
      },
      "id": "EUmIB1PzU6zW",
      "execution_count": null,
      "outputs": []
    },
    {
      "cell_type": "code",
      "source": [
        "sns.barplot(x=\"x2\",y=\"y\",data=group_summary)\n",
        "plt.ylim(4.3,4.7)\n",
        "plt.show()"
      ],
      "metadata": {
        "id": "XjqF--YLVFpQ"
      },
      "id": "XjqF--YLVFpQ",
      "execution_count": null,
      "outputs": []
    },
    {
      "cell_type": "code",
      "source": [
        "sns.barplot(x=\"x2\",y=\"y\",hue=\"x12\",data=group_summary)\n",
        "plt.ylim(4.3,4.7)\n",
        "plt.show()"
      ],
      "metadata": {
        "id": "vwvDWQXQUqBw"
      },
      "id": "vwvDWQXQUqBw",
      "execution_count": null,
      "outputs": []
    },
    {
      "cell_type": "code",
      "source": [
        "prac_data.hist(bins=10,figsize=(20,15))\n",
        "plt.show()"
      ],
      "metadata": {
        "id": "EOwmGipFS2_g"
      },
      "id": "EOwmGipFS2_g",
      "execution_count": null,
      "outputs": []
    },
    {
      "cell_type": "code",
      "source": [
        "prac_data[\"x4\"].hist(bins=20,figsize=(10,5),color=\"hotpink\")\n",
        "plt.show()"
      ],
      "metadata": {
        "id": "A_akRZXhVYPI"
      },
      "id": "A_akRZXhVYPI",
      "execution_count": null,
      "outputs": []
    },
    {
      "cell_type": "code",
      "source": [
        "prac_data[\"x2\"].value_counts()"
      ],
      "metadata": {
        "id": "cdihDrN2VcBH"
      },
      "id": "cdihDrN2VcBH",
      "execution_count": null,
      "outputs": []
    },
    {
      "cell_type": "code",
      "source": [
        "prac_data[\"x2\"].value_counts(normalize=True)"
      ],
      "metadata": {
        "id": "BI8X0lmvVl12"
      },
      "id": "BI8X0lmvVl12",
      "execution_count": null,
      "outputs": []
    },
    {
      "cell_type": "code",
      "source": [
        "prac_data[\"x2\"].value_counts().index"
      ],
      "metadata": {
        "id": "TpE9AgF9VqBe"
      },
      "id": "TpE9AgF9VqBe",
      "execution_count": null,
      "outputs": []
    },
    {
      "cell_type": "code",
      "source": [
        "sns.barplot(x=prac_data[\"x2\"].value_counts(),\n",
        "           y=prac_data[\"x2\"].value_counts().index)\n",
        "plt.show()"
      ],
      "metadata": {
        "id": "ju_6h_EJVrb3"
      },
      "id": "ju_6h_EJVrb3",
      "execution_count": null,
      "outputs": []
    },
    {
      "cell_type": "code",
      "source": [
        "sns.barplot(y=prac_data[\"x2\"].value_counts(),\n",
        "           x=prac_data[\"x2\"].value_counts().index)"
      ],
      "metadata": {
        "id": "_GD9mj3PVtZA"
      },
      "id": "_GD9mj3PVtZA",
      "execution_count": null,
      "outputs": []
    },
    {
      "cell_type": "code",
      "source": [
        "plt.pie(x=prac_data[\"x2\"].value_counts(),\n",
        "       labels=prac_data[\"x2\"].value_counts().index,\n",
        "       autopct=\"%.1f%%\",counterclock=False,startangle=0)\n",
        "plt.show()"
      ],
      "metadata": {
        "id": "lGJ_8pVsWB6X"
      },
      "id": "lGJ_8pVsWB6X",
      "execution_count": null,
      "outputs": []
    },
    {
      "cell_type": "code",
      "source": [
        "pd.crosstab(prac_data[\"x2\"],prac_data[\"x12\"],margins = True)"
      ],
      "metadata": {
        "id": "Pu_fRaIAWVEv"
      },
      "id": "Pu_fRaIAWVEv",
      "execution_count": null,
      "outputs": []
    },
    {
      "cell_type": "code",
      "source": [
        "prac_data.corr()"
      ],
      "metadata": {
        "id": "aHHcufOnWyix"
      },
      "id": "aHHcufOnWyix",
      "execution_count": null,
      "outputs": []
    },
    {
      "cell_type": "code",
      "source": [
        "sns.heatmap(data=prac_data.corr(),vmin=-1,vmax=1,center=0,\n",
        "           cmap=sns.diverging_palette(20,520,n=500))\n",
        "plt.show()"
      ],
      "metadata": {
        "id": "bETSgKwbW0WO"
      },
      "id": "bETSgKwbW0WO",
      "execution_count": null,
      "outputs": []
    },
    {
      "cell_type": "code",
      "source": [
        "prac_data.plot(kind=\"scatter\",x=\"x4\",y=\"y\",marker=\"o\")\n",
        "plt.show()"
      ],
      "metadata": {
        "id": "DotRSTWaXNzP"
      },
      "id": "DotRSTWaXNzP",
      "execution_count": null,
      "outputs": []
    },
    {
      "cell_type": "code",
      "source": [
        "sns.histplot(data=prac_data,x=\"y\",hue=\"x1\",palette=\"Set1\")\n",
        "plt.show()"
      ],
      "metadata": {
        "id": "P8X68rc_XSiI"
      },
      "id": "P8X68rc_XSiI",
      "execution_count": null,
      "outputs": []
    },
    {
      "cell_type": "code",
      "source": [
        "sns.histplot(data=prac_data,x=\"y\",palette=\"Set1\")\n",
        "plt.show()"
      ],
      "metadata": {
        "id": "mSwObPDHXbJf"
      },
      "id": "mSwObPDHXbJf",
      "execution_count": null,
      "outputs": []
    },
    {
      "cell_type": "code",
      "source": [
        "sns.boxplot(y=\"y\",x=\"x1\",data=prac_data)\n",
        "plt.show()"
      ],
      "metadata": {
        "id": "NqzYSm5GXfUP"
      },
      "id": "NqzYSm5GXfUP",
      "execution_count": null,
      "outputs": []
    },
    {
      "cell_type": "code",
      "source": [
        "sns.boxplot(y=\"y\",x=\"x1\",hue=\"x2\",data=prac_data)\n",
        "plt.show()"
      ],
      "metadata": {
        "id": "fMf3QkZ7Xix4"
      },
      "id": "fMf3QkZ7Xix4",
      "execution_count": null,
      "outputs": []
    },
    {
      "cell_type": "code",
      "source": [
        "sns.violinplot(x=\"x1\", y=\"y\", data=prac_data)\n",
        "plt.show()"
      ],
      "metadata": {
        "id": "gk33tAWKXoF4"
      },
      "id": "gk33tAWKXoF4",
      "execution_count": null,
      "outputs": []
    },
    {
      "cell_type": "code",
      "source": [
        "sns.pointplot(x=\"x1\", y=\"y\", data=prac_data)\n",
        "plt.show()"
      ],
      "metadata": {
        "id": "zraYf0vpXyef"
      },
      "id": "zraYf0vpXyef",
      "execution_count": null,
      "outputs": []
    },
    {
      "cell_type": "markdown",
      "id": "c9eac9f3",
      "metadata": {
        "id": "c9eac9f3"
      },
      "source": [
        "## 데이터 전처리 시작"
      ]
    },
    {
      "cell_type": "code",
      "execution_count": null,
      "id": "6406060f",
      "metadata": {
        "id": "6406060f"
      },
      "outputs": [],
      "source": [
        "pre_data1=prac_data.copy()\n",
        "pre_data2=prac_data\n",
        "print(\"prac_data 주소: \", id(prac_data))\n",
        "print(\"pre_data1 주소: \", id(pre_data1))\n",
        "print(\"pre_data2 주소: \", id(pre_data2))\n"
      ]
    },
    {
      "cell_type": "code",
      "execution_count": null,
      "id": "f90e2cc7",
      "metadata": {
        "id": "f90e2cc7"
      },
      "outputs": [],
      "source": [
        "pre_data1.head(n=3)"
      ]
    },
    {
      "cell_type": "markdown",
      "id": "76723d70",
      "metadata": {
        "id": "76723d70"
      },
      "source": [
        "# 불필요한 입력변수 제거"
      ]
    },
    {
      "cell_type": "code",
      "execution_count": null,
      "id": "681442d8",
      "metadata": {
        "id": "681442d8"
      },
      "outputs": [],
      "source": [
        "pre_data1.nunique()\n",
        "#데이터프레임명.nunique()\n",
        "#변수별 고유값 개수 확인"
      ]
    },
    {
      "cell_type": "code",
      "execution_count": null,
      "id": "5713ea44",
      "metadata": {
        "id": "5713ea44"
      },
      "outputs": [],
      "source": [
        "pre_data1.nunique()==1\n",
        "#pre_data1.nunique()<5"
      ]
    },
    {
      "cell_type": "code",
      "execution_count": null,
      "id": "276a6d35",
      "metadata": {
        "id": "276a6d35"
      },
      "outputs": [],
      "source": [
        "print(pre_data1.columns)\n",
        "col_list=pre_data1.columns[pre_data1.nunique()==1]\n",
        "print(col_list)"
      ]
    },
    {
      "cell_type": "code",
      "execution_count": null,
      "id": "4a7ed79b",
      "metadata": {
        "id": "4a7ed79b"
      },
      "outputs": [],
      "source": [
        "pre_data1.drop([\"Lot_ID\"],axis=1).head(n=3)\n",
        "# drop 메서드를 통해 데이터프레임의 행 또는 열을 제거할 수 있음\n",
        "# axis=1은 열을 의미하며, axis=0은 행을 의미함"
      ]
    },
    {
      "cell_type": "code",
      "execution_count": null,
      "id": "a0c638c4",
      "metadata": {
        "id": "a0c638c4"
      },
      "outputs": [],
      "source": [
        "pre_data1.head(n=3)"
      ]
    },
    {
      "cell_type": "code",
      "execution_count": null,
      "id": "622fecd7",
      "metadata": {
        "id": "622fecd7"
      },
      "outputs": [],
      "source": [
        "# 새로운 변수에 할당\n",
        "pre_data1=pre_data1.drop([\"Lot_ID\"],axis=1)\n",
        "pre_data1.head(n=3)"
      ]
    },
    {
      "cell_type": "code",
      "execution_count": null,
      "id": "41c8fb3d",
      "metadata": {
        "id": "41c8fb3d"
      },
      "outputs": [],
      "source": [
        "# 기존의 데이터 프레임에 덮어 씌움\n",
        "pre_data1.drop([\"x2\"],axis=1,inplace=True)\n",
        "pre_data1.head(n=3)"
      ]
    },
    {
      "cell_type": "code",
      "execution_count": null,
      "id": "9bd1fcd4",
      "metadata": {
        "scrolled": true,
        "id": "9bd1fcd4"
      },
      "outputs": [],
      "source": [
        "pre_data1.drop(col_list,axis=1,inplace=True)\n",
        "pre_data1.head(n=5)\n",
        "# inplace=True는 데이터프레임 내 변경사항을 데이터프레임에 즉시 반영해주는 옵션"
      ]
    },
    {
      "cell_type": "code",
      "execution_count": null,
      "id": "9c75cc57",
      "metadata": {
        "id": "9c75cc57"
      },
      "outputs": [],
      "source": [
        "prac_data.head(n=5) #원본 데이터"
      ]
    },
    {
      "cell_type": "code",
      "execution_count": null,
      "id": "2a6ca0ee",
      "metadata": {
        "id": "2a6ca0ee"
      },
      "outputs": [],
      "source": [
        "pre_data2.drop([\"Lot_ID\",\"x11\"],axis=1,inplace=True)\n",
        "pre_data2.head()"
      ]
    },
    {
      "cell_type": "code",
      "execution_count": null,
      "id": "0ea88329",
      "metadata": {
        "id": "0ea88329"
      },
      "outputs": [],
      "source": [
        "prac_data.head(n=5)\n",
        "# pre_data2에 대한 데이터 전처리가 원본 데이터에도 반영됨\n",
        "# .copy를 사용하지 않고 단순히 =으로만 데이터를 복제하였기 때문임"
      ]
    },
    {
      "cell_type": "code",
      "execution_count": null,
      "id": "5a02de11",
      "metadata": {
        "id": "5a02de11"
      },
      "outputs": [],
      "source": [
        "pre_data1=pre_data2.copy()"
      ]
    },
    {
      "cell_type": "code",
      "execution_count": null,
      "id": "1d2d5395",
      "metadata": {
        "id": "1d2d5395"
      },
      "outputs": [],
      "source": [
        "pre_data1.head()"
      ]
    },
    {
      "cell_type": "markdown",
      "id": "a63bdd41",
      "metadata": {
        "id": "a63bdd41"
      },
      "source": [
        "# 이상치 다루기"
      ]
    },
    {
      "cell_type": "code",
      "execution_count": null,
      "id": "b5232d1e",
      "metadata": {
        "id": "b5232d1e"
      },
      "outputs": [],
      "source": [
        "print(\"변수별 평균\")\n",
        "print(pre_data1.mean())\n",
        "print(\"\\n\")\n",
        "print(\"변수별 표준편차\")\n",
        "print(pre_data1.std())"
      ]
    },
    {
      "cell_type": "code",
      "execution_count": null,
      "id": "96dda8b5",
      "metadata": {
        "id": "96dda8b5"
      },
      "outputs": [],
      "source": [
        "# pre_data1.mean()-pre_data1.std()*6\n",
        "pre_data1.mean()+pre_data1.std()*6"
      ]
    },
    {
      "cell_type": "code",
      "execution_count": null,
      "id": "4027d4ff",
      "metadata": {
        "id": "4027d4ff"
      },
      "outputs": [],
      "source": [
        "(pre_data1<pre_data1.mean()-pre_data1.std()*6)\n",
        "# 각 셀마다 해당 기준을 만족하는 지 True False로 반환함"
      ]
    },
    {
      "cell_type": "code",
      "execution_count": null,
      "id": "1fd58a30",
      "metadata": {
        "id": "1fd58a30"
      },
      "outputs": [],
      "source": [
        "((pre_data1>pre_data1.mean()+pre_data1.std()*6)|\n",
        " (pre_data1<pre_data1.mean()-pre_data1.std()*6)).any(axis=1)#.head(n=15)"
      ]
    },
    {
      "cell_type": "code",
      "execution_count": null,
      "id": "159bee2a",
      "metadata": {
        "id": "159bee2a"
      },
      "outputs": [],
      "source": [
        "pre_data1.loc[((pre_data1>pre_data1.mean()+pre_data1.std()*6)|\n",
        "                (pre_data1<pre_data1.mean()-pre_data1.std()*6)).any(1)]"
      ]
    },
    {
      "cell_type": "code",
      "execution_count": null,
      "id": "a39a9d82",
      "metadata": {
        "id": "a39a9d82"
      },
      "outputs": [],
      "source": [
        "outlier_data=pre_data1.loc[((pre_data1>pre_data1.mean()+pre_data1.std()*6)|\n",
        "                           (pre_data1<pre_data1.mean()-pre_data1.std()*6)).any(1),:]\n",
        "outlier_data"
      ]
    },
    {
      "cell_type": "code",
      "execution_count": null,
      "id": "bdcdc4d5",
      "metadata": {
        "id": "bdcdc4d5"
      },
      "outputs": [],
      "source": [
        "outlier_data.index\n",
        "# 데이터프레임명.index\n",
        "# 해당 데이터프레임의 index 값 추출"
      ]
    },
    {
      "cell_type": "code",
      "execution_count": null,
      "id": "0639d903",
      "metadata": {
        "id": "0639d903"
      },
      "outputs": [],
      "source": [
        "pre_data1.drop(outlier_data.index,axis=0,inplace=True)"
      ]
    },
    {
      "cell_type": "code",
      "source": [
        "prac_data.describe()"
      ],
      "metadata": {
        "id": "9OGi53DT7Ww9"
      },
      "id": "9OGi53DT7Ww9",
      "execution_count": null,
      "outputs": []
    },
    {
      "cell_type": "code",
      "execution_count": null,
      "id": "570e365e",
      "metadata": {
        "id": "570e365e"
      },
      "outputs": [],
      "source": [
        "pre_data1.describe()"
      ]
    },
    {
      "cell_type": "code",
      "execution_count": null,
      "id": "02b48ddf",
      "metadata": {
        "id": "02b48ddf"
      },
      "outputs": [],
      "source": [
        "plt.subplot(121)\n",
        "prac_data[\"x5\"].hist(bins=50,figsize=(13,5),color=\"C0\")\n",
        "plt.title(\"x5 Original\")\n",
        "plt.subplot(122)\n",
        "pre_data1[\"x5\"].hist(bins=50,figsize=(13,5),color=\"C1\")\n",
        "plt.title(\"x5 without Outlier\")\n",
        "plt.show()"
      ]
    },
    {
      "cell_type": "code",
      "execution_count": null,
      "id": "878a7c0d",
      "metadata": {
        "id": "878a7c0d"
      },
      "outputs": [],
      "source": [
        "pre_data2=pre_data1.copy()\n",
        "# pre_data1은 이제 이상치 처리까지 끝난 데이터임. 이후 데이터 전처리에서 잘못된 코딩으로 데이터가 날라간다면\n",
        "# 이상치 처리부터 다시 시작할 수 있음"
      ]
    },
    {
      "cell_type": "code",
      "execution_count": null,
      "id": "1a52d0dd",
      "metadata": {
        "id": "1a52d0dd"
      },
      "outputs": [],
      "source": []
    },
    {
      "cell_type": "markdown",
      "id": "aaf2475c",
      "metadata": {
        "id": "aaf2475c"
      },
      "source": [
        "\n",
        "\n",
        "## 결측치 처리"
      ]
    },
    {
      "cell_type": "code",
      "execution_count": null,
      "id": "25e1365c",
      "metadata": {
        "id": "25e1365c"
      },
      "outputs": [],
      "source": [
        "pre_data2.isnull().head(n=3)\n",
        "\n",
        "# 데이터프레임명.isnull()\n",
        "# 셀마다 결측치 여부 확인"
      ]
    },
    {
      "cell_type": "code",
      "execution_count": null,
      "id": "06b1bccd",
      "metadata": {
        "id": "06b1bccd"
      },
      "outputs": [],
      "source": [
        "pre_data2.isnull().sum()\n",
        "# 데이터프레임명.isnull().sum()\n",
        "# 변수별 결측치 수 확인\n",
        "#(pre_data2.isnull().sum()/2000)*100"
      ]
    },
    {
      "cell_type": "code",
      "execution_count": null,
      "id": "e55e4ede",
      "metadata": {
        "id": "e55e4ede"
      },
      "outputs": [],
      "source": [
        "pre_data2.count()"
      ]
    },
    {
      "cell_type": "code",
      "execution_count": null,
      "id": "3299f627",
      "metadata": {
        "id": "3299f627"
      },
      "outputs": [],
      "source": [
        "# 변수 제거 전략\n",
        "\n",
        "pre_data3=pre_data2.dropna(thresh=400,axis=1)\n",
        "pre_data3.head(n=3)\n",
        "\n",
        "\n",
        "# 데이터프레임명.dropna()\n",
        "# 결측치 제거에 특화된 drop 메서드\n",
        "# thresh는 기준치를 의미하며, 해당 기준치보다 non-null(결측치가 아닌 데이터) 값의 갯수가 작으면 해당 변수는 제거됨\n",
        "# x9의 non-null값의 갯수는 397이므로 제거"
      ]
    },
    {
      "cell_type": "code",
      "execution_count": null,
      "id": "2dfad213",
      "metadata": {
        "id": "2dfad213"
      },
      "outputs": [],
      "source": [
        "# 행 제거 전략\n",
        "\n",
        "pre_data3=pre_data2.dropna(axis=0)\n",
        "pre_data3.head()\n",
        "# thresh를 안적으면 하나의 결측치라도 존재하는 행 또는 열을 모두 제거\n",
        "# axis=0이므로 결측치가 존재하는 행이 모두 제거됨"
      ]
    },
    {
      "cell_type": "code",
      "execution_count": null,
      "id": "989a6f46",
      "metadata": {
        "id": "989a6f46"
      },
      "outputs": [],
      "source": [
        "# 행 제거 전략\n",
        "\n",
        "pre_data3=pre_data2.dropna(axis=0,subset=[\"x5\"])\n",
        "pre_data3.head(n=3)\n",
        "\n",
        "# subset을 사용할 경우 특정 변수 내 결측치가 존재하는 행만 제거할 수 있음"
      ]
    },
    {
      "cell_type": "code",
      "execution_count": null,
      "id": "3862793b",
      "metadata": {
        "id": "3862793b"
      },
      "outputs": [],
      "source": [
        "pre_data2.head()"
      ]
    },
    {
      "cell_type": "code",
      "execution_count": null,
      "id": "2429e405",
      "metadata": {
        "id": "2429e405"
      },
      "outputs": [],
      "source": [
        "# 결측값 채우기 전략\n",
        "# 특정값으로 채우기\n",
        "pre_data3=pre_data2.fillna(10)\n",
        "pre_data3.head(n=5)"
      ]
    },
    {
      "cell_type": "code",
      "execution_count": null,
      "id": "41bd77d2",
      "metadata": {
        "id": "41bd77d2"
      },
      "outputs": [],
      "source": [
        "# 결측값 채우기 전략\n",
        "# 변수 별 평균으로 채우기\n",
        "pre_data3=pre_data2.fillna(pre_data2.mean())\n",
        "pre_data3.head(n=5)"
      ]
    },
    {
      "cell_type": "code",
      "execution_count": null,
      "id": "dcb22012",
      "metadata": {
        "id": "dcb22012"
      },
      "outputs": [],
      "source": [
        "#그룹별 대치\n",
        "pre_data2.groupby(\"x12\").mean()"
      ]
    },
    {
      "cell_type": "code",
      "execution_count": null,
      "id": "13365aa6",
      "metadata": {
        "id": "13365aa6"
      },
      "outputs": [],
      "source": [
        "pre_data2.groupby(\"x12\").transform('mean')"
      ]
    },
    {
      "cell_type": "code",
      "execution_count": null,
      "id": "ba76a714",
      "metadata": {
        "id": "ba76a714"
      },
      "outputs": [],
      "source": [
        "\n",
        "pre_data3=pre_data2.fillna(pre_data2.groupby(\"x12\").transform('mean'))\n",
        "pre_data3.head(n=3)\n"
      ]
    },
    {
      "cell_type": "code",
      "execution_count": null,
      "id": "84ca5967",
      "metadata": {
        "scrolled": true,
        "id": "84ca5967"
      },
      "outputs": [],
      "source": [
        "pre_data2.head(n=5)"
      ]
    },
    {
      "cell_type": "code",
      "execution_count": null,
      "id": "09333c88",
      "metadata": {
        "id": "09333c88"
      },
      "outputs": [],
      "source": [
        "# 범주형 변수 결측치 채우기\n",
        "# 우선 Missing으로 채우기\n",
        "\n",
        "pre_data3=pre_data2.fillna(\"Missing\").head(n=5)\n",
        "pre_data3.head(n=3)"
      ]
    },
    {
      "cell_type": "code",
      "execution_count": null,
      "id": "94030831",
      "metadata": {
        "id": "94030831"
      },
      "outputs": [],
      "source": [
        "pre_data2.fillna(pre_data2.groupby(\"x12\").transform('mean'),inplace=True)\n",
        "pre_data3=pre_data2.fillna(\"Missing\")\n",
        "pre_data3.head(n=3)"
      ]
    },
    {
      "cell_type": "code",
      "execution_count": null,
      "id": "40a97428",
      "metadata": {
        "id": "40a97428"
      },
      "outputs": [],
      "source": [
        "# 범주형 변수 결측치 채우기\n",
        "# 최빈값으로 채우기\n",
        "pre_data2.fillna(pre_data2.mode()).head(n=5)"
      ]
    },
    {
      "cell_type": "code",
      "execution_count": null,
      "id": "e84b5cc0",
      "metadata": {
        "id": "e84b5cc0"
      },
      "outputs": [],
      "source": [
        "pre_data2.mode().head(n=5)\n",
        "# 변수별 최빈값 확인\n",
        "# x2의 경우 최빈값이 하나가 아니라 두개임! 따라서 제대로 채워지지 않음"
      ]
    },
    {
      "cell_type": "code",
      "execution_count": null,
      "id": "02db0b55",
      "metadata": {
        "id": "02db0b55"
      },
      "outputs": [],
      "source": [
        "pre_data2[\"x2\"].value_counts()"
      ]
    },
    {
      "cell_type": "code",
      "execution_count": null,
      "id": "0173858f",
      "metadata": {
        "id": "0173858f"
      },
      "outputs": [],
      "source": [
        "pre_data3=pre_data2.fillna(pre_data2.mode().iloc[0,:])         # 즉 최빈값의 첫 번째 행 값으로 채우겠다...\n",
        "pre_data3.head(n=5)"
      ]
    },
    {
      "cell_type": "code",
      "execution_count": null,
      "id": "f9f36c97",
      "metadata": {
        "id": "f9f36c97"
      },
      "outputs": [],
      "source": [
        "pre_data3.iloc[2,7]=None\n",
        "pre_data3.iloc[3,7]=None\n",
        "\n",
        "pre_data3.head(n=5)"
      ]
    },
    {
      "cell_type": "code",
      "execution_count": null,
      "id": "488b42f5",
      "metadata": {
        "id": "488b42f5"
      },
      "outputs": [],
      "source": [
        "pre_data3.interpolate().head(n=5)"
      ]
    },
    {
      "cell_type": "code",
      "execution_count": null,
      "id": "0c22107c",
      "metadata": {
        "id": "0c22107c"
      },
      "outputs": [],
      "source": [
        "print(10.727762-1/3*(10.727762-9.407899))\n",
        "print(10.727762-2/3*(10.727762-9.407899))"
      ]
    },
    {
      "cell_type": "code",
      "execution_count": null,
      "id": "64a73ab6",
      "metadata": {
        "id": "64a73ab6"
      },
      "outputs": [],
      "source": [
        "pre_data3.ffill().head(n=5)"
      ]
    },
    {
      "cell_type": "code",
      "execution_count": null,
      "id": "8f0714be",
      "metadata": {
        "id": "8f0714be"
      },
      "outputs": [],
      "source": [
        "pre_data3.bfill().head(n=5)"
      ]
    },
    {
      "cell_type": "code",
      "execution_count": null,
      "id": "c78d1a0b",
      "metadata": {
        "id": "c78d1a0b"
      },
      "outputs": [],
      "source": []
    }
  ],
  "metadata": {
    "kernelspec": {
      "display_name": "Python 3",
      "language": "python",
      "name": "python3"
    },
    "language_info": {
      "codemirror_mode": {
        "name": "ipython",
        "version": 3
      },
      "file_extension": ".py",
      "mimetype": "text/x-python",
      "name": "python",
      "nbconvert_exporter": "python",
      "pygments_lexer": "ipython3",
      "version": "3.8.8"
    },
    "varInspector": {
      "cols": {
        "lenName": 16,
        "lenType": 16,
        "lenVar": 40
      },
      "kernels_config": {
        "python": {
          "delete_cmd_postfix": "",
          "delete_cmd_prefix": "del ",
          "library": "var_list.py",
          "varRefreshCmd": "print(var_dic_list())"
        },
        "r": {
          "delete_cmd_postfix": ") ",
          "delete_cmd_prefix": "rm(",
          "library": "var_list.r",
          "varRefreshCmd": "cat(var_dic_list()) "
        }
      },
      "types_to_exclude": [
        "module",
        "function",
        "builtin_function_or_method",
        "instance",
        "_Feature"
      ],
      "window_display": false
    },
    "colab": {
      "provenance": [],
      "collapsed_sections": [
        "a63bdd41",
        "aaf2475c",
        "b68058ac"
      ]
    }
  },
  "nbformat": 4,
  "nbformat_minor": 5
}