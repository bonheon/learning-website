{
  "nbformat": 4,
  "nbformat_minor": 0,
  "metadata": {
    "colab": {
      "provenance": []
    },
    "kernelspec": {
      "name": "python3",
      "display_name": "Python 3"
    },
    "language_info": {
      "name": "python"
    }
  },
  "cells": [
    {
      "cell_type": "code",
      "execution_count": null,
      "metadata": {
        "id": "_762dJSjnbKN"
      },
      "outputs": [],
      "source": [
        "import pandas as pd\n",
        "import matplotlib.pyplot as plt   # 데이터 시각화 라이브러리 및 모듈\n",
        "import seaborn as sns       # 데이터 시각화 라이브러리"
      ]
    },
    {
      "cell_type": "code",
      "source": [
        "from google.colab import drive\n",
        "drive.mount('/content/drive')\n",
        "prac_data=pd.read_csv(\"/content/drive/MyDrive/Colab Notebooks/data/EQ_Analysis_data.csv\",encoding=\"EUC-KR\")\n",
        "# prac_data=pd.read_csv(r\"dataset\\Preprocessing_Data.csv\",encoding=\"EUC-KR\",engine=\"python\")"
      ],
      "metadata": {
        "id": "gGq6mnZpBEGL",
        "colab": {
          "base_uri": "https://localhost:8080/"
        },
        "outputId": "9f61ed2a-35b4-4255-cd64-5ceaba449370"
      },
      "execution_count": null,
      "outputs": [
        {
          "output_type": "stream",
          "name": "stdout",
          "text": [
            "Drive already mounted at /content/drive; to attempt to forcibly remount, call drive.mount(\"/content/drive\", force_remount=True).\n"
          ]
        }
      ]
    },
    {
      "cell_type": "code",
      "source": [],
      "metadata": {
        "id": "qcRQXR_pqnMb"
      },
      "execution_count": null,
      "outputs": []
    },
    {
      "cell_type": "code",
      "source": [
        "pre_data1=prac_data.copy()\n",
        "pre_data1=pre_data1.drop([\"Lot_ID\"],axis=1)"
      ],
      "metadata": {
        "id": "D_qV4bySBEth"
      },
      "execution_count": null,
      "outputs": []
    },
    {
      "cell_type": "code",
      "source": [
        "outlier_data=pre_data1.loc[((pre_data1>pre_data1.mean()+pre_data1.std()*6)|\n",
        "                           (pre_data1<pre_data1.mean()-pre_data1.std()*6)).any(1),:]\n",
        "pre_data1.drop(outlier_data.index,axis=0,inplace=True)"
      ],
      "metadata": {
        "id": "yZFQxv8MBpU7"
      },
      "execution_count": null,
      "outputs": []
    },
    {
      "cell_type": "code",
      "source": [
        "pre_data2=pre_data1.copy()"
      ],
      "metadata": {
        "id": "VhBFsZCUBwxJ"
      },
      "execution_count": null,
      "outputs": []
    },
    {
      "cell_type": "code",
      "execution_count": null,
      "metadata": {
        "id": "45839636"
      },
      "outputs": [],
      "source": [
        "pre_data2.info()"
      ]
    },
    {
      "cell_type": "markdown",
      "metadata": {
        "id": "aaf2475c"
      },
      "source": [
        "## 범주형 데이터 처리"
      ]
    },
    {
      "cell_type": "code",
      "execution_count": null,
      "metadata": {
        "id": "6456f4e7"
      },
      "outputs": [],
      "source": [
        "pre_data2 = pre_data2.bfill()\n",
        "print(pre_data2[\"x1\"].value_counts())\n",
        "print(pre_data2[\"x1\"].unique())\n",
        "# 데이터프레임명[\"변수명\"].unique\n",
        "# 변수의 고유값 확인"
      ]
    },
    {
      "cell_type": "code",
      "source": [
        "pre_data2.head(5)"
      ],
      "metadata": {
        "id": "EEHrz0D8mUQ6"
      },
      "execution_count": null,
      "outputs": []
    },
    {
      "cell_type": "code",
      "execution_count": null,
      "metadata": {
        "id": "a1aa9a02"
      },
      "outputs": [],
      "source": [
        "pre_data2[\"x1\"]=pre_data2[\"x1\"].astype(\"category\")         # object형태\n",
        "pre_data2[\"x13\"]=pre_data2[\"x13\"].astype('datetime64') # 시계열 형태로 변환"
      ]
    },
    {
      "cell_type": "code",
      "execution_count": null,
      "metadata": {
        "scrolled": true,
        "id": "feab09b6"
      },
      "outputs": [],
      "source": [
        "pre_data2.info()"
      ]
    },
    {
      "cell_type": "code",
      "execution_count": null,
      "metadata": {
        "id": "2d71bf8b"
      },
      "outputs": [],
      "source": [
        "pre_data4=pd.get_dummies(pre_data2)\n",
        "pre_data4.head(n=3)"
      ]
    },
    {
      "cell_type": "code",
      "execution_count": null,
      "metadata": {
        "id": "f4d9c920"
      },
      "outputs": [],
      "source": [
        "pre_data4=pd.get_dummies(pre_data2,drop_first=True)\n",
        "pre_data4.head(n=3)"
      ]
    },
    {
      "cell_type": "code",
      "source": [
        "pre_data4=pd.get_dummies(pre_data2,columns = ['x2'])\n",
        "pre_data4.head(n=3)"
      ],
      "metadata": {
        "id": "siBYK4VLxNgk"
      },
      "execution_count": null,
      "outputs": []
    },
    {
      "cell_type": "code",
      "execution_count": null,
      "metadata": {
        "id": "95d1eca2"
      },
      "outputs": [],
      "source": [
        "pre_data4=pd.get_dummies(pre_data2,drop_first=True)\n",
        "pre_data4.to_csv(\"/content/drive/MyDrive/Colab Notebooks/Preprocessing1_end.csv\",index=True)"
      ]
    },
    {
      "cell_type": "code",
      "source": [
        "pre_data2.groupby(\"x2\").mean()"
      ],
      "metadata": {
        "id": "Cmf2FWl9ygqT"
      },
      "execution_count": null,
      "outputs": []
    },
    {
      "cell_type": "code",
      "source": [
        "pre_data2.groupby(\"x2\").transform('mean')"
      ],
      "metadata": {
        "id": "Geo-J-0cyxaB"
      },
      "execution_count": null,
      "outputs": []
    },
    {
      "cell_type": "code",
      "source": [
        "pre_data2.groupby(\"x2\").transform('mean')[\"y\"]"
      ],
      "metadata": {
        "id": "aKlmQN5_o0b3"
      },
      "execution_count": null,
      "outputs": []
    },
    {
      "cell_type": "code",
      "source": [
        "pre_data2['x2_mean'] = pre_data2.groupby(\"x2\").transform('mean')[\"y\"]"
      ],
      "metadata": {
        "id": "WjOoU8qxznCk"
      },
      "execution_count": null,
      "outputs": []
    },
    {
      "cell_type": "code",
      "source": [
        "pre_data2.head(n=5)"
      ],
      "metadata": {
        "id": "tzQvrQjgzpfZ"
      },
      "execution_count": null,
      "outputs": []
    },
    {
      "cell_type": "code",
      "source": [
        "pre_data2.drop([\"x2\"],axis = 1, inplace=True)"
      ],
      "metadata": {
        "id": "DJjiqyY60bFZ"
      },
      "execution_count": null,
      "outputs": []
    },
    {
      "cell_type": "code",
      "source": [
        "pre_data2[\"x7_cate\"] = pd.qcut(pre_data2[\"x7\"], 4)\n",
        "pre_data2[\"x7_cate\"].value_counts()"
      ],
      "metadata": {
        "id": "us5zIDR90fZJ"
      },
      "execution_count": null,
      "outputs": []
    },
    {
      "cell_type": "code",
      "source": [
        "pre_data2.head(n=50)"
      ],
      "metadata": {
        "id": "9URGNJl3plAv"
      },
      "execution_count": null,
      "outputs": []
    },
    {
      "cell_type": "code",
      "source": [
        "bins_cut = [0,0.3,0.9,1]\n",
        "label_name = [\"Normal\", \"High\", \"Warning\"]\n",
        "pre_data2[\"x7_cate\"] = pd.qcut(pre_data2[\"x7\"], q = bins_cut, labels = label_name)\n",
        "pre_data2[\"x7_cate\"].value_counts()"
      ],
      "metadata": {
        "id": "H9u31ExR2B3y"
      },
      "execution_count": null,
      "outputs": []
    },
    {
      "cell_type": "code",
      "source": [
        "pre_data2.head(n=5)"
      ],
      "metadata": {
        "id": "LGtwC2xUqIUO"
      },
      "execution_count": null,
      "outputs": []
    },
    {
      "cell_type": "code",
      "source": [],
      "metadata": {
        "id": "vwdLCufB2xRo"
      },
      "execution_count": null,
      "outputs": []
    }
  ]
}