{
 "cells": [
  {
   "cell_type": "markdown",
   "id": "68b71688",
   "metadata": {},
   "source": [
    "## 계수축소법\n",
    "- 계수 축소법(Shrinkage)은 회귀모델에서 주로 사용하는 방법으로, 출력변수(Y) 예측에 영향력이 없는 입력변수(X)의 **회귀계수**를 0으로 (혹은 가깝게) 만들어 입력변수의 수를 줄이는 방법\n",
    "- **과적합과 다중공선성을 방지** 할 수 있는 선형회귀 기법\n",
    "- 잔차(Residual)만을 최소화하는 다중선형회귀와 달리, 계수 축소법에서는 규제항을 통해 잔차와 회귀계수를 동시에 최소화 함\n",
    "$$Minimize\\quad SSE + f(\\hat\\beta)$$\n",
    "- 대표적인 계수 축소법으로는 [Ridge](https://scikit-learn.org/stable/modules/generated/sklearn.linear_model.Ridge.html), [Lasso](https://scikit-learn.org/stable/modules/generated/sklearn.linear_model.Lasso.html)가 있음\n",
    "    - Ridge는 규제항으로 '회귀계수의 제곱합' 사용 (Lambda가 커질수록 보다 많은 회귀계수를 **0에 가깝게** 만듬)\n",
    "    - Lasso는 규제항으로 '회귀계수의 절대값 합' 사용 (Lambda가 커질수록 보다 많은 회귀계수를 **0으로 수렴**시킴)\n",
    "> 입력변수들이 전반적으로 비슷한 수준으로 출력변수에 영향을 미치는 경우에는 Ridge, 입력변수의 영향력 편차가 큰 경우에는 Lasso가 좋은 성능을 보일 확률이 높다.\n",
    "\n",
    "**Ridge, Lasso 주요 하이퍼 파라미터**\n",
    "- alpha : lambda와 동일, default = 1.0(float), 0일시 OLS기반 선형회귀와 동일\n",
    "- max_iter : 최대 반복 횟수, default = 1000\n",
    "- normalize : bool(True or False), default = False, True일시 (입력변수-mean)/L2_norm 으로 정규화\n",
    "\n"
   ]
  },
  {
   "cell_type": "markdown",
   "id": "7f5af374",
   "metadata": {},
   "source": [
    "### 1. 데이터 로드 및 전처리"
   ]
  },
  {
   "cell_type": "code",
   "execution_count": 1,
   "id": "f76db091",
   "metadata": {},
   "outputs": [],
   "source": [
    "import numpy as np\n",
    "import pandas as pd\n",
    "from sklearn.linear_model import LinearRegression\n",
    "from sklearn.metrics import mean_squared_error, mean_absolute_error, r2_score\n",
    "from matplotlib import pyplot as plt\n",
    "from sklearn.model_selection import train_test_split"
   ]
  },
  {
   "cell_type": "code",
   "execution_count": 2,
   "id": "892245d1",
   "metadata": {},
   "outputs": [],
   "source": [
    "data=pd.read_csv(\"./data/Fault_data.csv\",encoding=\"EUC-KR\")\n",
    "data.drop([\"자재구분\",\"END_DATE_TIME\"],axis=1,inplace=True) # 분석에 필요없는 column 제거\n",
    "data.dropna(axis=1,inplace=True) # NaN값이 존재하는 열 제거"
   ]
  },
  {
   "cell_type": "code",
   "execution_count": 3,
   "id": "2b346a19",
   "metadata": {},
   "outputs": [
    {
     "name": "stdout",
     "output_type": "stream",
     "text": [
      "==== 수치 변화가 아예 없는 변수 제거 ====\n",
      "CROT.STDDEV0\n",
      "CROT.RANGE0\n",
      "CROT.STDDEV1\n",
      "CROT.RANGE1\n",
      "CROT.STDDEV13\n",
      "CROT.RANGE13\n",
      "CROT.STDDEV5\n",
      "CROT.RANGE5\n",
      "CROT.STDDEV11\n",
      "CROT.RANGE11\n",
      "CROT.STDDEV10\n",
      "CROT.RANGE10\n",
      "CROT.STDDEV7\n",
      "CROT.RANGE7\n",
      "CROT.STDDEV14\n",
      "CROT.RANGE14\n",
      "CROT.STDDEV12\n",
      "CROT.RANGE12\n",
      "CROT.STDDEV9\n",
      "CROT.RANGE9\n"
     ]
    }
   ],
   "source": [
    "print(\"==== 수치 변화가 아예 없는 변수 제거 ====\")\n",
    "for i in data.columns:\n",
    "    if len(data[i].unique())==1: # if 특정 column의 고유값이 한개이면(=수치변화가 없으면)\n",
    "        data = data.drop([i],axis=1) # 해당 변수 제거\n",
    "        print(i)"
   ]
  },
  {
   "cell_type": "code",
   "execution_count": 4,
   "id": "da96876a",
   "metadata": {},
   "outputs": [
    {
     "data": {
      "text/plain": [
       "(139, 117)"
      ]
     },
     "execution_count": 4,
     "metadata": {},
     "output_type": "execute_result"
    }
   ],
   "source": [
    "data.shape"
   ]
  },
  {
   "cell_type": "code",
   "execution_count": 5,
   "id": "5acd138e",
   "metadata": {},
   "outputs": [
    {
     "data": {
      "text/html": [
       "<div>\n",
       "<style scoped>\n",
       "    .dataframe tbody tr th:only-of-type {\n",
       "        vertical-align: middle;\n",
       "    }\n",
       "\n",
       "    .dataframe tbody tr th {\n",
       "        vertical-align: top;\n",
       "    }\n",
       "\n",
       "    .dataframe thead th {\n",
       "        text-align: right;\n",
       "    }\n",
       "</style>\n",
       "<table border=\"1\" class=\"dataframe\">\n",
       "  <thead>\n",
       "    <tr style=\"text-align: right;\">\n",
       "      <th></th>\n",
       "      <th>CHAMBER</th>\n",
       "      <th>TAE.STDDEV0</th>\n",
       "      <th>TAE.MEAN0</th>\n",
       "      <th>TAE.RANGE0</th>\n",
       "      <th>PC.STDDEV0</th>\n",
       "      <th>PC.MEAN0</th>\n",
       "      <th>PC.RANGE0</th>\n",
       "      <th>CROT.MEAN0</th>\n",
       "      <th>TAE.STDDEV1</th>\n",
       "      <th>TAE.MEAN1</th>\n",
       "      <th>...</th>\n",
       "      <th>PC.STDDEV12</th>\n",
       "      <th>PC.MEAN12</th>\n",
       "      <th>PC.RANGE12</th>\n",
       "      <th>TAE.STDDEV9</th>\n",
       "      <th>TAE.MEAN9</th>\n",
       "      <th>TAE.RANGE9</th>\n",
       "      <th>CROT.MEAN9</th>\n",
       "      <th>PC.STDDEV9</th>\n",
       "      <th>PC.MEAN9</th>\n",
       "      <th>PC.RANGE9</th>\n",
       "    </tr>\n",
       "  </thead>\n",
       "  <tbody>\n",
       "    <tr>\n",
       "      <th>0</th>\n",
       "      <td>4</td>\n",
       "      <td>0.044554</td>\n",
       "      <td>38.083127</td>\n",
       "      <td>0.254154</td>\n",
       "      <td>0.124753</td>\n",
       "      <td>0.044329</td>\n",
       "      <td>0.439883</td>\n",
       "      <td>35</td>\n",
       "      <td>0.121240</td>\n",
       "      <td>38.055619</td>\n",
       "      <td>...</td>\n",
       "      <td>3.821034</td>\n",
       "      <td>57.645580</td>\n",
       "      <td>17.350926</td>\n",
       "      <td>0.032832</td>\n",
       "      <td>35.011650</td>\n",
       "      <td>0.127077</td>\n",
       "      <td>35</td>\n",
       "      <td>0.405343</td>\n",
       "      <td>45.124841</td>\n",
       "      <td>3.079182</td>\n",
       "    </tr>\n",
       "    <tr>\n",
       "      <th>1</th>\n",
       "      <td>2</td>\n",
       "      <td>0.034801</td>\n",
       "      <td>38.052395</td>\n",
       "      <td>0.063538</td>\n",
       "      <td>0.177575</td>\n",
       "      <td>0.342131</td>\n",
       "      <td>0.439883</td>\n",
       "      <td>27</td>\n",
       "      <td>0.115462</td>\n",
       "      <td>38.016088</td>\n",
       "      <td>...</td>\n",
       "      <td>0.303504</td>\n",
       "      <td>56.613882</td>\n",
       "      <td>1.466280</td>\n",
       "      <td>0.020858</td>\n",
       "      <td>35.550245</td>\n",
       "      <td>0.063540</td>\n",
       "      <td>27</td>\n",
       "      <td>1.923012</td>\n",
       "      <td>45.350277</td>\n",
       "      <td>15.004887</td>\n",
       "    </tr>\n",
       "    <tr>\n",
       "      <th>2</th>\n",
       "      <td>3</td>\n",
       "      <td>0.030089</td>\n",
       "      <td>38.046407</td>\n",
       "      <td>0.127080</td>\n",
       "      <td>0.137559</td>\n",
       "      <td>0.063983</td>\n",
       "      <td>0.488759</td>\n",
       "      <td>15</td>\n",
       "      <td>0.119149</td>\n",
       "      <td>38.029244</td>\n",
       "      <td>...</td>\n",
       "      <td>2.845739</td>\n",
       "      <td>57.296468</td>\n",
       "      <td>13.098728</td>\n",
       "      <td>0.021635</td>\n",
       "      <td>36.013373</td>\n",
       "      <td>0.063538</td>\n",
       "      <td>15</td>\n",
       "      <td>0.161640</td>\n",
       "      <td>45.071393</td>\n",
       "      <td>0.977516</td>\n",
       "    </tr>\n",
       "  </tbody>\n",
       "</table>\n",
       "<p>3 rows × 116 columns</p>\n",
       "</div>"
      ],
      "text/plain": [
       "   CHAMBER  TAE.STDDEV0  TAE.MEAN0  TAE.RANGE0  PC.STDDEV0  PC.MEAN0  \\\n",
       "0        4     0.044554  38.083127    0.254154    0.124753  0.044329   \n",
       "1        2     0.034801  38.052395    0.063538    0.177575  0.342131   \n",
       "2        3     0.030089  38.046407    0.127080    0.137559  0.063983   \n",
       "\n",
       "   PC.RANGE0  CROT.MEAN0  TAE.STDDEV1  TAE.MEAN1  ...  PC.STDDEV12  PC.MEAN12  \\\n",
       "0   0.439883          35     0.121240  38.055619  ...     3.821034  57.645580   \n",
       "1   0.439883          27     0.115462  38.016088  ...     0.303504  56.613882   \n",
       "2   0.488759          15     0.119149  38.029244  ...     2.845739  57.296468   \n",
       "\n",
       "   PC.RANGE12  TAE.STDDEV9  TAE.MEAN9  TAE.RANGE9  CROT.MEAN9  PC.STDDEV9  \\\n",
       "0   17.350926     0.032832  35.011650    0.127077          35    0.405343   \n",
       "1    1.466280     0.020858  35.550245    0.063540          27    1.923012   \n",
       "2   13.098728     0.021635  36.013373    0.063538          15    0.161640   \n",
       "\n",
       "    PC.MEAN9  PC.RANGE9  \n",
       "0  45.124841   3.079182  \n",
       "1  45.350277  15.004887  \n",
       "2  45.071393   0.977516  \n",
       "\n",
       "[3 rows x 116 columns]"
      ]
     },
     "execution_count": 5,
     "metadata": {},
     "output_type": "execute_result"
    }
   ],
   "source": [
    "#X,Y 분할\n",
    "Y=data[\"Y\"].copy()\n",
    "X=data.drop(\"Y\",axis=1)\n",
    "X.head(3)"
   ]
  },
  {
   "cell_type": "code",
   "execution_count": 6,
   "id": "3f2f6d46",
   "metadata": {},
   "outputs": [
    {
     "name": "stdout",
     "output_type": "stream",
     "text": [
      "(97, 116) (42, 116) (97,) (42,)\n"
     ]
    }
   ],
   "source": [
    "from sklearn.model_selection import train_test_split\n",
    "X_train, X_test, Y_train, Y_test = train_test_split(X, Y,test_size=0.3,random_state=0) # test_size : float or int, int값일시 test data로 분류할 만큼의 sample수\n",
    "print(X_train.shape,X_test.shape,Y_train.shape,Y_test.shape) # 각 데이터셋의 shape 출력"
   ]
  },
  {
   "cell_type": "code",
   "execution_count": 7,
   "id": "053effdd",
   "metadata": {},
   "outputs": [],
   "source": [
    "# 평가 지표 출력 함수\n",
    "def print_all_reg(Y_test,pred):\n",
    "    print(\"model의 MSE 값은 {:.3f}\".format(mean_squared_error(Y_test,pred)))\n",
    "    print(\"model의 MAE 값은 {:.3f}\".format(mean_absolute_error(Y_test, pred)))\n",
    "    print(\"model의 r2 값은 {:.3f}\".format(r2_score(Y_test, pred)))"
   ]
  },
  {
   "cell_type": "markdown",
   "id": "1e7ea4ab",
   "metadata": {},
   "source": [
    "### 2. 계수 축소법 모델 적용"
   ]
  },
  {
   "cell_type": "code",
   "execution_count": 8,
   "id": "1d7c6491",
   "metadata": {},
   "outputs": [
    {
     "name": "stdout",
     "output_type": "stream",
     "text": [
      "model의 MSE 값은 3009.677\n",
      "model의 MAE 값은 42.333\n",
      "model의 r2 값은 0.375\n"
     ]
    }
   ],
   "source": [
    "# 하이퍼파라미터는 디폴트 설정 (alpha = 1)\n",
    "from sklearn.linear_model import Lasso\n",
    "Lasso_model=Lasso(max_iter = 10000000) # 최대 반복횟수 설정\n",
    "Lasso_model.fit(X_train, Y_train)\n",
    "la_pred=Lasso_model.predict(X_test)\n",
    "print_all_reg(Y_test,la_pred) # 평가지표 출력"
   ]
  },
  {
   "cell_type": "code",
   "execution_count": 9,
   "id": "3a09ad10",
   "metadata": {},
   "outputs": [
    {
     "name": "stdout",
     "output_type": "stream",
     "text": [
      "model의 MSE 값은 3279.402\n",
      "model의 MAE 값은 43.003\n",
      "model의 r2 값은 0.319\n"
     ]
    }
   ],
   "source": [
    "from sklearn.linear_model import Ridge\n",
    "ridge=Ridge().fit(X_train, Y_train)\n",
    "ri_pred=ridge.predict(X_test)\n",
    "print_all_reg(Y_test,ri_pred)"
   ]
  },
  {
   "cell_type": "markdown",
   "id": "51a89fff",
   "metadata": {},
   "source": [
    "### 3. 계수축소법 모델 적용 후 회귀 계수 "
   ]
  },
  {
   "cell_type": "code",
   "execution_count": 10,
   "id": "63364883",
   "metadata": {},
   "outputs": [
    {
     "data": {
      "text/plain": [
       "array([  0,   4,  13,  14,  20,  28,  30,  34,  36,  44,  53,  60,  67,\n",
       "        70,  82,  83,  89,  95, 101, 108, 115], dtype=int64)"
      ]
     },
     "execution_count": 10,
     "metadata": {},
     "output_type": "execute_result"
    }
   ],
   "source": [
    "np.where(Lasso_model.coef_)[0]"
   ]
  },
  {
   "cell_type": "markdown",
   "id": "7e5824f5",
   "metadata": {},
   "source": [
    "참고 : [pyplot.stem](https://matplotlib.org/stable/api/_as_gen/matplotlib.pyplot.stem.html)"
   ]
  },
  {
   "cell_type": "code",
   "execution_count": 11,
   "id": "61e88930",
   "metadata": {},
   "outputs": [
    {
     "name": "stderr",
     "output_type": "stream",
     "text": [
      "C:\\Users\\HG\\AppData\\Local\\Temp\\ipykernel_2592\\162736487.py:3: MatplotlibDeprecationWarning: The 'use_line_collection' parameter of stem() was deprecated in Matplotlib 3.6 and will be removed two minor releases later. If any parameter follows 'use_line_collection', they should be passed as keyword, not positionally.\n",
      "  m, s, _ = plt.stem(\n",
      "C:\\Users\\HG\\AppData\\Local\\Temp\\ipykernel_2592\\162736487.py:12: MatplotlibDeprecationWarning: The 'use_line_collection' parameter of stem() was deprecated in Matplotlib 3.6 and will be removed two minor releases later. If any parameter follows 'use_line_collection', they should be passed as keyword, not positionally.\n",
      "  m, s, _ = plt.stem(\n"
     ]
    },
    {
     "data": {
      "image/png": "[encoded data removed]",
      "text/plain": [
       "<Figure size 1500x600 with 1 Axes>"
      ]
     },
     "metadata": {},
     "output_type": "display_data"
    }
   ],
   "source": [
    "from matplotlib import pyplot as plt\n",
    "plt.rcParams[\"figure.figsize\"] = (15,6)\n",
    "m, s, _ = plt.stem(\n",
    "    np.where(ridge.coef_)[0], # 학습한 Ridge모델의 회귀계수중, 0이 아닌 값을 갖는 index를 array로 반환.\n",
    "    ridge.coef_[ridge.coef_ != 0], # 0이아닌 회귀계수값 반환. Ridge는 회귀계수가 0이되진 않으므로 전체 회귀계수값이 해당.\n",
    "    markerfmt=\"x\",\n",
    "    label=\"Ridge coefficients\",\n",
    "    use_line_collection=True,\n",
    ")\n",
    "\n",
    "\n",
    "m, s, _ = plt.stem(\n",
    "    np.where(Lasso_model.coef_)[0], # 모델 회귀계수 중, 0이아닌 값의 index 반환\n",
    "    Lasso_model.coef_[Lasso_model.coef_ != 0], # 0이아닌 회귀계수 값 반환\n",
    "    markerfmt=\"x\",\n",
    "    label=\"Lasso coefficients\",\n",
    "    use_line_collection=True,\n",
    ")\n",
    "\n",
    "#글씨\n",
    "labels = X_train.columns\n",
    "plt.xticks(ticks=list(range(len(labels))), labels=labels, rotation=45)\n",
    "plt.locator_params(axis='x', nbins=len(labels)/5)\n",
    "plt.setp([m, s], color=\"#ff7f0e\")\n",
    "plt.legend(loc = 'best',fontsize= 13)\n",
    "plt.show()\n",
    "plt.close('all')"
   ]
  }
 ],
 "metadata": {
  "kernelspec": {
   "display_name": "Python 3 (ipykernel)",
   "language": "python",
   "name": "python3"
  },
  "language_info": {
   "codemirror_mode": {
    "name": "ipython",
    "version": 3
   },
   "file_extension": ".py",
   "mimetype": "text/x-python",
   "name": "python",
   "nbconvert_exporter": "python",
   "pygments_lexer": "ipython3",
   "version": "3.10.10"
  },
  "vscode": {
   "interpreter": {
    "hash": "7e81d91ba51e1bf9900dd7d036cbe3d31d033e3ae1051184964e8f8743fed6bf"
   }
  }
 },
 "nbformat": 4,
 "nbformat_minor": 5
}
