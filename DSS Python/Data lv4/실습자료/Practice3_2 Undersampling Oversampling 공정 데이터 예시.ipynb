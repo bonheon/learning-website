{
 "cells": [
  {
   "cell_type": "markdown",
   "id": "3bebe674",
   "metadata": {},
   "source": [
    "### 1. 데이터 로드 및 전처리"
   ]
  },
  {
   "cell_type": "code",
   "execution_count": 1,
   "id": "115cdd74",
   "metadata": {},
   "outputs": [],
   "source": [
    "import os\n",
    "import pandas as pd\n",
    "from sklearn.metrics import accuracy_score, confusion_matrix, classification_report, precision_score, recall_score, f1_score\n",
    "from sklearn.model_selection import train_test_split\n",
    "from sklearn.tree import DecisionTreeClassifier\n",
    "from sklearn.svm import SVC"
   ]
  },
  {
   "cell_type": "code",
   "execution_count": 2,
   "id": "d0f58aa9",
   "metadata": {},
   "outputs": [
    {
     "data": {
      "text/html": [
       "<div>\n",
       "<style scoped>\n",
       "    .dataframe tbody tr th:only-of-type {\n",
       "        vertical-align: middle;\n",
       "    }\n",
       "\n",
       "    .dataframe tbody tr th {\n",
       "        vertical-align: top;\n",
       "    }\n",
       "\n",
       "    .dataframe thead th {\n",
       "        text-align: right;\n",
       "    }\n",
       "</style>\n",
       "<table border=\"1\" class=\"dataframe\">\n",
       "  <thead>\n",
       "    <tr style=\"text-align: right;\">\n",
       "      <th></th>\n",
       "      <th>Class</th>\n",
       "      <th>V1</th>\n",
       "      <th>V2</th>\n",
       "      <th>V3</th>\n",
       "      <th>V4</th>\n",
       "      <th>V5</th>\n",
       "      <th>V6</th>\n",
       "      <th>V7</th>\n",
       "      <th>V8</th>\n",
       "      <th>V9</th>\n",
       "      <th>...</th>\n",
       "      <th>V51</th>\n",
       "      <th>V52</th>\n",
       "      <th>V53</th>\n",
       "      <th>V54</th>\n",
       "      <th>V55</th>\n",
       "      <th>V56</th>\n",
       "      <th>V57</th>\n",
       "      <th>V58</th>\n",
       "      <th>V59</th>\n",
       "      <th>V60</th>\n",
       "    </tr>\n",
       "  </thead>\n",
       "  <tbody>\n",
       "    <tr>\n",
       "      <th>0</th>\n",
       "      <td>HBRG</td>\n",
       "      <td>4.486201</td>\n",
       "      <td>7.522693</td>\n",
       "      <td>0</td>\n",
       "      <td>19.265581</td>\n",
       "      <td>0.0</td>\n",
       "      <td>0.0</td>\n",
       "      <td>0</td>\n",
       "      <td>0.0</td>\n",
       "      <td>4.37144</td>\n",
       "      <td>...</td>\n",
       "      <td>2.247654</td>\n",
       "      <td>1.272134</td>\n",
       "      <td>0.0</td>\n",
       "      <td>0</td>\n",
       "      <td>2.836458</td>\n",
       "      <td>0.0</td>\n",
       "      <td>4.834460</td>\n",
       "      <td>0</td>\n",
       "      <td>1.642702</td>\n",
       "      <td>0</td>\n",
       "    </tr>\n",
       "    <tr>\n",
       "      <th>1</th>\n",
       "      <td>HBRG</td>\n",
       "      <td>0.000000</td>\n",
       "      <td>7.836708</td>\n",
       "      <td>0</td>\n",
       "      <td>18.327251</td>\n",
       "      <td>0.0</td>\n",
       "      <td>0.0</td>\n",
       "      <td>0</td>\n",
       "      <td>0.0</td>\n",
       "      <td>0.00000</td>\n",
       "      <td>...</td>\n",
       "      <td>0.000000</td>\n",
       "      <td>0.000000</td>\n",
       "      <td>0.0</td>\n",
       "      <td>0</td>\n",
       "      <td>0.000000</td>\n",
       "      <td>0.0</td>\n",
       "      <td>5.025198</td>\n",
       "      <td>0</td>\n",
       "      <td>0.000000</td>\n",
       "      <td>0</td>\n",
       "    </tr>\n",
       "    <tr>\n",
       "      <th>2</th>\n",
       "      <td>HBRG</td>\n",
       "      <td>0.000000</td>\n",
       "      <td>7.439930</td>\n",
       "      <td>0</td>\n",
       "      <td>21.020445</td>\n",
       "      <td>0.0</td>\n",
       "      <td>0.0</td>\n",
       "      <td>0</td>\n",
       "      <td>0.0</td>\n",
       "      <td>0.00000</td>\n",
       "      <td>...</td>\n",
       "      <td>0.000000</td>\n",
       "      <td>0.000000</td>\n",
       "      <td>0.0</td>\n",
       "      <td>0</td>\n",
       "      <td>2.424664</td>\n",
       "      <td>0.0</td>\n",
       "      <td>5.706630</td>\n",
       "      <td>0</td>\n",
       "      <td>0.000000</td>\n",
       "      <td>0</td>\n",
       "    </tr>\n",
       "    <tr>\n",
       "      <th>3</th>\n",
       "      <td>HBRG</td>\n",
       "      <td>0.000000</td>\n",
       "      <td>18.827015</td>\n",
       "      <td>0</td>\n",
       "      <td>15.553238</td>\n",
       "      <td>0.0</td>\n",
       "      <td>0.0</td>\n",
       "      <td>0</td>\n",
       "      <td>0.0</td>\n",
       "      <td>0.00000</td>\n",
       "      <td>...</td>\n",
       "      <td>0.000000</td>\n",
       "      <td>1.934435</td>\n",
       "      <td>0.0</td>\n",
       "      <td>0</td>\n",
       "      <td>3.018529</td>\n",
       "      <td>0.0</td>\n",
       "      <td>5.741382</td>\n",
       "      <td>0</td>\n",
       "      <td>0.000000</td>\n",
       "      <td>0</td>\n",
       "    </tr>\n",
       "    <tr>\n",
       "      <th>4</th>\n",
       "      <td>HBRG</td>\n",
       "      <td>0.188557</td>\n",
       "      <td>17.855667</td>\n",
       "      <td>0</td>\n",
       "      <td>16.108568</td>\n",
       "      <td>0.0</td>\n",
       "      <td>0.0</td>\n",
       "      <td>0</td>\n",
       "      <td>0.0</td>\n",
       "      <td>0.00000</td>\n",
       "      <td>...</td>\n",
       "      <td>0.000000</td>\n",
       "      <td>1.704666</td>\n",
       "      <td>0.0</td>\n",
       "      <td>0</td>\n",
       "      <td>2.579150</td>\n",
       "      <td>0.0</td>\n",
       "      <td>3.234617</td>\n",
       "      <td>0</td>\n",
       "      <td>0.000000</td>\n",
       "      <td>0</td>\n",
       "    </tr>\n",
       "  </tbody>\n",
       "</table>\n",
       "<p>5 rows × 61 columns</p>\n",
       "</div>"
      ],
      "text/plain": [
       "  Class        V1         V2  V3         V4   V5   V6  V7   V8       V9  ...  \\\n",
       "0  HBRG  4.486201   7.522693   0  19.265581  0.0  0.0   0  0.0  4.37144  ...   \n",
       "1  HBRG  0.000000   7.836708   0  18.327251  0.0  0.0   0  0.0  0.00000  ...   \n",
       "2  HBRG  0.000000   7.439930   0  21.020445  0.0  0.0   0  0.0  0.00000  ...   \n",
       "3  HBRG  0.000000  18.827015   0  15.553238  0.0  0.0   0  0.0  0.00000  ...   \n",
       "4  HBRG  0.188557  17.855667   0  16.108568  0.0  0.0   0  0.0  0.00000  ...   \n",
       "\n",
       "        V51       V52  V53  V54       V55  V56       V57  V58       V59  V60  \n",
       "0  2.247654  1.272134  0.0    0  2.836458  0.0  4.834460    0  1.642702    0  \n",
       "1  0.000000  0.000000  0.0    0  0.000000  0.0  5.025198    0  0.000000    0  \n",
       "2  0.000000  0.000000  0.0    0  2.424664  0.0  5.706630    0  0.000000    0  \n",
       "3  0.000000  1.934435  0.0    0  3.018529  0.0  5.741382    0  0.000000    0  \n",
       "4  0.000000  1.704666  0.0    0  2.579150  0.0  3.234617    0  0.000000    0  \n",
       "\n",
       "[5 rows x 61 columns]"
      ]
     },
     "execution_count": 2,
     "metadata": {},
     "output_type": "execute_result"
    }
   ],
   "source": [
    "df=pd.read_csv('./data/Multiclass_data.csv')\n",
    "df.head()"
   ]
  },
  {
   "cell_type": "code",
   "execution_count": 3,
   "id": "91d4d553",
   "metadata": {},
   "outputs": [
    {
     "data": {
      "text/plain": [
       "Class    0\n",
       "V1       0\n",
       "V2       0\n",
       "V3       0\n",
       "V4       0\n",
       "        ..\n",
       "V56      0\n",
       "V57      0\n",
       "V58      0\n",
       "V59      0\n",
       "V60      0\n",
       "Length: 61, dtype: int64"
      ]
     },
     "execution_count": 3,
     "metadata": {},
     "output_type": "execute_result"
    }
   ],
   "source": [
    "df.isnull().sum()"
   ]
  },
  {
   "cell_type": "code",
   "execution_count": 4,
   "id": "2fe213ca",
   "metadata": {},
   "outputs": [
    {
     "data": {
      "text/plain": [
       "SPOT        1140\n",
       "RING         824\n",
       "LSAC         268\n",
       "BRG          137\n",
       "L_MKBG       135\n",
       "HBRG         123\n",
       "SFPT         100\n",
       "SORA          73\n",
       "GUDEONGI      12\n",
       "Name: Class, dtype: int64"
      ]
     },
     "execution_count": 4,
     "metadata": {},
     "output_type": "execute_result"
    }
   ],
   "source": [
    "X=df.drop([\"Class\"],axis=1)\n",
    "Y=df[\"Class\"]\n",
    "Y.value_counts()"
   ]
  },
  {
   "cell_type": "code",
   "execution_count": 5,
   "id": "cae1b00b",
   "metadata": {},
   "outputs": [
    {
     "name": "stdout",
     "output_type": "stream",
     "text": [
      "SPOT        912\n",
      "RING        659\n",
      "LSAC        214\n",
      "BRG         110\n",
      "L_MKBG      108\n",
      "HBRG         98\n",
      "SFPT         80\n",
      "SORA         58\n",
      "GUDEONGI     10\n",
      "Name: Class, dtype: int64\n"
     ]
    }
   ],
   "source": [
    "X_train, X_test, Y_train, Y_test = train_test_split(X, Y, test_size=0.2, random_state=120,stratify=Y)\n",
    "print(Y_train.value_counts())\n",
    "#print(Y_test.value_counts())"
   ]
  },
  {
   "cell_type": "markdown",
   "id": "a6d61fa0",
   "metadata": {},
   "source": [
    "### 2 . Under Over sampling 적용 및 결과 확인"
   ]
  },
  {
   "cell_type": "code",
   "execution_count": 6,
   "id": "7b0a0a51",
   "metadata": {},
   "outputs": [],
   "source": [
    "from imblearn.under_sampling import *\n",
    "from imblearn.over_sampling import *\n",
    "from imblearn.combine import *\n",
    "from sklearn.ensemble import RandomForestClassifier\n",
    "from imblearn.combine import SMOTETomek"
   ]
  },
  {
   "cell_type": "code",
   "execution_count": 7,
   "id": "3a2b9950",
   "metadata": {},
   "outputs": [
    {
     "name": "stdout",
     "output_type": "stream",
     "text": [
      "====TomekLinks====\n",
      "SPOT        906\n",
      "RING        645\n",
      "LSAC        206\n",
      "BRG         110\n",
      "L_MKBG      107\n",
      "HBRG         98\n",
      "SFPT         80\n",
      "SORA         58\n",
      "GUDEONGI     10\n",
      "Name: Class, dtype: int64\n",
      "====SMOTE====\n",
      "LSAC        912\n",
      "RING        912\n",
      "SPOT        912\n",
      "SORA        912\n",
      "L_MKBG      912\n",
      "SFPT        912\n",
      "HBRG        912\n",
      "BRG         912\n",
      "GUDEONGI    912\n",
      "Name: Class, dtype: int64\n",
      "====SMOTETomek====\n",
      "LSAC        912\n",
      "SORA        912\n",
      "L_MKBG      912\n",
      "SFPT        912\n",
      "HBRG        912\n",
      "BRG         912\n",
      "GUDEONGI    912\n",
      "RING        909\n",
      "SPOT        909\n",
      "Name: Class, dtype: int64\n"
     ]
    }
   ],
   "source": [
    "# 단순 비교\n",
    "# 주의 사항: TEST 데이터에 오버샘플링 하지 말것.\n",
    "X_TomekLinks,Y_TomekLinks = TomekLinks().fit_resample(X_train, Y_train)\n",
    "print(\"====TomekLinks====\")\n",
    "print(Y_TomekLinks.value_counts())\n",
    "\n",
    "X_SMOTE, Y_SMOTE = SMOTE(random_state=10).fit_resample(X_train, Y_train)\n",
    "print(\"====SMOTE====\")\n",
    "print(Y_SMOTE.value_counts())\n",
    "\n",
    "X_SMOTETomek, Y_SMOTETomek = SMOTETomek(random_state=10).fit_resample(X_train, Y_train)\n",
    "print(\"====SMOTETomek====\")\n",
    "print(Y_SMOTETomek.value_counts())\n",
    "\n"
   ]
  },
  {
   "cell_type": "code",
   "execution_count": 8,
   "id": "48afde6e",
   "metadata": {},
   "outputs": [],
   "source": [
    "tree_model1=RandomForestClassifier(random_state=40, max_depth=10)\n",
    "tree_model2=RandomForestClassifier(random_state=40, max_depth=10)\n",
    "tree_model3=RandomForestClassifier(random_state=40, max_depth=10)\n",
    "tree_model4=RandomForestClassifier(random_state=40, max_depth=10)\n",
    "\n",
    "\n",
    "#기본\n",
    "tree_model1.fit(X_train, Y_train)\n",
    "\n",
    "# 언더 샘플링\n",
    "tree_model2.fit(X_TomekLinks,Y_TomekLinks)\n",
    "\n",
    "# 오버 샘플링\n",
    "tree_model3.fit(X_SMOTE,Y_SMOTE)\n",
    "tree_model4.fit(X_SMOTETomek, Y_SMOTETomek)\n",
    "\n",
    "\n",
    "\n",
    "pred=tree_model1.predict(X_test)\n",
    "TomekLinks_pred=tree_model2.predict(X_test)\n",
    "smote_pred=tree_model3.predict(X_test)\n",
    "smotetomek_pred=tree_model4.predict(X_test)\n"
   ]
  },
  {
   "cell_type": "code",
   "execution_count": 9,
   "id": "1429733a",
   "metadata": {},
   "outputs": [
    {
     "name": "stdout",
     "output_type": "stream",
     "text": [
      "===================일반=========================\n",
      "Precision score : 0.8390\n",
      "Recall score : 0.7814\n",
      "F1 score : 0.8041\n",
      "===================TomekLinks=========================\n",
      "Precision score : 0.8508\n",
      "Recall score : 0.7921\n",
      "F1 score : 0.8158\n",
      "===================SMOTE=========================\n",
      "Precision score : 0.9521\n",
      "Recall score : 0.9552\n",
      "F1 score : 0.9512\n",
      "===================SMOTETomek=========================\n",
      "Precision score : 0.9498\n",
      "Recall score : 0.9516\n",
      "F1 score : 0.9470\n"
     ]
    },
    {
     "name": "stderr",
     "output_type": "stream",
     "text": [
      "C:\\Users\\SIL\\anaconda3\\lib\\site-packages\\sklearn\\metrics\\_classification.py:1248: UndefinedMetricWarning: Precision is ill-defined and being set to 0.0 in labels with no predicted samples. Use `zero_division` parameter to control this behavior.\n",
      "  _warn_prf(average, modifier, msg_start, len(result))\n",
      "C:\\Users\\SIL\\anaconda3\\lib\\site-packages\\sklearn\\metrics\\_classification.py:1248: UndefinedMetricWarning: Precision is ill-defined and being set to 0.0 in labels with no predicted samples. Use `zero_division` parameter to control this behavior.\n",
      "  _warn_prf(average, modifier, msg_start, len(result))\n"
     ]
    }
   ],
   "source": [
    "print(\"===================일반=========================\")\n",
    "print(\"Precision score : {:.4f}\".format(precision_score(Y_test,pred,average ='macro')))\n",
    "print(\"Recall score : {:.4f}\".format(recall_score(Y_test,pred,average ='macro')))\n",
    "print(\"F1 score : {:.4f}\".format(f1_score(Y_test,pred,average ='macro')))\n",
    "\n",
    "print(\"===================TomekLinks=========================\")\n",
    "print(\"Precision score : {:.4f}\".format(precision_score(Y_test,TomekLinks_pred,average ='macro')))\n",
    "print(\"Recall score : {:.4f}\".format(recall_score(Y_test,TomekLinks_pred,average ='macro')))\n",
    "print(\"F1 score : {:.4f}\".format(f1_score(Y_test,TomekLinks_pred,average ='macro')))\n",
    "\n",
    "print(\"===================SMOTE=========================\")\n",
    "print(\"Precision score : {:.4f}\".format(precision_score(Y_test,smote_pred,average ='macro')))\n",
    "print(\"Recall score : {:.4f}\".format(recall_score(Y_test,smote_pred,average ='macro')))\n",
    "print(\"F1 score : {:.4f}\".format(f1_score(Y_test,smote_pred,average ='macro')))\n",
    "\n",
    "print(\"===================SMOTETomek=========================\")\n",
    "print(\"Precision score : {:.4f}\".format(precision_score(Y_test,smotetomek_pred,average ='macro')))\n",
    "print(\"Recall score : {:.4f}\".format(recall_score(Y_test,smotetomek_pred,average ='macro')))\n",
    "print(\"F1 score : {:.4f}\".format(f1_score(Y_test,smotetomek_pred,average ='macro')))\n"
   ]
  },
  {
   "cell_type": "code",
   "execution_count": null,
   "id": "dd0c4fab",
   "metadata": {},
   "outputs": [],
   "source": []
  }
 ],
 "metadata": {
  "kernelspec": {
   "display_name": "Python 3 (ipykernel)",
   "language": "python",
   "name": "python3"
  },
  "language_info": {
   "codemirror_mode": {
    "name": "ipython",
    "version": 3
   },
   "file_extension": ".py",
   "mimetype": "text/x-python",
   "name": "python",
   "nbconvert_exporter": "python",
   "pygments_lexer": "ipython3",
   "version": "3.8.13"
  }
 },
 "nbformat": 4,
 "nbformat_minor": 5
}
