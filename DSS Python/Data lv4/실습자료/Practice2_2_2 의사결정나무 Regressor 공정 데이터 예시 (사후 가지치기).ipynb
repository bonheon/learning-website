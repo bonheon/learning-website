{
 "cells": [
  {
   "cell_type": "markdown",
   "id": "e18e2514",
   "metadata": {},
   "source": [
    "# 회귀나무(Decision Tree Regressor)\n",
    "#### **사후 가지치기**\n",
    ": 나무가 완성된 후에 하단 노드부터 유의미하지 않다고 판단되는 Subtree를 끝노드로 변환시키는 방법    \n",
    "\n",
    "#### [Cost Complexity Pruning](https://scikit-learn.org/stable/auto_examples/tree/plot_cost_complexity_pruning.html)    \n",
    "$R_\\alpha(T) = R(T) + \\alpha\\vert T \\vert$\n",
    "\n",
    "  - 위의 비용복잡도(Cost complexity) 식을 최소화 시키는 과정(CCP)\n",
    "  - Weakest link pruning이라고도 한다.\n",
    "  - 가지가 있을 때와 처낼 때 불순도의 차이가 거의 없는 가지(Weakest Link)를 가지치기하는 메커니즘\n",
    "  - 모든 Subtree를 고려하진 않아 Local Minima에 빠질 수 있다.\n",
    "\n",
    "    \n",
    "참고 : https://zephyrus1111.tistory.com/131"
   ]
  },
  {
   "cell_type": "markdown",
   "id": "2ac2d223",
   "metadata": {},
   "source": [
    "### 1. 데이터 로드 및 전처리"
   ]
  },
  {
   "cell_type": "code",
   "execution_count": 1,
   "id": "d881ae50",
   "metadata": {},
   "outputs": [],
   "source": [
    "import numpy as np\n",
    "import pandas as pd\n",
    "from sklearn.linear_model import LinearRegression\n",
    "from sklearn.metrics import mean_squared_error, mean_absolute_error, r2_score\n",
    "from matplotlib import pyplot as plt\n",
    "from sklearn.model_selection import train_test_split\n",
    "from sklearn.linear_model import LogisticRegression\n",
    "from sklearn.metrics import mean_absolute_percentage_error\n",
    "import matplotlib\n",
    "#한글꺠짐 방지\n",
    "matplotlib.rcParams['font.family'] ='Malgun Gothic'\n",
    "matplotlib.rcParams['axes.unicode_minus'] =False"
   ]
  },
  {
   "cell_type": "code",
   "execution_count": 2,
   "id": "7a9865fb",
   "metadata": {},
   "outputs": [
    {
     "data": {
      "text/html": [
       "<div>\n",
       "<style scoped>\n",
       "    .dataframe tbody tr th:only-of-type {\n",
       "        vertical-align: middle;\n",
       "    }\n",
       "\n",
       "    .dataframe tbody tr th {\n",
       "        vertical-align: top;\n",
       "    }\n",
       "\n",
       "    .dataframe thead th {\n",
       "        text-align: right;\n",
       "    }\n",
       "</style>\n",
       "<table border=\"1\" class=\"dataframe\">\n",
       "  <thead>\n",
       "    <tr style=\"text-align: right;\">\n",
       "      <th></th>\n",
       "      <th>CHAMBER</th>\n",
       "      <th>TAE.STDDEV0</th>\n",
       "      <th>TAE.MEAN0</th>\n",
       "      <th>TAE.RANGE0</th>\n",
       "      <th>PC.STDDEV0</th>\n",
       "      <th>PC.MEAN0</th>\n",
       "      <th>PC.RANGE0</th>\n",
       "      <th>CROT.STDDEV0</th>\n",
       "      <th>CROT.MEAN0</th>\n",
       "      <th>CROT.RANGE0</th>\n",
       "      <th>...</th>\n",
       "      <th>PC.RANGE12</th>\n",
       "      <th>TAE.STDDEV9</th>\n",
       "      <th>TAE.MEAN9</th>\n",
       "      <th>TAE.RANGE9</th>\n",
       "      <th>CROT.STDDEV9</th>\n",
       "      <th>CROT.MEAN9</th>\n",
       "      <th>CROT.RANGE9</th>\n",
       "      <th>PC.STDDEV9</th>\n",
       "      <th>PC.MEAN9</th>\n",
       "      <th>PC.RANGE9</th>\n",
       "    </tr>\n",
       "  </thead>\n",
       "  <tbody>\n",
       "    <tr>\n",
       "      <th>0</th>\n",
       "      <td>4</td>\n",
       "      <td>0.044554</td>\n",
       "      <td>38.083127</td>\n",
       "      <td>0.254154</td>\n",
       "      <td>0.124753</td>\n",
       "      <td>0.044329</td>\n",
       "      <td>0.439883</td>\n",
       "      <td>0</td>\n",
       "      <td>35</td>\n",
       "      <td>0</td>\n",
       "      <td>...</td>\n",
       "      <td>17.350926</td>\n",
       "      <td>0.032832</td>\n",
       "      <td>35.011650</td>\n",
       "      <td>0.127077</td>\n",
       "      <td>0</td>\n",
       "      <td>35</td>\n",
       "      <td>0</td>\n",
       "      <td>0.405343</td>\n",
       "      <td>45.124841</td>\n",
       "      <td>3.079182</td>\n",
       "    </tr>\n",
       "    <tr>\n",
       "      <th>1</th>\n",
       "      <td>2</td>\n",
       "      <td>0.034801</td>\n",
       "      <td>38.052395</td>\n",
       "      <td>0.063538</td>\n",
       "      <td>0.177575</td>\n",
       "      <td>0.342131</td>\n",
       "      <td>0.439883</td>\n",
       "      <td>0</td>\n",
       "      <td>27</td>\n",
       "      <td>0</td>\n",
       "      <td>...</td>\n",
       "      <td>1.466280</td>\n",
       "      <td>0.020858</td>\n",
       "      <td>35.550245</td>\n",
       "      <td>0.063540</td>\n",
       "      <td>0</td>\n",
       "      <td>27</td>\n",
       "      <td>0</td>\n",
       "      <td>1.923012</td>\n",
       "      <td>45.350277</td>\n",
       "      <td>15.004887</td>\n",
       "    </tr>\n",
       "    <tr>\n",
       "      <th>2</th>\n",
       "      <td>3</td>\n",
       "      <td>0.030089</td>\n",
       "      <td>38.046407</td>\n",
       "      <td>0.127080</td>\n",
       "      <td>0.137559</td>\n",
       "      <td>0.063983</td>\n",
       "      <td>0.488759</td>\n",
       "      <td>0</td>\n",
       "      <td>15</td>\n",
       "      <td>0</td>\n",
       "      <td>...</td>\n",
       "      <td>13.098728</td>\n",
       "      <td>0.021635</td>\n",
       "      <td>36.013373</td>\n",
       "      <td>0.063538</td>\n",
       "      <td>0</td>\n",
       "      <td>15</td>\n",
       "      <td>0</td>\n",
       "      <td>0.161640</td>\n",
       "      <td>45.071393</td>\n",
       "      <td>0.977516</td>\n",
       "    </tr>\n",
       "  </tbody>\n",
       "</table>\n",
       "<p>3 rows × 136 columns</p>\n",
       "</div>"
      ],
      "text/plain": [
       "   CHAMBER  TAE.STDDEV0  TAE.MEAN0  TAE.RANGE0  PC.STDDEV0  PC.MEAN0  \\\n",
       "0        4     0.044554  38.083127    0.254154    0.124753  0.044329   \n",
       "1        2     0.034801  38.052395    0.063538    0.177575  0.342131   \n",
       "2        3     0.030089  38.046407    0.127080    0.137559  0.063983   \n",
       "\n",
       "   PC.RANGE0  CROT.STDDEV0  CROT.MEAN0  CROT.RANGE0  ...  PC.RANGE12  \\\n",
       "0   0.439883             0          35            0  ...   17.350926   \n",
       "1   0.439883             0          27            0  ...    1.466280   \n",
       "2   0.488759             0          15            0  ...   13.098728   \n",
       "\n",
       "   TAE.STDDEV9  TAE.MEAN9  TAE.RANGE9  CROT.STDDEV9  CROT.MEAN9  CROT.RANGE9  \\\n",
       "0     0.032832  35.011650    0.127077             0          35            0   \n",
       "1     0.020858  35.550245    0.063540             0          27            0   \n",
       "2     0.021635  36.013373    0.063538             0          15            0   \n",
       "\n",
       "   PC.STDDEV9   PC.MEAN9  PC.RANGE9  \n",
       "0    0.405343  45.124841   3.079182  \n",
       "1    1.923012  45.350277  15.004887  \n",
       "2    0.161640  45.071393   0.977516  \n",
       "\n",
       "[3 rows x 136 columns]"
      ]
     },
     "execution_count": 2,
     "metadata": {},
     "output_type": "execute_result"
    }
   ],
   "source": [
    "data=pd.read_csv(\"./data/Fault_data.csv\",encoding=\"EUC-KR\")\n",
    "data.drop([\"자재구분\",\"END_DATE_TIME\"],axis=1,inplace=True)\n",
    "data.dropna(axis=1,inplace=True)\n",
    "\n",
    "#X,Y 분할\n",
    "Y=data[\"Y\"].copy()\n",
    "X=data.drop(\"Y\",axis=1)\n",
    "X.head(3)"
   ]
  },
  {
   "cell_type": "markdown",
   "id": "b777446f",
   "metadata": {},
   "source": [
    "### 2. 평가 지표 함수"
   ]
  },
  {
   "cell_type": "code",
   "execution_count": 3,
   "id": "4edb4c2f",
   "metadata": {},
   "outputs": [],
   "source": [
    "# 평가 지표 출력 함수\n",
    "def print_all_reg(Y_test,pred):\n",
    "    print(\"model의 MSE 값은 {:.3f}\".format(mean_squared_error(Y_test,pred)))\n",
    "    print(\"model의 MAE 값은 {:.3f}\".format(mean_absolute_error(Y_test, pred)))\n",
    "    print(\"model의 MAPE 값은 {:.3f}\".format(mean_absolute_percentage_error(Y_test, pred)))\n",
    "    print(\"model의 r2 값은 {:.3f}\".format(r2_score(Y_test, pred)))"
   ]
  },
  {
   "cell_type": "markdown",
   "id": "5cab01cc",
   "metadata": {},
   "source": [
    "### 3. 모델 학습 및 예측"
   ]
  },
  {
   "cell_type": "code",
   "execution_count": 4,
   "id": "16961553",
   "metadata": {},
   "outputs": [],
   "source": [
    "X_train, X_test, Y_train, Y_test = train_test_split(X, Y, test_size=0.3, random_state=2,shuffle =True)"
   ]
  },
  {
   "cell_type": "markdown",
   "id": "a542abde",
   "metadata": {},
   "source": [
    "[[numpy.linspace](https://numpy.org/doc/stable/reference/generated/numpy.linspace.html)] np.linspace(start, stop, num=50, endpoint=True)\n",
    "- start : 구간 시작점\n",
    "- stop : 구간 끝 점\n",
    "- num : 숫자 개수\n",
    "- endpoint : 구간 끝 점 포함 여부"
   ]
  },
  {
   "cell_type": "code",
   "execution_count": 5,
   "id": "2899f4fa",
   "metadata": {},
   "outputs": [],
   "source": [
    "from sklearn.tree import DecisionTreeRegressor\n",
    "\n",
    "ccp_alpha_list = np.linspace(0, 1000, num=500) # 0부터 1000까지 등간격으로 500개의 수 출력\n",
    "ccp_alpha_list2 = np.linspace(0, 1000, num=500) # 0부터 1000까지 등간격으로 500개의 수 출력\n",
    "train_scores =[]\n",
    "test_scores =[]\n",
    "for alpha in ccp_alpha_list:\n",
    "    clf = DecisionTreeRegressor(ccp_alpha= alpha,max_depth = 500)  # ccp_alpha 값보다 작으면서 비용복잡도가 가장 큰 Subtree, 최대 깊이 500 설정\n",
    "    clf.fit(X_train,Y_train) # 훈련 데이터로 트리 학습\n",
    "    \n",
    "    preds_train = clf.predict(X_train)\n",
    "    preds = clf.predict(X_test)\n",
    "    \n",
    "    train_scores.append(mean_absolute_error(Y_train,preds_train))  # train score 저장, 평가지표 MAE\n",
    "    test_scores.append(mean_absolute_error(Y_test,preds)) # test score 저장, 평가지표 MAE"
   ]
  },
  {
   "cell_type": "code",
   "execution_count": 39,
   "id": "e3ac0cb9",
   "metadata": {
    "scrolled": true
   },
   "outputs": [
    {
     "data": {
      "image/png": "[encoded data removed]",
      "text/plain": [
       "<Figure size 432x288 with 1 Axes>"
      ]
     },
     "metadata": {
      "needs_background": "light"
     },
     "output_type": "display_data"
    }
   ],
   "source": [
    "fig, ax = plt.subplots()\n",
    "ax.set_xlabel(\"ccp alpha\")\n",
    "ax.set_ylabel(\"mae\")\n",
    "#ax.set_title(\"나무 복잡도 증가에 따른 오분류율 그래프\")\n",
    "ax.plot(ccp_alpha_list, pd.Series(train_scores).rolling(10,center =True).mean(),  label=\"train data\", drawstyle=\"steps-post\") #train_socres 데이터 10개단위로 이동평균, 중심점은 5번째 데이터\n",
    "ax.plot(ccp_alpha_list, pd.Series(test_scores).rolling(10,center=True).mean(),  label=\"test data\", drawstyle=\"steps-post\")\n",
    "\n",
    "#ax.plot(ccp_alpha_list, train_scores, drawstyle=\"steps-post\")\n",
    "#ax.plot(ccp_alpha_list, test_scores, drawstyle=\"steps-post\")\n",
    "\n",
    "ax.legend()\n",
    "plt.ylim(0,70)\n",
    "plt.show()\n",
    "plt.close('all')"
   ]
  },
  {
   "cell_type": "code",
   "execution_count": 41,
   "id": "ef6e486a",
   "metadata": {},
   "outputs": [
    {
     "name": "stdout",
     "output_type": "stream",
     "text": [
      "model의 MSE 값은 347.904\n",
      "model의 MAE 값은 14.069\n",
      "model의 MAPE 값은 0.413\n",
      "model의 r2 값은 0.913\n",
      "\n",
      "model의 MSE 값은 4134.683\n",
      "model의 MAE 값은 38.448\n",
      "model의 MAPE 값은 0.858\n",
      "model의 r2 값은 -0.025\n"
     ]
    }
   ],
   "source": [
    "alpha = 43\n",
    "clf = DecisionTreeRegressor(ccp_alpha= alpha)  \n",
    "clf.fit(X_train,Y_train)\n",
    "preds = clf.predict(X_test)\n",
    "\n",
    "preds_train = clf.predict(X_train) # X_train데이터와 학습한 모델로 예측값 생성\n",
    "\n",
    "print_all_reg(Y_train,preds_train) # Y_train값과 예측값을 비교하여 모델 성능지표 출력\n",
    "print(\"\")\n",
    "print_all_reg(Y_test,preds) # 실제 Y_test값과 예측값을 비교하여 모델 성능지표 출력"
   ]
  }
 ],
 "metadata": {
  "kernelspec": {
   "display_name": "Python 3 (ipykernel)",
   "language": "python",
   "name": "python3"
  },
  "language_info": {
   "codemirror_mode": {
    "name": "ipython",
    "version": 3
   },
   "file_extension": ".py",
   "mimetype": "text/x-python",
   "name": "python",
   "nbconvert_exporter": "python",
   "pygments_lexer": "ipython3",
   "version": "3.9.13"
  },
  "vscode": {
   "interpreter": {
    "hash": "7e81d91ba51e1bf9900dd7d036cbe3d31d033e3ae1051184964e8f8743fed6bf"
   }
  }
 },
 "nbformat": 4,
 "nbformat_minor": 5
}
