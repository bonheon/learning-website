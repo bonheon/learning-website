{
  "nbformat": 4,
  "nbformat_minor": 0,
  "metadata": {
    "colab": {
      "provenance": []
    },
    "kernelspec": {
      "name": "python3",
      "display_name": "Python 3"
    },
    "language_info": {
      "name": "python"
    }
  },
  "cells": [
    {
      "cell_type": "code",
      "execution_count": null,
      "metadata": {
        "id": "6x9cOTDrKk6W"
      },
      "outputs": [],
      "source": [
        "# 라이브러리 import\n",
        "import numpy as np\n",
        "import pandas as pd\n",
        "import numpy as np\n",
        "import pandas as pd\n",
        "from sklearn.model_selection import train_test_split\n",
        "from sklearn.preprocessing import StandardScaler\n",
        "from sklearn.ensemble import StackingClassifier\n",
        "from sklearn.linear_model import LogisticRegression\n",
        "from sklearn.svm import SVC\n",
        "from sklearn.ensemble import RandomForestClassifier\n",
        "from sklearn.metrics import accuracy_score\n",
        "import matplotlib\n",
        "import warnings\n",
        "from xgboost import XGBClassifier"
      ]
    },
    {
      "cell_type": "code",
      "source": [
        "from google.colab import drive\n",
        "import pandas as pd\n",
        "from sklearn.model_selection import train_test_split\n",
        "\n",
        "drive.mount('/content/drive')"
      ],
      "metadata": {
        "colab": {
          "base_uri": "https://localhost:8080/"
        },
        "id": "Dw3oNZVvl-iX",
        "outputId": "506cda3b-b81d-4b37-8ef9-246ec2d3aa89"
      },
      "execution_count": null,
      "outputs": [
        {
          "output_type": "stream",
          "name": "stdout",
          "text": [
            "Drive already mounted at /content/drive; to attempt to forcibly remount, call drive.mount(\"/content/drive\", force_remount=True).\n"
          ]
        }
      ]
    },
    {
      "cell_type": "code",
      "source": [
        "# 데이터 로드\n",
        "URL = \"/content/drive/MyDrive/SIL/WORK/DSS 머신러닝2/\" # 데이터 위치 설정\n",
        "data = pd.read_csv(URL+\"data/class_balance.csv\",encoding=\"EUC-KR\")"
      ],
      "metadata": {
        "id": "MUAS4uSImF7_"
      },
      "execution_count": null,
      "outputs": []
    },
    {
      "cell_type": "code",
      "source": [
        "data['Y'] = data['Y'].map(lambda x: 0 if x == -1 else 1) # 기존 -1, 1이었던 Y값을 모델 학습을 위해 0, 1로 변경"
      ],
      "metadata": {
        "id": "6MvYrZYJgtAr"
      },
      "execution_count": null,
      "outputs": []
    },
    {
      "cell_type": "code",
      "source": [
        "# X, Y 분할\n",
        "Y=data[\"Y\"].copy()\n",
        "X=data.drop(\"Y\",axis=1)\n",
        "X.head(3)\n",
        "\n",
        "# 데이터셋을 학습 세트와 테스트 세트로 분리\n",
        "X_train, X_test, Y_train, Y_test = train_test_split(X, Y, test_size=0.2, random_state=22,shuffle =True)\n",
        "\n",
        "# 특성 스케일링 (선택 사항)\n",
        "scaler = StandardScaler()\n",
        "X_train = scaler.fit_transform(X_train)\n",
        "X_test = scaler.transform(X_test)\n"
      ],
      "metadata": {
        "id": "863j1HvQLavn"
      },
      "execution_count": null,
      "outputs": []
    },
    {
      "cell_type": "code",
      "source": [
        "# 평가 지표 출력 함수\n",
        "from sklearn.metrics import accuracy_score,precision_score,recall_score,f1_score\n",
        "from sklearn.metrics import confusion_matrix\n",
        "\n",
        "def print_all_reg(Y_test,pred):\n",
        "    # Specificity를 구하기 위해 confusion matrix를 이용\n",
        "    cm1 = confusion_matrix(Y_test,pred)\n",
        "    specificity1 = cm1[0,0]/(cm1[0,0]+cm1[0,1])\n",
        "\n",
        "    #결과 검사\n",
        "    #recall = cm1[1,1]/(cm1[1,1]+cm1[1,0])\n",
        "    #pre = cm1[1,1]/(cm1[1,1]+cm1[0,1])\n",
        "\n",
        "    G_mean = recall_score(Y_test,pred) * specificity1\n",
        "\n",
        "    print(\"model의 recall 값은 {:.3f}\".format(recall_score(Y_test,pred)))\n",
        "    print(\"model의 2종 오류 확률 값은 {:.3f}\".format(1-recall_score(Y_test,pred)))\n",
        "    print(\"model의 Specificity 값은 {:.3f}\".format(specificity1))\n",
        "    print(\"model의 1종 오류 확률 값은 {:.3f}\".format(1-specificity1))\n",
        "    print(\"model의 precision 값은 {:.3f}\".format(precision_score(Y_test,pred)))\n",
        "    print(\"model의 f1_score 값은 {:.3f}\".format(f1_score(Y_test,pred)))\n",
        "    print(\"model의 G-mean 값은 {:.3f}\".format(np.sqrt(G_mean)))\n",
        "    print(\"model의 accuracy 값은 {:.3f}\".format(accuracy_score(Y_test,pred)))"
      ],
      "metadata": {
        "id": "ubP8qKLpMG63"
      },
      "execution_count": null,
      "outputs": []
    },
    {
      "cell_type": "markdown",
      "source": [
        "[[StackingClassifier Parameters](https://scikit-learn.org/stable/modules/generated/sklearn.ensemble.StackingClassifier.html)]\n",
        "### **Parameters**\n",
        "- **estimators** :기본 모델들의 리스트. 각 튜플은 (이름, 모델)의 형태\n",
        "- **final_estimator** : 메타 모델, 기본 모델들의 예측 결과를 입력으로 받아 최종 예측을 수행\n",
        "- **cv** : 교차 검증 분할 수, 기본 모델의 학습을 위한 교차 검증 방법을 설정\n",
        "- **stack_method** : 기본 모델의 예측 결과를 사용할 방법, 'auto', 'predict_proba', 'decision_function', 'predict' 중 하나\n",
        "  - 'auto': 분류와 회귀 문제에 따라 자동으로 예측 방법을 선택함\n",
        "  - 'predict_proba': 분류 문제에서 사용됨. predict_proba는 각 클래스에 대한 확률을 반환하므로, 메타 모델은 이러한 확률 정보를 입력으로 사용하여 최종 예측을 수행함\n",
        "   - 제약 조건: 모든 기본 모델이 decision_function 메서드를 지원해야 함(대부분 지원)\n",
        "\n",
        "  - 'decision_function': 분류 문제에서 사용함. decision_function은 각 클래스에 대한 점수를 반환하며, 모델이 학습한 선형 방정식의 출력을 반환함\n",
        "    - 제약 조건: 모든 기본 모델이 decision_function 메서드를 지원해야 함(주로 선형 모델이나 SVM과 같은 일부 모델에서 지원함)\n",
        "\n",
        "  - 'predict':분류 및 회귀 문제에서 모두 사용함. predict 메서드는 분류 문제에서는 클래스 레이블, 회귀 문제에서는 예측 값을 반환함.\n",
        "    - 제약 조건: 모든 기본 모델이 predict 메서드를 지원해야 합니다 (기본적으로 모든 모델이 predict를 지원함).\n",
        "- **n_jobs** :  병렬 처리를 위한 CPU 코어 수, None이면 1, -1이면 모든 CPU 코어 사용\n",
        "- **passthrough** : True이면 원본 특성을 메타 모델에 추가로 전달, False이면 기본 모델의 예측 결과만 메타 모델에 전달\n",
        "\n",
        "decision_function vs predict_proba\n"
      ],
      "metadata": {
        "id": "N20Z_wmnYlmC"
      }
    },
    {
      "cell_type": "code",
      "source": [
        "# 기본 모델 정의\n",
        "level0 = [\n",
        "    ('lr', LogisticRegression(max_iter=1000, C=1.0, solver='lbfgs')),\n",
        "    ('svm', SVC(probability=True, C=1.0, kernel='rbf', gamma='scale')),\n",
        "    ('rf', RandomForestClassifier(n_estimators=100, max_depth=10, min_samples_split=2, min_samples_leaf=1)),\n",
        "    ('xgb', XGBClassifier(n_estimators=100, use_label_encoder=False, eval_metric='logloss'))\n",
        "]\n",
        "\n",
        "# 개별 모델 학습 및 성능 평가\n",
        "for name, model in level0:\n",
        "    model.fit(X_train, Y_train)\n",
        "    Y_pred = model.predict(X_test)\n",
        "    print(f'\\n{name} Model Performance:')\n",
        "    print_all_reg(Y_test, Y_pred)\n",
        "\n",
        "# 메타 모델 정의\n",
        "level1 = LogisticRegression()\n",
        "\n",
        "# 스태킹 모델 정의\n",
        "stacking_model = StackingClassifier(\n",
        "    estimators=level0,  # 기본 모델들의 리스트. 각 튜플은 (이름, 모델)의 형태\n",
        "    final_estimator=level1,  # 메타 모델, 기본 모델들의 예측 결과를 입력으로 받아 최종 예측을 수행\n",
        "    cv=5,  # 교차 검증 분할 수, 기본 모델의 학습을 위한 교차 검증 방법을 설정\n",
        "    stack_method='auto',  # 기본 모델의 예측 결과를 사용할 방법, 'auto', 'predict_proba', 'decision_function', 'predict' 중 하나\n",
        "    n_jobs=None,  # 병렬 처리를 위한 CPU 코어 수, None이면 1, -1이면 모든 CPU 코어 사용\n",
        "    passthrough=False  # True이면 원본 특성을 메타 모델에 추가로 전달, False이면 기본 모델의 예측 결과만 메타 모델에 전달\n",
        ")\n",
        "# 스태킹 모델 학습\n",
        "stacking_model.fit(X_train, Y_train)"
      ],
      "metadata": {
        "colab": {
          "base_uri": "https://localhost:8080/",
          "height": 911
        },
        "id": "OLCJJH71g9KM",
        "outputId": "d27be5c0-b6b9-4d4e-ce7c-e2ca702b5bf2"
      },
      "execution_count": null,
      "outputs": [
        {
          "output_type": "stream",
          "name": "stdout",
          "text": [
            "\n",
            "lr Model Performance:\n",
            "model의 recall 값은 0.778\n",
            "model의 2종 오류 확률 값은 0.222\n",
            "model의 Specificity 값은 0.848\n",
            "model의 1종 오류 확률 값은 0.152\n",
            "model의 precision 값은 0.737\n",
            "model의 f1_score 값은 0.757\n",
            "model의 G-mean 값은 0.812\n",
            "model의 accuracy 값은 0.824\n",
            "\n",
            "svm Model Performance:\n",
            "model의 recall 값은 0.667\n",
            "model의 2종 오류 확률 값은 0.333\n",
            "model의 Specificity 값은 0.939\n",
            "model의 1종 오류 확률 값은 0.061\n",
            "model의 precision 값은 0.857\n",
            "model의 f1_score 값은 0.750\n",
            "model의 G-mean 값은 0.791\n",
            "model의 accuracy 값은 0.843\n",
            "\n",
            "rf Model Performance:\n",
            "model의 recall 값은 0.667\n",
            "model의 2종 오류 확률 값은 0.333\n",
            "model의 Specificity 값은 1.000\n",
            "model의 1종 오류 확률 값은 0.000\n",
            "model의 precision 값은 1.000\n",
            "model의 f1_score 값은 0.800\n",
            "model의 G-mean 값은 0.816\n",
            "model의 accuracy 값은 0.882\n",
            "\n",
            "xgb Model Performance:\n",
            "model의 recall 값은 0.722\n",
            "model의 2종 오류 확률 값은 0.278\n",
            "model의 Specificity 값은 0.939\n",
            "model의 1종 오류 확률 값은 0.061\n",
            "model의 precision 값은 0.867\n",
            "model의 f1_score 값은 0.788\n",
            "model의 G-mean 값은 0.824\n",
            "model의 accuracy 값은 0.863\n"
          ]
        },
        {
          "output_type": "execute_result",
          "data": {
            "text/plain": [
              "StackingClassifier(cv=5,\n",
              "                   estimators=[('lr', LogisticRegression(max_iter=1000)),\n",
              "                               ('svm', SVC(probability=True)),\n",
              "                               ('rf', RandomForestClassifier(max_depth=10)),\n",
              "                               ('xgb',\n",
              "                                XGBClassifier(base_score=None, booster=None,\n",
              "                                              callbacks=None,\n",
              "                                              colsample_bylevel=None,\n",
              "                                              colsample_bynode=None,\n",
              "                                              colsample_bytree=None,\n",
              "                                              device=None,\n",
              "                                              early_stopping_rounds=None,\n",
              "                                              enable_categorical=False,\n",
              "                                              eva...\n",
              "                                              interaction_constraints=None,\n",
              "                                              learning_rate=None, max_bin=None,\n",
              "                                              max_cat_threshold=None,\n",
              "                                              max_cat_to_onehot=None,\n",
              "                                              max_delta_step=None,\n",
              "                                              max_depth=None, max_leaves=None,\n",
              "                                              min_child_weight=None,\n",
              "                                              missing=nan,\n",
              "                                              monotone_constraints=None,\n",
              "                                              multi_strategy=None,\n",
              "                                              n_estimators=100, n_jobs=None,\n",
              "                                              num_parallel_tree=None,\n",
              "                                              random_state=None, ...))],\n",
              "                   final_estimator=LogisticRegression())"
            ],
            "text/html": [
              "<style>#sk-container-id-5 {color: black;background-color: white;}#sk-container-id-5 pre{padding: 0;}#sk-container-id-5 div.sk-toggleable {background-color: white;}#sk-container-id-5 label.sk-toggleable__label {cursor: pointer;display: block;width: 100%;margin-bottom: 0;padding: 0.3em;box-sizing: border-box;text-align: center;}#sk-container-id-5 label.sk-toggleable__label-arrow:before {content: \"▸\";float: left;margin-right: 0.25em;color: #696969;}#sk-container-id-5 label.sk-toggleable__label-arrow:hover:before {color: black;}#sk-container-id-5 div.sk-estimator:hover label.sk-toggleable__label-arrow:before {color: black;}#sk-container-id-5 div.sk-toggleable__content {max-height: 0;max-width: 0;overflow: hidden;text-align: left;background-color: #f0f8ff;}#sk-container-id-5 div.sk-toggleable__content pre {margin: 0.2em;color: black;border-radius: 0.25em;background-color: #f0f8ff;}#sk-container-id-5 input.sk-toggleable__control:checked~div.sk-toggleable__content {max-height: 200px;max-width: 100%;overflow: auto;}#sk-container-id-5 input.sk-toggleable__control:checked~label.sk-toggleable__label-arrow:before {content: \"▾\";}#sk-container-id-5 div.sk-estimator input.sk-toggleable__control:checked~label.sk-toggleable__label {background-color: #d4ebff;}#sk-container-id-5 div.sk-label input.sk-toggleable__control:checked~label.sk-toggleable__label {background-color: #d4ebff;}#sk-container-id-5 input.sk-hidden--visually {border: 0;clip: rect(1px 1px 1px 1px);clip: rect(1px, 1px, 1px, 1px);height: 1px;margin: -1px;overflow: hidden;padding: 0;position: absolute;width: 1px;}#sk-container-id-5 div.sk-estimator {font-family: monospace;background-color: #f0f8ff;border: 1px dotted black;border-radius: 0.25em;box-sizing: border-box;margin-bottom: 0.5em;}#sk-container-id-5 div.sk-estimator:hover {background-color: #d4ebff;}#sk-container-id-5 div.sk-parallel-item::after {content: \"\";width: 100%;border-bottom: 1px solid gray;flex-grow: 1;}#sk-container-id-5 div.sk-label:hover label.sk-toggleable__label {background-color: #d4ebff;}#sk-container-id-5 div.sk-serial::before {content: \"\";position: absolute;border-left: 1px solid gray;box-sizing: border-box;top: 0;bottom: 0;left: 50%;z-index: 0;}#sk-container-id-5 div.sk-serial {display: flex;flex-direction: column;align-items: center;background-color: white;padding-right: 0.2em;padding-left: 0.2em;position: relative;}#sk-container-id-5 div.sk-item {position: relative;z-index: 1;}#sk-container-id-5 div.sk-parallel {display: flex;align-items: stretch;justify-content: center;background-color: white;position: relative;}#sk-container-id-5 div.sk-item::before, #sk-container-id-5 div.sk-parallel-item::before {content: \"\";position: absolute;border-left: 1px solid gray;box-sizing: border-box;top: 0;bottom: 0;left: 50%;z-index: -1;}#sk-container-id-5 div.sk-parallel-item {display: flex;flex-direction: column;z-index: 1;position: relative;background-color: white;}#sk-container-id-5 div.sk-parallel-item:first-child::after {align-self: flex-end;width: 50%;}#sk-container-id-5 div.sk-parallel-item:last-child::after {align-self: flex-start;width: 50%;}#sk-container-id-5 div.sk-parallel-item:only-child::after {width: 0;}#sk-container-id-5 div.sk-dashed-wrapped {border: 1px dashed gray;margin: 0 0.4em 0.5em 0.4em;box-sizing: border-box;padding-bottom: 0.4em;background-color: white;}#sk-container-id-5 div.sk-label label {font-family: monospace;font-weight: bold;display: inline-block;line-height: 1.2em;}#sk-container-id-5 div.sk-label-container {text-align: center;}#sk-container-id-5 div.sk-container {/* jupyter's `normalize.less` sets `[hidden] { display: none; }` but bootstrap.min.css set `[hidden] { display: none !important; }` so we also need the `!important` here to be able to override the default hidden behavior on the sphinx rendered scikit-learn.org. See: https://github.com/scikit-learn/scikit-learn/issues/21755 */display: inline-block !important;position: relative;}#sk-container-id-5 div.sk-text-repr-fallback {display: none;}</style><div id=\"sk-container-id-5\" class=\"sk-top-container\"><div class=\"sk-text-repr-fallback\"><pre>StackingClassifier(cv=5,\n",
              "                   estimators=[(&#x27;lr&#x27;, LogisticRegression(max_iter=1000)),\n",
              "                               (&#x27;svm&#x27;, SVC(probability=True)),\n",
              "                               (&#x27;rf&#x27;, RandomForestClassifier(max_depth=10)),\n",
              "                               (&#x27;xgb&#x27;,\n",
              "                                XGBClassifier(base_score=None, booster=None,\n",
              "                                              callbacks=None,\n",
              "                                              colsample_bylevel=None,\n",
              "                                              colsample_bynode=None,\n",
              "                                              colsample_bytree=None,\n",
              "                                              device=None,\n",
              "                                              early_stopping_rounds=None,\n",
              "                                              enable_categorical=False,\n",
              "                                              eva...\n",
              "                                              interaction_constraints=None,\n",
              "                                              learning_rate=None, max_bin=None,\n",
              "                                              max_cat_threshold=None,\n",
              "                                              max_cat_to_onehot=None,\n",
              "                                              max_delta_step=None,\n",
              "                                              max_depth=None, max_leaves=None,\n",
              "                                              min_child_weight=None,\n",
              "                                              missing=nan,\n",
              "                                              monotone_constraints=None,\n",
              "                                              multi_strategy=None,\n",
              "                                              n_estimators=100, n_jobs=None,\n",
              "                                              num_parallel_tree=None,\n",
              "                                              random_state=None, ...))],\n",
              "                   final_estimator=LogisticRegression())</pre><b>In a Jupyter environment, please rerun this cell to show the HTML representation or trust the notebook. <br />On GitHub, the HTML representation is unable to render, please try loading this page with nbviewer.org.</b></div><div class=\"sk-container\" hidden><div class=\"sk-item sk-dashed-wrapped\"><div class=\"sk-label-container\"><div class=\"sk-label sk-toggleable\"><input class=\"sk-toggleable__control sk-hidden--visually\" id=\"sk-estimator-id-25\" type=\"checkbox\" ><label for=\"sk-estimator-id-25\" class=\"sk-toggleable__label sk-toggleable__label-arrow\">StackingClassifier</label><div class=\"sk-toggleable__content\"><pre>StackingClassifier(cv=5,\n",
              "                   estimators=[(&#x27;lr&#x27;, LogisticRegression(max_iter=1000)),\n",
              "                               (&#x27;svm&#x27;, SVC(probability=True)),\n",
              "                               (&#x27;rf&#x27;, RandomForestClassifier(max_depth=10)),\n",
              "                               (&#x27;xgb&#x27;,\n",
              "                                XGBClassifier(base_score=None, booster=None,\n",
              "                                              callbacks=None,\n",
              "                                              colsample_bylevel=None,\n",
              "                                              colsample_bynode=None,\n",
              "                                              colsample_bytree=None,\n",
              "                                              device=None,\n",
              "                                              early_stopping_rounds=None,\n",
              "                                              enable_categorical=False,\n",
              "                                              eva...\n",
              "                                              interaction_constraints=None,\n",
              "                                              learning_rate=None, max_bin=None,\n",
              "                                              max_cat_threshold=None,\n",
              "                                              max_cat_to_onehot=None,\n",
              "                                              max_delta_step=None,\n",
              "                                              max_depth=None, max_leaves=None,\n",
              "                                              min_child_weight=None,\n",
              "                                              missing=nan,\n",
              "                                              monotone_constraints=None,\n",
              "                                              multi_strategy=None,\n",
              "                                              n_estimators=100, n_jobs=None,\n",
              "                                              num_parallel_tree=None,\n",
              "                                              random_state=None, ...))],\n",
              "                   final_estimator=LogisticRegression())</pre></div></div></div><div class=\"sk-serial\"><div class=\"sk-item\"><div class=\"sk-parallel\"><div class=\"sk-parallel-item\"><div class=\"sk-item\"><div class=\"sk-label-container\"><div class=\"sk-label sk-toggleable\"><label>lr</label></div></div><div class=\"sk-serial\"><div class=\"sk-item\"><div class=\"sk-estimator sk-toggleable\"><input class=\"sk-toggleable__control sk-hidden--visually\" id=\"sk-estimator-id-26\" type=\"checkbox\" ><label for=\"sk-estimator-id-26\" class=\"sk-toggleable__label sk-toggleable__label-arrow\">LogisticRegression</label><div class=\"sk-toggleable__content\"><pre>LogisticRegression(max_iter=1000)</pre></div></div></div></div></div></div><div class=\"sk-parallel-item\"><div class=\"sk-item\"><div class=\"sk-label-container\"><div class=\"sk-label sk-toggleable\"><label>svm</label></div></div><div class=\"sk-serial\"><div class=\"sk-item\"><div class=\"sk-estimator sk-toggleable\"><input class=\"sk-toggleable__control sk-hidden--visually\" id=\"sk-estimator-id-27\" type=\"checkbox\" ><label for=\"sk-estimator-id-27\" class=\"sk-toggleable__label sk-toggleable__label-arrow\">SVC</label><div class=\"sk-toggleable__content\"><pre>SVC(probability=True)</pre></div></div></div></div></div></div><div class=\"sk-parallel-item\"><div class=\"sk-item\"><div class=\"sk-label-container\"><div class=\"sk-label sk-toggleable\"><label>rf</label></div></div><div class=\"sk-serial\"><div class=\"sk-item\"><div class=\"sk-estimator sk-toggleable\"><input class=\"sk-toggleable__control sk-hidden--visually\" id=\"sk-estimator-id-28\" type=\"checkbox\" ><label for=\"sk-estimator-id-28\" class=\"sk-toggleable__label sk-toggleable__label-arrow\">RandomForestClassifier</label><div class=\"sk-toggleable__content\"><pre>RandomForestClassifier(max_depth=10)</pre></div></div></div></div></div></div><div class=\"sk-parallel-item\"><div class=\"sk-item\"><div class=\"sk-label-container\"><div class=\"sk-label sk-toggleable\"><label>xgb</label></div></div><div class=\"sk-serial\"><div class=\"sk-item\"><div class=\"sk-estimator sk-toggleable\"><input class=\"sk-toggleable__control sk-hidden--visually\" id=\"sk-estimator-id-29\" type=\"checkbox\" ><label for=\"sk-estimator-id-29\" class=\"sk-toggleable__label sk-toggleable__label-arrow\">XGBClassifier</label><div class=\"sk-toggleable__content\"><pre>XGBClassifier(base_score=None, booster=None, callbacks=None,\n",
              "              colsample_bylevel=None, colsample_bynode=None,\n",
              "              colsample_bytree=None, device=None, early_stopping_rounds=None,\n",
              "              enable_categorical=False, eval_metric=&#x27;logloss&#x27;,\n",
              "              feature_types=None, gamma=None, grow_policy=None,\n",
              "              importance_type=None, interaction_constraints=None,\n",
              "              learning_rate=None, max_bin=None, max_cat_threshold=None,\n",
              "              max_cat_to_onehot=None, max_delta_step=None, max_depth=None,\n",
              "              max_leaves=None, min_child_weight=None, missing=nan,\n",
              "              monotone_constraints=None, multi_strategy=None, n_estimators=100,\n",
              "              n_jobs=None, num_parallel_tree=None, random_state=None, ...)</pre></div></div></div></div></div></div></div></div><div class=\"sk-item\"><div class=\"sk-parallel\"><div class=\"sk-parallel-item\"><div class=\"sk-item\"><div class=\"sk-label-container\"><div class=\"sk-label sk-toggleable\"><label>final_estimator</label></div></div><div class=\"sk-serial\"><div class=\"sk-item\"><div class=\"sk-estimator sk-toggleable\"><input class=\"sk-toggleable__control sk-hidden--visually\" id=\"sk-estimator-id-30\" type=\"checkbox\" ><label for=\"sk-estimator-id-30\" class=\"sk-toggleable__label sk-toggleable__label-arrow\">LogisticRegression</label><div class=\"sk-toggleable__content\"><pre>LogisticRegression()</pre></div></div></div></div></div></div></div></div></div></div></div></div>"
            ]
          },
          "metadata": {},
          "execution_count": 23
        }
      ]
    },
    {
      "cell_type": "code",
      "source": [
        "# 스태킹 모델 예측 수행\n",
        "Y_pred = stacking_model.predict(X_test)\n",
        "\n",
        "# 스태킹 모델 성능 평가\n",
        "print(f'\\nStacking Model Performance:')\n",
        "print_all_reg(Y_test, Y_pred)"
      ],
      "metadata": {
        "colab": {
          "base_uri": "https://localhost:8080/"
        },
        "id": "cqcqmFdqhD2G",
        "outputId": "b459e1d6-1a87-456d-ffbe-73890c69a5cb"
      },
      "execution_count": null,
      "outputs": [
        {
          "output_type": "stream",
          "name": "stdout",
          "text": [
            "\n",
            "Stacking Model Performance:\n",
            "model의 recall 값은 0.833\n",
            "model의 2종 오류 확률 값은 0.167\n",
            "model의 Specificity 값은 0.909\n",
            "model의 1종 오류 확률 값은 0.091\n",
            "model의 precision 값은 0.833\n",
            "model의 f1_score 값은 0.833\n",
            "model의 G-mean 값은 0.870\n",
            "model의 accuracy 값은 0.882\n"
          ]
        }
      ]
    },
    {
      "cell_type": "code",
      "source": [],
      "metadata": {
        "id": "pGN7BVSOYOZR"
      },
      "execution_count": null,
      "outputs": []
    },
    {
      "cell_type": "code",
      "source": [],
      "metadata": {
        "id": "cA8WGpBmwAim"
      },
      "execution_count": null,
      "outputs": []
    }
  ]
}