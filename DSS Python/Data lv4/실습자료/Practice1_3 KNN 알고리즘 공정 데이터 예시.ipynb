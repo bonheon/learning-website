{
 "cells": [
  {
   "cell_type": "code",
   "execution_count": 1,
   "metadata": {
    "executionInfo": {
     "elapsed": 1516,
     "status": "ok",
     "timestamp": 1678494025313,
     "user": {
      "displayName": "임형구",
      "userId": "00413397560986881072"
     },
     "user_tz": -540
    },
    "id": "j08KwmIGRmru"
   },
   "outputs": [],
   "source": [
    "import pandas as pd\n",
    "import numpy as np\n",
    "from sklearn.model_selection import train_test_split\n",
    "from sklearn.metrics import mean_squared_error, mean_absolute_error, r2_score\n",
    "from sklearn.metrics import accuracy_score,precision_score,recall_score,f1_score\n",
    "from sklearn.metrics import confusion_matrix"
   ]
  },
  {
   "cell_type": "code",
   "execution_count": 2,
   "metadata": {
    "executionInfo": {
     "elapsed": 1436,
     "status": "ok",
     "timestamp": 1678494027386,
     "user": {
      "displayName": "임형구",
      "userId": "00413397560986881072"
     },
     "user_tz": -540
    },
    "id": "qTfeYyjARO0v"
   },
   "outputs": [],
   "source": [
    "# 데이터 로드\n",
    "\n",
    "df = pd.read_csv(\"./data/KNN_multiclass_data.csv\") # 데이터 로드"
   ]
  },
  {
   "cell_type": "code",
   "execution_count": 3,
   "metadata": {
    "colab": {
     "base_uri": "https://localhost:8080/",
     "height": 456
    },
    "executionInfo": {
     "elapsed": 12,
     "status": "ok",
     "timestamp": 1678494027387,
     "user": {
      "displayName": "임형구",
      "userId": "00413397560986881072"
     },
     "user_tz": -540
    },
    "id": "kjtqfa9Z8Amn",
    "outputId": "f3acd685-c6ca-4bcb-87d1-1e0dfe9404b5"
   },
   "outputs": [
    {
     "data": {
      "text/html": [
       "<div>\n",
       "<style scoped>\n",
       "    .dataframe tbody tr th:only-of-type {\n",
       "        vertical-align: middle;\n",
       "    }\n",
       "\n",
       "    .dataframe tbody tr th {\n",
       "        vertical-align: top;\n",
       "    }\n",
       "\n",
       "    .dataframe thead th {\n",
       "        text-align: right;\n",
       "    }\n",
       "</style>\n",
       "<table border=\"1\" class=\"dataframe\">\n",
       "  <thead>\n",
       "    <tr style=\"text-align: right;\">\n",
       "      <th></th>\n",
       "      <th>Class</th>\n",
       "      <th>V1</th>\n",
       "      <th>V2</th>\n",
       "      <th>V3</th>\n",
       "      <th>V4</th>\n",
       "      <th>V5</th>\n",
       "      <th>V6</th>\n",
       "      <th>V7</th>\n",
       "      <th>V8</th>\n",
       "      <th>V9</th>\n",
       "      <th>...</th>\n",
       "      <th>V51</th>\n",
       "      <th>V52</th>\n",
       "      <th>V53</th>\n",
       "      <th>V54</th>\n",
       "      <th>V55</th>\n",
       "      <th>V56</th>\n",
       "      <th>V57</th>\n",
       "      <th>V58</th>\n",
       "      <th>V59</th>\n",
       "      <th>V60</th>\n",
       "    </tr>\n",
       "  </thead>\n",
       "  <tbody>\n",
       "    <tr>\n",
       "      <th>0</th>\n",
       "      <td>Type_C</td>\n",
       "      <td>0.000000</td>\n",
       "      <td>0.000000</td>\n",
       "      <td>0</td>\n",
       "      <td>0.000000</td>\n",
       "      <td>28.800730</td>\n",
       "      <td>0.000000</td>\n",
       "      <td>0</td>\n",
       "      <td>19.897913</td>\n",
       "      <td>0.000000</td>\n",
       "      <td>...</td>\n",
       "      <td>0.000000</td>\n",
       "      <td>22.205267</td>\n",
       "      <td>36.889362</td>\n",
       "      <td>0</td>\n",
       "      <td>4.008109</td>\n",
       "      <td>11.122004</td>\n",
       "      <td>0.000000</td>\n",
       "      <td>0</td>\n",
       "      <td>0.861596</td>\n",
       "      <td>0</td>\n",
       "    </tr>\n",
       "    <tr>\n",
       "      <th>1</th>\n",
       "      <td>Type_C</td>\n",
       "      <td>0.000000</td>\n",
       "      <td>7.379192</td>\n",
       "      <td>0</td>\n",
       "      <td>0.000000</td>\n",
       "      <td>55.324707</td>\n",
       "      <td>0.000000</td>\n",
       "      <td>0</td>\n",
       "      <td>17.763159</td>\n",
       "      <td>0.000000</td>\n",
       "      <td>...</td>\n",
       "      <td>0.000000</td>\n",
       "      <td>25.680260</td>\n",
       "      <td>36.490791</td>\n",
       "      <td>0</td>\n",
       "      <td>0.000000</td>\n",
       "      <td>0.000000</td>\n",
       "      <td>0.000000</td>\n",
       "      <td>0</td>\n",
       "      <td>18.000359</td>\n",
       "      <td>0</td>\n",
       "    </tr>\n",
       "    <tr>\n",
       "      <th>2</th>\n",
       "      <td>Type_C</td>\n",
       "      <td>0.000000</td>\n",
       "      <td>0.000000</td>\n",
       "      <td>0</td>\n",
       "      <td>0.000000</td>\n",
       "      <td>9.441565</td>\n",
       "      <td>0.000000</td>\n",
       "      <td>0</td>\n",
       "      <td>8.074228</td>\n",
       "      <td>5.014658</td>\n",
       "      <td>...</td>\n",
       "      <td>0.000000</td>\n",
       "      <td>0.000000</td>\n",
       "      <td>20.628450</td>\n",
       "      <td>0</td>\n",
       "      <td>2.239943</td>\n",
       "      <td>0.000000</td>\n",
       "      <td>0.000000</td>\n",
       "      <td>0</td>\n",
       "      <td>0.000000</td>\n",
       "      <td>0</td>\n",
       "    </tr>\n",
       "    <tr>\n",
       "      <th>3</th>\n",
       "      <td>Type_C</td>\n",
       "      <td>0.000000</td>\n",
       "      <td>0.000000</td>\n",
       "      <td>0</td>\n",
       "      <td>0.000000</td>\n",
       "      <td>38.792530</td>\n",
       "      <td>0.000000</td>\n",
       "      <td>0</td>\n",
       "      <td>19.175306</td>\n",
       "      <td>0.550448</td>\n",
       "      <td>...</td>\n",
       "      <td>11.169135</td>\n",
       "      <td>18.659679</td>\n",
       "      <td>7.790253</td>\n",
       "      <td>0</td>\n",
       "      <td>9.356702</td>\n",
       "      <td>0.000000</td>\n",
       "      <td>0.045151</td>\n",
       "      <td>0</td>\n",
       "      <td>0.000000</td>\n",
       "      <td>0</td>\n",
       "    </tr>\n",
       "    <tr>\n",
       "      <th>4</th>\n",
       "      <td>Type_C</td>\n",
       "      <td>0.000000</td>\n",
       "      <td>0.000000</td>\n",
       "      <td>0</td>\n",
       "      <td>11.082972</td>\n",
       "      <td>4.865292</td>\n",
       "      <td>0.000000</td>\n",
       "      <td>0</td>\n",
       "      <td>0.000000</td>\n",
       "      <td>8.450891</td>\n",
       "      <td>...</td>\n",
       "      <td>15.215648</td>\n",
       "      <td>24.295647</td>\n",
       "      <td>11.544920</td>\n",
       "      <td>0</td>\n",
       "      <td>0.000000</td>\n",
       "      <td>0.000000</td>\n",
       "      <td>0.000000</td>\n",
       "      <td>0</td>\n",
       "      <td>5.172331</td>\n",
       "      <td>0</td>\n",
       "    </tr>\n",
       "    <tr>\n",
       "      <th>5</th>\n",
       "      <td>Type_C</td>\n",
       "      <td>0.000000</td>\n",
       "      <td>0.000000</td>\n",
       "      <td>0</td>\n",
       "      <td>0.000000</td>\n",
       "      <td>0.000000</td>\n",
       "      <td>0.000000</td>\n",
       "      <td>0</td>\n",
       "      <td>15.023901</td>\n",
       "      <td>3.542971</td>\n",
       "      <td>...</td>\n",
       "      <td>0.000000</td>\n",
       "      <td>0.000000</td>\n",
       "      <td>18.815767</td>\n",
       "      <td>0</td>\n",
       "      <td>0.000000</td>\n",
       "      <td>19.855614</td>\n",
       "      <td>0.000000</td>\n",
       "      <td>0</td>\n",
       "      <td>0.000000</td>\n",
       "      <td>0</td>\n",
       "    </tr>\n",
       "    <tr>\n",
       "      <th>6</th>\n",
       "      <td>Type_C</td>\n",
       "      <td>0.000000</td>\n",
       "      <td>0.000000</td>\n",
       "      <td>0</td>\n",
       "      <td>0.000000</td>\n",
       "      <td>16.643148</td>\n",
       "      <td>0.000000</td>\n",
       "      <td>0</td>\n",
       "      <td>0.000000</td>\n",
       "      <td>7.105449</td>\n",
       "      <td>...</td>\n",
       "      <td>0.000000</td>\n",
       "      <td>0.000000</td>\n",
       "      <td>14.860317</td>\n",
       "      <td>0</td>\n",
       "      <td>0.000000</td>\n",
       "      <td>0.000000</td>\n",
       "      <td>0.000000</td>\n",
       "      <td>0</td>\n",
       "      <td>0.000000</td>\n",
       "      <td>0</td>\n",
       "    </tr>\n",
       "    <tr>\n",
       "      <th>7</th>\n",
       "      <td>Type_C</td>\n",
       "      <td>1.880968</td>\n",
       "      <td>0.000000</td>\n",
       "      <td>0</td>\n",
       "      <td>0.000000</td>\n",
       "      <td>0.000000</td>\n",
       "      <td>0.000000</td>\n",
       "      <td>0</td>\n",
       "      <td>1.695240</td>\n",
       "      <td>0.000000</td>\n",
       "      <td>...</td>\n",
       "      <td>0.000000</td>\n",
       "      <td>50.173447</td>\n",
       "      <td>32.229771</td>\n",
       "      <td>0</td>\n",
       "      <td>9.866442</td>\n",
       "      <td>8.500020</td>\n",
       "      <td>0.000000</td>\n",
       "      <td>0</td>\n",
       "      <td>0.000000</td>\n",
       "      <td>0</td>\n",
       "    </tr>\n",
       "    <tr>\n",
       "      <th>8</th>\n",
       "      <td>Type_C</td>\n",
       "      <td>0.000000</td>\n",
       "      <td>0.000000</td>\n",
       "      <td>0</td>\n",
       "      <td>0.000000</td>\n",
       "      <td>23.745300</td>\n",
       "      <td>13.970112</td>\n",
       "      <td>0</td>\n",
       "      <td>4.204913</td>\n",
       "      <td>10.745239</td>\n",
       "      <td>...</td>\n",
       "      <td>22.680828</td>\n",
       "      <td>9.743242</td>\n",
       "      <td>22.081636</td>\n",
       "      <td>0</td>\n",
       "      <td>0.000000</td>\n",
       "      <td>0.000000</td>\n",
       "      <td>6.477305</td>\n",
       "      <td>0</td>\n",
       "      <td>0.000000</td>\n",
       "      <td>0</td>\n",
       "    </tr>\n",
       "    <tr>\n",
       "      <th>9</th>\n",
       "      <td>Type_C</td>\n",
       "      <td>0.000000</td>\n",
       "      <td>0.469354</td>\n",
       "      <td>0</td>\n",
       "      <td>5.875203</td>\n",
       "      <td>32.415726</td>\n",
       "      <td>0.000000</td>\n",
       "      <td>0</td>\n",
       "      <td>6.380740</td>\n",
       "      <td>1.578491</td>\n",
       "      <td>...</td>\n",
       "      <td>0.000000</td>\n",
       "      <td>4.933801</td>\n",
       "      <td>26.821512</td>\n",
       "      <td>0</td>\n",
       "      <td>0.000000</td>\n",
       "      <td>0.000000</td>\n",
       "      <td>3.141470</td>\n",
       "      <td>0</td>\n",
       "      <td>4.770092</td>\n",
       "      <td>0</td>\n",
       "    </tr>\n",
       "  </tbody>\n",
       "</table>\n",
       "<p>10 rows × 61 columns</p>\n",
       "</div>"
      ],
      "text/plain": [
       "    Class        V1        V2  V3         V4         V5         V6  V7  \\\n",
       "0  Type_C  0.000000  0.000000   0   0.000000  28.800730   0.000000   0   \n",
       "1  Type_C  0.000000  7.379192   0   0.000000  55.324707   0.000000   0   \n",
       "2  Type_C  0.000000  0.000000   0   0.000000   9.441565   0.000000   0   \n",
       "3  Type_C  0.000000  0.000000   0   0.000000  38.792530   0.000000   0   \n",
       "4  Type_C  0.000000  0.000000   0  11.082972   4.865292   0.000000   0   \n",
       "5  Type_C  0.000000  0.000000   0   0.000000   0.000000   0.000000   0   \n",
       "6  Type_C  0.000000  0.000000   0   0.000000  16.643148   0.000000   0   \n",
       "7  Type_C  1.880968  0.000000   0   0.000000   0.000000   0.000000   0   \n",
       "8  Type_C  0.000000  0.000000   0   0.000000  23.745300  13.970112   0   \n",
       "9  Type_C  0.000000  0.469354   0   5.875203  32.415726   0.000000   0   \n",
       "\n",
       "          V8         V9  ...        V51        V52        V53  V54       V55  \\\n",
       "0  19.897913   0.000000  ...   0.000000  22.205267  36.889362    0  4.008109   \n",
       "1  17.763159   0.000000  ...   0.000000  25.680260  36.490791    0  0.000000   \n",
       "2   8.074228   5.014658  ...   0.000000   0.000000  20.628450    0  2.239943   \n",
       "3  19.175306   0.550448  ...  11.169135  18.659679   7.790253    0  9.356702   \n",
       "4   0.000000   8.450891  ...  15.215648  24.295647  11.544920    0  0.000000   \n",
       "5  15.023901   3.542971  ...   0.000000   0.000000  18.815767    0  0.000000   \n",
       "6   0.000000   7.105449  ...   0.000000   0.000000  14.860317    0  0.000000   \n",
       "7   1.695240   0.000000  ...   0.000000  50.173447  32.229771    0  9.866442   \n",
       "8   4.204913  10.745239  ...  22.680828   9.743242  22.081636    0  0.000000   \n",
       "9   6.380740   1.578491  ...   0.000000   4.933801  26.821512    0  0.000000   \n",
       "\n",
       "         V56       V57  V58        V59  V60  \n",
       "0  11.122004  0.000000    0   0.861596    0  \n",
       "1   0.000000  0.000000    0  18.000359    0  \n",
       "2   0.000000  0.000000    0   0.000000    0  \n",
       "3   0.000000  0.045151    0   0.000000    0  \n",
       "4   0.000000  0.000000    0   5.172331    0  \n",
       "5  19.855614  0.000000    0   0.000000    0  \n",
       "6   0.000000  0.000000    0   0.000000    0  \n",
       "7   8.500020  0.000000    0   0.000000    0  \n",
       "8   0.000000  6.477305    0   0.000000    0  \n",
       "9   0.000000  3.141470    0   4.770092    0  \n",
       "\n",
       "[10 rows x 61 columns]"
      ]
     },
     "execution_count": 3,
     "metadata": {},
     "output_type": "execute_result"
    }
   ],
   "source": [
    "df.head(10)"
   ]
  },
  {
   "cell_type": "code",
   "execution_count": 4,
   "metadata": {
    "colab": {
     "base_uri": "https://localhost:8080/"
    },
    "executionInfo": {
     "elapsed": 9,
     "status": "ok",
     "timestamp": 1678494027388,
     "user": {
      "displayName": "임형구",
      "userId": "00413397560986881072"
     },
     "user_tz": -540
    },
    "id": "kG0JWL6iRuVO",
    "outputId": "c40e8324-8506-4370-9054-db408d8009e5"
   },
   "outputs": [
    {
     "name": "stdout",
     "output_type": "stream",
     "text": [
      "(2369, 61)\n",
      " \n",
      "['Type_C' 'Type_B' 'Type_A' 'Type_D']\n",
      " \n",
      "Class\n",
      "Type_A    1140\n",
      "Type_B     824\n",
      "Type_C     268\n",
      "Type_D     137\n",
      "Name: count, dtype: int64\n"
     ]
    }
   ],
   "source": [
    "print(df.shape)\n",
    "print(\" \")\n",
    "print(df['Class'].unique()) # 불량 유형 확인\n",
    "print(\" \")\n",
    "print(df['Class'].value_counts()) # 불량 타입별 수 확인 "
   ]
  },
  {
   "cell_type": "code",
   "execution_count": 5,
   "metadata": {
    "executionInfo": {
     "elapsed": 2,
     "status": "ok",
     "timestamp": 1678494027655,
     "user": {
      "displayName": "임형구",
      "userId": "00413397560986881072"
     },
     "user_tz": -540
    },
    "id": "V5GnYaj9R2vd"
   },
   "outputs": [],
   "source": [
    "# 입력변수 출력변수 정의 \n",
    "data_X = df.drop([\"Class\"], axis = 1)\n",
    "data_Y = df['Class']"
   ]
  },
  {
   "cell_type": "code",
   "execution_count": 6,
   "metadata": {
    "executionInfo": {
     "elapsed": 283,
     "status": "ok",
     "timestamp": 1678494339623,
     "user": {
      "displayName": "임형구",
      "userId": "00413397560986881072"
     },
     "user_tz": -540
    },
    "id": "5wOb6caZSMyn"
   },
   "outputs": [],
   "source": [
    "# test_size = 0.25학습 데이터와 테스트 데이터의 비율을 설정하는 하이퍼파라미터\n",
    "# stratify = Y_label의 비율을 고려하여 나눠주는 하이퍼파라미터 (Class imbalance 상황에서는 설정하는 것이 굉장히 중요)\n",
    "# shuffle = True\n",
    "\n",
    "# 대부분의 하이퍼파라미터는 default가 존재함\n",
    "# Ex1. 이미지들을 한번에 불러올때 imagedatagenerator 모듈을 사용함, shuffle 등의 하이퍼파라미터 default = False (X)\n",
    "# Ex2. 시계열 데이터 처리, shuffle = False\n",
    "\n",
    "training_data, validation_data , training_labels, validation_labels = \\\n",
    "train_test_split(data_X, data_Y, test_size = 0.2, shuffle =True, stratify=data_Y, random_state = 100)"
   ]
  },
  {
   "cell_type": "code",
   "execution_count": 7,
   "metadata": {
    "colab": {
     "base_uri": "https://localhost:8080/"
    },
    "executionInfo": {
     "elapsed": 261,
     "status": "ok",
     "timestamp": 1678494287836,
     "user": {
      "displayName": "임형구",
      "userId": "00413397560986881072"
     },
     "user_tz": -540
    },
    "id": "9z6ZubKH8jZV",
    "outputId": "bbee1aff-61cb-4f2e-8ef5-afb8a3003731"
   },
   "outputs": [
    {
     "name": "stdout",
     "output_type": "stream",
     "text": [
      "학습 데이터 셋 크기\n",
      "Class\n",
      "Type_A    912\n",
      "Type_B    659\n",
      "Type_C    214\n",
      "Type_D    110\n",
      "Name: count, dtype: int64\n",
      "\n",
      "평가 데이터 셋 크기\n",
      "Class\n",
      "Type_A    228\n",
      "Type_B    165\n",
      "Type_C     54\n",
      "Type_D     27\n",
      "Name: count, dtype: int64\n"
     ]
    }
   ],
   "source": [
    "print(\"학습 데이터 셋 크기\")\n",
    "print(training_labels.value_counts())\n",
    "print(\"\")\n",
    "print(\"평가 데이터 셋 크기\")\n",
    "print(validation_labels.value_counts())"
   ]
  },
  {
   "cell_type": "code",
   "execution_count": 8,
   "metadata": {},
   "outputs": [],
   "source": [
    "training_data = np.array(training_data)\n",
    "validation_data = np.array(validation_data)\n",
    "training_labels = np.array(training_labels)\n",
    "validation_labels = np.array(validation_labels)"
   ]
  },
  {
   "cell_type": "code",
   "execution_count": 9,
   "metadata": {
    "colab": {
     "base_uri": "https://localhost:8080/"
    },
    "executionInfo": {
     "elapsed": 758,
     "status": "ok",
     "timestamp": 1678494537698,
     "user": {
      "displayName": "임형구",
      "userId": "00413397560986881072"
     },
     "user_tz": -540
    },
    "id": "2FaEypz4TxPe",
    "outputId": "45fe5c2e-1221-4cd3-bec2-38e9c456727d"
   },
   "outputs": [
    {
     "name": "stdout",
     "output_type": "stream",
     "text": [
      "예측 결과\n",
      "['Type_A' 'Type_A' 'Type_A' 'Type_A' 'Type_C' 'Type_A' 'Type_A' 'Type_B'\n",
      " 'Type_B' 'Type_C']\n",
      "\n",
      "성능\n",
      "0.9430379746835443\n"
     ]
    }
   ],
   "source": [
    "from sklearn.neighbors import KNeighborsClassifier \n",
    "\n",
    "# n_neighbors = K \n",
    "classifier = KNeighborsClassifier(n_neighbors = 3) # 1. 모델 선언\n",
    "classifier.fit(training_data, training_labels) # 2. 모델 학습\n",
    "\n",
    "train_preds = classifier.predict(training_data) # 3. 학습 데이터 예측\n",
    "preds = classifier.predict(validation_data) # 테스트 데이터 예측\n",
    "\n",
    "print(\"예측 결과\")\n",
    "print(preds[:10])\n",
    "print(\"\")\n",
    "print(\"성능\")\n",
    "print(classifier.score(validation_data, validation_labels))\n",
    "\n",
    "# Regresson 문제를 풀고자 하는 경우\n",
    "from sklearn.neighbors import KNeighborsRegressor\n"
   ]
  },
  {
   "cell_type": "code",
   "execution_count": 10,
   "metadata": {
    "colab": {
     "base_uri": "https://localhost:8080/",
     "height": 284
    },
    "executionInfo": {
     "elapsed": 3640,
     "status": "ok",
     "timestamp": 1678497338637,
     "user": {
      "displayName": "임형구",
      "userId": "00413397560986881072"
     },
     "user_tz": -540
    },
    "id": "w4gjhigFTvKG",
    "outputId": "f75dd737-04e6-4203-a4e5-27c0bae38889"
   },
   "outputs": [
    {
     "data": {
      "image/png": "[encoded data removed]",
      "text/plain": [
       "<Figure size 640x480 with 1 Axes>"
      ]
     },
     "metadata": {},
     "output_type": "display_data"
    }
   ],
   "source": [
    "import matplotlib.pyplot as plt\n",
    "k_list = range(1,10) # K 설정\n",
    "train_accuracies = []\n",
    "test_accuracies = []\n",
    "for k in k_list:\n",
    "  classifier = KNeighborsClassifier(n_neighbors = k)\n",
    "  classifier.fit(training_data, training_labels)\n",
    "  train_accuracies.append(classifier.score(training_data, training_labels))\n",
    "  test_accuracies.append(classifier.score(validation_data, validation_labels))\n",
    "#plt.plot(k_list, train_accuracies,label=\"Train data\")\n",
    "plt.plot(k_list, test_accuracies,label=\"Test data\")\n",
    "plt.xlabel(\"K\",fontsize = 15)\n",
    "plt.ylabel(\"Accuracy\",fontsize = 15)\n",
    "plt.legend(fontsize= 13)\n",
    "plt.show()"
   ]
  },
  {
   "cell_type": "code",
   "execution_count": 11,
   "metadata": {
    "id": "pidL1JOJX5OH"
   },
   "outputs": [],
   "source": [
    "def print_all_reg(Y_test,pred):\n",
    "    # Specificity를 구하기 위해 confusion matrix를 이용\n",
    "\n",
    "    cm1 = confusion_matrix(Y_test,pred)\n",
    "    specificity1 = cm1[0,0]/(cm1[0,0]+cm1[0,1])\n",
    "\n",
    "    #결과 검사\n",
    "    #recall = cm1[1,1]/(cm1[1,1]+cm1[1,0])\n",
    "    #pre = cm1[1,1]/(cm1[1,1]+cm1[0,1])\n",
    "\n",
    "    G_mean = recall_score(Y_test,pred,average = 'weighted') * specificity1\n",
    "    print(\"model의 recall 값은 {:.3f}\".format(recall_score(Y_test,pred,average = 'weighted')))\n",
    "    print(\"model의 2종 오류 확률 값은 {:.3f}\".format(1-recall_score(Y_test,pred,average = 'weighted')))\n",
    "    print(\"model의 Specificity 값은 {:.3f}\".format(specificity1))\n",
    "    print(\"model의 1종 오류 확률 값은 {:.3f}\".format(1-specificity1))\n",
    "    print(\"model의 precision 값은 {:.3f}\".format(precision_score(Y_test,pred,average = 'weighted')))\n",
    "    print(\"model의 f1_score 값은 {:.3f}\".format(f1_score(Y_test,pred,average = 'weighted')))\n",
    "    print(\"model의 G-mean 값은 {:.3f}\".format(np.sqrt(G_mean)))\n",
    "    print(\"model의 accuracy 값은 {:.3f}\".format(accuracy_score(Y_test,pred)))"
   ]
  },
  {
   "cell_type": "code",
   "execution_count": 12,
   "metadata": {
    "colab": {
     "base_uri": "https://localhost:8080/"
    },
    "executionInfo": {
     "elapsed": 337,
     "status": "ok",
     "timestamp": 1677410082286,
     "user": {
      "displayName": "임형구",
      "userId": "00413397560986881072"
     },
     "user_tz": -540
    },
    "id": "wDRv7ZPBZ8NZ",
    "outputId": "354b2238-e0db-4d44-8e30-143dc2b19bea"
   },
   "outputs": [
    {
     "name": "stdout",
     "output_type": "stream",
     "text": [
      "model의 recall 값은 0.980\n",
      "model의 2종 오류 확률 값은 0.020\n",
      "model의 Specificity 값은 0.997\n",
      "model의 1종 오류 확률 값은 0.003\n",
      "model의 precision 값은 0.980\n",
      "model의 f1_score 값은 0.980\n",
      "model의 G-mean 값은 0.988\n",
      "model의 accuracy 값은 0.980\n",
      " \n",
      "model의 recall 값은 0.943\n",
      "model의 2종 오류 확률 값은 0.057\n",
      "model의 Specificity 값은 0.973\n",
      "model의 1종 오류 확률 값은 0.027\n",
      "model의 precision 값은 0.943\n",
      "model의 f1_score 값은 0.943\n",
      "model의 G-mean 값은 0.958\n",
      "model의 accuracy 값은 0.943\n"
     ]
    }
   ],
   "source": [
    "print_all_reg(training_labels,train_preds)\n",
    "print(\" \")\n",
    "print_all_reg(validation_labels,preds)"
   ]
  }
 ],
 "metadata": {
  "colab": {
   "authorship_tag": "ABX9TyOTnE4KgI0elyKeEQnv91XV",
   "provenance": []
  },
  "kernelspec": {
   "display_name": "Python 3 (ipykernel)",
   "language": "python",
   "name": "python3"
  },
  "language_info": {
   "codemirror_mode": {
    "name": "ipython",
    "version": 3
   },
   "file_extension": ".py",
   "mimetype": "text/x-python",
   "name": "python",
   "nbconvert_exporter": "python",
   "pygments_lexer": "ipython3",
   "version": "3.10.10"
  }
 },
 "nbformat": 4,
 "nbformat_minor": 1
}
