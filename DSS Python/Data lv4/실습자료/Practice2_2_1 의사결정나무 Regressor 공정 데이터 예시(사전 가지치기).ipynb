{
 "cells": [
  {
   "cell_type": "markdown",
   "id": "868c983d",
   "metadata": {},
   "source": [
    "# 회귀나무(Decision Tree Regressor)"
   ]
  },
  {
   "cell_type": "markdown",
   "id": "d1b96cf9",
   "metadata": {},
   "source": [
    "- [회귀 나무](https://scikit-learn.org/stable/modules/tree.html#)\n",
    "  - 출력변수가 연속형일 때의 의사결정 나무\n",
    "  - 지니 불순도에 대응되는 개념으로 분산(Variance)을 사용하여 노드를 분할함\n",
    "  - 신규 데이터에 대한 예측은 끝 노드에 도달하고 해당 노드(영역)에 속하는 학습데이터들의 평균값으로 함\n",
    "  - 분할된 영역에 클래스 데이터가 최대한 많이 존재하도록 각 축으로 영역을 분할하여 생성\n"
   ]
  },
  {
   "cell_type": "markdown",
   "id": "00ddc742",
   "metadata": {},
   "source": [
    "- ![수식](img\\회귀나무.png)"
   ]
  },
  {
   "cell_type": "markdown",
   "id": "2ac2d223",
   "metadata": {},
   "source": [
    "### 1. 데이터 로드 및 전처리"
   ]
  },
  {
   "cell_type": "code",
   "execution_count": 2,
   "id": "d881ae50",
   "metadata": {},
   "outputs": [],
   "source": [
    "import numpy as np\n",
    "import pandas as pd\n",
    "from sklearn.linear_model import LinearRegression\n",
    "from sklearn.metrics import mean_squared_error, mean_absolute_error, r2_score\n",
    "from matplotlib import pyplot as plt\n",
    "from sklearn.model_selection import train_test_split\n",
    "from sklearn.linear_model import LogisticRegression\n",
    "from sklearn.metrics import mean_absolute_percentage_error\n",
    "import matplotlib\n",
    "#한글꺠짐 방지\n",
    "matplotlib.rcParams['font.family'] ='Malgun Gothic'\n",
    "matplotlib.rcParams['axes.unicode_minus'] =False"
   ]
  },
  {
   "cell_type": "code",
   "execution_count": 3,
   "id": "7a9865fb",
   "metadata": {},
   "outputs": [
    {
     "data": {
      "text/html": [
       "<div>\n",
       "<style scoped>\n",
       "    .dataframe tbody tr th:only-of-type {\n",
       "        vertical-align: middle;\n",
       "    }\n",
       "\n",
       "    .dataframe tbody tr th {\n",
       "        vertical-align: top;\n",
       "    }\n",
       "\n",
       "    .dataframe thead th {\n",
       "        text-align: right;\n",
       "    }\n",
       "</style>\n",
       "<table border=\"1\" class=\"dataframe\">\n",
       "  <thead>\n",
       "    <tr style=\"text-align: right;\">\n",
       "      <th></th>\n",
       "      <th>CHAMBER</th>\n",
       "      <th>TAE.STDDEV0</th>\n",
       "      <th>TAE.MEAN0</th>\n",
       "      <th>TAE.RANGE0</th>\n",
       "      <th>PC.STDDEV0</th>\n",
       "      <th>PC.MEAN0</th>\n",
       "      <th>PC.RANGE0</th>\n",
       "      <th>CROT.STDDEV0</th>\n",
       "      <th>CROT.MEAN0</th>\n",
       "      <th>CROT.RANGE0</th>\n",
       "      <th>...</th>\n",
       "      <th>PC.RANGE12</th>\n",
       "      <th>TAE.STDDEV9</th>\n",
       "      <th>TAE.MEAN9</th>\n",
       "      <th>TAE.RANGE9</th>\n",
       "      <th>CROT.STDDEV9</th>\n",
       "      <th>CROT.MEAN9</th>\n",
       "      <th>CROT.RANGE9</th>\n",
       "      <th>PC.STDDEV9</th>\n",
       "      <th>PC.MEAN9</th>\n",
       "      <th>PC.RANGE9</th>\n",
       "    </tr>\n",
       "  </thead>\n",
       "  <tbody>\n",
       "    <tr>\n",
       "      <th>0</th>\n",
       "      <td>4</td>\n",
       "      <td>0.044554</td>\n",
       "      <td>38.083127</td>\n",
       "      <td>0.254154</td>\n",
       "      <td>0.124753</td>\n",
       "      <td>0.044329</td>\n",
       "      <td>0.439883</td>\n",
       "      <td>0</td>\n",
       "      <td>35</td>\n",
       "      <td>0</td>\n",
       "      <td>...</td>\n",
       "      <td>17.350926</td>\n",
       "      <td>0.032832</td>\n",
       "      <td>35.011650</td>\n",
       "      <td>0.127077</td>\n",
       "      <td>0</td>\n",
       "      <td>35</td>\n",
       "      <td>0</td>\n",
       "      <td>0.405343</td>\n",
       "      <td>45.124841</td>\n",
       "      <td>3.079182</td>\n",
       "    </tr>\n",
       "    <tr>\n",
       "      <th>1</th>\n",
       "      <td>2</td>\n",
       "      <td>0.034801</td>\n",
       "      <td>38.052395</td>\n",
       "      <td>0.063538</td>\n",
       "      <td>0.177575</td>\n",
       "      <td>0.342131</td>\n",
       "      <td>0.439883</td>\n",
       "      <td>0</td>\n",
       "      <td>27</td>\n",
       "      <td>0</td>\n",
       "      <td>...</td>\n",
       "      <td>1.466280</td>\n",
       "      <td>0.020858</td>\n",
       "      <td>35.550245</td>\n",
       "      <td>0.063540</td>\n",
       "      <td>0</td>\n",
       "      <td>27</td>\n",
       "      <td>0</td>\n",
       "      <td>1.923012</td>\n",
       "      <td>45.350277</td>\n",
       "      <td>15.004887</td>\n",
       "    </tr>\n",
       "    <tr>\n",
       "      <th>2</th>\n",
       "      <td>3</td>\n",
       "      <td>0.030089</td>\n",
       "      <td>38.046407</td>\n",
       "      <td>0.127080</td>\n",
       "      <td>0.137559</td>\n",
       "      <td>0.063983</td>\n",
       "      <td>0.488759</td>\n",
       "      <td>0</td>\n",
       "      <td>15</td>\n",
       "      <td>0</td>\n",
       "      <td>...</td>\n",
       "      <td>13.098728</td>\n",
       "      <td>0.021635</td>\n",
       "      <td>36.013373</td>\n",
       "      <td>0.063538</td>\n",
       "      <td>0</td>\n",
       "      <td>15</td>\n",
       "      <td>0</td>\n",
       "      <td>0.161640</td>\n",
       "      <td>45.071393</td>\n",
       "      <td>0.977516</td>\n",
       "    </tr>\n",
       "  </tbody>\n",
       "</table>\n",
       "<p>3 rows × 136 columns</p>\n",
       "</div>"
      ],
      "text/plain": [
       "   CHAMBER  TAE.STDDEV0  TAE.MEAN0  TAE.RANGE0  PC.STDDEV0  PC.MEAN0  \\\n",
       "0        4     0.044554  38.083127    0.254154    0.124753  0.044329   \n",
       "1        2     0.034801  38.052395    0.063538    0.177575  0.342131   \n",
       "2        3     0.030089  38.046407    0.127080    0.137559  0.063983   \n",
       "\n",
       "   PC.RANGE0  CROT.STDDEV0  CROT.MEAN0  CROT.RANGE0  ...  PC.RANGE12  \\\n",
       "0   0.439883             0          35            0  ...   17.350926   \n",
       "1   0.439883             0          27            0  ...    1.466280   \n",
       "2   0.488759             0          15            0  ...   13.098728   \n",
       "\n",
       "   TAE.STDDEV9  TAE.MEAN9  TAE.RANGE9  CROT.STDDEV9  CROT.MEAN9  CROT.RANGE9  \\\n",
       "0     0.032832  35.011650    0.127077             0          35            0   \n",
       "1     0.020858  35.550245    0.063540             0          27            0   \n",
       "2     0.021635  36.013373    0.063538             0          15            0   \n",
       "\n",
       "   PC.STDDEV9   PC.MEAN9  PC.RANGE9  \n",
       "0    0.405343  45.124841   3.079182  \n",
       "1    1.923012  45.350277  15.004887  \n",
       "2    0.161640  45.071393   0.977516  \n",
       "\n",
       "[3 rows x 136 columns]"
      ]
     },
     "execution_count": 3,
     "metadata": {},
     "output_type": "execute_result"
    }
   ],
   "source": [
    "data=pd.read_csv(\"./data/Fault_data.csv\",encoding=\"EUC-KR\")\n",
    "data.drop([\"자재구분\",\"END_DATE_TIME\"],axis=1,inplace=True)\n",
    "data.dropna(axis=1,inplace=True)\n",
    "\n",
    "#X,Y 분할\n",
    "Y=data[\"Y\"].copy()\n",
    "X=data.drop(\"Y\",axis=1)\n",
    "X.head(3)"
   ]
  },
  {
   "cell_type": "markdown",
   "id": "b777446f",
   "metadata": {},
   "source": [
    "### 2. 평가 지표 함수"
   ]
  },
  {
   "cell_type": "code",
   "execution_count": 4,
   "id": "4edb4c2f",
   "metadata": {},
   "outputs": [],
   "source": [
    "# 평가 지표 출력 함수\n",
    "def print_all_reg(Y_test,pred):\n",
    "    print(\"model의 MSE 값은 {:.3f}\".format(mean_squared_error(Y_test,pred)))\n",
    "    print(\"model의 MAE 값은 {:.3f}\".format(mean_absolute_error(Y_test, pred)))\n",
    "    print(\"model의 MAPE 값은 {:.3f}\".format(mean_absolute_percentage_error(Y_test, pred)))\n",
    "    print(\"model의 r2 값은 {:.3f}\".format(r2_score(Y_test, pred)))"
   ]
  },
  {
   "cell_type": "markdown",
   "id": "5cab01cc",
   "metadata": {},
   "source": [
    "### 3. 모델 학습 및 예측"
   ]
  },
  {
   "cell_type": "markdown",
   "id": "d7919f9b",
   "metadata": {},
   "source": [
    "[[Documentation](https://scikit-learn.org/stable/modules/generated/sklearn.model_selection.train_test_split.html)]  \n",
    "**sklearn.model_selection.train_test_split**\n",
    "- **test_size** : float or int, default = 0.25, 정수값일시 test사이즈로 설정하고 싶은 샘플 수 입력\n",
    "- **train_size** : float or int, default = None\n",
    "- **random_state** : int, default = None, 랜덤 seed값 설정, 같은 seed 내에선 동일결과 추출 \n",
    "- **shuffle** : bool, default = True, 데이터셋 무작위 추출, 시계열 데이터와 같이 순차적 추출이 필요한 경우엔 Shuffle = False!\n",
    "- **stratify** : array-like, default = None, True일시 계층적 샘플링 진행 ([참고](https://www.investopedia.com/terms/stratified_random_sampling.asp))"
   ]
  },
  {
   "cell_type": "code",
   "execution_count": 5,
   "id": "16961553",
   "metadata": {},
   "outputs": [],
   "source": [
    "X_train, X_test, Y_train, Y_test = train_test_split(X, Y, test_size=0.3, random_state=3,shuffle =True)"
   ]
  },
  {
   "cell_type": "markdown",
   "id": "9f90b565",
   "metadata": {},
   "source": [
    "[[DecisionTreeRegressor](https://scikit-learn.org/stable/modules/generated/sklearn.tree.DecisionTreeRegressor.html)]  \n",
    "\n",
    "**사전 가지치기**   \n",
    ": 나무가 완성(Full Tree)되기 전에 특정조건을 만족하는 경우 알고리즘을 중단하는 방법. 하이퍼파라미터로 손쉽게 설정 가능\n",
    "      \n",
    "**주요 하이퍼파라미터**  \n",
    "- **criterion** : {“squared_error”, “friedman_mse”, “absolute_error”, “poisson”}, default=”squared_error”, 클래스 동질성을 측정하는 지표 설정, 기본값 MSE\n",
    "- **max_depth** : int, default = None, 트리의 최대깊이를 설정. 값이 클수록 모델의 복잡도가 올라간다.\n",
    "- **min_samples_split** : int or float, default = 2, 자식노드를 분할하는데 필요한 최소 샘플의 수\n",
    "- **min_samples_leaf** : leaf node에서 필요한 최소 샘풀수이며, 너무 적을 시 과적합 발생\n",
    "- **max_leaf_nodes** : int, default=None, 최대 leaf node 수 제한\n",
    "- **max_features** : int, float or {“auto”, “sqrt”, “log2”}, default=None, 각 노드를 분리할 때 사용 할 최대 속성 수"
   ]
  },
  {
   "cell_type": "code",
   "execution_count": 7,
   "id": "2899f4fa",
   "metadata": {},
   "outputs": [
    {
     "name": "stdout",
     "output_type": "stream",
     "text": [
      "BEST SCORE 3144.0509708270733\n",
      "BEST PARAMS {'max_depth': 6, 'max_leaf_nodes': 10, 'min_samples_leaf': 10, 'min_samples_split': 2}\n"
     ]
    }
   ],
   "source": [
    "from sklearn.tree import DecisionTreeRegressor\n",
    "from sklearn.model_selection import ParameterGrid\n",
    "# 원하는 파라미터 설정 (파라미터를 추가하려면 위의 함수에도 추가해줘야함.)\n",
    "params={\n",
    "    \"max_depth\":[4,6,8,10,12,14],\n",
    "    \"min_samples_leaf\" : [2, 4, 6,10],\n",
    "    \"min_samples_split\" : range(2,8,2),\n",
    "    \"max_leaf_nodes\": [5,10,15,20]\n",
    "}\n",
    "\n",
    "# ParameterGrid 통해서 모든 경우의 수 만들기 \n",
    "params_list = list(ParameterGrid(params)) # 6x4x3x4 = 총 288개의 경우의수를 담은 리스트 반환\n",
    "\n",
    "# grid search 진행\n",
    "score_list = []\n",
    "for params2 in params_list:\n",
    "    model_use = DecisionTreeRegressor(random_state = 0,max_depth = params2[\"max_depth\"],min_samples_leaf = params2[\"min_samples_leaf\"],\n",
    "                                   min_samples_split = params2[\"min_samples_split\"],max_leaf_nodes = params2[\"max_leaf_nodes\"]\n",
    "                                  )      \n",
    "    model_use.fit(X_train, Y_train)\n",
    "    valid_pred = model_use.predict(X_test)\n",
    "    tem = mean_squared_error(valid_pred,Y_test)\n",
    "    score_list.append(tem)\n",
    "\n",
    "# BEST SCORE 계산\n",
    "best_index= np.argmax(score_list)\n",
    "print(\"BEST SCORE\", score_list[best_index])\n",
    "print(\"BEST PARAMS\", params_list[best_index])"
   ]
  },
  {
   "cell_type": "code",
   "execution_count": 8,
   "id": "e3ac0cb9",
   "metadata": {
    "scrolled": true
   },
   "outputs": [
    {
     "name": "stdout",
     "output_type": "stream",
     "text": [
      "3144.0509708270733\n",
      "Train 데이터 성능\n",
      "model의 MSE 값은 1891.915\n",
      "model의 MAE 값은 26.063\n",
      "model의 MAPE 값은 0.495\n",
      "model의 r2 값은 0.485\n",
      " \n",
      "TEST 데이터 성능\n",
      "model의 MSE 값은 3144.051\n",
      "model의 MAE 값은 35.296\n",
      "model의 MAPE 값은 0.929\n",
      "model의 r2 값은 0.334\n"
     ]
    }
   ],
   "source": [
    "# best case의 하이퍼파라미터로 의사결정나무 학습\n",
    "\n",
    "model_use = DecisionTreeRegressor(random_state = 0,max_depth = params_list[best_index][\"max_depth\"],min_samples_leaf = params_list[best_index][\"min_samples_leaf\"],\n",
    "                                   min_samples_split = params_list[best_index][\"min_samples_split\"],max_leaf_nodes = params_list[best_index][\"max_leaf_nodes\"]\n",
    "                                  )      \n",
    "model_use.fit(X_train, Y_train)\n",
    "pred_train = model_use.predict(X_train)\n",
    "pred_test = model_use.predict(X_test)\n",
    "tem = mean_squared_error(Y_test,pred_test)\n",
    "print(tem)\n",
    "\n",
    "#출력\n",
    "print(\"Train 데이터 성능\")\n",
    "print_all_reg(Y_train,pred_train)\n",
    "print(\" \")\n",
    "print(\"TEST 데이터 성능\")\n",
    "print_all_reg(Y_test,pred_test)\n"
   ]
  }
 ],
 "metadata": {
  "kernelspec": {
   "display_name": "Python 3 (ipykernel)",
   "language": "python",
   "name": "python3"
  },
  "language_info": {
   "codemirror_mode": {
    "name": "ipython",
    "version": 3
   },
   "file_extension": ".py",
   "mimetype": "text/x-python",
   "name": "python",
   "nbconvert_exporter": "python",
   "pygments_lexer": "ipython3",
   "version": "3.9.13"
  },
  "vscode": {
   "interpreter": {
    "hash": "7e81d91ba51e1bf9900dd7d036cbe3d31d033e3ae1051184964e8f8743fed6bf"
   }
  }
 },
 "nbformat": 4,
 "nbformat_minor": 5
}
