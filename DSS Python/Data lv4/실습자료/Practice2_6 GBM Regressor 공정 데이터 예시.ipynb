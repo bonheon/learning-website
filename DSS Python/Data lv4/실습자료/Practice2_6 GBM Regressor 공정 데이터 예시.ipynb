{
 "cells": [
  {
   "cell_type": "markdown",
   "id": "59310939",
   "metadata": {},
   "source": [
    "# Gradient Boosting Machine(GBM)"
   ]
  },
  {
   "cell_type": "markdown",
   "id": "a5837f62",
   "metadata": {},
   "source": [
    "## GBM 회귀모델\n",
    "- GBM은 𝑚라운드의 베이스 모델 $ℎ_𝑚$ 이 $(m-1)$라운드까지의 베이스 모델을 결합한 $𝐻𝑚−1=ℎ_1+⋯+ℎ_{𝑚−1}$의 예측 오류를 학습하는 알고리즘\n",
    "- 즉, 이전 결합 모델 $H_{m-1}$의 예측 오류는 예측 불가능한 랜덤 노이즈가 아닌 아직까지 학습 못한 특징이라고 가정함\n",
    "- 베이스모델로는 의사결정나무 알고리즘인 **CART**를 주로 사용\n",
    "- $h_0$는 초기값으로 일반적으로 회귀문제에서 출력변수의 평균을 사용함. 실질적으로 $h_1$ 부터 베이스 모델을 학습시킴\n",
    "\n",
    "![](img\\gbm회귀.png)"
   ]
  },
  {
   "cell_type": "markdown",
   "id": "2ac2d223",
   "metadata": {},
   "source": [
    "### 1. 데이터 로드 및 전처리"
   ]
  },
  {
   "cell_type": "code",
   "execution_count": 1,
   "id": "d881ae50",
   "metadata": {},
   "outputs": [],
   "source": [
    "import numpy as np\n",
    "import pandas as pd\n",
    "from sklearn.linear_model import LinearRegression\n",
    "from sklearn.metrics import mean_squared_error, mean_absolute_error, r2_score\n",
    "from matplotlib import pyplot as plt\n",
    "from sklearn.model_selection import train_test_split\n",
    "from sklearn.linear_model import LogisticRegression\n",
    "from sklearn.metrics import mean_absolute_percentage_error\n",
    "import matplotlib\n",
    "#한글꺠짐 방지\n",
    "matplotlib.rcParams['font.family'] ='Malgun Gothic'\n",
    "matplotlib.rcParams['axes.unicode_minus'] =False"
   ]
  },
  {
   "cell_type": "code",
   "execution_count": 2,
   "id": "7a9865fb",
   "metadata": {},
   "outputs": [
    {
     "data": {
      "text/html": [
       "<div>\n",
       "<style scoped>\n",
       "    .dataframe tbody tr th:only-of-type {\n",
       "        vertical-align: middle;\n",
       "    }\n",
       "\n",
       "    .dataframe tbody tr th {\n",
       "        vertical-align: top;\n",
       "    }\n",
       "\n",
       "    .dataframe thead th {\n",
       "        text-align: right;\n",
       "    }\n",
       "</style>\n",
       "<table border=\"1\" class=\"dataframe\">\n",
       "  <thead>\n",
       "    <tr style=\"text-align: right;\">\n",
       "      <th></th>\n",
       "      <th>CHAMBER</th>\n",
       "      <th>TAE.STDDEV0</th>\n",
       "      <th>TAE.MEAN0</th>\n",
       "      <th>TAE.RANGE0</th>\n",
       "      <th>PC.STDDEV0</th>\n",
       "      <th>PC.MEAN0</th>\n",
       "      <th>PC.RANGE0</th>\n",
       "      <th>CROT.STDDEV0</th>\n",
       "      <th>CROT.MEAN0</th>\n",
       "      <th>CROT.RANGE0</th>\n",
       "      <th>...</th>\n",
       "      <th>PC.RANGE12</th>\n",
       "      <th>TAE.STDDEV9</th>\n",
       "      <th>TAE.MEAN9</th>\n",
       "      <th>TAE.RANGE9</th>\n",
       "      <th>CROT.STDDEV9</th>\n",
       "      <th>CROT.MEAN9</th>\n",
       "      <th>CROT.RANGE9</th>\n",
       "      <th>PC.STDDEV9</th>\n",
       "      <th>PC.MEAN9</th>\n",
       "      <th>PC.RANGE9</th>\n",
       "    </tr>\n",
       "  </thead>\n",
       "  <tbody>\n",
       "    <tr>\n",
       "      <th>0</th>\n",
       "      <td>4</td>\n",
       "      <td>0.044554</td>\n",
       "      <td>38.083127</td>\n",
       "      <td>0.254154</td>\n",
       "      <td>0.124753</td>\n",
       "      <td>0.044329</td>\n",
       "      <td>0.439883</td>\n",
       "      <td>0</td>\n",
       "      <td>35</td>\n",
       "      <td>0</td>\n",
       "      <td>...</td>\n",
       "      <td>17.350926</td>\n",
       "      <td>0.032832</td>\n",
       "      <td>35.011650</td>\n",
       "      <td>0.127077</td>\n",
       "      <td>0</td>\n",
       "      <td>35</td>\n",
       "      <td>0</td>\n",
       "      <td>0.405343</td>\n",
       "      <td>45.124841</td>\n",
       "      <td>3.079182</td>\n",
       "    </tr>\n",
       "    <tr>\n",
       "      <th>1</th>\n",
       "      <td>2</td>\n",
       "      <td>0.034801</td>\n",
       "      <td>38.052395</td>\n",
       "      <td>0.063538</td>\n",
       "      <td>0.177575</td>\n",
       "      <td>0.342131</td>\n",
       "      <td>0.439883</td>\n",
       "      <td>0</td>\n",
       "      <td>27</td>\n",
       "      <td>0</td>\n",
       "      <td>...</td>\n",
       "      <td>1.466280</td>\n",
       "      <td>0.020858</td>\n",
       "      <td>35.550245</td>\n",
       "      <td>0.063540</td>\n",
       "      <td>0</td>\n",
       "      <td>27</td>\n",
       "      <td>0</td>\n",
       "      <td>1.923012</td>\n",
       "      <td>45.350277</td>\n",
       "      <td>15.004887</td>\n",
       "    </tr>\n",
       "    <tr>\n",
       "      <th>2</th>\n",
       "      <td>3</td>\n",
       "      <td>0.030089</td>\n",
       "      <td>38.046407</td>\n",
       "      <td>0.127080</td>\n",
       "      <td>0.137559</td>\n",
       "      <td>0.063983</td>\n",
       "      <td>0.488759</td>\n",
       "      <td>0</td>\n",
       "      <td>15</td>\n",
       "      <td>0</td>\n",
       "      <td>...</td>\n",
       "      <td>13.098728</td>\n",
       "      <td>0.021635</td>\n",
       "      <td>36.013373</td>\n",
       "      <td>0.063538</td>\n",
       "      <td>0</td>\n",
       "      <td>15</td>\n",
       "      <td>0</td>\n",
       "      <td>0.161640</td>\n",
       "      <td>45.071393</td>\n",
       "      <td>0.977516</td>\n",
       "    </tr>\n",
       "  </tbody>\n",
       "</table>\n",
       "<p>3 rows × 136 columns</p>\n",
       "</div>"
      ],
      "text/plain": [
       "   CHAMBER  TAE.STDDEV0  TAE.MEAN0  TAE.RANGE0  PC.STDDEV0  PC.MEAN0  \\\n",
       "0        4     0.044554  38.083127    0.254154    0.124753  0.044329   \n",
       "1        2     0.034801  38.052395    0.063538    0.177575  0.342131   \n",
       "2        3     0.030089  38.046407    0.127080    0.137559  0.063983   \n",
       "\n",
       "   PC.RANGE0  CROT.STDDEV0  CROT.MEAN0  CROT.RANGE0  ...  PC.RANGE12  \\\n",
       "0   0.439883             0          35            0  ...   17.350926   \n",
       "1   0.439883             0          27            0  ...    1.466280   \n",
       "2   0.488759             0          15            0  ...   13.098728   \n",
       "\n",
       "   TAE.STDDEV9  TAE.MEAN9  TAE.RANGE9  CROT.STDDEV9  CROT.MEAN9  CROT.RANGE9  \\\n",
       "0     0.032832  35.011650    0.127077             0          35            0   \n",
       "1     0.020858  35.550245    0.063540             0          27            0   \n",
       "2     0.021635  36.013373    0.063538             0          15            0   \n",
       "\n",
       "   PC.STDDEV9   PC.MEAN9  PC.RANGE9  \n",
       "0    0.405343  45.124841   3.079182  \n",
       "1    1.923012  45.350277  15.004887  \n",
       "2    0.161640  45.071393   0.977516  \n",
       "\n",
       "[3 rows x 136 columns]"
      ]
     },
     "execution_count": 2,
     "metadata": {},
     "output_type": "execute_result"
    }
   ],
   "source": [
    "data=pd.read_csv(\"./data/Fault_data.csv\",encoding=\"EUC-KR\")\n",
    "data.drop([\"자재구분\",\"END_DATE_TIME\"],axis=1,inplace=True)\n",
    "data.dropna(axis=1,inplace=True)\n",
    "\n",
    "#X,Y 분할\n",
    "Y=data[\"Y\"].copy()\n",
    "X=data.drop(\"Y\",axis=1)\n",
    "X.head(3)"
   ]
  },
  {
   "cell_type": "markdown",
   "id": "b777446f",
   "metadata": {},
   "source": [
    "### 2. 평가 지표 함수"
   ]
  },
  {
   "cell_type": "code",
   "execution_count": 4,
   "id": "4edb4c2f",
   "metadata": {},
   "outputs": [],
   "source": [
    "# 평가 지표 출력 함수\n",
    "def print_all_reg(Y_test,pred):\n",
    "    print(\"model의 MSE 값은 {:.3f}\".format(mean_squared_error(Y_test,pred)))\n",
    "    print(\"model의 MAE 값은 {:.3f}\".format(mean_absolute_error(Y_test, pred)))\n",
    "    print(\"model의 MAPE 값은 {:.3f}\".format(mean_absolute_percentage_error(Y_test, pred)))\n",
    "    print(\"model의 r2 값은 {:.3f}\".format(r2_score(Y_test, pred)))"
   ]
  },
  {
   "cell_type": "markdown",
   "id": "5cab01cc",
   "metadata": {},
   "source": [
    "### 3. 모델 학습 및 예측"
   ]
  },
  {
   "cell_type": "code",
   "execution_count": 5,
   "id": "16961553",
   "metadata": {},
   "outputs": [],
   "source": [
    "from sklearn.ensemble import GradientBoostingRegressor\n",
    "X_train, X_test, Y_train, Y_test = train_test_split(X, Y, test_size=0.2, random_state=5,shuffle =True)"
   ]
  },
  {
   "cell_type": "markdown",
   "id": "3be45858",
   "metadata": {},
   "source": [
    "[[Documentation](https://scikit-learn.org/stable/modules/generated/sklearn.model_selection.train_test_split.html)]  \n",
    "**sklearn.model_selection.train_test_split**\n",
    "- **test_size** : float or int, default = 0.25, 정수값일시 test사이즈로 설정하고 싶은 샘플 수 입력\n",
    "- **train_size** : float or int, default = None\n",
    "- **random_state** : int, default = None, 랜덤 seed값 설정, 같은 seed 내에선 동일결과 추출 \n",
    "- **shuffle** : bool, default = True, 데이터셋 무작위 추출, 시계열 데이터와 같이 순차적 추출이 필요한 경우엔 Shuffle = False!\n",
    "- **stratify** : array-like, default = None, True일시 계층적 샘플링 진행 ([참고](https://www.investopedia.com/terms/stratified_random_sampling.asp))"
   ]
  },
  {
   "cell_type": "markdown",
   "id": "36be7abd",
   "metadata": {},
   "source": [
    "[[GradientBoostingRegressor](https://scikit-learn.org/stable/modules/generated/sklearn.ensemble.GradientBoostingRegressor.html)]         \n",
    "**주요 하이퍼파라미터** \n",
    "- **loss** : {‘squared_error’, ‘absolute_error’, ‘huber’, ‘quantile’}, default=’squared_error’, 경사하강법을 활용한 예측오류 학습과정에서 사용할 손실함수 \n",
    "- **learning_rate** : float, default=0.1, 학습률 설정\n",
    "    - 너무 작을시 : 예측성능은 높아질 수 있으나, 학습시간이 오래걸리고 local minima 문제가 발생 할 수 있음. 베이스 모델의 영향력이 과도하게 수축되어 과소적합\n",
    "    - 너무 클 시 : 학습속도가 빠르지만 global mimimum값을 찾지 못할 수 있으며, 베이스 모델 영향력이 과도하게 커져 과적합이 나타남.\n",
    "- **n_estimators** : int, default=100, 베이스모델의 개수로 많을수록 예측성능은 높아질 수 있으나 학습시간이 오래걸린다.\n",
    "- **max_depth** : int, default = 3, 각 트리의 최대깊이를 설정. 값이 클수록 모델의 복잡도가 올라간다.\n",
    "- **min_samples_split** : int or float, default = 2, 자식노드를 분할하는데 필요한 최소 샘플의 수\n",
    "- **min_samples_leaf** : int or float, default = 1, leaf node에서 필요한 최소 샘풀수이며, 너무 적을 시 과적합 발생\n",
    "- **max_leaf_nodes** : int, default=None, 최대 leaf node 수 제한\n",
    "- **validation_fraction** : float, default=0.1, 훈련데이터 중 설정 비율만큼 검증용 데이터셋으로 활용한다. \n",
    "- **n_iter_no_change** : int, default=None, validation_fraction에서 설정한 검증데이터셋에서 n_iter_no_change에 지정한 반복 횟수동안 검증점수가 좋아지지 않으면 학습을 조기종료한다.\n",
    "- **ccp_alpha** : non-negative float, default=0.0"
   ]
  },
  {
   "cell_type": "code",
   "execution_count": 12,
   "id": "2899f4fa",
   "metadata": {},
   "outputs": [
    {
     "name": "stdout",
     "output_type": "stream",
     "text": [
      "0.002\n",
      "model의 MSE 값은 1390.370\n",
      "model의 MAE 값은 28.010\n",
      "model의 MAPE 값은 0.385\n",
      "model의 r2 값은 -0.086\n",
      "\n",
      "model의 MSE 값은 1007.474\n",
      "model의 MAE 값은 26.093\n",
      "model의 MAPE 값은 0.390\n",
      "model의 r2 값은 0.082\n",
      "0.01\n",
      "model의 MSE 값은 807.393\n",
      "model의 MAE 값은 19.946\n",
      "model의 MAPE 값은 0.310\n",
      "model의 r2 값은 0.667\n",
      "\n",
      "model의 MSE 값은 1062.268\n",
      "model의 MAE 값은 24.389\n",
      "model의 MAPE 값은 0.374\n",
      "model의 r2 값은 0.457\n",
      "0.8\n",
      "model의 MSE 값은 862.699\n",
      "model의 MAE 값은 17.451\n",
      "model의 MAPE 값은 0.307\n",
      "model의 r2 값은 0.774\n",
      "\n",
      "model의 MSE 값은 2636.273\n",
      "model의 MAE 값은 32.912\n",
      "model의 MAPE 값은 0.474\n",
      "model의 r2 값은 0.370\n"
     ]
    }
   ],
   "source": [
    "from sklearn.tree import DecisionTreeRegressor\n",
    "#ccp_alpha_list = list(np.arange(0.1,1,0.1)) # 0.1부터 0.9까지 0.1 간격으로 출력한 값을 리스트로 반환\n",
    "ccp_alpha_list = [0.002,0.01,0.8]\n",
    "\n",
    "train_scores =[]\n",
    "test_scores =[]\n",
    "for alpha in ccp_alpha_list: # 사전 정의한 리스트의 각 값마다 모델을 학습하여 최적값 도출\n",
    "    print(alpha)\n",
    "    clf = GradientBoostingRegressor(random_state=5,n_estimators = 500,learning_rate = alpha\n",
    "                                    #,min_samples_leaf = 2,min_samples_split = 2\n",
    "                                    ,validation_fraction = 0.2, n_iter_no_change = 20,\n",
    "                                    ccp_alpha = 50\n",
    "                                   ) # ccp_alpha 값보다 작으면서 비용복잡도가 가장 큰 Subtree로 GBM모델 학습\n",
    "    clf.fit(X_train,Y_train) # 정의한 GBM 모델로 훈련데이터 학습\n",
    "    \n",
    "    preds_train = clf.predict(X_train) # 훈련데이터로 학습한 모델로 y값 예측\n",
    "    preds = clf.predict(X_test) # 실제 테스트 데이터로 y값 예측\n",
    "    \n",
    "    train_scores.append(mean_absolute_error(Y_train,preds_train)) # 훈련 성능 평가\n",
    "    test_scores.append(mean_absolute_error(Y_test,preds)) # 테스트 성능 평가\n",
    "    \n",
    "    print_all_reg(preds_train,Y_train) # 평가지표 출력\n",
    "    print(\"\")\n",
    "    print_all_reg(preds,Y_test)"
   ]
  },
  {
   "cell_type": "code",
   "execution_count": 11,
   "id": "e3ac0cb9",
   "metadata": {},
   "outputs": [
    {
     "data": {
      "image/png": "[encoded data removed]",
      "text/plain": [
       "<Figure size 432x288 with 1 Axes>"
      ]
     },
     "metadata": {
      "needs_background": "light"
     },
     "output_type": "display_data"
    }
   ],
   "source": [
    "fig, ax = plt.subplots()\n",
    "ax.set_xlabel(\"Learning Rate\")\n",
    "ax.set_ylabel(\"Mean absolute error\")\n",
    "#ax.set_title(\"나무 복잡도 증가에 따른 오분류율 그래프\")\n",
    "ax.plot(ccp_alpha_list, train_scores,  label=\"train data\", drawstyle=\"steps-post\")\n",
    "ax.plot(ccp_alpha_list, test_scores,  label=\"test data\", drawstyle=\"steps-post\")\n",
    "\n",
    "#ax.plot(ccp_alpha_list, train_scores, drawstyle=\"steps-post\")\n",
    "#ax.plot(ccp_alpha_list, test_scores, drawstyle=\"steps-post\")\n",
    "\n",
    "ax.legend()\n",
    "#plt.xlim(0.7)\n",
    "plt.show()\n",
    "plt.close('all')"
   ]
  }
 ],
 "metadata": {
  "kernelspec": {
   "display_name": "Python 3 (ipykernel)",
   "language": "python",
   "name": "python3"
  },
  "language_info": {
   "codemirror_mode": {
    "name": "ipython",
    "version": 3
   },
   "file_extension": ".py",
   "mimetype": "text/x-python",
   "name": "python",
   "nbconvert_exporter": "python",
   "pygments_lexer": "ipython3",
   "version": "3.9.13"
  },
  "vscode": {
   "interpreter": {
    "hash": "7e81d91ba51e1bf9900dd7d036cbe3d31d033e3ae1051184964e8f8743fed6bf"
   }
  }
 },
 "nbformat": 4,
 "nbformat_minor": 5
}
