{
 "cells": [
  {
   "cell_type": "markdown",
   "id": "930021bc",
   "metadata": {},
   "source": [
    "### 1. 데이터 로드 및 전처리"
   ]
  },
  {
   "cell_type": "code",
   "execution_count": 1,
   "id": "d71d4867",
   "metadata": {},
   "outputs": [],
   "source": [
    "import numpy as np\n",
    "import pandas as pd\n",
    "from sklearn.linear_model import LinearRegression\n",
    "from sklearn.metrics import mean_squared_error, mean_absolute_error, r2_score\n",
    "from matplotlib import pyplot as plt\n",
    "from sklearn.model_selection import train_test_split"
   ]
  },
  {
   "cell_type": "code",
   "execution_count": 2,
   "id": "181e77dd",
   "metadata": {},
   "outputs": [],
   "source": [
    "data = pd.read_csv(\"./data/Fault_data.csv\",encoding=\"EUC-KR\")\n",
    "data.drop([\"자재구분\",\"END_DATE_TIME\"],axis=1,inplace=True)\n",
    "data.dropna(axis=1,inplace=True)"
   ]
  },
  {
   "cell_type": "code",
   "execution_count": 3,
   "id": "572a697f",
   "metadata": {},
   "outputs": [
    {
     "name": "stdout",
     "output_type": "stream",
     "text": [
      "==== 수치 변화가 아예 없는 변수 제거 ====\n",
      "CROT.STDDEV0\n",
      "CROT.RANGE0\n",
      "CROT.STDDEV1\n",
      "CROT.RANGE1\n",
      "CROT.STDDEV13\n",
      "CROT.RANGE13\n",
      "CROT.STDDEV5\n",
      "CROT.RANGE5\n",
      "CROT.STDDEV11\n",
      "CROT.RANGE11\n",
      "CROT.STDDEV10\n",
      "CROT.RANGE10\n",
      "CROT.STDDEV7\n",
      "CROT.RANGE7\n",
      "CROT.STDDEV14\n",
      "CROT.RANGE14\n",
      "CROT.STDDEV12\n",
      "CROT.RANGE12\n",
      "CROT.STDDEV9\n",
      "CROT.RANGE9\n"
     ]
    }
   ],
   "source": [
    "print(\"==== 수치 변화가 아예 없는 변수 제거 ====\")\n",
    "for i in data.columns:\n",
    "    if len(data[i].unique())==1:\n",
    "        data = data.drop([i],axis=1)\n",
    "        print(i)"
   ]
  },
  {
   "cell_type": "code",
   "execution_count": 4,
   "id": "5f4009f0",
   "metadata": {},
   "outputs": [
    {
     "data": {
      "text/html": [
       "<div>\n",
       "<style scoped>\n",
       "    .dataframe tbody tr th:only-of-type {\n",
       "        vertical-align: middle;\n",
       "    }\n",
       "\n",
       "    .dataframe tbody tr th {\n",
       "        vertical-align: top;\n",
       "    }\n",
       "\n",
       "    .dataframe thead th {\n",
       "        text-align: right;\n",
       "    }\n",
       "</style>\n",
       "<table border=\"1\" class=\"dataframe\">\n",
       "  <thead>\n",
       "    <tr style=\"text-align: right;\">\n",
       "      <th></th>\n",
       "      <th>CHAMBER</th>\n",
       "      <th>TAE.STDDEV0</th>\n",
       "      <th>TAE.MEAN0</th>\n",
       "      <th>TAE.RANGE0</th>\n",
       "      <th>PC.STDDEV0</th>\n",
       "      <th>PC.MEAN0</th>\n",
       "      <th>PC.RANGE0</th>\n",
       "      <th>CROT.MEAN0</th>\n",
       "      <th>TAE.STDDEV1</th>\n",
       "      <th>TAE.MEAN1</th>\n",
       "      <th>...</th>\n",
       "      <th>PC.STDDEV12</th>\n",
       "      <th>PC.MEAN12</th>\n",
       "      <th>PC.RANGE12</th>\n",
       "      <th>TAE.STDDEV9</th>\n",
       "      <th>TAE.MEAN9</th>\n",
       "      <th>TAE.RANGE9</th>\n",
       "      <th>CROT.MEAN9</th>\n",
       "      <th>PC.STDDEV9</th>\n",
       "      <th>PC.MEAN9</th>\n",
       "      <th>PC.RANGE9</th>\n",
       "    </tr>\n",
       "  </thead>\n",
       "  <tbody>\n",
       "    <tr>\n",
       "      <th>0</th>\n",
       "      <td>4</td>\n",
       "      <td>0.044554</td>\n",
       "      <td>38.083127</td>\n",
       "      <td>0.254154</td>\n",
       "      <td>0.124753</td>\n",
       "      <td>0.044329</td>\n",
       "      <td>0.439883</td>\n",
       "      <td>35</td>\n",
       "      <td>0.121240</td>\n",
       "      <td>38.055619</td>\n",
       "      <td>...</td>\n",
       "      <td>3.821034</td>\n",
       "      <td>57.645580</td>\n",
       "      <td>17.350926</td>\n",
       "      <td>0.032832</td>\n",
       "      <td>35.011650</td>\n",
       "      <td>0.127077</td>\n",
       "      <td>35</td>\n",
       "      <td>0.405343</td>\n",
       "      <td>45.124841</td>\n",
       "      <td>3.079182</td>\n",
       "    </tr>\n",
       "    <tr>\n",
       "      <th>1</th>\n",
       "      <td>2</td>\n",
       "      <td>0.034801</td>\n",
       "      <td>38.052395</td>\n",
       "      <td>0.063538</td>\n",
       "      <td>0.177575</td>\n",
       "      <td>0.342131</td>\n",
       "      <td>0.439883</td>\n",
       "      <td>27</td>\n",
       "      <td>0.115462</td>\n",
       "      <td>38.016088</td>\n",
       "      <td>...</td>\n",
       "      <td>0.303504</td>\n",
       "      <td>56.613882</td>\n",
       "      <td>1.466280</td>\n",
       "      <td>0.020858</td>\n",
       "      <td>35.550245</td>\n",
       "      <td>0.063540</td>\n",
       "      <td>27</td>\n",
       "      <td>1.923012</td>\n",
       "      <td>45.350277</td>\n",
       "      <td>15.004887</td>\n",
       "    </tr>\n",
       "    <tr>\n",
       "      <th>2</th>\n",
       "      <td>3</td>\n",
       "      <td>0.030089</td>\n",
       "      <td>38.046407</td>\n",
       "      <td>0.127080</td>\n",
       "      <td>0.137559</td>\n",
       "      <td>0.063983</td>\n",
       "      <td>0.488759</td>\n",
       "      <td>15</td>\n",
       "      <td>0.119149</td>\n",
       "      <td>38.029244</td>\n",
       "      <td>...</td>\n",
       "      <td>2.845739</td>\n",
       "      <td>57.296468</td>\n",
       "      <td>13.098728</td>\n",
       "      <td>0.021635</td>\n",
       "      <td>36.013373</td>\n",
       "      <td>0.063538</td>\n",
       "      <td>15</td>\n",
       "      <td>0.161640</td>\n",
       "      <td>45.071393</td>\n",
       "      <td>0.977516</td>\n",
       "    </tr>\n",
       "  </tbody>\n",
       "</table>\n",
       "<p>3 rows × 116 columns</p>\n",
       "</div>"
      ],
      "text/plain": [
       "   CHAMBER  TAE.STDDEV0  TAE.MEAN0  TAE.RANGE0  PC.STDDEV0  PC.MEAN0  \\\n",
       "0        4     0.044554  38.083127    0.254154    0.124753  0.044329   \n",
       "1        2     0.034801  38.052395    0.063538    0.177575  0.342131   \n",
       "2        3     0.030089  38.046407    0.127080    0.137559  0.063983   \n",
       "\n",
       "   PC.RANGE0  CROT.MEAN0  TAE.STDDEV1  TAE.MEAN1  ...  PC.STDDEV12  PC.MEAN12  \\\n",
       "0   0.439883          35     0.121240  38.055619  ...     3.821034  57.645580   \n",
       "1   0.439883          27     0.115462  38.016088  ...     0.303504  56.613882   \n",
       "2   0.488759          15     0.119149  38.029244  ...     2.845739  57.296468   \n",
       "\n",
       "   PC.RANGE12  TAE.STDDEV9  TAE.MEAN9  TAE.RANGE9  CROT.MEAN9  PC.STDDEV9  \\\n",
       "0   17.350926     0.032832  35.011650    0.127077          35    0.405343   \n",
       "1    1.466280     0.020858  35.550245    0.063540          27    1.923012   \n",
       "2   13.098728     0.021635  36.013373    0.063538          15    0.161640   \n",
       "\n",
       "    PC.MEAN9  PC.RANGE9  \n",
       "0  45.124841   3.079182  \n",
       "1  45.350277  15.004887  \n",
       "2  45.071393   0.977516  \n",
       "\n",
       "[3 rows x 116 columns]"
      ]
     },
     "execution_count": 4,
     "metadata": {},
     "output_type": "execute_result"
    }
   ],
   "source": [
    "#X,Y 분할\n",
    "Y = data[\"Y\"].copy()\n",
    "X = data.drop(\"Y\",axis=1)\n",
    "X.head(3)"
   ]
  },
  {
   "cell_type": "code",
   "execution_count": 5,
   "id": "625a35cb",
   "metadata": {},
   "outputs": [
    {
     "data": {
      "text/plain": [
       "Index(['CHAMBER', 'TAE.STDDEV0', 'TAE.MEAN0', 'TAE.RANGE0', 'PC.STDDEV0',\n",
       "       'PC.MEAN0', 'PC.RANGE0', 'CROT.MEAN0', 'TAE.STDDEV1', 'TAE.MEAN1',\n",
       "       ...\n",
       "       'PC.STDDEV12', 'PC.MEAN12', 'PC.RANGE12', 'TAE.STDDEV9', 'TAE.MEAN9',\n",
       "       'TAE.RANGE9', 'CROT.MEAN9', 'PC.STDDEV9', 'PC.MEAN9', 'PC.RANGE9'],\n",
       "      dtype='object', length=116)"
      ]
     },
     "execution_count": 5,
     "metadata": {},
     "output_type": "execute_result"
    }
   ],
   "source": [
    "X_train, X_test, Y_train, Y_test = train_test_split(X, Y, test_size=0.3, random_state=20230629)\n",
    "X_train.columns"
   ]
  },
  {
   "cell_type": "markdown",
   "id": "bc0f1ec0",
   "metadata": {},
   "source": [
    "### 2. 상관계수를 통한 다중공선성 확인"
   ]
  },
  {
   "cell_type": "code",
   "execution_count": 6,
   "id": "d00150b7",
   "metadata": {},
   "outputs": [
    {
     "data": {
      "image/png": "[encoded data removed]",
      "text/plain": [
       "<Figure size 432x288 with 2 Axes>"
      ]
     },
     "metadata": {
      "needs_background": "light"
     },
     "output_type": "display_data"
    }
   ],
   "source": [
    "import seaborn as sns\n",
    "from matplotlib import pyplot as plt\n",
    "sns.heatmap(abs(X.corr()),cmap ='Reds')\n",
    "plt.show()"
   ]
  },
  {
   "cell_type": "code",
   "execution_count": 7,
   "id": "bc490e31",
   "metadata": {},
   "outputs": [],
   "source": [
    "def print_all_reg(Y_test,pred):\n",
    "    print(\"model의 MSE 값은 {:.3f}\".format(mean_squared_error(Y_test,pred)))\n",
    "    print(\"model의 MAE 값은 {:.3f}\".format(mean_absolute_error(Y_test, pred)))\n",
    "    print(\"model의 r2 값은 {:.3f}\".format(r2_score(Y_test, pred)))"
   ]
  },
  {
   "cell_type": "code",
   "execution_count": 8,
   "id": "00449310",
   "metadata": {},
   "outputs": [
    {
     "name": "stdout",
     "output_type": "stream",
     "text": [
      "model의 MSE 값은 197038.144\n",
      "model의 MAE 값은 238.459\n",
      "model의 r2 값은 -59.909\n"
     ]
    }
   ],
   "source": [
    "#성능 확인\n",
    "LM_model = LinearRegression()\n",
    "LM_model.fit(X_train, Y_train)\n",
    "pred = LM_model.predict(X_test)\n",
    "print_all_reg(Y_test, pred)"
   ]
  },
  {
   "cell_type": "markdown",
   "id": "6227216a",
   "metadata": {},
   "source": [
    "### 3. MRMR 적용 및 다중공선성 확인\n",
    "- !pip install -U pymrmr"
   ]
  },
  {
   "cell_type": "code",
   "execution_count": 9,
   "id": "da4bd4f6",
   "metadata": {},
   "outputs": [],
   "source": [
    "import pymrmr"
   ]
  },
  {
   "cell_type": "code",
   "execution_count": 10,
   "id": "ce6288f4",
   "metadata": {},
   "outputs": [
    {
     "data": {
      "text/plain": [
       "Index(['CHAMBER', 'TAE.STDDEV0', 'TAE.MEAN0', 'TAE.RANGE0', 'PC.STDDEV0',\n",
       "       'PC.MEAN0', 'PC.RANGE0', 'CROT.MEAN0', 'TAE.STDDEV1', 'TAE.MEAN1',\n",
       "       ...\n",
       "       'PC.STDDEV12', 'PC.MEAN12', 'PC.RANGE12', 'TAE.STDDEV9', 'TAE.MEAN9',\n",
       "       'TAE.RANGE9', 'CROT.MEAN9', 'PC.STDDEV9', 'PC.MEAN9', 'PC.RANGE9'],\n",
       "      dtype='object', length=116)"
      ]
     },
     "execution_count": 10,
     "metadata": {},
     "output_type": "execute_result"
    }
   ],
   "source": [
    "X_train, X_test, Y_train, Y_test = train_test_split(X, Y, test_size=0.3, random_state=30)\n",
    "X_train.columns"
   ]
  },
  {
   "cell_type": "code",
   "execution_count": 11,
   "id": "11a7be43",
   "metadata": {},
   "outputs": [
    {
     "name": "stdout",
     "output_type": "stream",
     "text": [
      "['CROT.MEAN14', 'PC.RANGE3', 'PC.RANGE2', 'PC.RANGE13', 'PC.RANGE1', 'CROT.MEAN3', 'PC.RANGE12', 'PC.RANGE9', 'CROT.MEAN11', 'PC.RANGE11']\n",
      "['CROT.MEAN14', 'PC.STDDEV2', 'PC.MEAN3', 'PC.MEAN6', 'PC.MEAN4', 'PC.STDDEV7', 'PC.STDDEV13', 'PC.MEAN10', 'PC.MEAN8', 'PC.STDDEV1']\n"
     ]
    }
   ],
   "source": [
    "# Second parameter : Feature Selection method MIQ” or “MID”;\n",
    "# MID (Mutual Information Difference criterion) and MIQ (Mutual Information Quotient criterion)\n",
    "# Third parameter defines the number of features that should be selected by the algorithm.\n",
    "\n",
    "print(pymrmr.mRMR(data,'MID', 10))\n",
    "print(pymrmr.mRMR(data,'MIQ', 10))\n",
    "use_col = pymrmr.mRMR(data,'MIQ', 14)"
   ]
  },
  {
   "cell_type": "code",
   "execution_count": 12,
   "id": "0c127a6a",
   "metadata": {},
   "outputs": [
    {
     "name": "stdout",
     "output_type": "stream",
     "text": [
      "model의 MSE 값은 1152.318\n",
      "model의 MAE 값은 27.380\n",
      "model의 r2 값은 0.627\n"
     ]
    }
   ],
   "source": [
    "#성능 확인\n",
    "LM_model = LinearRegression()\n",
    "LM_model.fit(X_train[use_col], Y_train)\n",
    "pred = LM_model.predict(X_test[use_col])\n",
    "print_all_reg(Y_test, pred)"
   ]
  },
  {
   "cell_type": "code",
   "execution_count": 13,
   "id": "148b53eb",
   "metadata": {},
   "outputs": [
    {
     "data": {
      "image/png": "[encoded data removed]",
      "text/plain": [
       "<Figure size 432x288 with 2 Axes>"
      ]
     },
     "metadata": {
      "needs_background": "light"
     },
     "output_type": "display_data"
    }
   ],
   "source": [
    "sns.heatmap(abs(X[use_col].corr()),cmap ='Reds')\n",
    "plt.show()"
   ]
  },
  {
   "cell_type": "markdown",
   "id": "c7d11d08",
   "metadata": {},
   "source": [
    "### 4. Boruta 적용 및 다중공선성 확인\n",
    "- !pip install Boruta"
   ]
  },
  {
   "cell_type": "code",
   "execution_count": 14,
   "id": "63b6f03f",
   "metadata": {},
   "outputs": [],
   "source": [
    "from boruta import BorutaPy"
   ]
  },
  {
   "cell_type": "code",
   "execution_count": 15,
   "id": "a77a7892",
   "metadata": {},
   "outputs": [
    {
     "data": {
      "text/plain": [
       "Index(['CHAMBER', 'TAE.STDDEV0', 'TAE.MEAN0', 'TAE.RANGE0', 'PC.STDDEV0',\n",
       "       'PC.MEAN0', 'PC.RANGE0', 'CROT.MEAN0', 'TAE.STDDEV1', 'TAE.MEAN1',\n",
       "       ...\n",
       "       'PC.STDDEV12', 'PC.MEAN12', 'PC.RANGE12', 'TAE.STDDEV9', 'TAE.MEAN9',\n",
       "       'TAE.RANGE9', 'CROT.MEAN9', 'PC.STDDEV9', 'PC.MEAN9', 'PC.RANGE9'],\n",
       "      dtype='object', length=116)"
      ]
     },
     "execution_count": 15,
     "metadata": {},
     "output_type": "execute_result"
    }
   ],
   "source": [
    "# load X and y\n",
    "# NOTE BorutaPy accepts numpy arrays only, hence the .values attribute\n",
    "X=data.drop([\"Y\"],axis=1)\n",
    "Y=data[\"Y\"].copy()\n",
    "X_train, X_test, Y_train, Y_test = train_test_split(X, Y, test_size=0.3, random_state=30)\n",
    "X_train.columns"
   ]
  },
  {
   "cell_type": "code",
   "execution_count": 16,
   "id": "a84d99cb",
   "metadata": {},
   "outputs": [
    {
     "name": "stdout",
     "output_type": "stream",
     "text": [
      "Iteration: \t1 / 100\n",
      "Confirmed: \t0\n",
      "Tentative: \t116\n",
      "Rejected: \t0\n",
      "Iteration: \t2 / 100\n",
      "Confirmed: \t0\n",
      "Tentative: \t116\n",
      "Rejected: \t0\n",
      "Iteration: \t3 / 100\n",
      "Confirmed: \t0\n",
      "Tentative: \t116\n",
      "Rejected: \t0\n",
      "Iteration: \t4 / 100\n",
      "Confirmed: \t0\n",
      "Tentative: \t116\n",
      "Rejected: \t0\n",
      "Iteration: \t5 / 100\n",
      "Confirmed: \t0\n",
      "Tentative: \t116\n",
      "Rejected: \t0\n",
      "Iteration: \t6 / 100\n",
      "Confirmed: \t0\n",
      "Tentative: \t116\n",
      "Rejected: \t0\n",
      "Iteration: \t7 / 100\n",
      "Confirmed: \t0\n",
      "Tentative: \t116\n",
      "Rejected: \t0\n",
      "Iteration: \t8 / 100\n",
      "Confirmed: \t0\n",
      "Tentative: \t23\n",
      "Rejected: \t93\n",
      "Iteration: \t9 / 100\n",
      "Confirmed: \t3\n",
      "Tentative: \t20\n",
      "Rejected: \t93\n",
      "Iteration: \t10 / 100\n",
      "Confirmed: \t3\n",
      "Tentative: \t20\n",
      "Rejected: \t93\n",
      "Iteration: \t11 / 100\n",
      "Confirmed: \t3\n",
      "Tentative: \t20\n",
      "Rejected: \t93\n",
      "Iteration: \t12 / 100\n",
      "Confirmed: \t4\n",
      "Tentative: \t11\n",
      "Rejected: \t101\n",
      "Iteration: \t13 / 100\n",
      "Confirmed: \t4\n",
      "Tentative: \t11\n",
      "Rejected: \t101\n",
      "Iteration: \t14 / 100\n",
      "Confirmed: \t4\n",
      "Tentative: \t11\n",
      "Rejected: \t101\n",
      "Iteration: \t15 / 100\n",
      "Confirmed: \t4\n",
      "Tentative: \t11\n",
      "Rejected: \t101\n",
      "Iteration: \t16 / 100\n",
      "Confirmed: \t4\n",
      "Tentative: \t10\n",
      "Rejected: \t102\n",
      "Iteration: \t17 / 100\n",
      "Confirmed: \t4\n",
      "Tentative: \t10\n",
      "Rejected: \t102\n",
      "Iteration: \t18 / 100\n",
      "Confirmed: \t4\n",
      "Tentative: \t10\n",
      "Rejected: \t102\n",
      "Iteration: \t19 / 100\n",
      "Confirmed: \t4\n",
      "Tentative: \t10\n",
      "Rejected: \t102\n",
      "Iteration: \t20 / 100\n",
      "Confirmed: \t4\n",
      "Tentative: \t10\n",
      "Rejected: \t102\n",
      "Iteration: \t21 / 100\n",
      "Confirmed: \t4\n",
      "Tentative: \t10\n",
      "Rejected: \t102\n",
      "Iteration: \t22 / 100\n",
      "Confirmed: \t4\n",
      "Tentative: \t10\n",
      "Rejected: \t102\n",
      "Iteration: \t23 / 100\n",
      "Confirmed: \t4\n",
      "Tentative: \t10\n",
      "Rejected: \t102\n",
      "Iteration: \t24 / 100\n",
      "Confirmed: \t4\n",
      "Tentative: \t10\n",
      "Rejected: \t102\n",
      "Iteration: \t25 / 100\n",
      "Confirmed: \t4\n",
      "Tentative: \t10\n",
      "Rejected: \t102\n",
      "Iteration: \t26 / 100\n",
      "Confirmed: \t4\n",
      "Tentative: \t10\n",
      "Rejected: \t102\n",
      "Iteration: \t27 / 100\n",
      "Confirmed: \t4\n",
      "Tentative: \t10\n",
      "Rejected: \t102\n",
      "Iteration: \t28 / 100\n",
      "Confirmed: \t4\n",
      "Tentative: \t10\n",
      "Rejected: \t102\n",
      "Iteration: \t29 / 100\n",
      "Confirmed: \t4\n",
      "Tentative: \t10\n",
      "Rejected: \t102\n",
      "Iteration: \t30 / 100\n",
      "Confirmed: \t4\n",
      "Tentative: \t10\n",
      "Rejected: \t102\n",
      "Iteration: \t31 / 100\n",
      "Confirmed: \t4\n",
      "Tentative: \t10\n",
      "Rejected: \t102\n",
      "Iteration: \t32 / 100\n",
      "Confirmed: \t4\n",
      "Tentative: \t10\n",
      "Rejected: \t102\n",
      "Iteration: \t33 / 100\n",
      "Confirmed: \t4\n",
      "Tentative: \t10\n",
      "Rejected: \t102\n",
      "Iteration: \t34 / 100\n",
      "Confirmed: \t4\n",
      "Tentative: \t10\n",
      "Rejected: \t102\n",
      "Iteration: \t35 / 100\n",
      "Confirmed: \t4\n",
      "Tentative: \t10\n",
      "Rejected: \t102\n",
      "Iteration: \t36 / 100\n",
      "Confirmed: \t4\n",
      "Tentative: \t10\n",
      "Rejected: \t102\n",
      "Iteration: \t37 / 100\n",
      "Confirmed: \t4\n",
      "Tentative: \t10\n",
      "Rejected: \t102\n",
      "Iteration: \t38 / 100\n",
      "Confirmed: \t4\n",
      "Tentative: \t10\n",
      "Rejected: \t102\n",
      "Iteration: \t39 / 100\n",
      "Confirmed: \t4\n",
      "Tentative: \t10\n",
      "Rejected: \t102\n",
      "Iteration: \t40 / 100\n",
      "Confirmed: \t4\n",
      "Tentative: \t10\n",
      "Rejected: \t102\n",
      "Iteration: \t41 / 100\n",
      "Confirmed: \t4\n",
      "Tentative: \t10\n",
      "Rejected: \t102\n",
      "Iteration: \t42 / 100\n",
      "Confirmed: \t4\n",
      "Tentative: \t10\n",
      "Rejected: \t102\n",
      "Iteration: \t43 / 100\n",
      "Confirmed: \t4\n",
      "Tentative: \t10\n",
      "Rejected: \t102\n",
      "Iteration: \t44 / 100\n",
      "Confirmed: \t4\n",
      "Tentative: \t10\n",
      "Rejected: \t102\n",
      "Iteration: \t45 / 100\n",
      "Confirmed: \t4\n",
      "Tentative: \t10\n",
      "Rejected: \t102\n",
      "Iteration: \t46 / 100\n",
      "Confirmed: \t4\n",
      "Tentative: \t10\n",
      "Rejected: \t102\n",
      "Iteration: \t47 / 100\n",
      "Confirmed: \t4\n",
      "Tentative: \t10\n",
      "Rejected: \t102\n",
      "Iteration: \t48 / 100\n",
      "Confirmed: \t4\n",
      "Tentative: \t10\n",
      "Rejected: \t102\n",
      "Iteration: \t49 / 100\n",
      "Confirmed: \t4\n",
      "Tentative: \t10\n",
      "Rejected: \t102\n",
      "Iteration: \t50 / 100\n",
      "Confirmed: \t4\n",
      "Tentative: \t10\n",
      "Rejected: \t102\n",
      "Iteration: \t51 / 100\n",
      "Confirmed: \t4\n",
      "Tentative: \t10\n",
      "Rejected: \t102\n",
      "Iteration: \t52 / 100\n",
      "Confirmed: \t4\n",
      "Tentative: \t10\n",
      "Rejected: \t102\n",
      "Iteration: \t53 / 100\n",
      "Confirmed: \t4\n",
      "Tentative: \t10\n",
      "Rejected: \t102\n",
      "Iteration: \t54 / 100\n",
      "Confirmed: \t4\n",
      "Tentative: \t10\n",
      "Rejected: \t102\n",
      "Iteration: \t55 / 100\n",
      "Confirmed: \t4\n",
      "Tentative: \t10\n",
      "Rejected: \t102\n",
      "Iteration: \t56 / 100\n",
      "Confirmed: \t4\n",
      "Tentative: \t10\n",
      "Rejected: \t102\n",
      "Iteration: \t57 / 100\n",
      "Confirmed: \t4\n",
      "Tentative: \t10\n",
      "Rejected: \t102\n",
      "Iteration: \t58 / 100\n",
      "Confirmed: \t4\n",
      "Tentative: \t10\n",
      "Rejected: \t102\n",
      "Iteration: \t59 / 100\n",
      "Confirmed: \t4\n",
      "Tentative: \t10\n",
      "Rejected: \t102\n",
      "Iteration: \t60 / 100\n",
      "Confirmed: \t4\n",
      "Tentative: \t10\n",
      "Rejected: \t102\n",
      "Iteration: \t61 / 100\n",
      "Confirmed: \t4\n",
      "Tentative: \t10\n",
      "Rejected: \t102\n",
      "Iteration: \t62 / 100\n",
      "Confirmed: \t4\n",
      "Tentative: \t10\n",
      "Rejected: \t102\n",
      "Iteration: \t63 / 100\n",
      "Confirmed: \t4\n",
      "Tentative: \t10\n",
      "Rejected: \t102\n",
      "Iteration: \t64 / 100\n",
      "Confirmed: \t4\n",
      "Tentative: \t10\n",
      "Rejected: \t102\n",
      "Iteration: \t65 / 100\n",
      "Confirmed: \t5\n",
      "Tentative: \t9\n",
      "Rejected: \t102\n",
      "Iteration: \t66 / 100\n",
      "Confirmed: \t5\n",
      "Tentative: \t9\n",
      "Rejected: \t102\n",
      "Iteration: \t67 / 100\n",
      "Confirmed: \t5\n",
      "Tentative: \t9\n",
      "Rejected: \t102\n",
      "Iteration: \t68 / 100\n",
      "Confirmed: \t5\n",
      "Tentative: \t9\n",
      "Rejected: \t102\n",
      "Iteration: \t69 / 100\n",
      "Confirmed: \t5\n",
      "Tentative: \t9\n",
      "Rejected: \t102\n",
      "Iteration: \t70 / 100\n",
      "Confirmed: \t5\n",
      "Tentative: \t9\n",
      "Rejected: \t102\n",
      "Iteration: \t71 / 100\n",
      "Confirmed: \t5\n",
      "Tentative: \t9\n",
      "Rejected: \t102\n",
      "Iteration: \t72 / 100\n",
      "Confirmed: \t5\n",
      "Tentative: \t9\n",
      "Rejected: \t102\n",
      "Iteration: \t73 / 100\n",
      "Confirmed: \t5\n",
      "Tentative: \t9\n",
      "Rejected: \t102\n",
      "Iteration: \t74 / 100\n",
      "Confirmed: \t5\n",
      "Tentative: \t9\n",
      "Rejected: \t102\n",
      "Iteration: \t75 / 100\n",
      "Confirmed: \t5\n",
      "Tentative: \t9\n",
      "Rejected: \t102\n",
      "Iteration: \t76 / 100\n",
      "Confirmed: \t5\n",
      "Tentative: \t9\n",
      "Rejected: \t102\n",
      "Iteration: \t77 / 100\n",
      "Confirmed: \t5\n",
      "Tentative: \t9\n",
      "Rejected: \t102\n",
      "Iteration: \t78 / 100\n",
      "Confirmed: \t5\n",
      "Tentative: \t9\n",
      "Rejected: \t102\n",
      "Iteration: \t79 / 100\n",
      "Confirmed: \t5\n",
      "Tentative: \t9\n",
      "Rejected: \t102\n",
      "Iteration: \t80 / 100\n",
      "Confirmed: \t5\n",
      "Tentative: \t9\n",
      "Rejected: \t102\n",
      "Iteration: \t81 / 100\n",
      "Confirmed: \t5\n",
      "Tentative: \t9\n",
      "Rejected: \t102\n",
      "Iteration: \t82 / 100\n",
      "Confirmed: \t5\n",
      "Tentative: \t9\n",
      "Rejected: \t102\n",
      "Iteration: \t83 / 100\n",
      "Confirmed: \t5\n",
      "Tentative: \t9\n",
      "Rejected: \t102\n",
      "Iteration: \t84 / 100\n",
      "Confirmed: \t5\n",
      "Tentative: \t9\n",
      "Rejected: \t102\n",
      "Iteration: \t85 / 100\n",
      "Confirmed: \t5\n",
      "Tentative: \t9\n",
      "Rejected: \t102\n",
      "Iteration: \t86 / 100\n",
      "Confirmed: \t5\n",
      "Tentative: \t9\n",
      "Rejected: \t102\n",
      "Iteration: \t87 / 100\n",
      "Confirmed: \t5\n",
      "Tentative: \t9\n",
      "Rejected: \t102\n",
      "Iteration: \t88 / 100\n",
      "Confirmed: \t5\n",
      "Tentative: \t9\n",
      "Rejected: \t102\n",
      "Iteration: \t89 / 100\n",
      "Confirmed: \t5\n",
      "Tentative: \t9\n",
      "Rejected: \t102\n",
      "Iteration: \t90 / 100\n",
      "Confirmed: \t5\n",
      "Tentative: \t9\n",
      "Rejected: \t102\n",
      "Iteration: \t91 / 100\n",
      "Confirmed: \t5\n",
      "Tentative: \t9\n",
      "Rejected: \t102\n",
      "Iteration: \t92 / 100\n",
      "Confirmed: \t5\n",
      "Tentative: \t9\n",
      "Rejected: \t102\n",
      "Iteration: \t93 / 100\n",
      "Confirmed: \t5\n",
      "Tentative: \t9\n",
      "Rejected: \t102\n",
      "Iteration: \t94 / 100\n",
      "Confirmed: \t5\n",
      "Tentative: \t9\n",
      "Rejected: \t102\n",
      "Iteration: \t95 / 100\n",
      "Confirmed: \t5\n",
      "Tentative: \t9\n",
      "Rejected: \t102\n",
      "Iteration: \t96 / 100\n",
      "Confirmed: \t5\n",
      "Tentative: \t9\n",
      "Rejected: \t102\n",
      "Iteration: \t97 / 100\n",
      "Confirmed: \t5\n",
      "Tentative: \t9\n",
      "Rejected: \t102\n",
      "Iteration: \t98 / 100\n",
      "Confirmed: \t5\n",
      "Tentative: \t9\n",
      "Rejected: \t102\n",
      "Iteration: \t99 / 100\n",
      "Confirmed: \t5\n",
      "Tentative: \t9\n",
      "Rejected: \t102\n",
      "\n",
      "\n",
      "BorutaPy finished running.\n",
      "\n",
      "Iteration: \t100 / 100\n",
      "Confirmed: \t5\n",
      "Tentative: \t3\n",
      "Rejected: \t102\n"
     ]
    },
    {
     "data": {
      "text/html": [
       "<style>#sk-container-id-1 {color: black;background-color: white;}#sk-container-id-1 pre{padding: 0;}#sk-container-id-1 div.sk-toggleable {background-color: white;}#sk-container-id-1 label.sk-toggleable__label {cursor: pointer;display: block;width: 100%;margin-bottom: 0;padding: 0.3em;box-sizing: border-box;text-align: center;}#sk-container-id-1 label.sk-toggleable__label-arrow:before {content: \"▸\";float: left;margin-right: 0.25em;color: #696969;}#sk-container-id-1 label.sk-toggleable__label-arrow:hover:before {color: black;}#sk-container-id-1 div.sk-estimator:hover label.sk-toggleable__label-arrow:before {color: black;}#sk-container-id-1 div.sk-toggleable__content {max-height: 0;max-width: 0;overflow: hidden;text-align: left;background-color: #f0f8ff;}#sk-container-id-1 div.sk-toggleable__content pre {margin: 0.2em;color: black;border-radius: 0.25em;background-color: #f0f8ff;}#sk-container-id-1 input.sk-toggleable__control:checked~div.sk-toggleable__content {max-height: 200px;max-width: 100%;overflow: auto;}#sk-container-id-1 input.sk-toggleable__control:checked~label.sk-toggleable__label-arrow:before {content: \"▾\";}#sk-container-id-1 div.sk-estimator input.sk-toggleable__control:checked~label.sk-toggleable__label {background-color: #d4ebff;}#sk-container-id-1 div.sk-label input.sk-toggleable__control:checked~label.sk-toggleable__label {background-color: #d4ebff;}#sk-container-id-1 input.sk-hidden--visually {border: 0;clip: rect(1px 1px 1px 1px);clip: rect(1px, 1px, 1px, 1px);height: 1px;margin: -1px;overflow: hidden;padding: 0;position: absolute;width: 1px;}#sk-container-id-1 div.sk-estimator {font-family: monospace;background-color: #f0f8ff;border: 1px dotted black;border-radius: 0.25em;box-sizing: border-box;margin-bottom: 0.5em;}#sk-container-id-1 div.sk-estimator:hover {background-color: #d4ebff;}#sk-container-id-1 div.sk-parallel-item::after {content: \"\";width: 100%;border-bottom: 1px solid gray;flex-grow: 1;}#sk-container-id-1 div.sk-label:hover label.sk-toggleable__label {background-color: #d4ebff;}#sk-container-id-1 div.sk-serial::before {content: \"\";position: absolute;border-left: 1px solid gray;box-sizing: border-box;top: 0;bottom: 0;left: 50%;z-index: 0;}#sk-container-id-1 div.sk-serial {display: flex;flex-direction: column;align-items: center;background-color: white;padding-right: 0.2em;padding-left: 0.2em;position: relative;}#sk-container-id-1 div.sk-item {position: relative;z-index: 1;}#sk-container-id-1 div.sk-parallel {display: flex;align-items: stretch;justify-content: center;background-color: white;position: relative;}#sk-container-id-1 div.sk-item::before, #sk-container-id-1 div.sk-parallel-item::before {content: \"\";position: absolute;border-left: 1px solid gray;box-sizing: border-box;top: 0;bottom: 0;left: 50%;z-index: -1;}#sk-container-id-1 div.sk-parallel-item {display: flex;flex-direction: column;z-index: 1;position: relative;background-color: white;}#sk-container-id-1 div.sk-parallel-item:first-child::after {align-self: flex-end;width: 50%;}#sk-container-id-1 div.sk-parallel-item:last-child::after {align-self: flex-start;width: 50%;}#sk-container-id-1 div.sk-parallel-item:only-child::after {width: 0;}#sk-container-id-1 div.sk-dashed-wrapped {border: 1px dashed gray;margin: 0 0.4em 0.5em 0.4em;box-sizing: border-box;padding-bottom: 0.4em;background-color: white;}#sk-container-id-1 div.sk-label label {font-family: monospace;font-weight: bold;display: inline-block;line-height: 1.2em;}#sk-container-id-1 div.sk-label-container {text-align: center;}#sk-container-id-1 div.sk-container {/* jupyter's `normalize.less` sets `[hidden] { display: none; }` but bootstrap.min.css set `[hidden] { display: none !important; }` so we also need the `!important` here to be able to override the default hidden behavior on the sphinx rendered scikit-learn.org. See: https://github.com/scikit-learn/scikit-learn/issues/21755 */display: inline-block !important;position: relative;}#sk-container-id-1 div.sk-text-repr-fallback {display: none;}</style><div id=\"sk-container-id-1\" class=\"sk-top-container\"><div class=\"sk-text-repr-fallback\"><pre>BorutaPy(estimator=RandomForestRegressor(max_depth=10, n_estimators=52,\n",
       "                                         n_jobs=-1,\n",
       "                                         random_state=RandomState(MT19937) at 0x1A4DFBDA440),\n",
       "         n_estimators=&#x27;auto&#x27;,\n",
       "         random_state=RandomState(MT19937) at 0x1A4DFBDA440, verbose=2)</pre><b>In a Jupyter environment, please rerun this cell to show the HTML representation or trust the notebook. <br />On GitHub, the HTML representation is unable to render, please try loading this page with nbviewer.org.</b></div><div class=\"sk-container\" hidden><div class=\"sk-item sk-dashed-wrapped\"><div class=\"sk-label-container\"><div class=\"sk-label sk-toggleable\"><input class=\"sk-toggleable__control sk-hidden--visually\" id=\"sk-estimator-id-1\" type=\"checkbox\" ><label for=\"sk-estimator-id-1\" class=\"sk-toggleable__label sk-toggleable__label-arrow\">BorutaPy</label><div class=\"sk-toggleable__content\"><pre>BorutaPy(estimator=RandomForestRegressor(max_depth=10, n_estimators=52,\n",
       "                                         n_jobs=-1,\n",
       "                                         random_state=RandomState(MT19937) at 0x1A4DFBDA440),\n",
       "         n_estimators=&#x27;auto&#x27;,\n",
       "         random_state=RandomState(MT19937) at 0x1A4DFBDA440, verbose=2)</pre></div></div></div><div class=\"sk-parallel\"><div class=\"sk-parallel-item\"><div class=\"sk-item\"><div class=\"sk-label-container\"><div class=\"sk-label sk-toggleable\"><input class=\"sk-toggleable__control sk-hidden--visually\" id=\"sk-estimator-id-2\" type=\"checkbox\" ><label for=\"sk-estimator-id-2\" class=\"sk-toggleable__label sk-toggleable__label-arrow\">estimator: RandomForestRegressor</label><div class=\"sk-toggleable__content\"><pre>RandomForestRegressor(max_depth=10, n_estimators=52, n_jobs=-1,\n",
       "                      random_state=RandomState(MT19937) at 0x1A4DFBDA440)</pre></div></div></div><div class=\"sk-serial\"><div class=\"sk-item\"><div class=\"sk-estimator sk-toggleable\"><input class=\"sk-toggleable__control sk-hidden--visually\" id=\"sk-estimator-id-3\" type=\"checkbox\" ><label for=\"sk-estimator-id-3\" class=\"sk-toggleable__label sk-toggleable__label-arrow\">RandomForestRegressor</label><div class=\"sk-toggleable__content\"><pre>RandomForestRegressor(max_depth=10, n_estimators=52, n_jobs=-1,\n",
       "                      random_state=RandomState(MT19937) at 0x1A4DFBDA440)</pre></div></div></div></div></div></div></div></div></div></div>"
      ],
      "text/plain": [
       "BorutaPy(estimator=RandomForestRegressor(max_depth=10, n_estimators=52,\n",
       "                                         n_jobs=-1,\n",
       "                                         random_state=RandomState(MT19937) at 0x1A4DFBDA440),\n",
       "         n_estimators='auto',\n",
       "         random_state=RandomState(MT19937) at 0x1A4DFBDA440, verbose=2)"
      ]
     },
     "execution_count": 16,
     "metadata": {},
     "output_type": "execute_result"
    }
   ],
   "source": [
    "X_arr = X.values\n",
    "Y_arr = Y.ravel()\n",
    "\n",
    "from sklearn.ensemble import RandomForestRegressor\n",
    "\n",
    "# define random forest classifier, with utilising all cores and\n",
    "# sampling in proportion to y labels\n",
    "rf = RandomForestRegressor(n_jobs=-1, max_depth=10)\n",
    "\n",
    "# define Boruta feature selection method\n",
    "feat_selector = BorutaPy(rf, n_estimators='auto', verbose=2, random_state=2)\n",
    "\n",
    "# find all relevant features - 5 features should be selected\n",
    "feat_selector.fit(X_arr, Y_arr)\n"
   ]
  },
  {
   "cell_type": "code",
   "execution_count": 17,
   "id": "0491ae5a",
   "metadata": {},
   "outputs": [
    {
     "name": "stdout",
     "output_type": "stream",
     "text": [
      "[False False False False False False False False False False False False\n",
      " False  True False  True False False False False False False False False\n",
      " False False False False False False False False False False False False\n",
      " False False False False False  True False False False False False False\n",
      " False False  True False False False False False False False False False\n",
      " False False False  True False False False False False False False False\n",
      " False False False False False False False False False False False False\n",
      " False False False False False False False False False False False False\n",
      " False False False False False False False False False False False False\n",
      " False False False False False False False False]\n",
      "[ 98  31  43  85  17  54  92  16  36  61  74   2  21   1  67   1  19  26\n",
      "  85  72  82  16  23   6  85  11  34  32  25  49  38  71  80  23  65 106\n",
      "   6 102   6  58  33   1  43  64  53  44  51  67   8  36   1  40 100  13\n",
      " 101  58  28  89  55  64  67  12  53   1  20  88  85  94  79  60  73  45\n",
      "  23  69 109   3 107   3  96  18  96  98  47  99  14  76  71  90  40  93\n",
      " 105  11 103  56  29  50 105   6 109  76  28  60   9  85   2  31  91  78\n",
      "  82  48  36  47   2  76  41  62]\n",
      "[[44.22888969  0.3090104   0.44477    38.00979875 35.01554019]\n",
      " [43.40175986  0.29683676  0.44477    38.08019362 35.54817975]\n",
      " [43.89750036  0.36845785  0.38123    38.11774383 36.01416186]\n",
      " [44.12361854  0.28494609  0.50831    37.99338493 35.0213164 ]\n",
      " [45.39814992  0.26702374  1.143695   37.63061425 33.99454269]\n",
      " [44.42439292  0.26564777  0.571846   37.86286562 34.51726513]\n",
      " [44.80036085  0.32848781  0.571847   38.07225112 35.55664831]\n",
      " [44.24661379  0.27636351  1.01662    37.63590925 33.99908134]\n",
      " [45.05225938  0.27292432  0.508309   37.87477981 34.51810117]\n",
      " [44.80036069  0.26817103  0.571846   37.87477975 34.5064077 ]\n",
      " [44.61613708  0.28990793  1.143695   37.64120442 33.99601301]\n",
      " [44.85058014  0.31444926  0.635384   38.07622219 35.55664831]\n",
      " [44.55598192  0.26268989  0.508309   37.88325153 34.50388889]\n",
      " [44.106969    0.30379236  0.571847   38.0841648  35.55664831]\n",
      " [44.83043862  0.2740934   1.01662    37.63265062 33.99454261]\n",
      " [44.60861715  0.27900158  1.143695   37.61472958 33.99511827]\n",
      " [44.47702846  0.28509412  1.143697   37.63590933 33.99422299]\n",
      " [44.66501292  0.30701468  0.50831    38.06547694 35.54995154]\n",
      " [44.95074862  0.32175585  0.571847   38.07225131 35.55334753]\n",
      " [44.66501238  0.28809569  0.88954    37.65708915 34.00138245]\n",
      " [44.19129238  0.27833595  0.50831    37.87477987 34.51893718]\n",
      " [44.75524531  0.33649753  0.571847   38.07622212 35.55809769]\n",
      " [43.92435515  0.27889847  1.080157   37.65179392 34.00361981]\n",
      " [44.46950923  0.31568777  0.50831    38.07622219 35.5635319 ]\n",
      " [44.81164038  0.30979711  0.571847   38.08813562 35.55870608]\n",
      " [45.13121338  0.28062026  0.95308    37.65708892 34.00185492]\n",
      " [44.06158386  0.33454616  0.571847   38.06033775 35.55951038]\n",
      " [44.51086577  0.29729096  0.88954    37.64242608 34.00097236]\n",
      " [45.300936    0.32977614  0.635384   38.06921441 35.54101139]\n",
      " [45.25528231  0.27860023  1.080157   37.6306145  33.99567765]\n",
      " [44.87555431  0.32613767  0.635384   38.0762225  35.53936154]\n",
      " [45.63876938  0.3152549   0.635384   38.06828    35.54262   ]\n",
      " [44.777803    0.15266976  0.190616   35.0216032  35.02486742]\n",
      " [44.45957271  0.20719229  0.254154   35.0138844  35.06047768]\n",
      " [45.52222046  0.17093088  0.254153   35.01554    35.01038847]\n",
      " [43.90797429  0.1680595   0.254153   35.0155405  35.0164107 ]\n",
      " [44.46655493  0.14932746  0.254154   35.0343118  35.02830209]\n",
      " [44.54846262  0.20240055  0.254154   35.039299   35.05451414]\n",
      " [45.12288786  0.30060521  0.50831    38.01376988 35.01798396]\n",
      " [44.44695146  0.30701485  0.571847   38.07225119 35.54592078]\n",
      " [45.39815054  0.31091833  0.571846   37.83649153 34.53310749]\n",
      " [44.49206754  0.3241012   0.571847   38.06430894 35.54839636]\n",
      " [44.36531207  0.29266868  0.50831    38.00979869 35.01879854]\n",
      " [44.36047862  0.33305213  0.635384   38.0801935  35.54011184]\n",
      " [44.66125262  0.29532658  0.50831    38.01376981 35.02680029]\n",
      " [44.63412921  0.33349998  0.571847   38.06828006 35.54669308]\n",
      " [45.51470062  0.32427918  0.635387   37.82784813 34.53257796]\n",
      " [44.51543064  0.31546005  0.635384   38.06430875 35.5434243 ]\n",
      " [44.26057843  0.32115191  0.44477    37.83275371 34.52761162]\n",
      " [44.26272685  0.29361268  0.44477    38.010328   35.0211702 ]\n",
      " [44.84547692  0.30459684  0.571847   38.06430887 35.55402458]\n",
      " [44.45823062  0.33219951  0.44477    37.85829394 34.53163301]\n",
      " [44.77404308  0.30176068  0.50831    38.02171231 35.02358308]\n",
      " [44.46306421  0.2850608   0.50831    38.01774131 35.01554012]\n",
      " [44.6934785   0.30275693  0.571846   37.840229   34.52922022]\n",
      " [44.16631779  0.31009857  0.571847   38.06033794 35.54583722]\n",
      " [44.54094323  0.29930267  0.50831    38.01376969 35.02277877]\n",
      " [44.25359593  0.29183301  0.50831    38.02965438 35.02857388]\n",
      " [44.45447     0.37968505  0.381235   38.14096015 35.99220568]\n",
      " [44.26057843  0.31145679  0.508307   38.00582762 35.02680025]\n",
      " [44.37175723  0.2890377   0.44477    37.99762033 35.02840886]\n",
      " [45.30791827  0.31407409  0.508314   38.09221178 36.02886625]\n",
      " [45.61245246  0.3027302   0.44477    37.98914913 35.02036582]\n",
      " [44.45259057  0.36950906  0.444773   38.11597922 36.00019746]\n",
      " [44.71791636  0.28959737  0.444773   38.092212   36.02297168]\n",
      " [44.12361831  0.2945053   0.50831    38.02171188 35.01875722]\n",
      " [43.99578969  0.32107147  0.381234   38.08162239 36.54181591]\n",
      " [44.35671915  0.29933096  0.44477    38.12099119 35.52552211]\n",
      " [44.53342338  0.30416523  0.381234   38.07995016 36.54239905]\n",
      " [44.23614014  0.31097383  0.444771   38.06750256 36.54101158]\n",
      " [45.0495745   0.37758289  0.38123    38.10538922 36.00818438]\n",
      " [44.79472107  0.34440331  0.57185    38.10520358 35.99765844]\n",
      " [44.66501246  0.38251743  0.50831    38.10520347 36.00921081]\n",
      " [44.42063346  0.32375484  0.444771   38.08349088 36.52655492]\n",
      " [44.89435246  0.32405865  0.381234   38.08515194 36.53225728]\n",
      " [44.52214477  0.35161997  0.444773   38.11138995 36.00343462]\n",
      " [44.03338654  0.36784407  0.444767   38.10854768 35.99848361]\n",
      " [45.06353821  0.3148189   0.444771   38.08349088 36.52331723]\n",
      " [45.00768029  0.3103471   0.381234   38.07227782 36.52655505]\n",
      " [45.20318336  0.3697753   0.508307   38.11189179 35.99765848]\n",
      " [44.64997369  0.37055337  0.444773   38.11189189 36.00425983]\n",
      " [44.68005131  0.30400583  0.381234   38.09221178 36.52655492]\n",
      " [44.25359557  0.31206542  0.444771   38.09221172 36.52818421]\n",
      " [44.58605923  0.35047212  0.38123    38.11858    35.99930882]\n",
      " [44.39807462  0.36222063  0.50831    38.115236   36.00591017]\n",
      " [44.78075707  0.31857902  0.381234   38.08722829 36.53062787]\n",
      " [44.66501215  0.31178659  0.381234   38.08722829 36.52814282]\n",
      " [45.29744486  0.36613291  0.38123    38.095171   35.99923278]\n",
      " [44.43513507  0.31136702  0.381234   38.07601612 36.53225715]\n",
      " [45.18384823  0.36628138  0.57185    38.12861232 35.99683327]\n",
      " [44.22888962  0.31968416  0.444771   38.08722829 36.52822621]\n",
      " [44.32664085  0.36517371  0.444773   38.11189179 36.00260949]\n",
      " [45.19969271  0.37121291  0.50831    38.10854758 36.00013399]\n",
      " [45.30442686  0.3170525   0.381234   38.07227788 36.53470095]\n",
      " [44.777803    0.38133791  0.444773   38.1113903  36.00842911]\n",
      " [44.49582669  0.30919282  0.381234   38.08722859 36.52899885]\n",
      " [45.21714871  0.3057288   0.381234   38.07601553 36.52894722]\n",
      " [43.93590279  0.30857099  0.381234   38.08349059 36.53144251]\n",
      " [44.54685093  0.37320443  0.444773   38.1113903  35.99784646]\n",
      " [44.35134729  0.37852522  0.444773   38.1113902  36.00267213]\n",
      " [44.00223457  0.31958883  0.317697   38.08515167 36.53633029]\n",
      " [44.72892685  0.32042663  0.317697   38.08515167 36.52981329]\n",
      " [44.50844836  0.35987349  0.57185    38.11523589 35.99938287]\n",
      " [44.43164336  0.34741981  0.38123    38.12526842 36.0074978 ]\n",
      " [44.32664169  0.33203852  0.44477    38.13347157 35.5247325 ]\n",
      " [44.79472121  0.29389532  0.381234   38.08162189 36.52994187]\n",
      " [44.35483871  0.34429356  0.444773   38.11189179 35.99042235]\n",
      " [44.20257146  0.33971045  0.381232   38.14254864 35.52832465]\n",
      " [43.62519207  0.32682091  0.381234   38.07227812 36.53328612]\n",
      " [44.65373392  0.37696243  0.50831    38.11523611 35.99530988]\n",
      " [44.60109808  0.31478466  0.44477    38.12187333 35.52880117]\n",
      " [44.63994727  0.35363527  0.38123    38.10854779 35.99683327]\n",
      " [44.69508985  0.29567761  0.381234   38.08349088 36.53328625]\n",
      " [44.69696943  0.30379259  0.381234   38.07227812 36.52994187]\n",
      " [44.42815277  0.31655747  0.44477    38.11834344 35.53053842]\n",
      " [45.23111243  0.36927022  0.317692   38.1177442  35.99449533]\n",
      " [44.44319123  0.34777192  0.57185    38.11189189 36.00427041]\n",
      " [44.55732421  0.32390114  0.317697   38.07809217 36.53328618]\n",
      " [44.67629138  0.3031228   0.381234   38.07601576 36.53482778]\n",
      " [44.70260923  0.34501395  0.50831    38.111892   36.00019742]\n",
      " [44.48051971  0.33597605  0.381232   38.113983   35.53304658]\n",
      " [44.82667877  0.311039    0.381232   38.11024547 35.52962636]\n",
      " [44.05970369  0.3732047   0.38123    38.09868255 36.52133513]\n",
      " [44.31536185  0.3866853   0.38123    38.09851558 36.51258873]\n",
      " [44.372294    0.3748352   0.38123    38.09851532 36.51661006]\n",
      " [44.25010443  0.37681258  0.38123    38.09851542 36.51661006]\n",
      " [44.54335993  0.38340098  0.38123    38.1050364  36.513393  ]\n",
      " [44.65507671  0.37418193  0.38123    38.09851542 36.52545699]\n",
      " [43.98477879  0.33614459  0.254153   38.02161333 37.55441419]\n",
      " [44.74396592  0.372529    0.38123    38.09126961 36.51176385]\n",
      " [44.43567185  0.31270944  0.44477    38.12187333 35.53292714]\n",
      " [44.57102046  0.37052937  0.38123    38.10185937 36.51828046]\n",
      " [44.30247157  0.33638438  0.44477    38.12145806 35.54224316]\n",
      " [44.73268646  0.29066964  0.381235   38.08329432 36.0220417 ]\n",
      " [44.4805195   0.31549567  0.381234   38.09574144 36.53296835]\n",
      " [45.14383436  0.32551537  0.381234   38.10633111 36.5345772 ]\n",
      " [45.11590529  0.31942172  0.381234   38.11339105 36.53538134]\n",
      " [44.66125262  0.29066969  0.381235   38.08998232 36.02436651]\n",
      " [44.62365615  0.34307002  0.381234   38.10335879 36.5313597 ]]\n"
     ]
    },
    {
     "data": {
      "text/plain": [
       "array([98, 31, 43, 85, 17, 54, 92, 16, 36, 61, 74,  2, 21,  1, 67,  1, 19,\n",
       "       26, 85, 72, 82, 16, 23,  6, 85])"
      ]
     },
     "execution_count": 17,
     "metadata": {},
     "output_type": "execute_result"
    }
   ],
   "source": [
    "# check selected features - first 5 features are selected\n",
    "print(feat_selector.support_)\n",
    "# check ranking of features\n",
    "print(feat_selector.ranking_)\n",
    "# call transform() on X to filter it down to selected features\n",
    "print(feat_selector.transform(X_arr))\n",
    "boruta_use_col = feat_selector.ranking_[:25]\n",
    "boruta_use_col"
   ]
  },
  {
   "cell_type": "code",
   "execution_count": 18,
   "id": "ebd6eec4",
   "metadata": {},
   "outputs": [
    {
     "name": "stdout",
     "output_type": "stream",
     "text": [
      "model의 MSE 값은 1498.614\n",
      "model의 MAE 값은 28.551\n",
      "model의 r2 값은 0.515\n"
     ]
    }
   ],
   "source": [
    "#성능 확인\n",
    "LM_model = LinearRegression()\n",
    "LM_model.fit(X_train.loc[:,feat_selector.ranking_<4],Y_train)\n",
    "pred=LM_model.predict(X_test.loc[:,feat_selector.ranking_<5])\n",
    "print_all_reg(Y_test,pred)"
   ]
  },
  {
   "cell_type": "code",
   "execution_count": 19,
   "id": "968a24fc",
   "metadata": {
    "scrolled": true
   },
   "outputs": [],
   "source": [
    "use_col = X_train.columns[feat_selector.ranking_<5]"
   ]
  },
  {
   "cell_type": "code",
   "execution_count": 20,
   "id": "0c844590",
   "metadata": {},
   "outputs": [
    {
     "data": {
      "image/png": "[encoded data removed]",
      "text/plain": [
       "<Figure size 432x288 with 2 Axes>"
      ]
     },
     "metadata": {
      "needs_background": "light"
     },
     "output_type": "display_data"
    }
   ],
   "source": [
    "sns.heatmap(abs(data[use_col].corr()),cmap ='Reds')\n",
    "plt.show()"
   ]
  },
  {
   "cell_type": "markdown",
   "id": "bebe66d9",
   "metadata": {},
   "source": [
    "### 4. All But X 적용 및 다중공선성 확인"
   ]
  },
  {
   "cell_type": "code",
   "execution_count": 21,
   "id": "01462c67",
   "metadata": {},
   "outputs": [],
   "source": [
    "from sklearn.ensemble import RandomForestRegressor"
   ]
  },
  {
   "cell_type": "code",
   "execution_count": 22,
   "id": "7e155a0a",
   "metadata": {},
   "outputs": [],
   "source": [
    "def lr_score(X_train, X_test, Y_train, Y_test):\n",
    "    LM_model = LinearRegression()\n",
    "    LM_model.fit(X_train,Y_train)\n",
    "    pred = LM_model.predict(X_test)\n",
    "    return r2_score(Y_test, pred)"
   ]
  },
  {
   "cell_type": "code",
   "execution_count": 23,
   "id": "74463e77",
   "metadata": {},
   "outputs": [],
   "source": [
    "def rf_score(X_train, X_test, Y_train, Y_test):\n",
    "    LM_model = RandomForestRegressor()\n",
    "    LM_model.fit(X_train,Y_train)\n",
    "    pred = LM_model.predict(X_test)\n",
    "    return r2_score(Y_test, pred)"
   ]
  },
  {
   "cell_type": "code",
   "execution_count": 24,
   "id": "dea12257",
   "metadata": {},
   "outputs": [],
   "source": [
    "def all_but_x(X, Y):\n",
    "    X_train, X_valid, Y_train, Y_valid = train_test_split(X, Y, test_size=0.3, random_state=30)\n",
    "    use_col = list(X.columns)\n",
    "    for col in list(X.columns):\n",
    "        before = lr_score(X_train[use_col],X_valid[use_col],Y_train,Y_valid)\n",
    "        use_col.remove(col)\n",
    "        after = lr_score(X_train[use_col],X_valid[use_col],Y_train,Y_valid)\n",
    "        \n",
    "        if before >= after:\n",
    "            use_col.append(col)\n",
    "        else:\n",
    "            print(col +'제거')\n",
    "            continue\n",
    "        \n",
    "    return use_col "
   ]
  },
  {
   "cell_type": "code",
   "execution_count": 25,
   "id": "0fd89157",
   "metadata": {},
   "outputs": [
    {
     "name": "stdout",
     "output_type": "stream",
     "text": [
      "TAE.STDDEV0제거\n",
      "TAE.RANGE0제거\n",
      "PC.MEAN0제거\n",
      "CROT.MEAN1제거\n",
      "TAE.RANGE13제거\n",
      "PC.MEAN13제거\n",
      "TAE.RANGE5제거\n",
      "CROT.MEAN5제거\n",
      "PC.MEAN5제거\n",
      "TAE.MEAN3제거\n",
      "CROT.STDDEV3제거\n",
      "CROT.MEAN3제거\n",
      "CROT.RANGE3제거\n",
      "PC.STDDEV11제거\n",
      "PC.STDDEV10제거\n",
      "PC.RANGE10제거\n",
      "TAE.STDDEV10제거\n",
      "TAE.MEAN10제거\n",
      "TAE.RANGE10제거\n",
      "TAE.STDDEV2제거\n",
      "TAE.MEAN2제거\n",
      "TAE.RANGE2제거\n",
      "PC.STDDEV2제거\n",
      "TAE.STDDEV7제거\n",
      "PC.RANGE8제거\n",
      "CROT.STDDEV8제거\n",
      "CROT.RANGE8제거\n",
      "PC.STDDEV14제거\n",
      "TAE.STDDEV6제거\n",
      "TAE.RANGE6제거\n",
      "CROT.MEAN6제거\n",
      "CROT.RANGE6제거\n",
      "TAE.STDDEV4제거\n",
      "CROT.STDDEV4제거\n",
      "CROT.RANGE4제거\n",
      "PC.MEAN4제거\n",
      "CROT.MEAN12제거\n",
      "TAE.MEAN12제거\n",
      "TAE.STDDEV9제거\n",
      "CROT.MEAN9제거\n",
      "PC.STDDEV9제거\n"
     ]
    }
   ],
   "source": [
    "allbutx_col = all_but_x(X_train, Y_train)"
   ]
  },
  {
   "cell_type": "code",
   "execution_count": 26,
   "id": "8c97cd96",
   "metadata": {},
   "outputs": [
    {
     "data": {
      "text/plain": [
       "75"
      ]
     },
     "execution_count": 26,
     "metadata": {},
     "output_type": "execute_result"
    }
   ],
   "source": [
    "len(allbutx_col)"
   ]
  },
  {
   "cell_type": "code",
   "execution_count": 27,
   "id": "32594e85",
   "metadata": {},
   "outputs": [
    {
     "data": {
      "image/png": "[encoded data removed]",
      "text/plain": [
       "<Figure size 432x288 with 2 Axes>"
      ]
     },
     "metadata": {
      "needs_background": "light"
     },
     "output_type": "display_data"
    }
   ],
   "source": [
    "sns.heatmap(abs(X[allbutx_col].corr()),cmap ='Reds')\n",
    "plt.show()"
   ]
  },
  {
   "cell_type": "code",
   "execution_count": 28,
   "id": "d6857735",
   "metadata": {},
   "outputs": [
    {
     "name": "stdout",
     "output_type": "stream",
     "text": [
      "model의 MSE 값은 18354.967\n",
      "model의 MAE 값은 104.333\n",
      "model의 r2 값은 -4.936\n"
     ]
    }
   ],
   "source": [
    "#성능 확인\n",
    "LM_model = LinearRegression()\n",
    "LM_model.fit(X_train[allbutx_col],Y_train)\n",
    "pred = LM_model.predict(X_test[allbutx_col])\n",
    "print_all_reg(Y_test, pred)"
   ]
  },
  {
   "cell_type": "code",
   "execution_count": 29,
   "id": "18d237a8",
   "metadata": {},
   "outputs": [],
   "source": [
    "def all_but_x(X, Y):\n",
    "    X_train, X_valid, Y_train, Y_valid = train_test_split(X, Y, test_size=0.3, random_state=30)\n",
    "    use_col = list(X.columns)\n",
    "    for col in list(X.columns):\n",
    "        before = rf_score(X_train[use_col],X_valid[use_col],Y_train,Y_valid)\n",
    "        use_col.remove(col)\n",
    "        after = rf_score(X_train[use_col],X_valid[use_col],Y_train,Y_valid)\n",
    "        \n",
    "        if before >= after:\n",
    "            use_col.append(col)\n",
    "        else:\n",
    "            print(col +'제거')\n",
    "            continue\n",
    "        \n",
    "    return use_col "
   ]
  },
  {
   "cell_type": "code",
   "execution_count": 30,
   "id": "705f07b9",
   "metadata": {},
   "outputs": [
    {
     "name": "stdout",
     "output_type": "stream",
     "text": [
      "TAE.STDDEV0제거\n",
      "TAE.MEAN0제거\n",
      "TAE.RANGE0제거\n",
      "PC.STDDEV0제거\n",
      "PC.MEAN0제거\n",
      "CROT.MEAN0제거\n",
      "TAE.STDDEV1제거\n",
      "CROT.MEAN1제거\n",
      "PC.STDDEV1제거\n",
      "PC.MEAN1제거\n",
      "TAE.STDDEV13제거\n",
      "TAE.MEAN13제거\n",
      "TAE.RANGE13제거\n",
      "PC.MEAN13제거\n",
      "PC.RANGE13제거\n",
      "CROT.MEAN13제거\n",
      "TAE.STDDEV5제거\n",
      "TAE.MEAN5제거\n",
      "TAE.RANGE5제거\n",
      "CROT.MEAN5제거\n",
      "PC.STDDEV5제거\n",
      "TAE.RANGE3제거\n",
      "PC.RANGE3제거\n",
      "TAE.MEAN11제거\n",
      "PC.MEAN10제거\n",
      "PC.RANGE10제거\n",
      "CROT.MEAN10제거\n",
      "TAE.STDDEV10제거\n",
      "TAE.MEAN10제거\n",
      "TAE.RANGE10제거\n",
      "CROT.MEAN2제거\n",
      "TAE.RANGE2제거\n",
      "PC.STDDEV2제거\n",
      "PC.MEAN2제거\n",
      "PC.RANGE2제거\n",
      "CROT.MEAN7제거\n",
      "TAE.STDDEV7제거\n",
      "PC.MEAN7제거\n",
      "PC.RANGE7제거\n",
      "PC.STDDEV8제거\n",
      "TAE.MEAN8제거\n",
      "CROT.RANGE8제거\n",
      "CROT.MEAN14제거\n",
      "TAE.RANGE14제거\n",
      "PC.MEAN14제거\n",
      "PC.MEAN6제거\n",
      "TAE.STDDEV4제거\n",
      "TAE.MEAN4제거\n",
      "CROT.MEAN4제거\n",
      "PC.STDDEV4제거\n",
      "CROT.MEAN12제거\n",
      "TAE.STDDEV12제거\n",
      "TAE.RANGE12제거\n",
      "PC.STDDEV12제거\n",
      "PC.RANGE12제거\n",
      "TAE.MEAN9제거\n",
      "PC.RANGE9제거\n"
     ]
    }
   ],
   "source": [
    "allbutx_col = all_but_x(X_train, Y_train)"
   ]
  },
  {
   "cell_type": "code",
   "execution_count": 31,
   "id": "f0b401f8",
   "metadata": {},
   "outputs": [
    {
     "data": {
      "text/plain": [
       "59"
      ]
     },
     "execution_count": 31,
     "metadata": {},
     "output_type": "execute_result"
    }
   ],
   "source": [
    "len(allbutx_col)"
   ]
  },
  {
   "cell_type": "code",
   "execution_count": 32,
   "id": "468dc39e",
   "metadata": {},
   "outputs": [
    {
     "data": {
      "image/png": "[encoded data removed]",
      "text/plain": [
       "<Figure size 432x288 with 2 Axes>"
      ]
     },
     "metadata": {
      "needs_background": "light"
     },
     "output_type": "display_data"
    }
   ],
   "source": [
    "sns.heatmap(abs(X[allbutx_col].corr()),cmap ='Reds')\n",
    "plt.show()"
   ]
  },
  {
   "cell_type": "code",
   "execution_count": 33,
   "id": "b466734a",
   "metadata": {
    "scrolled": true
   },
   "outputs": [
    {
     "name": "stdout",
     "output_type": "stream",
     "text": [
      "model의 MSE 값은 1234.726\n",
      "model의 MAE 값은 25.498\n",
      "model의 r2 값은 0.601\n"
     ]
    }
   ],
   "source": [
    "#성능 확인\n",
    "RF_model = RandomForestRegressor()\n",
    "RF_model.fit(X_train[allbutx_col], Y_train)\n",
    "pred = RF_model.predict(X_test[allbutx_col])\n",
    "print_all_reg(Y_test, pred)"
   ]
  },
  {
   "cell_type": "code",
   "execution_count": 34,
   "id": "68d8eb63",
   "metadata": {},
   "outputs": [
    {
     "name": "stdout",
     "output_type": "stream",
     "text": [
      "model의 MSE 값은 1102.247\n",
      "model의 MAE 값은 24.176\n",
      "model의 r2 값은 0.644\n"
     ]
    }
   ],
   "source": [
    "#성능 확인\n",
    "RF_model = RandomForestRegressor()\n",
    "RF_model.fit(X_train, Y_train)\n",
    "pred = RF_model.predict(X_test)\n",
    "print_all_reg(Y_test, pred)"
   ]
  },
  {
   "cell_type": "markdown",
   "id": "043028c6",
   "metadata": {},
   "source": [
    "### 5. PCA 적용 및 다중공선성 확인"
   ]
  },
  {
   "cell_type": "code",
   "execution_count": 35,
   "id": "5dc52cd7",
   "metadata": {},
   "outputs": [],
   "source": [
    "X_train, X_test, Y_train, Y_test = train_test_split(X, Y, test_size=0.3, random_state=30)"
   ]
  },
  {
   "cell_type": "code",
   "execution_count": 36,
   "id": "f4343a45",
   "metadata": {},
   "outputs": [
    {
     "name": "stdout",
     "output_type": "stream",
     "text": [
      "model의 MSE 값은 1313.245\n",
      "model의 MAE 값은 27.278\n",
      "model의 r2 값은 0.575\n"
     ]
    }
   ],
   "source": [
    "from sklearn.decomposition import PCA\n",
    "import numpy as np\n",
    "#Components 2로 설정\n",
    "pca_model=PCA(n_components=10)\n",
    "#pca_model=PCA(n_components=0.1)\n",
    "\n",
    "X_train_pca=pca_model.fit_transform(X_train)\n",
    "X_test_pca=pca_model.transform(X_test)\n",
    "pca_model.explained_variance_ratio_ #설명된 분산의 비율\n",
    "np.cumsum(pca_model.explained_variance_ratio_)\n",
    "PCR_model=LinearRegression()\n",
    "PCR_model.fit(X_train_pca, Y_train)\n",
    "pred=PCR_model.predict(X_test_pca)\n",
    "print_all_reg(Y_test, pred)"
   ]
  },
  {
   "cell_type": "code",
   "execution_count": 37,
   "id": "a75970b9",
   "metadata": {
    "scrolled": false
   },
   "outputs": [
    {
     "data": {
      "image/png": "[encoded data removed]",
      "text/plain": [
       "<Figure size 432x288 with 2 Axes>"
      ]
     },
     "metadata": {
      "needs_background": "light"
     },
     "output_type": "display_data"
    }
   ],
   "source": [
    "sns.heatmap(np.corrcoef(X_train_pca.T))\n",
    "plt.show()"
   ]
  },
  {
   "cell_type": "code",
   "execution_count": 38,
   "id": "ccdf2fba",
   "metadata": {
    "scrolled": true
   },
   "outputs": [
    {
     "data": {
      "image/png": "[encoded data removed]",
      "text/plain": [
       "<Figure size 432x288 with 1 Axes>"
      ]
     },
     "metadata": {
      "needs_background": "light"
     },
     "output_type": "display_data"
    },
    {
     "data": {
      "text/plain": [
       "7"
      ]
     },
     "execution_count": 38,
     "metadata": {},
     "output_type": "execute_result"
    }
   ],
   "source": [
    "from matplotlib import pyplot as plt\n",
    "\n",
    "annotations=['X{}'.format(i+1) for i in range(len(pca_model.components_[0]))]\n",
    "#annotations=X_train.columns\n",
    "plt.scatter(pca_model.components_[0],pca_model.components_[1],color='black')\n",
    "plt.xlabel('PC1')\n",
    "plt.ylabel('PC2')\n",
    "plt.axhline(y=0, color='black', linewidth=1, linestyle='--')\n",
    "plt.axvline(x=0, color='black', linewidth=1, linestyle='--')\n",
    "#for i, label in enumerate(annotations):\n",
    "#    plt.annotate(label, (pca_model.components_[0][i], pca_model.components_[1][i]),)\n",
    "plt.show()\n",
    "np.argmax(pca_model.components_[0])"
   ]
  },
  {
   "cell_type": "code",
   "execution_count": 39,
   "id": "44d64c41",
   "metadata": {},
   "outputs": [
    {
     "data": {
      "text/plain": [
       "(10, 116)"
      ]
     },
     "execution_count": 39,
     "metadata": {},
     "output_type": "execute_result"
    }
   ],
   "source": [
    "pca_model.components_.shape"
   ]
  },
  {
   "cell_type": "code",
   "execution_count": 40,
   "id": "0ce55557",
   "metadata": {},
   "outputs": [
    {
     "data": {
      "image/png": "[encoded data removed]",
      "text/plain": [
       "<Figure size 576x576 with 2 Axes>"
      ]
     },
     "metadata": {
      "needs_background": "light"
     },
     "output_type": "display_data"
    }
   ],
   "source": [
    "# Score plot -  데이터들(row)을 잠재 변수 공간 (pc1, pc2)로 매핑시킨 scatter plot \n",
    "# 관측치들이 서로 얼마나 밀접해있는지 파악 가능.(클러스터링 측면)\n",
    "# 멀리 떨어져있는 관측치 발견 가능 (outlier확인)\n",
    "\n",
    "from matplotlib import pyplot as plt\n",
    "labels = Y_test\n",
    "\n",
    "plt.figure(figsize = (8,8))\n",
    "plt.xlabel('Principal Component 1')\n",
    "plt.ylabel('Principal Component 2')\n",
    "plt.title('2 Component PCA', fontsize = 10)\n",
    "\n",
    "for label in labels:\n",
    "    \n",
    "    #indicesToKeep = finalDataFrame['label'] == label\n",
    "    plt.scatter(X_test_pca[:,0]\n",
    "               , X_test_pca[:,1]\n",
    "               , c=labels\n",
    "               , cmap='Blues'\n",
    "               , s = 30)\n",
    "    \n",
    "    # anonoatation\n",
    "    for i in range(len(X_test_pca)):\n",
    "        plt.annotate(i,xy = (X_test_pca[i,0],X_test_pca[i,1]))\n",
    "\n",
    "#plt.legend(labels)\n",
    "plt.grid()\n",
    "plt.colorbar()\n",
    "plt.show()"
   ]
  },
  {
   "cell_type": "markdown",
   "id": "0b74b85c",
   "metadata": {},
   "source": [
    "### 추가) 적절한 K 탐색를 위한 PCA 함수 만들기"
   ]
  },
  {
   "cell_type": "code",
   "execution_count": 41,
   "id": "2ca0bb4c",
   "metadata": {},
   "outputs": [
    {
     "name": "stdout",
     "output_type": "stream",
     "text": [
      "PCA 진행\n",
      "pca 가장 좋은 성능은: 25.538038266762232\n",
      "pca 가장 좋은 n의 경우: 17\n"
     ]
    }
   ],
   "source": [
    "from sklearn.decomposition import PCA\n",
    "def pca_module(data_x,data_y,how,pca_range):\n",
    "    if how == \"pca\":\n",
    "        print(\"PCA 진행\")\n",
    "        # 차원 축소된 score를 담을 리스트 생성\n",
    "        pca_result = []\n",
    "        \n",
    "        X_train, X_test, Y_train, Y_test = train_test_split(data_x, data_y, test_size=0.2, random_state=30)\n",
    "        \n",
    "        #모든 경우 테스트\n",
    "        for num in pca_range:\n",
    "            \n",
    "            #n_compo 설정\n",
    "            pca_model=PCA(n_components=num)\n",
    "            \n",
    "            #pca를 통한 데이터 변환\n",
    "            X_train_pca=pca_model.fit_transform(X_train)\n",
    "            X_test_pca=pca_model.transform(X_test)\n",
    "            \n",
    "            #성능 평가하기 (원하는 모델)\n",
    "            LM_model=LinearRegression()\n",
    "            LM_model.fit(X_train_pca,Y_train)\n",
    "            pred=LM_model.predict(X_test_pca)\n",
    "            \n",
    "            #원하는 평가 방법 불러와서 사용하기\n",
    "            score = mean_absolute_error(Y_test, pred)\n",
    "            \n",
    "            pca_result.append(score)\n",
    "            \n",
    "        #가장 좋은 결과 보여주기\n",
    "        print(\"pca 가장 좋은 성능은:\",np.min(pca_result))\n",
    "        print(\"pca 가장 좋은 n의 경우:\",pca_range[np.argmin(pca_result)])\n",
    "    \n",
    "    else:\n",
    "        print(\"잘못 입력하셧습니다.\")\n",
    "    \n",
    "    return\n",
    "\n",
    "pca_module(X, Y, 'pca', [i for i in range(1, 100, 1)])"
   ]
  }
 ],
 "metadata": {
  "kernelspec": {
   "display_name": "Python 3 (ipykernel)",
   "language": "python",
   "name": "python3"
  },
  "language_info": {
   "codemirror_mode": {
    "name": "ipython",
    "version": 3
   },
   "file_extension": ".py",
   "mimetype": "text/x-python",
   "name": "python",
   "nbconvert_exporter": "python",
   "pygments_lexer": "ipython3",
   "version": "3.8.13"
  }
 },
 "nbformat": 4,
 "nbformat_minor": 5
}
