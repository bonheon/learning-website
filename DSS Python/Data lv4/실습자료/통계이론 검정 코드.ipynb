{
 "cells": [
  {
   "cell_type": "markdown",
   "id": "107f0762",
   "metadata": {},
   "source": [
    "# 기초 통계량 및 통계 관련 라이브러리 소개\n"
   ]
  },
  {
   "cell_type": "markdown",
   "id": "66345065",
   "metadata": {},
   "source": [
    "- NumPy: 수치 계산을 위한 핵심 라이브러리로, 배열 연산, 선형 대수, 푸리에 변환과 같은 기능을 제공합니다.\n",
    "\n",
    "- Pandas: 데이터 조작과 분석을 위한 라이브러리로, 데이터를 쉽게 조작하고 분석하는 데 유용합니다. 데이터프레임(DataFrame)과 시리즈(Series)라는 자료구조를 제공합니다.\n",
    "\n",
    "- SciPy: 과학 기술 계산을 위한 라이브러리로, 최적화, 선형 대수, 통계 분석, 수치적 통합 등의 기능을 제공합니다.\n",
    "\n",
    "- StatsModels: 통계 분석과 추정, 회귀 분석, 시계열 분석을 위한 라이브러리입니다.\n",
    "\n",
    "- Scikit-learn: 머신러닝을 위한 라이브러리로, 분류, 회귀, 군집화, 차원 축소 등 다양한 머신러닝 알고리즘을 제공합니다."
   ]
  },
  {
   "cell_type": "code",
   "execution_count": 4,
   "id": "893df8cf",
   "metadata": {},
   "outputs": [],
   "source": [
    "import numpy as np\n",
    "import scipy as sp # 과학 계산용 파이썬 모듈\n",
    "import scipy.stats as stats\n",
    "import pandas as pd"
   ]
  },
  {
   "cell_type": "code",
   "execution_count": 5,
   "id": "920ee527",
   "metadata": {},
   "outputs": [
    {
     "name": "stdout",
     "output_type": "stream",
     "text": [
      "데이터 수 : 13\n",
      "평균 :  24.46153846153846\n",
      "분산 :  563.0177514792898\n",
      "표준편차 :  23.727995100287966\n",
      "최댓값 :  87\n",
      "최솟값 :  1\n",
      "중앙값 :  16.0\n",
      "1사분위 수 :  8.0\n",
      "2사분위 수 :  16.0\n",
      "3사분위 수 :  36.0\n"
     ]
    }
   ],
   "source": [
    "#numpy 사용\n",
    "x = [1, 2, 10, 43, 22, 87, 52, 11, 8, 36, 25, 5, 16]\n",
    "\n",
    "print('데이터 수 :', len(x)) # 갯수\n",
    "print('평균 : ', np.mean(x)) # 평균\n",
    "print('분산 : ', np.var(x)) # 분산\n",
    "print('표준편차 : ', np.std(x)) # 표준 편차\n",
    "print('최댓값 : ', np.max(x)) # 최댓값\n",
    "print('최솟값 : ', np.min(x)) # 최솟값\n",
    "print('중앙값 : ', np.median(x)) # 중앙값\n",
    "print('1사분위 수 : ', np.percentile(x, 25)) # 1사분위 수\n",
    "print('2사분위 수 : ', np.percentile(x, 50)) # 2사분위 수\n",
    "print('3사분위 수 : ', np.percentile(x, 75)) # 3사분위 수"
   ]
  },
  {
   "cell_type": "code",
   "execution_count": 124,
   "id": "b448e1ff",
   "metadata": {},
   "outputs": [
    {
     "data": {
      "text/plain": [
       "array([[1.        , 0.99705449],\n",
       "       [0.99705449, 1.        ]])"
      ]
     },
     "execution_count": 124,
     "metadata": {},
     "output_type": "execute_result"
    }
   ],
   "source": [
    "a = [3, 5, 8, 11, 13]\n",
    "b = [1, 2, 3, 4, 5]\n",
    "\n",
    "np.corrcoef(a, b)"
   ]
  },
  {
   "cell_type": "code",
   "execution_count": 6,
   "id": "f7aeb31a",
   "metadata": {
    "scrolled": true
   },
   "outputs": [
    {
     "name": "stdout",
     "output_type": "stream",
     "text": [
      "DescribeResult(nobs=13, minmax=(np.int64(1), np.int64(87)), mean=np.float64(24.46153846153846), variance=np.float64(609.9358974358972), skewness=np.float64(1.3313727639226938), kurtosis=np.float64(1.0922300461505472))\n"
     ]
    }
   ],
   "source": [
    "# scipy 사용\n",
    "print(stats.describe(x))"
   ]
  },
  {
   "cell_type": "code",
   "execution_count": 7,
   "id": "77aace75",
   "metadata": {},
   "outputs": [
    {
     "data": {
      "text/html": [
       "<div>\n",
       "<style scoped>\n",
       "    .dataframe tbody tr th:only-of-type {\n",
       "        vertical-align: middle;\n",
       "    }\n",
       "\n",
       "    .dataframe tbody tr th {\n",
       "        vertical-align: top;\n",
       "    }\n",
       "\n",
       "    .dataframe thead th {\n",
       "        text-align: right;\n",
       "    }\n",
       "</style>\n",
       "<table border=\"1\" class=\"dataframe\">\n",
       "  <thead>\n",
       "    <tr style=\"text-align: right;\">\n",
       "      <th></th>\n",
       "      <th>A</th>\n",
       "      <th>B</th>\n",
       "      <th>C</th>\n",
       "    </tr>\n",
       "  </thead>\n",
       "  <tbody>\n",
       "    <tr>\n",
       "      <th>count</th>\n",
       "      <td>5.000000</td>\n",
       "      <td>5.000000</td>\n",
       "      <td>5.000000</td>\n",
       "    </tr>\n",
       "    <tr>\n",
       "      <th>mean</th>\n",
       "      <td>44.600000</td>\n",
       "      <td>37.600000</td>\n",
       "      <td>11.000000</td>\n",
       "    </tr>\n",
       "    <tr>\n",
       "      <th>std</th>\n",
       "      <td>17.728508</td>\n",
       "      <td>15.420765</td>\n",
       "      <td>1.581139</td>\n",
       "    </tr>\n",
       "    <tr>\n",
       "      <th>min</th>\n",
       "      <td>23.000000</td>\n",
       "      <td>17.000000</td>\n",
       "      <td>9.000000</td>\n",
       "    </tr>\n",
       "    <tr>\n",
       "      <th>25%</th>\n",
       "      <td>32.000000</td>\n",
       "      <td>28.000000</td>\n",
       "      <td>10.000000</td>\n",
       "    </tr>\n",
       "    <tr>\n",
       "      <th>50%</th>\n",
       "      <td>45.000000</td>\n",
       "      <td>39.000000</td>\n",
       "      <td>11.000000</td>\n",
       "    </tr>\n",
       "    <tr>\n",
       "      <th>75%</th>\n",
       "      <td>56.000000</td>\n",
       "      <td>49.000000</td>\n",
       "      <td>12.000000</td>\n",
       "    </tr>\n",
       "    <tr>\n",
       "      <th>max</th>\n",
       "      <td>67.000000</td>\n",
       "      <td>55.000000</td>\n",
       "      <td>13.000000</td>\n",
       "    </tr>\n",
       "  </tbody>\n",
       "</table>\n",
       "</div>"
      ],
      "text/plain": [
       "               A          B          C\n",
       "count   5.000000   5.000000   5.000000\n",
       "mean   44.600000  37.600000  11.000000\n",
       "std    17.728508  15.420765   1.581139\n",
       "min    23.000000  17.000000   9.000000\n",
       "25%    32.000000  28.000000  10.000000\n",
       "50%    45.000000  39.000000  11.000000\n",
       "75%    56.000000  49.000000  12.000000\n",
       "max    67.000000  55.000000  13.000000"
      ]
     },
     "execution_count": 7,
     "metadata": {},
     "output_type": "execute_result"
    }
   ],
   "source": [
    "# 예시 데이터 생성\n",
    "data = {\n",
    "    'A': [23, 45, 56, 67, 32],\n",
    "    'B': [17, 28, 39, 49, 55],\n",
    "    'C': [9, 10, 11, 12, 13]\n",
    "}\n",
    "\n",
    "# 데이터프레임 생성\n",
    "df = pd.DataFrame(data)\n",
    "\n",
    "# 기초 통계량 분석\n",
    "df.describe()"
   ]
  },
  {
   "cell_type": "code",
   "execution_count": 10,
   "id": "a40ae96e",
   "metadata": {},
   "outputs": [
    {
     "data": {
      "text/plain": [
       "np.float64(44.6)"
      ]
     },
     "execution_count": 10,
     "metadata": {},
     "output_type": "execute_result"
    }
   ],
   "source": [
    "df['A'].mean()"
   ]
  },
  {
   "cell_type": "code",
   "execution_count": 11,
   "id": "6c442309",
   "metadata": {},
   "outputs": [
    {
     "data": {
      "text/plain": [
       "np.float64(15.42076522096099)"
      ]
     },
     "execution_count": 11,
     "metadata": {},
     "output_type": "execute_result"
    }
   ],
   "source": [
    "df['B'].std()"
   ]
  },
  {
   "cell_type": "code",
   "execution_count": 12,
   "id": "8978313c",
   "metadata": {
    "scrolled": true
   },
   "outputs": [
    {
     "data": {
      "text/plain": [
       "np.int64(13)"
      ]
     },
     "execution_count": 12,
     "metadata": {},
     "output_type": "execute_result"
    }
   ],
   "source": [
    "df['C'].max()"
   ]
  },
  {
   "cell_type": "markdown",
   "id": "9dea0263",
   "metadata": {},
   "source": [
    "# Estimating mean : confidence interval estimation"
   ]
  },
  {
   "cell_type": "markdown",
   "id": "7169ed98",
   "metadata": {},
   "source": [
    "### 어느 여자고등학교에서 학생들의 평균키를 알아보려고 한다. 그래서 무작위로 학생 50명을 뽑아 키를 측정하였더니, 평균은 159.41cm가 나왔다. 그럼 모표준펀차는 26cm라고 가정했을 때, 여학생의 평균키에 대한 95% 신뢰구간을 구하시오. (모분산 안다고 가정할 때)"
   ]
  },
  {
   "attachments": {
    "image.png": {
     "image/png": "[encoded data removed]"
    }
   },
   "cell_type": "markdown",
   "id": "63b2e102",
   "metadata": {},
   "source": [
    "![image.png](attachment:image.png)"
   ]
  },
  {
   "cell_type": "code",
   "execution_count": 147,
   "id": "7fc6f637",
   "metadata": {},
   "outputs": [
    {
     "name": "stdout",
     "output_type": "stream",
     "text": [
      "1.959963984540054\n",
      "평균 키의 90% 신뢰구간: (152.20cm, 166.62cm)\n"
     ]
    }
   ],
   "source": [
    "sample_mean = 159.41  # 표본 평균\n",
    "population_std = 26  # 모표준편차\n",
    "sample_size = 50  # 표본 크기\n",
    "confidence_level = 0.95  # 신뢰수준\n",
    "\n",
    "# Z-score 계산\n",
    "z_score = stats.norm.ppf((1 + confidence_level) / 2)\n",
    "print(z_score)\n",
    "\n",
    "# 신뢰구간 계산\n",
    "margin_of_error = z_score * (population_std / (sample_size ** 0.5))\n",
    "lower_bound = sample_mean - margin_of_error\n",
    "upper_bound = sample_mean + margin_of_error\n",
    "\n",
    "print(f\"평균 키의 90% 신뢰구간: ({lower_bound:.2f}cm, {upper_bound:.2f}cm)\")"
   ]
  },
  {
   "cell_type": "markdown",
   "id": "559e72be",
   "metadata": {},
   "source": [
    "### 어느 남자 고등학교에서 학생들의 평균 체중을 알아보기 위하여, 무작위로 31명을 뽑아 체중을 측정하였더니, 평균은 64kg이 나오고 표준편차는 5.3kg이 나왔다. 이때 평균 체중에 대한 90%의 신뢰구간을 구하시오. (모분산 모른다고 가정할 때)"
   ]
  },
  {
   "attachments": {
    "image.png": {
     "image/png": "[encoded data removed]"
    }
   },
   "cell_type": "markdown",
   "id": "0dd5aa16",
   "metadata": {},
   "source": [
    "![image.png](attachment:image.png)"
   ]
  },
  {
   "cell_type": "code",
   "execution_count": 131,
   "id": "8627fa1c",
   "metadata": {},
   "outputs": [
    {
     "name": "stdout",
     "output_type": "stream",
     "text": [
      "평균 체중의 90% 신뢰구간: (61.95kg, 66.05kg)\n"
     ]
    }
   ],
   "source": [
    "from scipy import stats\n",
    "\n",
    "# 주어진 값\n",
    "sample_mean = 64  # 표본 평균\n",
    "sample_std = 5.3  # 표본 표준편차\n",
    "sample_size = 20  # 표본 크기\n",
    "confidence_level = 0.9  # 신뢰수준\n",
    "\n",
    "# 신뢰구간 계산\n",
    "confidence_interval = stats.t.interval(confidence_level, df=sample_size - 1, loc=sample_mean, scale=sample_std / (sample_size ** 0.5))\n",
    "\n",
    "print(f\"평균 체중의 90% 신뢰구간: ({confidence_interval[0]:.2f}kg, {confidence_interval[1]:.2f}kg)\")"
   ]
  },
  {
   "cell_type": "markdown",
   "id": "c93c2c5f",
   "metadata": {},
   "source": [
    "# Estimating the Differences between two means : interval estimation"
   ]
  },
  {
   "cell_type": "markdown",
   "id": "444d1cb7",
   "metadata": {},
   "source": [
    "### 스마트폰을 생산하는 A와 B 두 회사가 있는데, 두 회사에서 생산하는 스마트폰의 평균수명이 얼마나 차이 나는지를 비교하려고 한다. 그래서 각각 35개와 40개의 표본을 뽑았더니, 평균수명은 각각 750일과 700일이 나왔고, 각 회사의 과거 데이터를 분석해보니 모분산은 각각 40일과 45일이라고 한다. 이때 두 스마트폰의 평균수명의 차이에 대한 95%의 신뢰구간을 구하시오. (모분산 알 때)"
   ]
  },
  {
   "attachments": {
    "image.png": {
     "image/png": "[encoded data removed]"
    }
   },
   "cell_type": "markdown",
   "id": "5fa5b165",
   "metadata": {},
   "source": [
    "![image.png](attachment:image.png)"
   ]
  },
  {
   "cell_type": "code",
   "execution_count": 132,
   "id": "27914b97",
   "metadata": {},
   "outputs": [
    {
     "name": "stdout",
     "output_type": "stream",
     "text": [
      "두 스마트폰의 평균수명 차이의 95.0% 신뢰 구간은 [47.04841062722086, 52.95158937277914]\n"
     ]
    }
   ],
   "source": [
    "# 두 집단 평균 차이 신뢰 구간, 정규분포, 모분산 알 때\n",
    "# 각 집단의 표본 크기, 평균, 분산\n",
    "n1, mean1, variance1 = 35, 750, 40\n",
    "n2, mean2, variance2 = 40, 700, 45\n",
    "\n",
    "confidence_level = 0.95\n",
    "\n",
    "# 두 집단의 평균 차이\n",
    "mean_diff = mean1 - mean2\n",
    "\n",
    "# 두 집단의 분산\n",
    "variance_diff = np.sqrt(variance1 / n1 + variance2 / n2)\n",
    "\n",
    "# 신뢰 구간 계산 (Z-분포 사용)\n",
    "z_score = stats.norm.ppf((1 + confidence_level) / 2)\n",
    "margin_of_error = z_score * variance_diff  # 95% 신뢰수준에서의 Z-값은 1.96\n",
    "lower_bound = mean_diff - margin_of_error\n",
    "upper_bound = mean_diff + margin_of_error\n",
    "\n",
    "print(f\"두 스마트폰의 평균수명 차이의 {confidence_level*100}% 신뢰 구간은 [{lower_bound}, {upper_bound}]\")"
   ]
  },
  {
   "cell_type": "markdown",
   "id": "e097ad4a",
   "metadata": {},
   "source": [
    "### 우유를 생산하는 두 회사 A와 B가 있는데, 두 회사 우유의 평균용량이 얼마나 차이 나는지를 비교하려고 한다. 그래서 각각 15개와 25개의 우유를 표본으로 뽑아서 조사하였더니, 평균용량은 250ml, 210ml가 나왔고, 표본분산은 13ml와 9ml가 나왔다고한다. 이때 두 회사 우유의 평균용량 차이에 대한 99%의 신뢰구간을 구하시오. (모분산 모를 때)"
   ]
  },
  {
   "attachments": {
    "image.png": {
     "image/png": "[encoded data removed]"
    }
   },
   "cell_type": "markdown",
   "id": "9579ec90",
   "metadata": {},
   "source": [
    "![image.png](attachment:image.png)"
   ]
  },
  {
   "cell_type": "code",
   "execution_count": 133,
   "id": "e096ba4b",
   "metadata": {},
   "outputs": [
    {
     "name": "stdout",
     "output_type": "stream",
     "text": [
      "두 회사 우유의 평균 용량 차이의 99.0% 신뢰 구간은 [36.99681478910294, 43.00318521089706]\n"
     ]
    }
   ],
   "source": [
    "# 각 집단의 표본 크기, 평균, 표준편차\n",
    "n1, mean1, std_dev1 = 15, 250, 13\n",
    "n2, mean2, std_dev2 = 25, 210, 9\n",
    "\n",
    "# t-test를 사용한 신뢰 구간 계산\n",
    "confidence_level = 0.99\n",
    "\n",
    "# 각 집단의 자유도 계산\n",
    "degrees_of_freedom1 = n1 - 1\n",
    "degrees_of_freedom2 = n2 - 1\n",
    "\n",
    "# t-test를 위한 표준 오차 계산\n",
    "std_err = np.sqrt((std_dev1 / n1) + (std_dev2 / n2))\n",
    "\n",
    "# 신뢰 구간 계산\n",
    "lower_bound, upper_bound =stats.t.interval(confidence_level, degrees_of_freedom1 + degrees_of_freedom2, loc=mean1 - mean2, scale=std_err)\n",
    "\n",
    "print(f\"두 회사 우유의 평균 용량 차이의 {confidence_level*100}% 신뢰 구간은 [{lower_bound}, {upper_bound}]\")"
   ]
  },
  {
   "cell_type": "markdown",
   "id": "33c2d54f",
   "metadata": {},
   "source": [
    "# Estimating Proportion in a Binomial experiment : interval estimation"
   ]
  },
  {
   "cell_type": "markdown",
   "id": "06b159ab",
   "metadata": {},
   "source": [
    "### 우리나라 성인 남성의 흡연율을 조사하기 위해서, 성인 남자 1000명을 무작위로 뽑아 흡연 여부를 조사하였더니, 430명이 흡연을 하고 있었다. 이때 흡연율(모비율)에 대한 90%의 신뢰구간을 추정하시오."
   ]
  },
  {
   "attachments": {
    "image.png": {
     "image/png": "[encoded data removed]"
    }
   },
   "cell_type": "markdown",
   "id": "6cab3bc4",
   "metadata": {},
   "source": [
    "![image.png](attachment:image.png)"
   ]
  },
  {
   "cell_type": "code",
   "execution_count": 134,
   "id": "f3122a7f",
   "metadata": {},
   "outputs": [
    {
     "name": "stdout",
     "output_type": "stream",
     "text": [
      "흡연율에 대한 90%의 신뢰구간은 [0.40424871458356326, 0.4557512854164367]\n"
     ]
    }
   ],
   "source": [
    "# 표본의 크기와 흡연하는 사람 수\n",
    "n = 1000\n",
    "smokers = 430\n",
    "\n",
    "# 표본 비율 계산\n",
    "p = smokers / n\n",
    "\n",
    "# 표준 오차 계산\n",
    "std_error = np.sqrt((p * (1 - p)) / n)\n",
    "\n",
    "# 90% 신뢰구간 계산\n",
    "confidence_level = 0.90\n",
    "z_score = stats.norm.ppf(1 - (1 - confidence_level) / 2)  # 90% 신뢰구간의 Z값 계산\n",
    "margin_of_error = z_score * std_error\n",
    "\n",
    "# 신뢰구간 계산\n",
    "lower_bound = p - margin_of_error\n",
    "upper_bound = p + margin_of_error\n",
    "\n",
    "print(f\"흡연율에 대한 90%의 신뢰구간은 [{lower_bound}, {upper_bound}]\")"
   ]
  },
  {
   "cell_type": "markdown",
   "id": "fb982867",
   "metadata": {},
   "source": [
    "# Estimation of the Differences between two proportions : interval estimation"
   ]
  },
  {
   "cell_type": "markdown",
   "id": "9ad31f57",
   "metadata": {},
   "source": [
    "### 어느 제조업 공장에서 제품을 생산하는 두 대의 기계 A와 B가 있는데, 각 기계에서 생산하는 제품의 불량률이 서로 얼마나 차이 나는지를 조사한다고 한다. 그래서 각 기계에서 100개와 150개의 표본을 뽑아 불량품의 개수를 체크하였더니, 각각 9개와 3개가 불량품이었다. 이때 두 기계의 불량률의 차이에 대한 90%의 신뢰구간을 추정하시오."
   ]
  },
  {
   "attachments": {
    "image.png": {
     "image/png": "[encoded data removed]"
    }
   },
   "cell_type": "markdown",
   "id": "ca126ce4",
   "metadata": {},
   "source": [
    "![image.png](attachment:image.png)"
   ]
  },
  {
   "cell_type": "code",
   "execution_count": 135,
   "id": "f3ff2862",
   "metadata": {},
   "outputs": [
    {
     "name": "stdout",
     "output_type": "stream",
     "text": [
      "두 기계의 불량률 차이에 대한 90.0% 신뢰구간은 [0.019311101476037075, 0.12068889852396292]\n"
     ]
    }
   ],
   "source": [
    "import numpy as np\n",
    "import scipy.stats as stats\n",
    "\n",
    "# 각 기계의 불량품 개수 및 표본 크기\n",
    "defective_A, n_A = 9, 100\n",
    "defective_B, n_B = 3, 150\n",
    "\n",
    "# 각 기계의 불량률 계산\n",
    "defect_rate_A = defective_A / n_A\n",
    "defect_rate_B = defective_B / n_B\n",
    "\n",
    "# 불량률의 차이\n",
    "defect_rate_diff = defect_rate_A - defect_rate_B\n",
    "\n",
    "# Z-test를 사용한 불량률의 차이에 대한 신뢰구간 계산\n",
    "confidence_level = 0.90\n",
    "std_error = np.sqrt((defect_rate_A * (1 - defect_rate_A) / n_A) + (defect_rate_B * (1 - defect_rate_B) / n_B))\n",
    "margin_of_error = stats.norm.ppf(1 - (1 - confidence_level) / 2) * std_error\n",
    "\n",
    "lower_bound = defect_rate_diff - margin_of_error\n",
    "upper_bound = defect_rate_diff + margin_of_error\n",
    "\n",
    "print(f\"두 기계의 불량률 차이에 대한 {confidence_level*100}% 신뢰구간은 [{lower_bound}, {upper_bound}]\")"
   ]
  },
  {
   "cell_type": "markdown",
   "id": "d24d2dea",
   "metadata": {},
   "source": [
    "# Estimating variance : interval estimation"
   ]
  },
  {
   "cell_type": "markdown",
   "id": "72264945",
   "metadata": {},
   "source": [
    "### 어느 제약회사에서 새롭게 출시하려는 알약의 효능을 테스트하고 있다. 그래서 임상실험을 통해 표본 13개를 뽑았더니 표준편차 3.2가 나왔다고 한다. 이때 알약의 모분산에 대한 95%의 신뢰구간을 구하시오."
   ]
  },
  {
   "attachments": {
    "image.png": {
     "image/png": "[encoded data removed]"
    }
   },
   "cell_type": "markdown",
   "id": "cf9ad567",
   "metadata": {},
   "source": [
    "![image.png](attachment:image.png)"
   ]
  },
  {
   "cell_type": "code",
   "execution_count": 136,
   "id": "e803dc1e",
   "metadata": {
    "scrolled": true
   },
   "outputs": [
    {
     "name": "stdout",
     "output_type": "stream",
     "text": [
      "알약의 모분산에 대한 95% 신뢰구간은 [5.265534061108631, 27.90324735286171]\n"
     ]
    }
   ],
   "source": [
    "import scipy.stats as stats\n",
    "\n",
    "# 주어진 값\n",
    "sample_size = 13\n",
    "sample_std_dev = 3.2\n",
    "confidence_level = 0.95\n",
    "\n",
    "# 자유도 계산\n",
    "degrees_of_freedom = sample_size - 1\n",
    "\n",
    "# 카이제곱 분포의 신뢰구간 계산\n",
    "lower_bound = (sample_size - 1) * (sample_std_dev ** 2) / stats.chi2.ppf((1 + confidence_level) / 2, degrees_of_freedom)\n",
    "upper_bound = (sample_size - 1) * (sample_std_dev ** 2) / stats.chi2.ppf((1 - confidence_level) / 2, degrees_of_freedom)\n",
    "\n",
    "print(f\"알약의 모분산에 대한 95% 신뢰구간은 [{lower_bound}, {upper_bound}]\")"
   ]
  },
  {
   "cell_type": "markdown",
   "id": "a36fca3e",
   "metadata": {},
   "source": [
    "# Estimating the Ratio between two variance : interval estimation"
   ]
  },
  {
   "cell_type": "markdown",
   "id": "c0b3978d",
   "metadata": {},
   "source": [
    "### 감기약의 지속시간을 테스트하기 위해서 알약1과 알약2의 분산이 서로 얼마나 차이 나는지를 비교하려고 한다. 그래서 각각 표본 11개와 8개를 뽑았더니, 분산은 11과 15가 나왔다. 이때 두 알약의 모분산 차이에 대한 95%의 신뢰구간을 구하시오."
   ]
  },
  {
   "attachments": {
    "image.png": {
     "image/png": "[encoded data removed]"
    }
   },
   "cell_type": "markdown",
   "id": "fee6d768",
   "metadata": {},
   "source": [
    "![image.png](attachment:image.png)"
   ]
  },
  {
   "cell_type": "code",
   "execution_count": 137,
   "id": "0cea6579",
   "metadata": {},
   "outputs": [
    {
     "name": "stdout",
     "output_type": "stream",
     "text": [
      "모분산 차이에 대한 95% 신뢰구간: (0.1540, 2.8965)\n"
     ]
    }
   ],
   "source": [
    "from scipy import stats\n",
    "\n",
    "n1 = 11\n",
    "n2 = 8\n",
    "s1_sq = 11\n",
    "s2_sq = 15\n",
    "\n",
    "# F 분포의 상위 2.5%와 하위 2.5%에 해당하는 임계치를 계산합니다.\n",
    "alpha= 0.05\n",
    "f_upper = stats.f.ppf(1 - alpha / 2, n2 - 1, n1 - 1)\n",
    "f_lower = 1 / stats.f.ppf(1 - alpha / 2, n1 - 1, n2 - 1)\n",
    "\n",
    "# 모분산 차이에 대한 95% 신뢰구간을 계산합니다.\n",
    "ci_lower = (s1_sq / s2_sq) * f_lower\n",
    "ci_upper = (s1_sq / s2_sq) * f_upper\n",
    "\n",
    "print(f\"모분산 차이에 대한 95% 신뢰구간: ({ci_lower:.4f}, {ci_upper:.4f})\")"
   ]
  },
  {
   "cell_type": "markdown",
   "id": "7b86d595",
   "metadata": {},
   "source": [
    "# Single sample : test on a single mean"
   ]
  },
  {
   "attachments": {
    "image.png": {
     "image/png": "[encoded data removed]"
    }
   },
   "cell_type": "markdown",
   "id": "3bea46bd",
   "metadata": {},
   "source": [
    "![image.png](attachment:image.png)"
   ]
  },
  {
   "cell_type": "markdown",
   "id": "9430b29c",
   "metadata": {},
   "source": [
    "### 어느 한 건전지의 평균 수명은 300일이라고 알려져 있는데, 일부에서는 300일이 아니라는 의견이 나오고 있다. 그래서 해당 건전지 25개를 표본으로 뽑아 조사하였더니, 평균수명은 310일이 나왔고, 그동안 수집한 자료를 분석한 결과 표준편차는 30일이라고 한다. 이때 어느 의견이 더 타당한지 유의수진 5%에서 검정하시오. (모분산을 안다고 가정)"
   ]
  },
  {
   "attachments": {
    "image.png": {
     "image/png": "[encoded data removed]"
    }
   },
   "cell_type": "markdown",
   "id": "53c48fc4",
   "metadata": {},
   "source": [
    "![image.png](attachment:image.png)"
   ]
  },
  {
   "cell_type": "code",
   "execution_count": 138,
   "id": "3130922a",
   "metadata": {
    "scrolled": true
   },
   "outputs": [
    {
     "name": "stdout",
     "output_type": "stream",
     "text": [
      "Z-statistic: 1.6667\n",
      "p-value: 0.0956\n",
      "귀무가설을 기각할 수 없습니다. 건전지 평균 수명은 300일일 가능성이 있습니다.\n"
     ]
    }
   ],
   "source": [
    "from scipy import stats\n",
    "\n",
    "# 주어진 데이터\n",
    "sample_mean = 310  # 표본 평균\n",
    "population_mean = 300  # 모평균\n",
    "sample_std = 30  # 표본 표준편차\n",
    "sample_size = 25  # 표본 크기\n",
    "alpha = 0.05  # 유의수준\n",
    "\n",
    "# Z-검정 통계량 계산\n",
    "z_statistic = (sample_mean - population_mean) / (sample_std / (sample_size ** 0.5))\n",
    "\n",
    "# p-value 계산 (양측 검정)\n",
    "p_value = stats.norm.sf(abs(z_statistic)) * 2\n",
    "\n",
    "# 결과 출력\n",
    "print(f\"Z-statistic: {z_statistic:.4f}\")\n",
    "print(f\"p-value: {p_value:.4f}\")\n",
    "\n",
    "# 유의수준과 비교하여 가설 판단\n",
    "if p_value < alpha:\n",
    "    print(\"귀무가설을 기각합니다. 건전지 평균 수명은 300일이 아닐 가능성이 있습니다.\")\n",
    "else:\n",
    "    print(\"귀무가설을 기각할 수 없습니다. 건전지 평균 수명은 300일일 가능성이 있습니다.\")"
   ]
  },
  {
   "cell_type": "markdown",
   "id": "48071513",
   "metadata": {},
   "source": [
    "### 애완용으로 키우는 금붕어의 평균수명은 5년으로 알려져있는데, 일부에서는 5년이 아니라는 의견이 나왔다. 그래서 금붕어 10마리를 표본으로 뽑았더니, 평균수명은 6년이 나오고 표준편차는 3년이 나왔다. 어느 의견이 더 타당한지 유의수준 5%에서 검정하시오. (모분산을 모른다고 가정)"
   ]
  },
  {
   "attachments": {
    "image-2.png": {
     "image/png": "[encoded data removed]"
    }
   },
   "cell_type": "markdown",
   "id": "b82523cb",
   "metadata": {},
   "source": [
    "![image-2.png](attachment:image-2.png)"
   ]
  },
  {
   "cell_type": "code",
   "execution_count": 139,
   "id": "1ecea28f",
   "metadata": {},
   "outputs": [
    {
     "name": "stdout",
     "output_type": "stream",
     "text": [
      "t-statistic: 1.0541\n",
      "p-value: 0.3193\n",
      "귀무가설을 기각할 수 없습니다. 금붕어의 평균수명은 5년이라는 주장이 유지될 수 있습니다.\n"
     ]
    }
   ],
   "source": [
    "from scipy import stats\n",
    "\n",
    "# 주어진 데이터\n",
    "population_mean = 5  # 모평균 가설값\n",
    "sample_mean = 6  # 표본 평균\n",
    "sample_std = 3  # 표본 표준편차\n",
    "sample_size = 10  # 표본 크기\n",
    "alpha = 0.05  # 유의수준\n",
    "\n",
    "# t-검정 통계량 계산\n",
    "t_statistic = (sample_mean - population_mean) / (sample_std / (sample_size ** 0.5))\n",
    "\n",
    "# p-value 계산\n",
    "degrees_of_freedom = sample_size - 1\n",
    "p_value = stats.t.sf(abs(t_statistic), df=degrees_of_freedom) * 2\n",
    "\n",
    "\n",
    "# 결과 출력\n",
    "print(f\"t-statistic: {t_statistic:.4f}\")\n",
    "print(f\"p-value: {p_value:.4f}\")\n",
    "\n",
    "# 결과 출력\n",
    "if p_value < alpha:\n",
    "    print(\"귀무가설을 기각합니다. 금붕어의 평균수명은 5년이 아닐 가능성이 있습니다.\")\n",
    "else:\n",
    "    print(\"귀무가설을 기각할 수 없습니다. 금붕어의 평균수명은 5년이라는 주장이 유지될 수 있습니다.\")"
   ]
  },
  {
   "cell_type": "markdown",
   "id": "0d2277e1",
   "metadata": {},
   "source": [
    "### 한 가정에서 아이스크림을 만드는데, 그들은 평균적으로 하루에 500ml의 아이스크림을 생산한다고 주장한다. 이 주장을 확인하기 위해 하루 생산된 10개의 아이스크림 샘플의 용량을 조사했다. 주장된 평균 용량이 맞는지 확인하기 위해 유의수준 5%에서 가설 검정을 하시오. (모분산을 모른다고 가정)"
   ]
  },
  {
   "cell_type": "code",
   "execution_count": 140,
   "id": "c4a1e9b2",
   "metadata": {},
   "outputs": [
    {
     "name": "stdout",
     "output_type": "stream",
     "text": [
      "표본 데이터: [512.41785383 496.54339247 516.19221345 538.07574641 494.14616563\n",
      " 494.14657608 539.48032039 519.18586823 488.26314035 513.56400109]\n",
      "t-검정 통계량: 1.9597\n",
      "p-value: 0.0817\n",
      "귀무가설을 기각할 수 없습니다. 모평균은 500ml일 가능성이 있습니다.\n"
     ]
    }
   ],
   "source": [
    "import numpy as np\n",
    "from scipy import stats\n",
    "\n",
    "# 모평균, 표준편차, 표본 크기 정의\n",
    "population_mean = 500\n",
    "sample_std = 25\n",
    "sample_size = 10\n",
    "\n",
    "# 표본 데이터 생성 (가정된 모집단에서 표본 추출)\n",
    "np.random.seed(42)  # 결과 재현을 위해 시드 설정\n",
    "sample_data = np.random.normal(population_mean, sample_std, sample_size)\n",
    "\n",
    "# t-검정 수행\n",
    "t_statistic, p_value = stats.ttest_1samp(sample_data, population_mean)\n",
    "\n",
    "# 결과 출력\n",
    "print(f\"표본 데이터: {sample_data}\")\n",
    "print(f\"t-검정 통계량: {t_statistic:.4f}\")\n",
    "print(f\"p-value: {p_value:.4f}\")\n",
    "\n",
    "# 결과 해석\n",
    "alpha = 0.05\n",
    "if p_value < alpha:\n",
    "    print(\"귀무가설을 기각합니다. 모평균은 500ml이 아닐 가능성이 있습니다.\")\n",
    "else:\n",
    "    print(\"귀무가설을 기각할 수 없습니다. 모평균은 500ml일 가능성이 있습니다.\")"
   ]
  },
  {
   "cell_type": "markdown",
   "id": "505757d8",
   "metadata": {},
   "source": [
    "# Two samples : test on two means"
   ]
  },
  {
   "cell_type": "markdown",
   "id": "b9debe4d",
   "metadata": {},
   "source": [
    "### 체크카드를 사용하면 신용카드를 사용할 때보다, 카드 사용액이 더 낮아진다는 의견이 나오고 있다. 그래서 실제로 어떠한지를 알아보기 위해 각 카드사용자 55명과 60명의 카드 사용액을 조사하였더니, 체크카드의 평균 사용액은 50만원이었고, 신용카드 평균 사용액은 100만원 이었다. 그럼 체크카드의 모표준편차는 25만원이고, 신용카드의 모표준편차는 30만원이라고 가정했을 때, 체크카드를 사용하면 카드 사용액이 더 낮아진다고 할 수 있는지 유의수준 1%에서 검정하시오. (모분산을 안다고 가정)"
   ]
  },
  {
   "attachments": {
    "image.png": {
     "image/png": "[encoded data removed]"
    }
   },
   "cell_type": "markdown",
   "id": "2a515d32",
   "metadata": {},
   "source": [
    "![image.png](attachment:image.png)"
   ]
  },
  {
   "cell_type": "code",
   "execution_count": 141,
   "id": "2345c6fc",
   "metadata": {},
   "outputs": [
    {
     "name": "stdout",
     "output_type": "stream",
     "text": [
      "Z-statistic: -9.7379\n",
      "p-value: 0.0000\n",
      "귀무가설을 기각합니다. 체크카드를 사용하면 카드 사용액이 더 낮아진다는 주장이 타당합니다.\n"
     ]
    }
   ],
   "source": [
    "#모분산 알때\n",
    "from scipy import stats\n",
    "\n",
    "# 주어진 데이터\n",
    "mean_check = 50  # 체크카드 평균 사용액\n",
    "mean_credit = 100  # 신용카드 평균 사용액\n",
    "std_check = 25  # 체크카드 모표준편차\n",
    "std_credit = 30  # 신용카드 모표준편차\n",
    "n_check = 55  # 체크카드 사용자 수\n",
    "n_credit = 60  # 신용카드 사용자 수\n",
    "alpha = 0.01  # 유의수준\n",
    "\n",
    "# Z-검정 통계량 계산\n",
    "std_error = ((std_check ** 2) / n_check + (std_credit ** 2) / n_credit) ** 0.5\n",
    "z_statistic = (mean_check - mean_credit) / std_error\n",
    "\n",
    "# p-value 계산 (단측 검정)\n",
    "p_value = stats.norm.cdf(z_statistic)\n",
    "\n",
    "# 결과 출력\n",
    "print(f\"Z-statistic: {z_statistic:.4f}\")\n",
    "print(f\"p-value: {p_value:.4f}\")\n",
    "\n",
    "# 유의수준과 비교하여 가설 판단\n",
    "if p_value < alpha:\n",
    "    print(\"귀무가설을 기각합니다. 체크카드를 사용하면 카드 사용액이 더 낮아진다는 주장이 타당합니다.\")\n",
    "else:\n",
    "    print(\"귀무가설을 기각할 수 없습니다. 체크카드를 사용하면 카드 사용액이 더 낮아진다는 주장을 받아들일 수 없습니다.\")"
   ]
  },
  {
   "cell_type": "markdown",
   "id": "9f31a681",
   "metadata": {},
   "source": [
    "### 공대생과 인문대생의 월평균독서량이 차이가 나는지를 알아보려고 한다. 그래서 공대생 10명과 인문대생 11명을 뽑아 월평균독서량을 조사하였더니, 평균은 각각 5권과 7권이 나왔고, 표본분산은 각각 0.5권과 2권이 나왔다. 그럼 공대생과 인문대생의 월평균 독서량 차이가 나는지를 유의수준 5%에서 검정하시오. (모분산을 모른다고 가정)"
   ]
  },
  {
   "attachments": {
    "image.png": {
     "image/png": "[encoded data removed]"
    }
   },
   "cell_type": "markdown",
   "id": "36dcf4f0",
   "metadata": {},
   "source": [
    "![image.png](attachment:image.png)"
   ]
  },
  {
   "cell_type": "code",
   "execution_count": 142,
   "id": "24f3c803",
   "metadata": {},
   "outputs": [
    {
     "name": "stdout",
     "output_type": "stream",
     "text": [
      "t-statistic: -4.0310\n",
      "p-value: 0.0007\n",
      "귀무가설을 기각합니다. 공대생과 인문대생의 평균 독서량은 차이가 있다고 할 수 있습니다.\n"
     ]
    }
   ],
   "source": [
    "#모분산 모를때\n",
    "from scipy import stats\n",
    "\n",
    "# 주어진 데이터\n",
    "mean_eng = 5  # 공대생 평균 독서량\n",
    "mean_lib = 7  # 인문대생 평균 독서량\n",
    "var_eng = 0.5  # 공대생 표본분산\n",
    "var_lib = 2  # 인문대생 표본분산\n",
    "n_eng = 10  # 공대생 수\n",
    "n_lib = 11  # 인문대생 수\n",
    "alpha = 0.05  # 유의수준\n",
    "\n",
    "t_statistic, p_value = stats.ttest_ind_from_stats(mean1=mean_eng, std1=(var_eng ** 0.5), nobs1=n_eng,\n",
    "                                                  mean2=mean_lib, std2=(var_lib ** 0.5), nobs2=n_lib)\n",
    "\n",
    "# 결과 출력\n",
    "print(f\"t-statistic: {t_statistic:.4f}\")\n",
    "print(f\"p-value: {p_value:.4f}\")\n",
    "\n",
    "# 유의수준과 비교하여 가설 판단\n",
    "if p_value < alpha:\n",
    "    print(\"귀무가설을 기각합니다. 공대생과 인문대생의 평균 독서량은 차이가 있다고 할 수 있습니다.\")\n",
    "else:\n",
    "    print(\"귀무가설을 기각할 수 없습니다. 공대생과 인문대생의 평균 독서량은 차이가 없다고 할 수 있습니다.\")"
   ]
  },
  {
   "cell_type": "markdown",
   "id": "59e7cddf",
   "metadata": {},
   "source": [
    "### 두 가지 제품을 생산하는 공장 A와 B의 생산량에 대한 평균 비교를 위해 각각 20개의 표본을 조사했다. 데이터로 두 공장의 평균 생산량이 같은지를 유의수준 0.05에서 가설검정하시오. (모분산을 모른다고 가정)"
   ]
  },
  {
   "cell_type": "code",
   "execution_count": 143,
   "id": "ff09be9d",
   "metadata": {},
   "outputs": [
    {
     "name": "stdout",
     "output_type": "stream",
     "text": [
      "t-검정 통계량: 2.2762\n",
      "p-value: 0.0286\n",
      "두 공장의 생산량에는 차이가 있다. 귀무가설을 기각합니다.\n"
     ]
    }
   ],
   "source": [
    "from scipy import stats\n",
    "import numpy as np\n",
    "\n",
    "# 데이터 생성\n",
    "np.random.seed(42)\n",
    "factory_A = np.random.normal(loc=45, scale=8, size=20)\n",
    "factory_B = np.random.normal(loc=40, scale=10, size=20)\n",
    "\n",
    "# t-검정 수행\n",
    "t_statistic, p_value = stats.ttest_ind(factory_A, factory_B)\n",
    "\n",
    "# 결과 출력\n",
    "print(f\"t-검정 통계량: {t_statistic:.4f}\")\n",
    "print(f\"p-value: {p_value:.4f}\")\n",
    "\n",
    "# 결과 해석\n",
    "alpha = 0.05\n",
    "if p_value < alpha:\n",
    "    print(\"두 공장의 생산량에는 차이가 있다. 귀무가설을 기각합니다.\")\n",
    "else:\n",
    "    print(\"두 공장의 생산량에는 차이가 없다. 귀무가설을 채택합니다.\")"
   ]
  },
  {
   "cell_type": "markdown",
   "id": "9ec2380a",
   "metadata": {},
   "source": [
    "# Non-parametric Tests"
   ]
  },
  {
   "cell_type": "markdown",
   "id": "a5530caa",
   "metadata": {},
   "source": [
    "Wilcoxon Signed-Rank Test 예제:\n",
    "Wilcoxon Signed-Rank Test는 두 관련 그룹 간의 차이를 검정하는 데 사용됩니다. 예를 들어, 동일한 개체 또는 짝을 이루는 데이터에서 두 가지 조건 간의 차이를 검정하는 데 유용합니다. 이 테스트는 데이터가 정규 분포를 따르지 않을 때 사용되며, 데이터 값이 서로 매우 관련되어 있을 때 유용합니다."
   ]
  },
  {
   "cell_type": "code",
   "execution_count": 144,
   "id": "6c9ef271",
   "metadata": {
    "scrolled": true
   },
   "outputs": [
    {
     "name": "stdout",
     "output_type": "stream",
     "text": [
      "검정 통계량: 0.0\n",
      "p-value: 0.001953125\n",
      "차이가 있다. 귀무가설을 기각합니다.\n"
     ]
    }
   ],
   "source": [
    "from scipy.stats import wilcoxon\n",
    "\n",
    "# 예제 데이터\n",
    "before = [28, 32, 25, 27, 30, 24, 26, 29, 31, 33]\n",
    "after = [31, 35, 29, 30, 34, 28, 30, 32, 34, 36]\n",
    "\n",
    "# Wilcoxon Signed-Rank Test 수행\n",
    "statistic, p_value = wilcoxon(before, after)\n",
    "print(f\"검정 통계량: {statistic}\")\n",
    "print(f\"p-value: {p_value}\")\n",
    "\n",
    "# 결과 해석\n",
    "if p_value < 0.05:\n",
    "    print(\"차이가 있다. 귀무가설을 기각합니다.\")\n",
    "else:\n",
    "    print(\"차이가 없다. 귀무가설을 채택합니다.\")"
   ]
  },
  {
   "cell_type": "markdown",
   "id": "dcabd8a8",
   "metadata": {},
   "source": [
    "Wilcoxon Rank-Sum Test 예제:\n",
    "Wilcoxon Rank-Sum Test는 두 독립된 그룹 간의 차이를 비교하는 데 사용됩니다. 이는 두 개의 독립된 그룹에서의 분포 차이를 비교할 때 유용합니다."
   ]
  },
  {
   "cell_type": "code",
   "execution_count": 145,
   "id": "1553d517",
   "metadata": {},
   "outputs": [
    {
     "name": "stdout",
     "output_type": "stream",
     "text": [
      "검정 통계량: -1.6711454971746993\n",
      "p-value: 0.09469294259947589\n",
      "두 그룹은 서로 같다. 귀무가설을 채택합니다.\n"
     ]
    }
   ],
   "source": [
    "from scipy.stats import ranksums\n",
    "\n",
    "# 예제 데이터\n",
    "group1 = [28, 32, 25, 27, 30]\n",
    "group2 = [31, 35, 29, 30, 34]\n",
    "\n",
    "# Wilcoxon Rank-Sum Test 수행\n",
    "statistic, p_value = ranksums(group1, group2)\n",
    "print(f\"검정 통계량: {statistic}\")\n",
    "print(f\"p-value: {p_value}\")\n",
    "\n",
    "# 결과 해석\n",
    "if p_value < 0.05:\n",
    "    print(\"두 그룹은 서로 다르다. 귀무가설을 기각합니다.\")\n",
    "else:\n",
    "    print(\"두 그룹은 서로 같다. 귀무가설을 채택합니다.\")"
   ]
  },
  {
   "cell_type": "code",
   "execution_count": null,
   "id": "19bcc642",
   "metadata": {},
   "outputs": [],
   "source": []
  }
 ],
 "metadata": {
  "kernelspec": {
   "display_name": "Python 3 (ipykernel)",
   "language": "python",
   "name": "python3"
  },
  "language_info": {
   "codemirror_mode": {
    "name": "ipython",
    "version": 3
   },
   "file_extension": ".py",
   "mimetype": "text/x-python",
   "name": "python",
   "nbconvert_exporter": "python",
   "pygments_lexer": "ipython3",
   "version": "3.10.6"
  }
 },
 "nbformat": 4,
 "nbformat_minor": 5
}
