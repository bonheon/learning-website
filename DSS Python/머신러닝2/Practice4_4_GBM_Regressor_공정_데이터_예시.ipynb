{
  "cells": [
    {
      "cell_type": "markdown",
      "id": "59310939",
      "metadata": {
        "id": "59310939"
      },
      "source": [
        "# Gradient Boosting Machine(GBM)"
      ]
    },
    {
      "cell_type": "markdown",
      "id": "a5837f62",
      "metadata": {
        "id": "a5837f62"
      },
      "source": [
        "## GBM 회귀모델\n",
        "- GBM은 𝑚라운드의 베이스 모델 $ℎ_𝑚$ 이 $(m-1)$라운드까지의 베이스 모델을 결합한 $𝐻𝑚−1=ℎ_1+⋯+ℎ_{𝑚−1}$의 예측 오류를 학습하는 알고리즘\n",
        "- 즉, 이전 결합 모델 $H_{m-1}$의 예측 오류는 예측 불가능한 랜덤 노이즈가 아닌 아직까지 학습 못한 특징이라고 가정함\n",
        "- 베이스모델로는 의사결정나무 알고리즘인 **CART**를 주로 사용\n",
        "- $h_0$는 초기값으로 일반적으로 회귀문제에서 출력변수의 평균을 사용함. 실질적으로 $h_1$ 부터 베이스 모델을 학습시킴\n",
        "\n",
        "![](img\\gbm회귀.png)"
      ]
    },
    {
      "cell_type": "code",
      "source": [
        "# 한글 폰트 설치\n",
        "!sudo apt-get install -y fonts-nanum\n",
        "!sudo fc-cache -fv\n",
        "!rm ~/.cache/matplotlib -rf"
      ],
      "metadata": {
        "colab": {
          "base_uri": "https://localhost:8080/"
        },
        "id": "rx1z1t-BPOQh",
        "outputId": "43a8dc9f-7edc-48b8-b809-93222b0581df"
      },
      "id": "rx1z1t-BPOQh",
      "execution_count": null,
      "outputs": [
        {
          "output_type": "stream",
          "name": "stdout",
          "text": [
            "Reading package lists... Done\n",
            "Building dependency tree... Done\n",
            "Reading state information... Done\n",
            "fonts-nanum is already the newest version (20200506-1).\n",
            "0 upgraded, 0 newly installed, 0 to remove and 45 not upgraded.\n",
            "/usr/share/fonts: caching, new cache contents: 0 fonts, 1 dirs\n",
            "/usr/share/fonts/truetype: caching, new cache contents: 0 fonts, 3 dirs\n",
            "/usr/share/fonts/truetype/humor-sans: caching, new cache contents: 1 fonts, 0 dirs\n",
            "/usr/share/fonts/truetype/liberation: caching, new cache contents: 16 fonts, 0 dirs\n",
            "/usr/share/fonts/truetype/nanum: caching, new cache contents: 12 fonts, 0 dirs\n",
            "/usr/local/share/fonts: caching, new cache contents: 0 fonts, 0 dirs\n",
            "/root/.local/share/fonts: skipping, no such directory\n",
            "/root/.fonts: skipping, no such directory\n",
            "/usr/share/fonts/truetype: skipping, looped directory detected\n",
            "/usr/share/fonts/truetype/humor-sans: skipping, looped directory detected\n",
            "/usr/share/fonts/truetype/liberation: skipping, looped directory detected\n",
            "/usr/share/fonts/truetype/nanum: skipping, looped directory detected\n",
            "/var/cache/fontconfig: cleaning cache directory\n",
            "/root/.cache/fontconfig: not cleaning non-existent cache directory\n",
            "/root/.fontconfig: not cleaning non-existent cache directory\n",
            "fc-cache: succeeded\n"
          ]
        }
      ]
    },
    {
      "cell_type": "markdown",
      "id": "2ac2d223",
      "metadata": {
        "id": "2ac2d223"
      },
      "source": [
        "### 1. 데이터 로드 및 전처리"
      ]
    },
    {
      "cell_type": "code",
      "execution_count": null,
      "id": "d881ae50",
      "metadata": {
        "id": "d881ae50"
      },
      "outputs": [],
      "source": [
        "import numpy as np\n",
        "import pandas as pd\n",
        "from sklearn.linear_model import LinearRegression\n",
        "from sklearn.metrics import mean_squared_error, mean_absolute_error, r2_score\n",
        "from matplotlib import pyplot as plt\n",
        "from sklearn.model_selection import train_test_split\n",
        "from sklearn.linear_model import LogisticRegression\n",
        "from sklearn.metrics import mean_absolute_percentage_error\n",
        "import matplotlib"
      ]
    },
    {
      "cell_type": "code",
      "source": [
        "from google.colab import drive\n",
        "drive.mount('/content/drive')"
      ],
      "metadata": {
        "colab": {
          "base_uri": "https://localhost:8080/"
        },
        "id": "hUHkGe-z2gKQ",
        "outputId": "e0f024e6-19d4-45c2-c601-812017608d17"
      },
      "execution_count": null,
      "outputs": [
        {
          "output_type": "stream",
          "name": "stdout",
          "text": [
            "Drive already mounted at /content/drive; to attempt to forcibly remount, call drive.mount(\"/content/drive\", force_remount=True).\n"
          ]
        }
      ],
      "id": "hUHkGe-z2gKQ"
    },
    {
      "cell_type": "code",
      "source": [
        "# 데이터 로드\n",
        "URL = \"/content/drive/MyDrive/SIL/WORK/DSS 머신러닝2/\" # 데이터 위치 설정\n",
        "data = df = pd.read_csv(URL+\"data/Fault_data.csv\",encoding=\"EUC-KR\")"
      ],
      "metadata": {
        "id": "gqWTG93w2n9z"
      },
      "execution_count": null,
      "outputs": [],
      "id": "gqWTG93w2n9z"
    },
    {
      "cell_type": "code",
      "execution_count": null,
      "id": "7a9865fb",
      "metadata": {
        "id": "7a9865fb",
        "outputId": "9e50c9a0-86e1-41c5-afdd-c380b7cad84c",
        "colab": {
          "base_uri": "https://localhost:8080/",
          "height": 193
        }
      },
      "outputs": [
        {
          "output_type": "execute_result",
          "data": {
            "text/plain": [
              "   CHAMBER  TAE.STDDEV0  TAE.MEAN0  TAE.RANGE0  PC.STDDEV0  PC.MEAN0  \\\n",
              "0        4     0.044554  38.083127    0.254154    0.124753  0.044329   \n",
              "1        2     0.034801  38.052395    0.063538    0.177575  0.342131   \n",
              "2        3     0.030089  38.046407    0.127080    0.137559  0.063983   \n",
              "\n",
              "   PC.RANGE0  CROT.STDDEV0  CROT.MEAN0  CROT.RANGE0  ...  PC.RANGE12  \\\n",
              "0   0.439883             0          35            0  ...   17.350926   \n",
              "1   0.439883             0          27            0  ...    1.466280   \n",
              "2   0.488759             0          15            0  ...   13.098728   \n",
              "\n",
              "   TAE.STDDEV9  TAE.MEAN9  TAE.RANGE9  CROT.STDDEV9  CROT.MEAN9  CROT.RANGE9  \\\n",
              "0     0.032832  35.011650    0.127077             0          35            0   \n",
              "1     0.020858  35.550245    0.063540             0          27            0   \n",
              "2     0.021635  36.013373    0.063538             0          15            0   \n",
              "\n",
              "   PC.STDDEV9   PC.MEAN9  PC.RANGE9  \n",
              "0    0.405343  45.124841   3.079182  \n",
              "1    1.923012  45.350277  15.004887  \n",
              "2    0.161640  45.071393   0.977516  \n",
              "\n",
              "[3 rows x 136 columns]"
            ],
            "text/html": [
              "\n",
              "  <div id=\"df-0b55ac7f-80b3-49ad-a9ab-318781a15542\" class=\"colab-df-container\">\n",
              "    <div>\n",
              "<style scoped>\n",
              "    .dataframe tbody tr th:only-of-type {\n",
              "        vertical-align: middle;\n",
              "    }\n",
              "\n",
              "    .dataframe tbody tr th {\n",
              "        vertical-align: top;\n",
              "    }\n",
              "\n",
              "    .dataframe thead th {\n",
              "        text-align: right;\n",
              "    }\n",
              "</style>\n",
              "<table border=\"1\" class=\"dataframe\">\n",
              "  <thead>\n",
              "    <tr style=\"text-align: right;\">\n",
              "      <th></th>\n",
              "      <th>CHAMBER</th>\n",
              "      <th>TAE.STDDEV0</th>\n",
              "      <th>TAE.MEAN0</th>\n",
              "      <th>TAE.RANGE0</th>\n",
              "      <th>PC.STDDEV0</th>\n",
              "      <th>PC.MEAN0</th>\n",
              "      <th>PC.RANGE0</th>\n",
              "      <th>CROT.STDDEV0</th>\n",
              "      <th>CROT.MEAN0</th>\n",
              "      <th>CROT.RANGE0</th>\n",
              "      <th>...</th>\n",
              "      <th>PC.RANGE12</th>\n",
              "      <th>TAE.STDDEV9</th>\n",
              "      <th>TAE.MEAN9</th>\n",
              "      <th>TAE.RANGE9</th>\n",
              "      <th>CROT.STDDEV9</th>\n",
              "      <th>CROT.MEAN9</th>\n",
              "      <th>CROT.RANGE9</th>\n",
              "      <th>PC.STDDEV9</th>\n",
              "      <th>PC.MEAN9</th>\n",
              "      <th>PC.RANGE9</th>\n",
              "    </tr>\n",
              "  </thead>\n",
              "  <tbody>\n",
              "    <tr>\n",
              "      <th>0</th>\n",
              "      <td>4</td>\n",
              "      <td>0.044554</td>\n",
              "      <td>38.083127</td>\n",
              "      <td>0.254154</td>\n",
              "      <td>0.124753</td>\n",
              "      <td>0.044329</td>\n",
              "      <td>0.439883</td>\n",
              "      <td>0</td>\n",
              "      <td>35</td>\n",
              "      <td>0</td>\n",
              "      <td>...</td>\n",
              "      <td>17.350926</td>\n",
              "      <td>0.032832</td>\n",
              "      <td>35.011650</td>\n",
              "      <td>0.127077</td>\n",
              "      <td>0</td>\n",
              "      <td>35</td>\n",
              "      <td>0</td>\n",
              "      <td>0.405343</td>\n",
              "      <td>45.124841</td>\n",
              "      <td>3.079182</td>\n",
              "    </tr>\n",
              "    <tr>\n",
              "      <th>1</th>\n",
              "      <td>2</td>\n",
              "      <td>0.034801</td>\n",
              "      <td>38.052395</td>\n",
              "      <td>0.063538</td>\n",
              "      <td>0.177575</td>\n",
              "      <td>0.342131</td>\n",
              "      <td>0.439883</td>\n",
              "      <td>0</td>\n",
              "      <td>27</td>\n",
              "      <td>0</td>\n",
              "      <td>...</td>\n",
              "      <td>1.466280</td>\n",
              "      <td>0.020858</td>\n",
              "      <td>35.550245</td>\n",
              "      <td>0.063540</td>\n",
              "      <td>0</td>\n",
              "      <td>27</td>\n",
              "      <td>0</td>\n",
              "      <td>1.923012</td>\n",
              "      <td>45.350277</td>\n",
              "      <td>15.004887</td>\n",
              "    </tr>\n",
              "    <tr>\n",
              "      <th>2</th>\n",
              "      <td>3</td>\n",
              "      <td>0.030089</td>\n",
              "      <td>38.046407</td>\n",
              "      <td>0.127080</td>\n",
              "      <td>0.137559</td>\n",
              "      <td>0.063983</td>\n",
              "      <td>0.488759</td>\n",
              "      <td>0</td>\n",
              "      <td>15</td>\n",
              "      <td>0</td>\n",
              "      <td>...</td>\n",
              "      <td>13.098728</td>\n",
              "      <td>0.021635</td>\n",
              "      <td>36.013373</td>\n",
              "      <td>0.063538</td>\n",
              "      <td>0</td>\n",
              "      <td>15</td>\n",
              "      <td>0</td>\n",
              "      <td>0.161640</td>\n",
              "      <td>45.071393</td>\n",
              "      <td>0.977516</td>\n",
              "    </tr>\n",
              "  </tbody>\n",
              "</table>\n",
              "<p>3 rows × 136 columns</p>\n",
              "</div>\n",
              "    <div class=\"colab-df-buttons\">\n",
              "\n",
              "  <div class=\"colab-df-container\">\n",
              "    <button class=\"colab-df-convert\" onclick=\"convertToInteractive('df-0b55ac7f-80b3-49ad-a9ab-318781a15542')\"\n",
              "            title=\"Convert this dataframe to an interactive table.\"\n",
              "            style=\"display:none;\">\n",
              "\n",
              "  <svg xmlns=\"http://www.w3.org/2000/svg\" height=\"24px\" viewBox=\"0 -960 960 960\">\n",
              "    <path d=\"M120-120v-720h720v720H120Zm60-500h600v-160H180v160Zm220 220h160v-160H400v160Zm0 220h160v-160H400v160ZM180-400h160v-160H180v160Zm440 0h160v-160H620v160ZM180-180h160v-160H180v160Zm440 0h160v-160H620v160Z\"/>\n",
              "  </svg>\n",
              "    </button>\n",
              "\n",
              "  <style>\n",
              "    .colab-df-container {\n",
              "      display:flex;\n",
              "      gap: 12px;\n",
              "    }\n",
              "\n",
              "    .colab-df-convert {\n",
              "      background-color: #E8F0FE;\n",
              "      border: none;\n",
              "      border-radius: 50%;\n",
              "      cursor: pointer;\n",
              "      display: none;\n",
              "      fill: #1967D2;\n",
              "      height: 32px;\n",
              "      padding: 0 0 0 0;\n",
              "      width: 32px;\n",
              "    }\n",
              "\n",
              "    .colab-df-convert:hover {\n",
              "      background-color: #E2EBFA;\n",
              "      box-shadow: 0px 1px 2px rgba(60, 64, 67, 0.3), 0px 1px 3px 1px rgba(60, 64, 67, 0.15);\n",
              "      fill: #174EA6;\n",
              "    }\n",
              "\n",
              "    .colab-df-buttons div {\n",
              "      margin-bottom: 4px;\n",
              "    }\n",
              "\n",
              "    [theme=dark] .colab-df-convert {\n",
              "      background-color: #3B4455;\n",
              "      fill: #D2E3FC;\n",
              "    }\n",
              "\n",
              "    [theme=dark] .colab-df-convert:hover {\n",
              "      background-color: #434B5C;\n",
              "      box-shadow: 0px 1px 3px 1px rgba(0, 0, 0, 0.15);\n",
              "      filter: drop-shadow(0px 1px 2px rgba(0, 0, 0, 0.3));\n",
              "      fill: #FFFFFF;\n",
              "    }\n",
              "  </style>\n",
              "\n",
              "    <script>\n",
              "      const buttonEl =\n",
              "        document.querySelector('#df-0b55ac7f-80b3-49ad-a9ab-318781a15542 button.colab-df-convert');\n",
              "      buttonEl.style.display =\n",
              "        google.colab.kernel.accessAllowed ? 'block' : 'none';\n",
              "\n",
              "      async function convertToInteractive(key) {\n",
              "        const element = document.querySelector('#df-0b55ac7f-80b3-49ad-a9ab-318781a15542');\n",
              "        const dataTable =\n",
              "          await google.colab.kernel.invokeFunction('convertToInteractive',\n",
              "                                                    [key], {});\n",
              "        if (!dataTable) return;\n",
              "\n",
              "        const docLinkHtml = 'Like what you see? Visit the ' +\n",
              "          '<a target=\"_blank\" href=https://colab.research.google.com/notebooks/data_table.ipynb>data table notebook</a>'\n",
              "          + ' to learn more about interactive tables.';\n",
              "        element.innerHTML = '';\n",
              "        dataTable['output_type'] = 'display_data';\n",
              "        await google.colab.output.renderOutput(dataTable, element);\n",
              "        const docLink = document.createElement('div');\n",
              "        docLink.innerHTML = docLinkHtml;\n",
              "        element.appendChild(docLink);\n",
              "      }\n",
              "    </script>\n",
              "  </div>\n",
              "\n",
              "\n",
              "<div id=\"df-27d17e96-4457-4a10-a3b7-77d080a37705\">\n",
              "  <button class=\"colab-df-quickchart\" onclick=\"quickchart('df-27d17e96-4457-4a10-a3b7-77d080a37705')\"\n",
              "            title=\"Suggest charts\"\n",
              "            style=\"display:none;\">\n",
              "\n",
              "<svg xmlns=\"http://www.w3.org/2000/svg\" height=\"24px\"viewBox=\"0 0 24 24\"\n",
              "     width=\"24px\">\n",
              "    <g>\n",
              "        <path d=\"M19 3H5c-1.1 0-2 .9-2 2v14c0 1.1.9 2 2 2h14c1.1 0 2-.9 2-2V5c0-1.1-.9-2-2-2zM9 17H7v-7h2v7zm4 0h-2V7h2v10zm4 0h-2v-4h2v4z\"/>\n",
              "    </g>\n",
              "</svg>\n",
              "  </button>\n",
              "\n",
              "<style>\n",
              "  .colab-df-quickchart {\n",
              "      --bg-color: #E8F0FE;\n",
              "      --fill-color: #1967D2;\n",
              "      --hover-bg-color: #E2EBFA;\n",
              "      --hover-fill-color: #174EA6;\n",
              "      --disabled-fill-color: #AAA;\n",
              "      --disabled-bg-color: #DDD;\n",
              "  }\n",
              "\n",
              "  [theme=dark] .colab-df-quickchart {\n",
              "      --bg-color: #3B4455;\n",
              "      --fill-color: #D2E3FC;\n",
              "      --hover-bg-color: #434B5C;\n",
              "      --hover-fill-color: #FFFFFF;\n",
              "      --disabled-bg-color: #3B4455;\n",
              "      --disabled-fill-color: #666;\n",
              "  }\n",
              "\n",
              "  .colab-df-quickchart {\n",
              "    background-color: var(--bg-color);\n",
              "    border: none;\n",
              "    border-radius: 50%;\n",
              "    cursor: pointer;\n",
              "    display: none;\n",
              "    fill: var(--fill-color);\n",
              "    height: 32px;\n",
              "    padding: 0;\n",
              "    width: 32px;\n",
              "  }\n",
              "\n",
              "  .colab-df-quickchart:hover {\n",
              "    background-color: var(--hover-bg-color);\n",
              "    box-shadow: 0 1px 2px rgba(60, 64, 67, 0.3), 0 1px 3px 1px rgba(60, 64, 67, 0.15);\n",
              "    fill: var(--button-hover-fill-color);\n",
              "  }\n",
              "\n",
              "  .colab-df-quickchart-complete:disabled,\n",
              "  .colab-df-quickchart-complete:disabled:hover {\n",
              "    background-color: var(--disabled-bg-color);\n",
              "    fill: var(--disabled-fill-color);\n",
              "    box-shadow: none;\n",
              "  }\n",
              "\n",
              "  .colab-df-spinner {\n",
              "    border: 2px solid var(--fill-color);\n",
              "    border-color: transparent;\n",
              "    border-bottom-color: var(--fill-color);\n",
              "    animation:\n",
              "      spin 1s steps(1) infinite;\n",
              "  }\n",
              "\n",
              "  @keyframes spin {\n",
              "    0% {\n",
              "      border-color: transparent;\n",
              "      border-bottom-color: var(--fill-color);\n",
              "      border-left-color: var(--fill-color);\n",
              "    }\n",
              "    20% {\n",
              "      border-color: transparent;\n",
              "      border-left-color: var(--fill-color);\n",
              "      border-top-color: var(--fill-color);\n",
              "    }\n",
              "    30% {\n",
              "      border-color: transparent;\n",
              "      border-left-color: var(--fill-color);\n",
              "      border-top-color: var(--fill-color);\n",
              "      border-right-color: var(--fill-color);\n",
              "    }\n",
              "    40% {\n",
              "      border-color: transparent;\n",
              "      border-right-color: var(--fill-color);\n",
              "      border-top-color: var(--fill-color);\n",
              "    }\n",
              "    60% {\n",
              "      border-color: transparent;\n",
              "      border-right-color: var(--fill-color);\n",
              "    }\n",
              "    80% {\n",
              "      border-color: transparent;\n",
              "      border-right-color: var(--fill-color);\n",
              "      border-bottom-color: var(--fill-color);\n",
              "    }\n",
              "    90% {\n",
              "      border-color: transparent;\n",
              "      border-bottom-color: var(--fill-color);\n",
              "    }\n",
              "  }\n",
              "</style>\n",
              "\n",
              "  <script>\n",
              "    async function quickchart(key) {\n",
              "      const quickchartButtonEl =\n",
              "        document.querySelector('#' + key + ' button');\n",
              "      quickchartButtonEl.disabled = true;  // To prevent multiple clicks.\n",
              "      quickchartButtonEl.classList.add('colab-df-spinner');\n",
              "      try {\n",
              "        const charts = await google.colab.kernel.invokeFunction(\n",
              "            'suggestCharts', [key], {});\n",
              "      } catch (error) {\n",
              "        console.error('Error during call to suggestCharts:', error);\n",
              "      }\n",
              "      quickchartButtonEl.classList.remove('colab-df-spinner');\n",
              "      quickchartButtonEl.classList.add('colab-df-quickchart-complete');\n",
              "    }\n",
              "    (() => {\n",
              "      let quickchartButtonEl =\n",
              "        document.querySelector('#df-27d17e96-4457-4a10-a3b7-77d080a37705 button');\n",
              "      quickchartButtonEl.style.display =\n",
              "        google.colab.kernel.accessAllowed ? 'block' : 'none';\n",
              "    })();\n",
              "  </script>\n",
              "</div>\n",
              "    </div>\n",
              "  </div>\n"
            ],
            "application/vnd.google.colaboratory.intrinsic+json": {
              "type": "dataframe",
              "variable_name": "X"
            }
          },
          "metadata": {},
          "execution_count": 28
        }
      ],
      "source": [
        "data.drop([\"자재구분\",\"END_DATE_TIME\"],axis=1,inplace=True)\n",
        "data.dropna(axis=1,inplace=True)\n",
        "\n",
        "#X,Y 분할\n",
        "Y=data[\"Y\"].copy()\n",
        "X=data.drop(\"Y\",axis=1)\n",
        "X.head(3)"
      ]
    },
    {
      "cell_type": "markdown",
      "id": "b777446f",
      "metadata": {
        "id": "b777446f"
      },
      "source": [
        "### 2. 평가 지표 함수"
      ]
    },
    {
      "cell_type": "code",
      "execution_count": null,
      "id": "4edb4c2f",
      "metadata": {
        "id": "4edb4c2f"
      },
      "outputs": [],
      "source": [
        "# 평가 지표 출력 함수\n",
        "def print_all_reg(Y_test,pred):\n",
        "    print(\"model의 MSE 값은 {:.3f}\".format(mean_squared_error(Y_test,pred)))\n",
        "    print(\"model의 MAE 값은 {:.3f}\".format(mean_absolute_error(Y_test, pred)))\n",
        "    print(\"model의 MAPE 값은 {:.3f}\".format(mean_absolute_percentage_error(Y_test, pred)))\n",
        "    print(\"model의 r2 값은 {:.3f}\".format(r2_score(Y_test, pred)))"
      ]
    },
    {
      "cell_type": "markdown",
      "id": "5cab01cc",
      "metadata": {
        "id": "5cab01cc"
      },
      "source": [
        "### 3. 모델 학습 및 예측"
      ]
    },
    {
      "cell_type": "code",
      "execution_count": null,
      "id": "16961553",
      "metadata": {
        "id": "16961553"
      },
      "outputs": [],
      "source": [
        "#train test split\n",
        "X_train, X_test, Y_train, Y_test = train_test_split(X, Y, test_size=0.2, random_state=5,shuffle =True)"
      ]
    },
    {
      "cell_type": "markdown",
      "id": "3be45858",
      "metadata": {
        "id": "3be45858"
      },
      "source": [
        "[[Documentation](https://scikit-learn.org/stable/modules/generated/sklearn.model_selection.train_test_split.html)]  \n",
        "**sklearn.model_selection.train_test_split**\n",
        "- **test_size** : float or int, default = 0.25, 정수값일시 test사이즈로 설정하고 싶은 샘플 수 입력\n",
        "- **train_size** : float or int, default = None\n",
        "- **random_state** : int, default = None, 랜덤 seed값 설정, 같은 seed 내에선 동일결과 추출\n",
        "- **shuffle** : bool, default = True, 데이터셋 무작위 추출, 시계열 데이터와 같이 순차적 추출이 필요한 경우엔 Shuffle = False!\n",
        "- **stratify** : array-like, default = None, True일시 계층적 샘플링 진행 ([참고](https://www.investopedia.com/terms/stratified_random_sampling.asp))"
      ]
    },
    {
      "cell_type": "markdown",
      "id": "36be7abd",
      "metadata": {
        "id": "36be7abd"
      },
      "source": [
        "[[GradientBoostingRegressor](https://scikit-learn.org/stable/modules/generated/sklearn.ensemble.GradientBoostingRegressor.html)]         \n",
        "**주요 하이퍼파라미터**\n",
        "- **loss** : {‘squared_error’, ‘absolute_error’, ‘huber’, ‘quantile’}, default=’squared_error’, 경사하강법을 활용한 예측오류 학습과정에서 사용할 손실함수\n",
        "- **learning_rate** : float, default=0.1, 학습률 설정\n",
        "    - 너무 작을시 : 예측성능은 높아질 수 있으나, 학습시간이 오래걸리고 local minima 문제가 발생 할 수 있음. 베이스 모델의 영향력이 과도하게 수축되어 과소적합\n",
        "    - 너무 클 시 : 학습속도가 빠르지만 global mimimum값을 찾지 못할 수 있으며, 베이스 모델 영향력이 과도하게 커져 과적합이 나타남.\n",
        "- **n_estimators** : int, default=100, 베이스모델의 개수로 많을수록 예측성능은 높아질 수 있으나 학습시간이 오래걸린다.\n",
        "- **max_depth** : int, default = 3, 각 트리의 최대깊이를 설정. 값이 클수록 모델의 복잡도가 올라간다.\n",
        "- **min_samples_split** : int or float, default = 2, 자식노드를 분할하는데 필요한 최소 샘플의 수\n",
        "- **min_samples_leaf** : int or float, default = 1, leaf node에서 필요한 최소 샘풀수이며, 너무 적을 시 과적합 발생\n",
        "- **max_leaf_nodes** : int, default=None, 최대 leaf node 수 제한\n",
        "- **validation_fraction** : float, default=0.1, 훈련데이터 중 설정 비율만큼 검증용 데이터셋으로 활용한다.\n",
        "- **n_iter_no_change** : int, default=None, validation_fraction에서 설정한 검증데이터셋에서 n_iter_no_change에 지정한 반복 횟수동안 검증점수가 좋아지지 않으면 학습을 조기종료한다.\n",
        "- **ccp_alpha** : non-negative float, default=0.0"
      ]
    },
    {
      "cell_type": "code",
      "execution_count": null,
      "id": "2899f4fa",
      "metadata": {
        "id": "2899f4fa",
        "outputId": "a8bff453-2840-45b8-aceb-2d250fb091cc",
        "colab": {
          "base_uri": "https://localhost:8080/"
        }
      },
      "outputs": [
        {
          "output_type": "stream",
          "name": "stdout",
          "text": [
            "0.001\n",
            "model의 MSE 값은 2289.656\n",
            "model의 MAE 값은 36.841\n",
            "model의 MAPE 값은 0.478\n",
            "model의 r2 값은 -3.367\n",
            "\n",
            "model의 MSE 값은 1177.634\n",
            "model의 MAE 값은 29.292\n",
            "model의 MAPE 값은 0.423\n",
            "model의 r2 값은 -1.407\n",
            "0.002\n",
            "model의 MSE 값은 1351.341\n",
            "model의 MAE 값은 27.807\n",
            "model의 MAPE 값은 0.384\n",
            "model의 r2 값은 -0.030\n",
            "\n",
            "model의 MSE 값은 1018.347\n",
            "model의 MAE 값은 26.012\n",
            "model의 MAPE 값은 0.390\n",
            "model의 r2 값은 0.107\n",
            "0.005\n",
            "model의 MSE 값은 1014.330\n",
            "model의 MAE 값은 23.230\n",
            "model의 MAPE 값은 0.339\n",
            "model의 r2 값은 0.468\n",
            "\n",
            "model의 MSE 값은 1074.681\n",
            "model의 MAE 값은 25.611\n",
            "model의 MAPE 값은 0.384\n",
            "model의 r2 값은 0.320\n",
            "0.01\n",
            "model의 MSE 값은 1064.794\n",
            "model의 MAE 값은 24.061\n",
            "model의 MAPE 값은 0.347\n",
            "model의 r2 값은 0.398\n",
            "\n",
            "model의 MSE 값은 1068.333\n",
            "model의 MAE 값은 25.495\n",
            "model의 MAPE 값은 0.381\n",
            "model의 r2 값은 0.312\n",
            "0.02\n",
            "model의 MSE 값은 613.478\n",
            "model의 MAE 값은 15.467\n",
            "model의 MAPE 값은 0.252\n",
            "model의 r2 값은 0.796\n",
            "\n",
            "model의 MSE 값은 1221.570\n",
            "model의 MAE 값은 25.670\n",
            "model의 MAPE 값은 0.394\n",
            "model의 r2 값은 0.478\n",
            "0.1\n",
            "model의 MSE 값은 453.408\n",
            "model의 MAE 값은 8.729\n",
            "model의 MAPE 값은 0.139\n",
            "model의 r2 값은 0.883\n",
            "\n",
            "model의 MSE 값은 1650.914\n",
            "model의 MAE 값은 28.620\n",
            "model의 MAPE 값은 0.417\n",
            "model의 r2 값은 0.441\n",
            "0.8\n",
            "model의 MSE 값은 624.968\n",
            "model의 MAE 값은 6.691\n",
            "model의 MAPE 값은 0.107\n",
            "model의 r2 값은 0.862\n",
            "\n",
            "model의 MSE 값은 2750.993\n",
            "model의 MAE 값은 35.487\n",
            "model의 MAPE 값은 0.562\n",
            "model의 r2 값은 0.376\n"
          ]
        }
      ],
      "source": [
        "from sklearn.ensemble import GradientBoostingRegressor\n",
        "\n",
        "#ccp_alpha_list = list(np.arange(0.1,1,0.1)) # 0.1부터 0.9까지 0.1 간격으로 출력한 값을 리스트로 반환\n",
        "learning_rate_list = [0.001,0.002,0.005,0.01,0.02,0.1,0.8]\n",
        "\n",
        "train_scores =[]\n",
        "test_scores =[]\n",
        "for alpha in learning_rate_list: # 사전 정의한 리스트의 각 값마다 모델을 학습하여 최적값 도출\n",
        "    print(alpha)\n",
        "    clf = GradientBoostingRegressor(random_state=5,n_estimators = 500,learning_rate = alpha\n",
        "                                    #,min_samples_leaf = 2,min_samples_split = 2\n",
        "                                    ,validation_fraction = 0.2, n_iter_no_change = 20,\n",
        "                                    # ccp_alpha = 50\n",
        "                                   ) # ccp_alpha 값보다 작으면서 비용복잡도가 가장 큰 Subtree로 GBM모델 학습\n",
        "\n",
        "    clf.fit(X_train,Y_train) # 정의한 GBM 모델로 훈련데이터 학습\n",
        "\n",
        "    preds_train = clf.predict(X_train) # 훈련데이터로 학습한 모델로 y값 예측\n",
        "    preds = clf.predict(X_test) # 실제 테스트 데이터로 y값 예측\n",
        "\n",
        "    train_scores.append(mean_absolute_error(Y_train,preds_train)) # 훈련 성능 평가\n",
        "    test_scores.append(mean_absolute_error(Y_test,preds)) # 테스트 성능 평가\n",
        "\n",
        "    print_all_reg(preds_train,Y_train) # 평가지표 출력\n",
        "    print(\"\")\n",
        "    print_all_reg(preds,Y_test)"
      ]
    },
    {
      "cell_type": "code",
      "execution_count": null,
      "id": "e3ac0cb9",
      "metadata": {
        "id": "e3ac0cb9",
        "outputId": "0bc1fdfc-7ea7-418c-8142-6b1bbd2ad9ad",
        "colab": {
          "base_uri": "https://localhost:8080/",
          "height": 449
        }
      },
      "outputs": [
        {
          "output_type": "display_data",
          "data": {
            "text/plain": [
              "<Figure size 640x480 with 1 Axes>"
            ],
            "image/png": "[encoded data removed]"
          },
          "metadata": {}
        }
      ],
      "source": [
        "fig, ax = plt.subplots()\n",
        "ax.set_xlabel(\"Learning Rate\")\n",
        "ax.set_ylabel(\"Mean absolute error\")\n",
        "\n",
        "#ax.set_title(\"나무 복잡도 증가에 따른 오분류율 그래프\")\n",
        "ax.plot(learning_rate_list, train_scores,  label=\"train data\", drawstyle=\"steps-post\")\n",
        "ax.plot(learning_rate_list, test_scores,  label=\"test data\", drawstyle=\"steps-post\")\n",
        "\n",
        "#ax.plot(ccp_alpha_list, train_scores, drawstyle=\"steps-post\")\n",
        "#ax.plot(ccp_alpha_list, test_scores, drawstyle=\"steps-post\")\n",
        "\n",
        "ax.legend()\n",
        "#plt.xlim(0.7)\n",
        "plt.show()\n",
        "plt.close('all')"
      ]
    },
    {
      "cell_type": "code",
      "execution_count": null,
      "metadata": {
        "id": "2be3104e",
        "colab": {
          "base_uri": "https://localhost:8080/",
          "height": 109
        },
        "outputId": "2d4f4a7b-2d28-4c6b-a226-d5e5fb822723"
      },
      "outputs": [
        {
          "output_type": "execute_result",
          "data": {
            "text/plain": [
              "GradientBoostingRegressor(learning_rate=0.8, n_estimators=500,\n",
              "                          n_iter_no_change=20, random_state=12,\n",
              "                          validation_fraction=0.2)"
            ],
            "text/html": [
              "<style>#sk-container-id-3 {color: black;background-color: white;}#sk-container-id-3 pre{padding: 0;}#sk-container-id-3 div.sk-toggleable {background-color: white;}#sk-container-id-3 label.sk-toggleable__label {cursor: pointer;display: block;width: 100%;margin-bottom: 0;padding: 0.3em;box-sizing: border-box;text-align: center;}#sk-container-id-3 label.sk-toggleable__label-arrow:before {content: \"▸\";float: left;margin-right: 0.25em;color: #696969;}#sk-container-id-3 label.sk-toggleable__label-arrow:hover:before {color: black;}#sk-container-id-3 div.sk-estimator:hover label.sk-toggleable__label-arrow:before {color: black;}#sk-container-id-3 div.sk-toggleable__content {max-height: 0;max-width: 0;overflow: hidden;text-align: left;background-color: #f0f8ff;}#sk-container-id-3 div.sk-toggleable__content pre {margin: 0.2em;color: black;border-radius: 0.25em;background-color: #f0f8ff;}#sk-container-id-3 input.sk-toggleable__control:checked~div.sk-toggleable__content {max-height: 200px;max-width: 100%;overflow: auto;}#sk-container-id-3 input.sk-toggleable__control:checked~label.sk-toggleable__label-arrow:before {content: \"▾\";}#sk-container-id-3 div.sk-estimator input.sk-toggleable__control:checked~label.sk-toggleable__label {background-color: #d4ebff;}#sk-container-id-3 div.sk-label input.sk-toggleable__control:checked~label.sk-toggleable__label {background-color: #d4ebff;}#sk-container-id-3 input.sk-hidden--visually {border: 0;clip: rect(1px 1px 1px 1px);clip: rect(1px, 1px, 1px, 1px);height: 1px;margin: -1px;overflow: hidden;padding: 0;position: absolute;width: 1px;}#sk-container-id-3 div.sk-estimator {font-family: monospace;background-color: #f0f8ff;border: 1px dotted black;border-radius: 0.25em;box-sizing: border-box;margin-bottom: 0.5em;}#sk-container-id-3 div.sk-estimator:hover {background-color: #d4ebff;}#sk-container-id-3 div.sk-parallel-item::after {content: \"\";width: 100%;border-bottom: 1px solid gray;flex-grow: 1;}#sk-container-id-3 div.sk-label:hover label.sk-toggleable__label {background-color: #d4ebff;}#sk-container-id-3 div.sk-serial::before {content: \"\";position: absolute;border-left: 1px solid gray;box-sizing: border-box;top: 0;bottom: 0;left: 50%;z-index: 0;}#sk-container-id-3 div.sk-serial {display: flex;flex-direction: column;align-items: center;background-color: white;padding-right: 0.2em;padding-left: 0.2em;position: relative;}#sk-container-id-3 div.sk-item {position: relative;z-index: 1;}#sk-container-id-3 div.sk-parallel {display: flex;align-items: stretch;justify-content: center;background-color: white;position: relative;}#sk-container-id-3 div.sk-item::before, #sk-container-id-3 div.sk-parallel-item::before {content: \"\";position: absolute;border-left: 1px solid gray;box-sizing: border-box;top: 0;bottom: 0;left: 50%;z-index: -1;}#sk-container-id-3 div.sk-parallel-item {display: flex;flex-direction: column;z-index: 1;position: relative;background-color: white;}#sk-container-id-3 div.sk-parallel-item:first-child::after {align-self: flex-end;width: 50%;}#sk-container-id-3 div.sk-parallel-item:last-child::after {align-self: flex-start;width: 50%;}#sk-container-id-3 div.sk-parallel-item:only-child::after {width: 0;}#sk-container-id-3 div.sk-dashed-wrapped {border: 1px dashed gray;margin: 0 0.4em 0.5em 0.4em;box-sizing: border-box;padding-bottom: 0.4em;background-color: white;}#sk-container-id-3 div.sk-label label {font-family: monospace;font-weight: bold;display: inline-block;line-height: 1.2em;}#sk-container-id-3 div.sk-label-container {text-align: center;}#sk-container-id-3 div.sk-container {/* jupyter's `normalize.less` sets `[hidden] { display: none; }` but bootstrap.min.css set `[hidden] { display: none !important; }` so we also need the `!important` here to be able to override the default hidden behavior on the sphinx rendered scikit-learn.org. See: https://github.com/scikit-learn/scikit-learn/issues/21755 */display: inline-block !important;position: relative;}#sk-container-id-3 div.sk-text-repr-fallback {display: none;}</style><div id=\"sk-container-id-3\" class=\"sk-top-container\"><div class=\"sk-text-repr-fallback\"><pre>GradientBoostingRegressor(learning_rate=0.8, n_estimators=500,\n",
              "                          n_iter_no_change=20, random_state=12,\n",
              "                          validation_fraction=0.2)</pre><b>In a Jupyter environment, please rerun this cell to show the HTML representation or trust the notebook. <br />On GitHub, the HTML representation is unable to render, please try loading this page with nbviewer.org.</b></div><div class=\"sk-container\" hidden><div class=\"sk-item\"><div class=\"sk-estimator sk-toggleable\"><input class=\"sk-toggleable__control sk-hidden--visually\" id=\"sk-estimator-id-3\" type=\"checkbox\" checked><label for=\"sk-estimator-id-3\" class=\"sk-toggleable__label sk-toggleable__label-arrow\">GradientBoostingRegressor</label><div class=\"sk-toggleable__content\"><pre>GradientBoostingRegressor(learning_rate=0.8, n_estimators=500,\n",
              "                          n_iter_no_change=20, random_state=12,\n",
              "                          validation_fraction=0.2)</pre></div></div></div></div></div>"
            ]
          },
          "metadata": {},
          "execution_count": 33
        }
      ],
      "source": [
        "# 가장 좋은 성능을 보인 모델의 인덱스를 찾기\n",
        "best_model_index = np.argmax(test_scores)\n",
        "best_learning_rate = learning_rate_list[best_model_index]\n",
        "\n",
        "# 가장 좋은 성능을 보인 모델의 하이퍼 파라미터를 사용하여 모델 재학습\n",
        "best_reg = GradientBoostingRegressor(random_state=12, n_estimators=500,\n",
        "                                      learning_rate=best_learning_rate,\n",
        "                                      validation_fraction=0.2,\n",
        "                                      n_iter_no_change=20,\n",
        "                                      # ccp_alpha=0.013\n",
        "                                     )\n",
        "\n",
        "best_reg.fit(X_train, Y_train)\n"
      ],
      "id": "2be3104e"
    },
    {
      "cell_type": "markdown",
      "source": [
        "### Mean Decrease in Impurity"
      ],
      "metadata": {
        "id": "Y1TxRUrxhdUH"
      },
      "id": "Y1TxRUrxhdUH"
    },
    {
      "cell_type": "code",
      "source": [
        "# 변수 중요도 확인\n",
        "import matplotlib.pyplot as plt\n",
        "import seaborn as sns\n",
        "\n",
        "var_imp = pd.DataFrame({'Feature': X.columns, 'Mean Decrease in Imputity': best_reg.feature_importances_})\n",
        "imp_top20 = var_imp.sort_values(by=['Mean Decrease in Imputity'], ascending=False)[:20]\n",
        "\n",
        "palette = sns.color_palette(\"husl\", len(imp_top20))\n",
        "\n",
        "plt.figure()\n",
        "plt.title(\"Feature importances Top 20\")\n",
        "sns.barplot(x=imp_top20['Mean Decrease in Imputity'], y=imp_top20[\"Feature\"], palette=palette)\n",
        "plt.show()"
      ],
      "metadata": {
        "colab": {
          "base_uri": "https://localhost:8080/",
          "height": 582
        },
        "id": "1lWv73Hj5yMX",
        "outputId": "1dd085fb-89ac-4d3e-bbe6-476dfebaa9fe"
      },
      "execution_count": null,
      "outputs": [
        {
          "output_type": "stream",
          "name": "stderr",
          "text": [
            "<ipython-input-34-bf869fd36013>:12: FutureWarning: \n",
            "\n",
            "Passing `palette` without assigning `hue` is deprecated and will be removed in v0.14.0. Assign the `y` variable to `hue` and set `legend=False` for the same effect.\n",
            "\n",
            "  sns.barplot(x=imp_top20['Mean Decrease in Imputity'], y=imp_top20[\"Feature\"], palette=palette)\n"
          ]
        },
        {
          "output_type": "display_data",
          "data": {
            "text/plain": [
              "<Figure size 640x480 with 1 Axes>"
            ],
            "image/png": "[encoded data removed]"
          },
          "metadata": {}
        }
      ],
      "id": "1lWv73Hj5yMX"
    },
    {
      "cell_type": "markdown",
      "source": [
        "### Mean Decrease in Accuracy(Permutation Importance)"
      ],
      "metadata": {
        "id": "PynvIGH9hjAd"
      },
      "id": "PynvIGH9hjAd"
    },
    {
      "cell_type": "code",
      "source": [
        "#permutation importance로 변수중요도 추출\n",
        "from sklearn.inspection import permutation_importance\n",
        "\n",
        "# # 가장 좋은 성능을 보인 모델의 인덱스를 찾기\n",
        "# best_model_index = np.argmax(test_scores)\n",
        "# best_learning_rate = ccp_alpha_list[best_model_index]\n",
        "\n",
        "# # 가장 좋은 성능을 보인 모델의 하이퍼 파라미터를 사용하여 모델 재학습\n",
        "# best_reg = GradientBoostingRegressor(random_state=12, n_estimators=500,\n",
        "#                                       learning_rate=best_learning_rate,\n",
        "#                                       validation_fraction=0.2,\n",
        "#                                       n_iter_no_change=10,\n",
        "#                                       ccp_alpha=0.013)\n",
        "\n",
        "# best_reg.fit(X_train, Y_train)\n",
        "\n",
        "# 변수 중요도 확인 (Permutation Importance)\n",
        "result = permutation_importance(best_reg, X_test, Y_test, n_repeats=10, random_state=12)\n",
        "sorted_idx = result.importances_mean.argsort()"
      ],
      "metadata": {
        "id": "t35gi1Fx5A7n"
      },
      "execution_count": null,
      "outputs": [],
      "id": "t35gi1Fx5A7n"
    },
    {
      "cell_type": "code",
      "source": [
        "palette = sns.color_palette(\"husl\", len(imp_top20))\n",
        "sns.barplot(x=result.importances_mean[sorted_idx[::-1]][:20], y=X.columns[sorted_idx[::-1]][:20], palette=palette)\n",
        "plt.title(\"Permutation Importance Top 20\")\n",
        "plt.xlabel('Permutation Importance')\n",
        "plt.ylabel('Feature')\n",
        "plt.show()"
      ],
      "metadata": {
        "colab": {
          "base_uri": "https://localhost:8080/",
          "height": 582
        },
        "id": "aV5gTBRrBnWg",
        "outputId": "dfd14669-d24a-42e8-fdd7-334ffe55300e"
      },
      "execution_count": null,
      "outputs": [
        {
          "output_type": "stream",
          "name": "stderr",
          "text": [
            "<ipython-input-36-dc386383b92f>:2: FutureWarning: \n",
            "\n",
            "Passing `palette` without assigning `hue` is deprecated and will be removed in v0.14.0. Assign the `y` variable to `hue` and set `legend=False` for the same effect.\n",
            "\n",
            "  sns.barplot(x=result.importances_mean[sorted_idx[::-1]][:20], y=X.columns[sorted_idx[::-1]][:20], palette=palette)\n"
          ]
        },
        {
          "output_type": "display_data",
          "data": {
            "text/plain": [
              "<Figure size 640x480 with 1 Axes>"
            ],
            "image/png": "[encoded data removed]"
          },
          "metadata": {}
        }
      ],
      "id": "aV5gTBRrBnWg"
    },
    {
      "cell_type": "markdown",
      "source": [
        "# 변수중요도 작동 원리 확인"
      ],
      "metadata": {
        "id": "jbohzBVKmjyV"
      },
      "id": "jbohzBVKmjyV"
    },
    {
      "cell_type": "code",
      "source": [
        "from sklearn.preprocessing import LabelEncoder\n",
        "from matplotlib import font_manager, rc\n",
        "import platform\n",
        "# 운영체제에 따른 한글 폰트 설정\n",
        "import matplotlib.pyplot as plt\n",
        "import matplotlib.font_manager as fm\n",
        "\n",
        "# 사용 가능한 폰트 목록 확인\n",
        "for font in fm.fontManager.ttflist:\n",
        "    if 'Nanum' in font.name:\n",
        "        print(font.name, font.fname)\n",
        "\n",
        "# matplotlib의 폰트 설정\n",
        "plt.rcParams['font.family'] = 'NanumBarunGothic'\n",
        "plt.rcParams['axes.unicode_minus'] = False  # 마이너스 기호 깨짐 방지\n",
        "\n",
        "\n",
        "\n",
        "data= {\n",
        "    '설비': ['A','B','A','B','B'],\n",
        "    '온도': [18,20,22,19,17],\n",
        "    '재료': ['C','D','C','D','C'],\n",
        "    '제품 두께': [15,9, 14, 8, 9 ]\n",
        "}\n",
        "data = pd.DataFrame(data)\n",
        "\n",
        "label_encoder = LabelEncoder()\n",
        "data['설비'] = label_encoder.fit_transform(data['설비'])\n",
        "data['재료'] = label_encoder.fit_transform(data['재료'])\n",
        "\n",
        "X = data.drop(['제품 두께'], axis=1)\n",
        "y = data['제품 두께']\n"
      ],
      "metadata": {
        "id": "PlnvZANUYKNP",
        "colab": {
          "base_uri": "https://localhost:8080/"
        },
        "outputId": "f901ac69-f8ba-481c-db2c-a4e6a75f2d95"
      },
      "id": "PlnvZANUYKNP",
      "execution_count": null,
      "outputs": [
        {
          "output_type": "stream",
          "name": "stdout",
          "text": [
            "NanumGothic /usr/share/fonts/truetype/nanum/NanumGothicBold.ttf\n",
            "NanumSquare /usr/share/fonts/truetype/nanum/NanumSquareR.ttf\n",
            "NanumGothic /usr/share/fonts/truetype/nanum/NanumGothic.ttf\n",
            "NanumMyeongjo /usr/share/fonts/truetype/nanum/NanumMyeongjoBold.ttf\n",
            "NanumGothicCoding /usr/share/fonts/truetype/nanum/NanumGothicCoding.ttf\n",
            "NanumGothicCoding /usr/share/fonts/truetype/nanum/NanumGothicCodingBold.ttf\n",
            "NanumSquareRound /usr/share/fonts/truetype/nanum/NanumSquareRoundB.ttf\n",
            "NanumSquare /usr/share/fonts/truetype/nanum/NanumSquareB.ttf\n",
            "NanumMyeongjo /usr/share/fonts/truetype/nanum/NanumMyeongjo.ttf\n",
            "NanumBarunGothic /usr/share/fonts/truetype/nanum/NanumBarunGothicBold.ttf\n",
            "NanumSquareRound /usr/share/fonts/truetype/nanum/NanumSquareRoundR.ttf\n",
            "NanumBarunGothic /usr/share/fonts/truetype/nanum/NanumBarunGothic.ttf\n"
          ]
        }
      ]
    },
    {
      "cell_type": "code",
      "source": [
        "X"
      ],
      "metadata": {
        "colab": {
          "base_uri": "https://localhost:8080/",
          "height": 206
        },
        "id": "yYa5nnMWJlf4",
        "outputId": "04208a31-92d9-4c28-e421-414e3baf1e8f"
      },
      "id": "yYa5nnMWJlf4",
      "execution_count": null,
      "outputs": [
        {
          "output_type": "execute_result",
          "data": {
            "text/plain": [
              "   설비  온도  재료\n",
              "0   0  18   0\n",
              "1   1  20   1\n",
              "2   0  22   0\n",
              "3   1  19   1\n",
              "4   1  17   0"
            ],
            "text/html": [
              "\n",
              "  <div id=\"df-733a24f0-315c-41b3-954f-82e295ade38c\" class=\"colab-df-container\">\n",
              "    <div>\n",
              "<style scoped>\n",
              "    .dataframe tbody tr th:only-of-type {\n",
              "        vertical-align: middle;\n",
              "    }\n",
              "\n",
              "    .dataframe tbody tr th {\n",
              "        vertical-align: top;\n",
              "    }\n",
              "\n",
              "    .dataframe thead th {\n",
              "        text-align: right;\n",
              "    }\n",
              "</style>\n",
              "<table border=\"1\" class=\"dataframe\">\n",
              "  <thead>\n",
              "    <tr style=\"text-align: right;\">\n",
              "      <th></th>\n",
              "      <th>설비</th>\n",
              "      <th>온도</th>\n",
              "      <th>재료</th>\n",
              "    </tr>\n",
              "  </thead>\n",
              "  <tbody>\n",
              "    <tr>\n",
              "      <th>0</th>\n",
              "      <td>0</td>\n",
              "      <td>18</td>\n",
              "      <td>0</td>\n",
              "    </tr>\n",
              "    <tr>\n",
              "      <th>1</th>\n",
              "      <td>1</td>\n",
              "      <td>20</td>\n",
              "      <td>1</td>\n",
              "    </tr>\n",
              "    <tr>\n",
              "      <th>2</th>\n",
              "      <td>0</td>\n",
              "      <td>22</td>\n",
              "      <td>0</td>\n",
              "    </tr>\n",
              "    <tr>\n",
              "      <th>3</th>\n",
              "      <td>1</td>\n",
              "      <td>19</td>\n",
              "      <td>1</td>\n",
              "    </tr>\n",
              "    <tr>\n",
              "      <th>4</th>\n",
              "      <td>1</td>\n",
              "      <td>17</td>\n",
              "      <td>0</td>\n",
              "    </tr>\n",
              "  </tbody>\n",
              "</table>\n",
              "</div>\n",
              "    <div class=\"colab-df-buttons\">\n",
              "\n",
              "  <div class=\"colab-df-container\">\n",
              "    <button class=\"colab-df-convert\" onclick=\"convertToInteractive('df-733a24f0-315c-41b3-954f-82e295ade38c')\"\n",
              "            title=\"Convert this dataframe to an interactive table.\"\n",
              "            style=\"display:none;\">\n",
              "\n",
              "  <svg xmlns=\"http://www.w3.org/2000/svg\" height=\"24px\" viewBox=\"0 -960 960 960\">\n",
              "    <path d=\"M120-120v-720h720v720H120Zm60-500h600v-160H180v160Zm220 220h160v-160H400v160Zm0 220h160v-160H400v160ZM180-400h160v-160H180v160Zm440 0h160v-160H620v160ZM180-180h160v-160H180v160Zm440 0h160v-160H620v160Z\"/>\n",
              "  </svg>\n",
              "    </button>\n",
              "\n",
              "  <style>\n",
              "    .colab-df-container {\n",
              "      display:flex;\n",
              "      gap: 12px;\n",
              "    }\n",
              "\n",
              "    .colab-df-convert {\n",
              "      background-color: #E8F0FE;\n",
              "      border: none;\n",
              "      border-radius: 50%;\n",
              "      cursor: pointer;\n",
              "      display: none;\n",
              "      fill: #1967D2;\n",
              "      height: 32px;\n",
              "      padding: 0 0 0 0;\n",
              "      width: 32px;\n",
              "    }\n",
              "\n",
              "    .colab-df-convert:hover {\n",
              "      background-color: #E2EBFA;\n",
              "      box-shadow: 0px 1px 2px rgba(60, 64, 67, 0.3), 0px 1px 3px 1px rgba(60, 64, 67, 0.15);\n",
              "      fill: #174EA6;\n",
              "    }\n",
              "\n",
              "    .colab-df-buttons div {\n",
              "      margin-bottom: 4px;\n",
              "    }\n",
              "\n",
              "    [theme=dark] .colab-df-convert {\n",
              "      background-color: #3B4455;\n",
              "      fill: #D2E3FC;\n",
              "    }\n",
              "\n",
              "    [theme=dark] .colab-df-convert:hover {\n",
              "      background-color: #434B5C;\n",
              "      box-shadow: 0px 1px 3px 1px rgba(0, 0, 0, 0.15);\n",
              "      filter: drop-shadow(0px 1px 2px rgba(0, 0, 0, 0.3));\n",
              "      fill: #FFFFFF;\n",
              "    }\n",
              "  </style>\n",
              "\n",
              "    <script>\n",
              "      const buttonEl =\n",
              "        document.querySelector('#df-733a24f0-315c-41b3-954f-82e295ade38c button.colab-df-convert');\n",
              "      buttonEl.style.display =\n",
              "        google.colab.kernel.accessAllowed ? 'block' : 'none';\n",
              "\n",
              "      async function convertToInteractive(key) {\n",
              "        const element = document.querySelector('#df-733a24f0-315c-41b3-954f-82e295ade38c');\n",
              "        const dataTable =\n",
              "          await google.colab.kernel.invokeFunction('convertToInteractive',\n",
              "                                                    [key], {});\n",
              "        if (!dataTable) return;\n",
              "\n",
              "        const docLinkHtml = 'Like what you see? Visit the ' +\n",
              "          '<a target=\"_blank\" href=https://colab.research.google.com/notebooks/data_table.ipynb>data table notebook</a>'\n",
              "          + ' to learn more about interactive tables.';\n",
              "        element.innerHTML = '';\n",
              "        dataTable['output_type'] = 'display_data';\n",
              "        await google.colab.output.renderOutput(dataTable, element);\n",
              "        const docLink = document.createElement('div');\n",
              "        docLink.innerHTML = docLinkHtml;\n",
              "        element.appendChild(docLink);\n",
              "      }\n",
              "    </script>\n",
              "  </div>\n",
              "\n",
              "\n",
              "<div id=\"df-d4d89766-bd01-4016-8b46-70c94bc1b73b\">\n",
              "  <button class=\"colab-df-quickchart\" onclick=\"quickchart('df-d4d89766-bd01-4016-8b46-70c94bc1b73b')\"\n",
              "            title=\"Suggest charts\"\n",
              "            style=\"display:none;\">\n",
              "\n",
              "<svg xmlns=\"http://www.w3.org/2000/svg\" height=\"24px\"viewBox=\"0 0 24 24\"\n",
              "     width=\"24px\">\n",
              "    <g>\n",
              "        <path d=\"M19 3H5c-1.1 0-2 .9-2 2v14c0 1.1.9 2 2 2h14c1.1 0 2-.9 2-2V5c0-1.1-.9-2-2-2zM9 17H7v-7h2v7zm4 0h-2V7h2v10zm4 0h-2v-4h2v4z\"/>\n",
              "    </g>\n",
              "</svg>\n",
              "  </button>\n",
              "\n",
              "<style>\n",
              "  .colab-df-quickchart {\n",
              "      --bg-color: #E8F0FE;\n",
              "      --fill-color: #1967D2;\n",
              "      --hover-bg-color: #E2EBFA;\n",
              "      --hover-fill-color: #174EA6;\n",
              "      --disabled-fill-color: #AAA;\n",
              "      --disabled-bg-color: #DDD;\n",
              "  }\n",
              "\n",
              "  [theme=dark] .colab-df-quickchart {\n",
              "      --bg-color: #3B4455;\n",
              "      --fill-color: #D2E3FC;\n",
              "      --hover-bg-color: #434B5C;\n",
              "      --hover-fill-color: #FFFFFF;\n",
              "      --disabled-bg-color: #3B4455;\n",
              "      --disabled-fill-color: #666;\n",
              "  }\n",
              "\n",
              "  .colab-df-quickchart {\n",
              "    background-color: var(--bg-color);\n",
              "    border: none;\n",
              "    border-radius: 50%;\n",
              "    cursor: pointer;\n",
              "    display: none;\n",
              "    fill: var(--fill-color);\n",
              "    height: 32px;\n",
              "    padding: 0;\n",
              "    width: 32px;\n",
              "  }\n",
              "\n",
              "  .colab-df-quickchart:hover {\n",
              "    background-color: var(--hover-bg-color);\n",
              "    box-shadow: 0 1px 2px rgba(60, 64, 67, 0.3), 0 1px 3px 1px rgba(60, 64, 67, 0.15);\n",
              "    fill: var(--button-hover-fill-color);\n",
              "  }\n",
              "\n",
              "  .colab-df-quickchart-complete:disabled,\n",
              "  .colab-df-quickchart-complete:disabled:hover {\n",
              "    background-color: var(--disabled-bg-color);\n",
              "    fill: var(--disabled-fill-color);\n",
              "    box-shadow: none;\n",
              "  }\n",
              "\n",
              "  .colab-df-spinner {\n",
              "    border: 2px solid var(--fill-color);\n",
              "    border-color: transparent;\n",
              "    border-bottom-color: var(--fill-color);\n",
              "    animation:\n",
              "      spin 1s steps(1) infinite;\n",
              "  }\n",
              "\n",
              "  @keyframes spin {\n",
              "    0% {\n",
              "      border-color: transparent;\n",
              "      border-bottom-color: var(--fill-color);\n",
              "      border-left-color: var(--fill-color);\n",
              "    }\n",
              "    20% {\n",
              "      border-color: transparent;\n",
              "      border-left-color: var(--fill-color);\n",
              "      border-top-color: var(--fill-color);\n",
              "    }\n",
              "    30% {\n",
              "      border-color: transparent;\n",
              "      border-left-color: var(--fill-color);\n",
              "      border-top-color: var(--fill-color);\n",
              "      border-right-color: var(--fill-color);\n",
              "    }\n",
              "    40% {\n",
              "      border-color: transparent;\n",
              "      border-right-color: var(--fill-color);\n",
              "      border-top-color: var(--fill-color);\n",
              "    }\n",
              "    60% {\n",
              "      border-color: transparent;\n",
              "      border-right-color: var(--fill-color);\n",
              "    }\n",
              "    80% {\n",
              "      border-color: transparent;\n",
              "      border-right-color: var(--fill-color);\n",
              "      border-bottom-color: var(--fill-color);\n",
              "    }\n",
              "    90% {\n",
              "      border-color: transparent;\n",
              "      border-bottom-color: var(--fill-color);\n",
              "    }\n",
              "  }\n",
              "</style>\n",
              "\n",
              "  <script>\n",
              "    async function quickchart(key) {\n",
              "      const quickchartButtonEl =\n",
              "        document.querySelector('#' + key + ' button');\n",
              "      quickchartButtonEl.disabled = true;  // To prevent multiple clicks.\n",
              "      quickchartButtonEl.classList.add('colab-df-spinner');\n",
              "      try {\n",
              "        const charts = await google.colab.kernel.invokeFunction(\n",
              "            'suggestCharts', [key], {});\n",
              "      } catch (error) {\n",
              "        console.error('Error during call to suggestCharts:', error);\n",
              "      }\n",
              "      quickchartButtonEl.classList.remove('colab-df-spinner');\n",
              "      quickchartButtonEl.classList.add('colab-df-quickchart-complete');\n",
              "    }\n",
              "    (() => {\n",
              "      let quickchartButtonEl =\n",
              "        document.querySelector('#df-d4d89766-bd01-4016-8b46-70c94bc1b73b button');\n",
              "      quickchartButtonEl.style.display =\n",
              "        google.colab.kernel.accessAllowed ? 'block' : 'none';\n",
              "    })();\n",
              "  </script>\n",
              "</div>\n",
              "    </div>\n",
              "  </div>\n"
            ],
            "application/vnd.google.colaboratory.intrinsic+json": {
              "type": "dataframe",
              "variable_name": "X",
              "summary": "{\n  \"name\": \"X\",\n  \"rows\": 5,\n  \"fields\": [\n    {\n      \"column\": \"\\uc124\\ube44\",\n      \"properties\": {\n        \"dtype\": \"number\",\n        \"std\": 0,\n        \"min\": 0,\n        \"max\": 1,\n        \"num_unique_values\": 2,\n        \"samples\": [\n          1,\n          0\n        ],\n        \"semantic_type\": \"\",\n        \"description\": \"\"\n      }\n    },\n    {\n      \"column\": \"\\uc628\\ub3c4\",\n      \"properties\": {\n        \"dtype\": \"number\",\n        \"std\": 1,\n        \"min\": 17,\n        \"max\": 22,\n        \"num_unique_values\": 5,\n        \"samples\": [\n          20,\n          17\n        ],\n        \"semantic_type\": \"\",\n        \"description\": \"\"\n      }\n    },\n    {\n      \"column\": \"\\uc7ac\\ub8cc\",\n      \"properties\": {\n        \"dtype\": \"number\",\n        \"std\": 0,\n        \"min\": 0,\n        \"max\": 1,\n        \"num_unique_values\": 2,\n        \"samples\": [\n          1,\n          0\n        ],\n        \"semantic_type\": \"\",\n        \"description\": \"\"\n      }\n    }\n  ]\n}"
            }
          },
          "metadata": {},
          "execution_count": 15
        }
      ]
    },
    {
      "cell_type": "code",
      "source": [
        "from sklearn.ensemble import GradientBoostingRegressor\n",
        "import matplotlib.pyplot as plt\n",
        "from sklearn import tree\n",
        "\n",
        "# GBM 모델 생성 및 학습\n",
        "gbm = GradientBoostingRegressor(max_depth=2, max_leaf_nodes= 4, n_estimators=1)\n",
        "gbm.fit(X, y)\n",
        "\n",
        "# 변수 중요도 출력\n",
        "feature_importance = gbm.feature_importances_\n",
        "importance_df = pd.DataFrame({\n",
        "    'Feature': X.columns,\n",
        "    'Importance': feature_importance\n",
        "}).sort_values(by='Importance', ascending=False)\n",
        "\n",
        "print(importance_df)\n",
        "# 첫 번째 트리 가져오기\n",
        "sub_tree_0 = gbm.estimators_[0, 0]\n",
        "\n",
        "# 트리 시각화\n",
        "plt.figure(figsize=(10, 8))\n",
        "tree.plot_tree(sub_tree_0, feature_names=X.columns.tolist(), filled=True, proportion=False, precision=2)\n",
        "plt.show()"
      ],
      "metadata": {
        "colab": {
          "base_uri": "https://localhost:8080/",
          "height": 711
        },
        "id": "uwxJhHeWJH_K",
        "outputId": "d67f381e-eb38-459e-a938-838ebf84c373"
      },
      "id": "uwxJhHeWJH_K",
      "execution_count": null,
      "outputs": [
        {
          "output_type": "stream",
          "name": "stdout",
          "text": [
            "  Feature  Importance\n",
            "0      설비    0.983936\n",
            "1      온도    0.016064\n",
            "2      재료    0.000000\n"
          ]
        },
        {
          "output_type": "display_data",
          "data": {
            "text/plain": [
              "<Figure size 1000x800 with 1 Axes>"
            ],
            "image/png": "[encoded data removed]"
          },
          "metadata": {}
        }
      ]
    },
    {
      "cell_type": "code",
      "source": [
        "# 노드별 정보 이득 계산 함수\n",
        "def compute_information_gain(tree, node_id=0):\n",
        "    if tree.children_left[node_id] == tree.children_right[node_id]:  # 리프 노드\n",
        "        return 0\n",
        "    left_child = tree.children_left[node_id]\n",
        "    right_child = tree.children_right[node_id]\n",
        "    total_samples = tree.n_node_samples[node_id]\n",
        "    weight_left = tree.n_node_samples[left_child] / total_samples\n",
        "    weight_right = tree.n_node_samples[right_child] / total_samples\n",
        "    impurity = tree.impurity[node_id]\n",
        "    impurity_left = tree.impurity[left_child]\n",
        "    impurity_right = tree.impurity[right_child]\n",
        "    info_gain = impurity - (weight_left * impurity_left + weight_right * impurity_right)\n",
        "    return info_gain\n",
        "\n",
        "# 각 노드별 정보 이득 계산\n",
        "node_ids = range(sub_tree_0.tree_.node_count)\n",
        "info_gains = [compute_information_gain(sub_tree_0.tree_, node_id) for node_id in node_ids]\n",
        "\n",
        "# 정보 이득 출력\n",
        "for node_id, info_gain in zip(node_ids, info_gains):\n",
        "    print(f\"Node {node_id}: Information Gain = {info_gain:.4f}\")"
      ],
      "metadata": {
        "id": "FVjpjS0TJRce",
        "colab": {
          "base_uri": "https://localhost:8080/"
        },
        "outputId": "15ae4708-e902-4c40-b6eb-f45c463fe462"
      },
      "id": "FVjpjS0TJRce",
      "execution_count": null,
      "outputs": [
        {
          "output_type": "stream",
          "name": "stdout",
          "text": [
            "Node 0: Information Gain = 8.1667\n",
            "Node 1: Information Gain = 0.2500\n",
            "Node 2: Information Gain = 0.0556\n",
            "Node 3: Information Gain = 0.0000\n",
            "Node 4: Information Gain = 0.0000\n",
            "Node 5: Information Gain = 0.0000\n",
            "Node 6: Information Gain = 0.0000\n"
          ]
        }
      ]
    },
    {
      "cell_type": "code",
      "source": [
        "print('변수중요도_재료: ',(5/5*8.1667)/(5/5*8.1667+2/5*0.2500+3/5*0.0556) )\n",
        "print('변수중요도_온도: ',(2/5*0.2500+3/5*0.0556)/(5/5*8.1667+2/5*0.2500+3/5*0.0556) )\n",
        "print('변수중요도_설비: ',(0)/(5/5*8.1667+2/5*0.2500+3/5*0.0556) )"
      ],
      "metadata": {
        "colab": {
          "base_uri": "https://localhost:8080/"
        },
        "id": "hz3aEhIjME1I",
        "outputId": "c9590a3d-3447-4963-c401-0a1be5b3baf8"
      },
      "id": "hz3aEhIjME1I",
      "execution_count": null,
      "outputs": [
        {
          "output_type": "stream",
          "name": "stdout",
          "text": [
            "변수중요도_재료:  0.983932646270027\n",
            "변수중요도_온도:  0.016067353729973036\n",
            "변수중요도_설비:  0.0\n"
          ]
        }
      ]
    },
    {
      "cell_type": "code",
      "source": [],
      "metadata": {
        "id": "vyU43JTDSPK1"
      },
      "id": "vyU43JTDSPK1",
      "execution_count": null,
      "outputs": []
    }
  ],
  "metadata": {
    "kernelspec": {
      "display_name": "Python 3.9.12 ('base')",
      "language": "python",
      "name": "python3"
    },
    "language_info": {
      "codemirror_mode": {
        "name": "ipython",
        "version": 3
      },
      "file_extension": ".py",
      "mimetype": "text/x-python",
      "name": "python",
      "nbconvert_exporter": "python",
      "pygments_lexer": "ipython3",
      "version": "3.9.12"
    },
    "vscode": {
      "interpreter": {
        "hash": "7e81d91ba51e1bf9900dd7d036cbe3d31d033e3ae1051184964e8f8743fed6bf"
      }
    },
    "colab": {
      "provenance": []
    }
  },
  "nbformat": 4,
  "nbformat_minor": 5
}