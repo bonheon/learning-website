{
 "cells": [
  {
   "cell_type": "code",
   "execution_count": 2,
   "metadata": {
    "colab": {
     "base_uri": "https://localhost:8080/"
    },
    "id": "-qzihPBvD6zp",
    "outputId": "a3ffb8ab-dc4a-4c36-b808-41cbfa58135f"
   },
   "outputs": [],
   "source": [
    "# from google.colab import drive\n",
    "import pandas as pd\n",
    "from sklearn.model_selection import train_test_split\n",
    "\n",
    "# drive.mount('/content/drive')"
   ]
  },
  {
   "cell_type": "code",
   "execution_count": 3,
   "metadata": {
    "id": "BqGVohzmG6V2"
   },
   "outputs": [],
   "source": [
    "import numpy as np\n",
    "from sklearn.preprocessing import (\n",
    "    StandardScaler,\n",
    "    PolynomialFeatures,\n",
    "    OneHotEncoder,\n",
    "    LabelEncoder\n",
    ")\n",
    "from sklearn.pipeline import Pipeline\n",
    "from sklearn.compose import ColumnTransformer\n",
    "import matplotlib.pyplot as plt\n",
    "import seaborn as sns\n",
    "import warnings\n",
    "from typing import Iterable, Union\n",
    "\n",
    "warnings.filterwarnings(action='ignore')"
   ]
  },
  {
   "cell_type": "code",
   "execution_count": 4,
   "metadata": {
    "id": "Rt7R4muqOyZV"
   },
   "outputs": [],
   "source": [
    "from sklearn.metrics import mean_squared_error, mean_absolute_error, r2_score\n",
    "from sklearn.metrics import accuracy_score,precision_score,recall_score,f1_score\n",
    "from sklearn.metrics import confusion_matrix\n",
    "def print_all_reg(Y_test,pred):\n",
    "    # Specificity를 구하기 위해 confusion matrix를 이용\n",
    "\n",
    "    cm1 = confusion_matrix(Y_test,pred)\n",
    "    specificity1 = cm1[0,0]/(cm1[0,0]+cm1[0,1])\n",
    "\n",
    "    #결과 검사\n",
    "    #recall = cm1[1,1]/(cm1[1,1]+cm1[1,0])\n",
    "    #pre = cm1[1,1]/(cm1[1,1]+cm1[0,1])\n",
    "\n",
    "    G_mean = recall_score(Y_test,pred) * specificity1\n",
    "    print(\"model의 recall 값은 {:.3f}\".format(recall_score(Y_test,pred)))\n",
    "    print(\"model의 2종 오류 확률 값은 {:.3f}\".format(1-recall_score(Y_test,pred)))\n",
    "    print(\"model의 Specificity 값은 {:.3f}\".format(specificity1))\n",
    "    print(\"model의 1종 오류 확률 값은 {:.3f}\".format(1-specificity1))\n",
    "    print(\"model의 precision 값은 {:.3f}\".format(precision_score(Y_test,pred)))\n",
    "    print(\"model의 f1_score 값은 {:.3f}\".format(f1_score(Y_test,pred)))\n",
    "    print(\"model의 G-mean 값은 {:.3f}\".format(np.sqrt(G_mean)))\n",
    "    print(\"model의 accuracy 값은 {:.3f}\".format(accuracy_score(Y_test,pred)))"
   ]
  },
  {
   "cell_type": "code",
   "execution_count": 5,
   "metadata": {
    "id": "SuO0x7fWD9e0"
   },
   "outputs": [],
   "source": [
    "# URL = \"/content/drive/MyDrive/SIL/WORK/DSS 머신러닝2/\" # 데이터 위치 설정\n",
    "X_train = df = pd.read_csv(\"dataset/Dataset2/X_train.csv\")\n",
    "X_test = df = pd.read_csv(\"dataset/Dataset2/X_test.csv\")  #제출을 위한 X_test, 실험에는 사용X\n",
    "Y_train = df = pd.read_csv(\"dataset/Dataset2/Y_train.csv\")"
   ]
  },
  {
   "cell_type": "code",
   "execution_count": 6,
   "metadata": {
    "colab": {
     "base_uri": "https://localhost:8080/",
     "height": 423
    },
    "id": "bq6_FFilV6Fl",
    "outputId": "88983476-dae7-4e96-8d20-e5c79470a402"
   },
   "outputs": [
    {
     "data": {
      "text/html": [
       "<div>\n",
       "<style scoped>\n",
       "    .dataframe tbody tr th:only-of-type {\n",
       "        vertical-align: middle;\n",
       "    }\n",
       "\n",
       "    .dataframe tbody tr th {\n",
       "        vertical-align: top;\n",
       "    }\n",
       "\n",
       "    .dataframe thead th {\n",
       "        text-align: right;\n",
       "    }\n",
       "</style>\n",
       "<table border=\"1\" class=\"dataframe\">\n",
       "  <thead>\n",
       "    <tr style=\"text-align: right;\">\n",
       "      <th></th>\n",
       "      <th>ID</th>\n",
       "      <th>Last Name</th>\n",
       "      <th>Credit Score</th>\n",
       "      <th>Nationality</th>\n",
       "      <th>Gender</th>\n",
       "      <th>Age</th>\n",
       "      <th>Employment Period</th>\n",
       "      <th>Account Balance</th>\n",
       "      <th>Number of Subscribed Product</th>\n",
       "      <th>Credit Card</th>\n",
       "      <th>Active Member</th>\n",
       "      <th>Salary</th>\n",
       "    </tr>\n",
       "  </thead>\n",
       "  <tbody>\n",
       "    <tr>\n",
       "      <th>0</th>\n",
       "      <td>15692583</td>\n",
       "      <td>Udobata</td>\n",
       "      <td>678</td>\n",
       "      <td>France</td>\n",
       "      <td>Female</td>\n",
       "      <td>32</td>\n",
       "      <td>5</td>\n",
       "      <td>0.00</td>\n",
       "      <td>2</td>\n",
       "      <td>1</td>\n",
       "      <td>0</td>\n",
       "      <td>90284.47</td>\n",
       "    </tr>\n",
       "    <tr>\n",
       "      <th>1</th>\n",
       "      <td>15683157</td>\n",
       "      <td>Waring</td>\n",
       "      <td>613</td>\n",
       "      <td>France</td>\n",
       "      <td>Male</td>\n",
       "      <td>26</td>\n",
       "      <td>4</td>\n",
       "      <td>100446.57</td>\n",
       "      <td>1</td>\n",
       "      <td>0</td>\n",
       "      <td>1</td>\n",
       "      <td>149653.81</td>\n",
       "    </tr>\n",
       "    <tr>\n",
       "      <th>2</th>\n",
       "      <td>15731555</td>\n",
       "      <td>Ross-Watt</td>\n",
       "      <td>595</td>\n",
       "      <td>Germany</td>\n",
       "      <td>Female</td>\n",
       "      <td>45</td>\n",
       "      <td>9</td>\n",
       "      <td>106000.12</td>\n",
       "      <td>1</td>\n",
       "      <td>0</td>\n",
       "      <td>0</td>\n",
       "      <td>191448.96</td>\n",
       "    </tr>\n",
       "    <tr>\n",
       "      <th>3</th>\n",
       "      <td>15641170</td>\n",
       "      <td>Liang</td>\n",
       "      <td>640</td>\n",
       "      <td>Spain</td>\n",
       "      <td>Male</td>\n",
       "      <td>36</td>\n",
       "      <td>4</td>\n",
       "      <td>0.00</td>\n",
       "      <td>1</td>\n",
       "      <td>0</td>\n",
       "      <td>0</td>\n",
       "      <td>173016.46</td>\n",
       "    </tr>\n",
       "    <tr>\n",
       "      <th>4</th>\n",
       "      <td>15667476</td>\n",
       "      <td>Cox</td>\n",
       "      <td>477</td>\n",
       "      <td>Germany</td>\n",
       "      <td>Female</td>\n",
       "      <td>36</td>\n",
       "      <td>3</td>\n",
       "      <td>117700.86</td>\n",
       "      <td>1</td>\n",
       "      <td>0</td>\n",
       "      <td>0</td>\n",
       "      <td>74042.00</td>\n",
       "    </tr>\n",
       "    <tr>\n",
       "      <th>...</th>\n",
       "      <td>...</td>\n",
       "      <td>...</td>\n",
       "      <td>...</td>\n",
       "      <td>...</td>\n",
       "      <td>...</td>\n",
       "      <td>...</td>\n",
       "      <td>...</td>\n",
       "      <td>...</td>\n",
       "      <td>...</td>\n",
       "      <td>...</td>\n",
       "      <td>...</td>\n",
       "      <td>...</td>\n",
       "    </tr>\n",
       "    <tr>\n",
       "      <th>8995</th>\n",
       "      <td>15645593</td>\n",
       "      <td>Trevisani</td>\n",
       "      <td>599</td>\n",
       "      <td>France</td>\n",
       "      <td>Female</td>\n",
       "      <td>41</td>\n",
       "      <td>2</td>\n",
       "      <td>91328.71</td>\n",
       "      <td>1</td>\n",
       "      <td>1</td>\n",
       "      <td>0</td>\n",
       "      <td>115724.78</td>\n",
       "    </tr>\n",
       "    <tr>\n",
       "      <th>8996</th>\n",
       "      <td>15668889</td>\n",
       "      <td>Galgano</td>\n",
       "      <td>665</td>\n",
       "      <td>Germany</td>\n",
       "      <td>Female</td>\n",
       "      <td>43</td>\n",
       "      <td>2</td>\n",
       "      <td>116322.27</td>\n",
       "      <td>4</td>\n",
       "      <td>1</td>\n",
       "      <td>0</td>\n",
       "      <td>35640.12</td>\n",
       "    </tr>\n",
       "    <tr>\n",
       "      <th>8997</th>\n",
       "      <td>15667085</td>\n",
       "      <td>Meng</td>\n",
       "      <td>667</td>\n",
       "      <td>France</td>\n",
       "      <td>Male</td>\n",
       "      <td>33</td>\n",
       "      <td>4</td>\n",
       "      <td>0.00</td>\n",
       "      <td>2</td>\n",
       "      <td>1</td>\n",
       "      <td>1</td>\n",
       "      <td>131834.75</td>\n",
       "    </tr>\n",
       "    <tr>\n",
       "      <th>8998</th>\n",
       "      <td>15589030</td>\n",
       "      <td>Ts'ai</td>\n",
       "      <td>649</td>\n",
       "      <td>France</td>\n",
       "      <td>Male</td>\n",
       "      <td>47</td>\n",
       "      <td>1</td>\n",
       "      <td>0.00</td>\n",
       "      <td>2</td>\n",
       "      <td>1</td>\n",
       "      <td>1</td>\n",
       "      <td>145593.85</td>\n",
       "    </tr>\n",
       "    <tr>\n",
       "      <th>8999</th>\n",
       "      <td>15772601</td>\n",
       "      <td>Lu</td>\n",
       "      <td>845</td>\n",
       "      <td>Germany</td>\n",
       "      <td>Female</td>\n",
       "      <td>41</td>\n",
       "      <td>2</td>\n",
       "      <td>81733.74</td>\n",
       "      <td>2</td>\n",
       "      <td>0</td>\n",
       "      <td>0</td>\n",
       "      <td>199761.29</td>\n",
       "    </tr>\n",
       "  </tbody>\n",
       "</table>\n",
       "<p>9000 rows × 12 columns</p>\n",
       "</div>"
      ],
      "text/plain": [
       "            ID  Last Name  Credit Score Nationality  Gender  Age  \\\n",
       "0     15692583    Udobata           678      France  Female   32   \n",
       "1     15683157     Waring           613      France    Male   26   \n",
       "2     15731555  Ross-Watt           595     Germany  Female   45   \n",
       "3     15641170      Liang           640       Spain    Male   36   \n",
       "4     15667476        Cox           477     Germany  Female   36   \n",
       "...        ...        ...           ...         ...     ...  ...   \n",
       "8995  15645593  Trevisani           599      France  Female   41   \n",
       "8996  15668889    Galgano           665     Germany  Female   43   \n",
       "8997  15667085       Meng           667      France    Male   33   \n",
       "8998  15589030      Ts'ai           649      France    Male   47   \n",
       "8999  15772601         Lu           845     Germany  Female   41   \n",
       "\n",
       "      Employment Period  Account Balance  Number of Subscribed Product  \\\n",
       "0                     5             0.00                             2   \n",
       "1                     4        100446.57                             1   \n",
       "2                     9        106000.12                             1   \n",
       "3                     4             0.00                             1   \n",
       "4                     3        117700.86                             1   \n",
       "...                 ...              ...                           ...   \n",
       "8995                  2         91328.71                             1   \n",
       "8996                  2        116322.27                             4   \n",
       "8997                  4             0.00                             2   \n",
       "8998                  1             0.00                             2   \n",
       "8999                  2         81733.74                             2   \n",
       "\n",
       "      Credit Card  Active Member     Salary  \n",
       "0               1              0   90284.47  \n",
       "1               0              1  149653.81  \n",
       "2               0              0  191448.96  \n",
       "3               0              0  173016.46  \n",
       "4               0              0   74042.00  \n",
       "...           ...            ...        ...  \n",
       "8995            1              0  115724.78  \n",
       "8996            1              0   35640.12  \n",
       "8997            1              1  131834.75  \n",
       "8998            1              1  145593.85  \n",
       "8999            0              0  199761.29  \n",
       "\n",
       "[9000 rows x 12 columns]"
      ]
     },
     "execution_count": 6,
     "metadata": {},
     "output_type": "execute_result"
    }
   ],
   "source": [
    "X_train"
   ]
  },
  {
   "cell_type": "code",
   "execution_count": 7,
   "metadata": {
    "id": "OQqw6dUzJslU"
   },
   "outputs": [],
   "source": [
    "#불필요한 변수 제거\n",
    "X_train.drop(['ID', 'Last Name'], axis=1, inplace = True)\n",
    "X_test.drop(['ID', 'Last Name'], axis=1, inplace = True)"
   ]
  },
  {
   "cell_type": "code",
   "execution_count": 8,
   "metadata": {
    "colab": {
     "base_uri": "https://localhost:8080/",
     "height": 423
    },
    "id": "t1o-XL_TJ5lW",
    "outputId": "162025ed-7bcb-4e6a-a558-a1267afc4d93"
   },
   "outputs": [
    {
     "data": {
      "text/html": [
       "<div>\n",
       "<style scoped>\n",
       "    .dataframe tbody tr th:only-of-type {\n",
       "        vertical-align: middle;\n",
       "    }\n",
       "\n",
       "    .dataframe tbody tr th {\n",
       "        vertical-align: top;\n",
       "    }\n",
       "\n",
       "    .dataframe thead th {\n",
       "        text-align: right;\n",
       "    }\n",
       "</style>\n",
       "<table border=\"1\" class=\"dataframe\">\n",
       "  <thead>\n",
       "    <tr style=\"text-align: right;\">\n",
       "      <th></th>\n",
       "      <th>Credit Score</th>\n",
       "      <th>Nationality</th>\n",
       "      <th>Gender</th>\n",
       "      <th>Age</th>\n",
       "      <th>Employment Period</th>\n",
       "      <th>Account Balance</th>\n",
       "      <th>Number of Subscribed Product</th>\n",
       "      <th>Credit Card</th>\n",
       "      <th>Active Member</th>\n",
       "      <th>Salary</th>\n",
       "    </tr>\n",
       "  </thead>\n",
       "  <tbody>\n",
       "    <tr>\n",
       "      <th>0</th>\n",
       "      <td>678</td>\n",
       "      <td>France</td>\n",
       "      <td>Female</td>\n",
       "      <td>32</td>\n",
       "      <td>5</td>\n",
       "      <td>0.00</td>\n",
       "      <td>2</td>\n",
       "      <td>1</td>\n",
       "      <td>0</td>\n",
       "      <td>90284.47</td>\n",
       "    </tr>\n",
       "    <tr>\n",
       "      <th>1</th>\n",
       "      <td>613</td>\n",
       "      <td>France</td>\n",
       "      <td>Male</td>\n",
       "      <td>26</td>\n",
       "      <td>4</td>\n",
       "      <td>100446.57</td>\n",
       "      <td>1</td>\n",
       "      <td>0</td>\n",
       "      <td>1</td>\n",
       "      <td>149653.81</td>\n",
       "    </tr>\n",
       "    <tr>\n",
       "      <th>2</th>\n",
       "      <td>595</td>\n",
       "      <td>Germany</td>\n",
       "      <td>Female</td>\n",
       "      <td>45</td>\n",
       "      <td>9</td>\n",
       "      <td>106000.12</td>\n",
       "      <td>1</td>\n",
       "      <td>0</td>\n",
       "      <td>0</td>\n",
       "      <td>191448.96</td>\n",
       "    </tr>\n",
       "    <tr>\n",
       "      <th>3</th>\n",
       "      <td>640</td>\n",
       "      <td>Spain</td>\n",
       "      <td>Male</td>\n",
       "      <td>36</td>\n",
       "      <td>4</td>\n",
       "      <td>0.00</td>\n",
       "      <td>1</td>\n",
       "      <td>0</td>\n",
       "      <td>0</td>\n",
       "      <td>173016.46</td>\n",
       "    </tr>\n",
       "    <tr>\n",
       "      <th>4</th>\n",
       "      <td>477</td>\n",
       "      <td>Germany</td>\n",
       "      <td>Female</td>\n",
       "      <td>36</td>\n",
       "      <td>3</td>\n",
       "      <td>117700.86</td>\n",
       "      <td>1</td>\n",
       "      <td>0</td>\n",
       "      <td>0</td>\n",
       "      <td>74042.00</td>\n",
       "    </tr>\n",
       "    <tr>\n",
       "      <th>...</th>\n",
       "      <td>...</td>\n",
       "      <td>...</td>\n",
       "      <td>...</td>\n",
       "      <td>...</td>\n",
       "      <td>...</td>\n",
       "      <td>...</td>\n",
       "      <td>...</td>\n",
       "      <td>...</td>\n",
       "      <td>...</td>\n",
       "      <td>...</td>\n",
       "    </tr>\n",
       "    <tr>\n",
       "      <th>8995</th>\n",
       "      <td>599</td>\n",
       "      <td>France</td>\n",
       "      <td>Female</td>\n",
       "      <td>41</td>\n",
       "      <td>2</td>\n",
       "      <td>91328.71</td>\n",
       "      <td>1</td>\n",
       "      <td>1</td>\n",
       "      <td>0</td>\n",
       "      <td>115724.78</td>\n",
       "    </tr>\n",
       "    <tr>\n",
       "      <th>8996</th>\n",
       "      <td>665</td>\n",
       "      <td>Germany</td>\n",
       "      <td>Female</td>\n",
       "      <td>43</td>\n",
       "      <td>2</td>\n",
       "      <td>116322.27</td>\n",
       "      <td>4</td>\n",
       "      <td>1</td>\n",
       "      <td>0</td>\n",
       "      <td>35640.12</td>\n",
       "    </tr>\n",
       "    <tr>\n",
       "      <th>8997</th>\n",
       "      <td>667</td>\n",
       "      <td>France</td>\n",
       "      <td>Male</td>\n",
       "      <td>33</td>\n",
       "      <td>4</td>\n",
       "      <td>0.00</td>\n",
       "      <td>2</td>\n",
       "      <td>1</td>\n",
       "      <td>1</td>\n",
       "      <td>131834.75</td>\n",
       "    </tr>\n",
       "    <tr>\n",
       "      <th>8998</th>\n",
       "      <td>649</td>\n",
       "      <td>France</td>\n",
       "      <td>Male</td>\n",
       "      <td>47</td>\n",
       "      <td>1</td>\n",
       "      <td>0.00</td>\n",
       "      <td>2</td>\n",
       "      <td>1</td>\n",
       "      <td>1</td>\n",
       "      <td>145593.85</td>\n",
       "    </tr>\n",
       "    <tr>\n",
       "      <th>8999</th>\n",
       "      <td>845</td>\n",
       "      <td>Germany</td>\n",
       "      <td>Female</td>\n",
       "      <td>41</td>\n",
       "      <td>2</td>\n",
       "      <td>81733.74</td>\n",
       "      <td>2</td>\n",
       "      <td>0</td>\n",
       "      <td>0</td>\n",
       "      <td>199761.29</td>\n",
       "    </tr>\n",
       "  </tbody>\n",
       "</table>\n",
       "<p>9000 rows × 10 columns</p>\n",
       "</div>"
      ],
      "text/plain": [
       "      Credit Score Nationality  Gender  Age  Employment Period  \\\n",
       "0              678      France  Female   32                  5   \n",
       "1              613      France    Male   26                  4   \n",
       "2              595     Germany  Female   45                  9   \n",
       "3              640       Spain    Male   36                  4   \n",
       "4              477     Germany  Female   36                  3   \n",
       "...            ...         ...     ...  ...                ...   \n",
       "8995           599      France  Female   41                  2   \n",
       "8996           665     Germany  Female   43                  2   \n",
       "8997           667      France    Male   33                  4   \n",
       "8998           649      France    Male   47                  1   \n",
       "8999           845     Germany  Female   41                  2   \n",
       "\n",
       "      Account Balance  Number of Subscribed Product  Credit Card  \\\n",
       "0                0.00                             2            1   \n",
       "1           100446.57                             1            0   \n",
       "2           106000.12                             1            0   \n",
       "3                0.00                             1            0   \n",
       "4           117700.86                             1            0   \n",
       "...               ...                           ...          ...   \n",
       "8995         91328.71                             1            1   \n",
       "8996        116322.27                             4            1   \n",
       "8997             0.00                             2            1   \n",
       "8998             0.00                             2            1   \n",
       "8999         81733.74                             2            0   \n",
       "\n",
       "      Active Member     Salary  \n",
       "0                 0   90284.47  \n",
       "1                 1  149653.81  \n",
       "2                 0  191448.96  \n",
       "3                 0  173016.46  \n",
       "4                 0   74042.00  \n",
       "...             ...        ...  \n",
       "8995              0  115724.78  \n",
       "8996              0   35640.12  \n",
       "8997              1  131834.75  \n",
       "8998              1  145593.85  \n",
       "8999              0  199761.29  \n",
       "\n",
       "[9000 rows x 10 columns]"
      ]
     },
     "execution_count": 8,
     "metadata": {},
     "output_type": "execute_result"
    }
   ],
   "source": [
    "X_train"
   ]
  },
  {
   "cell_type": "code",
   "execution_count": 9,
   "metadata": {
    "colab": {
     "base_uri": "https://localhost:8080/"
    },
    "id": "Op2v_AyMEqgs",
    "outputId": "14288d67-b257-43a3-ecce-70ae55e6b56e"
   },
   "outputs": [
    {
     "data": {
      "text/plain": [
       "array(['France', 'Germany', 'Spain'], dtype=object)"
      ]
     },
     "execution_count": 9,
     "metadata": {},
     "output_type": "execute_result"
    }
   ],
   "source": [
    "#Nationality에 어떤 국가가 있는지 확인\n",
    "X_train['Nationality'].unique()"
   ]
  },
  {
   "cell_type": "markdown",
   "metadata": {
    "id": "dvh9zUlWE_60"
   },
   "source": [
    "간단한 전처리 과정"
   ]
  },
  {
   "cell_type": "code",
   "execution_count": 10,
   "metadata": {
    "colab": {
     "base_uri": "https://localhost:8080/"
    },
    "id": "Espx_ObzH1KN",
    "outputId": "14c71014-7257-46ed-e2d5-1998c2b0b1d9"
   },
   "outputs": [
    {
     "name": "stdout",
     "output_type": "stream",
     "text": [
      "<class 'pandas.core.frame.DataFrame'>\n",
      "RangeIndex: 9000 entries, 0 to 8999\n",
      "Data columns (total 10 columns):\n",
      " #   Column                        Non-Null Count  Dtype  \n",
      "---  ------                        --------------  -----  \n",
      " 0   Credit Score                  9000 non-null   int64  \n",
      " 1   Nationality                   9000 non-null   object \n",
      " 2   Gender                        9000 non-null   object \n",
      " 3   Age                           9000 non-null   int64  \n",
      " 4   Employment Period             9000 non-null   int64  \n",
      " 5   Account Balance               9000 non-null   float64\n",
      " 6   Number of Subscribed Product  9000 non-null   int64  \n",
      " 7   Credit Card                   9000 non-null   int64  \n",
      " 8   Active Member                 9000 non-null   int64  \n",
      " 9   Salary                        9000 non-null   float64\n",
      "dtypes: float64(2), int64(6), object(2)\n",
      "memory usage: 703.2+ KB\n"
     ]
    }
   ],
   "source": [
    "X_train.info()"
   ]
  },
  {
   "cell_type": "code",
   "execution_count": 11,
   "metadata": {
    "id": "UQoHLMNTFBoM"
   },
   "outputs": [],
   "source": [
    "#category 변수 변환\n",
    "cat_cols = ['Nationality', 'Gender']"
   ]
  },
  {
   "cell_type": "code",
   "execution_count": 12,
   "metadata": {
    "id": "afzTpRtpGtjz"
   },
   "outputs": [],
   "source": [
    "X_train[cat_cols] = X_train[cat_cols].astype('category')\n",
    "X_test[cat_cols] = X_test[cat_cols].astype('category')"
   ]
  },
  {
   "cell_type": "code",
   "execution_count": 13,
   "metadata": {
    "id": "wgd1d4E3Gy57"
   },
   "outputs": [],
   "source": [
    "# 숫자형 데이터 타입 선택\n",
    "numeric_cols = X_train.select_dtypes(include=['int', 'float']).columns.tolist()"
   ]
  },
  {
   "cell_type": "code",
   "execution_count": 14,
   "metadata": {
    "colab": {
     "base_uri": "https://localhost:8080/"
    },
    "id": "kvdgOz7IKSHj",
    "outputId": "5f7b8c2b-473e-465c-a20c-142c6bb53e3e"
   },
   "outputs": [
    {
     "data": {
      "text/plain": [
       "['Credit Score',\n",
       " 'Age',\n",
       " 'Employment Period',\n",
       " 'Account Balance',\n",
       " 'Number of Subscribed Product',\n",
       " 'Credit Card',\n",
       " 'Active Member',\n",
       " 'Salary']"
      ]
     },
     "execution_count": 14,
     "metadata": {},
     "output_type": "execute_result"
    }
   ],
   "source": [
    "numeric_cols"
   ]
  },
  {
   "cell_type": "code",
   "execution_count": 19,
   "metadata": {
    "colab": {
     "base_uri": "https://localhost:8080/"
    },
    "id": "wc3YelRYI2CB",
    "outputId": "edab5913-c5c9-40b3-8832-b28d62b057ef"
   },
   "outputs": [
    {
     "name": "stdout",
     "output_type": "stream",
     "text": [
      "<class 'pandas.core.frame.DataFrame'>\n",
      "RangeIndex: 9000 entries, 0 to 8999\n",
      "Data columns (total 13 columns):\n",
      " #   Column                        Non-Null Count  Dtype  \n",
      "---  ------                        --------------  -----  \n",
      " 0   Credit Score                  9000 non-null   int64  \n",
      " 1   Age                           9000 non-null   int64  \n",
      " 2   Employment Period             9000 non-null   int64  \n",
      " 3   Account Balance               9000 non-null   float64\n",
      " 4   Number of Subscribed Product  9000 non-null   int64  \n",
      " 5   Credit Card                   9000 non-null   int64  \n",
      " 6   Active Member                 9000 non-null   int64  \n",
      " 7   Salary                        9000 non-null   float64\n",
      " 8   Nationality_France            9000 non-null   uint8  \n",
      " 9   Nationality_Germany           9000 non-null   uint8  \n",
      " 10  Nationality_Spain             9000 non-null   uint8  \n",
      " 11  Gender_Female                 9000 non-null   uint8  \n",
      " 12  Gender_Male                   9000 non-null   uint8  \n",
      "dtypes: float64(2), int64(6), uint8(5)\n",
      "memory usage: 606.6 KB\n"
     ]
    }
   ],
   "source": [
    "# One-hot-Encoding\n",
    "X_train_encoded = pd.get_dummies(X_train, columns=['Nationality', 'Gender'])\n",
    "X_test_encoded = pd.get_dummies(X_test, columns=['Nationality', 'Gender'])\n",
    "# 변환된 데이터 확인\n",
    "X_train_encoded.info()"
   ]
  },
  {
   "cell_type": "code",
   "execution_count": 21,
   "metadata": {
    "id": "Uxl2k7T7MzGF",
    "scrolled": true
   },
   "outputs": [],
   "source": [
    "# #Label Encoding--> 상황에 따라 Label Encoding 사용, Label encoding은 각각의 값을 0,1,2,3 ...로 반환함\n",
    "# 설문조사와 같이 {매우나쁨, 나쁨, 보통, 좋음, 매우좋음} 인 경우 선택지 별 distance 유의미하지만\n",
    "# 국가를 0,1,2,3 으로 단순 구분할 경우 무의미한 거리차 발생할 수 있음\n",
    "\n",
    "# # LabelEncoder 객체 생성 \n",
    "    \n",
    "# label_encoder = LabelEncoder()\n",
    "\n",
    "# # Nationality와 Gender 열에 대해 레이블 인코딩 적용\n",
    "# for col in ['Nationality', 'Gender']:\n",
    "#     X_train_encoded[col] = label_encoder.fit_transform(X_train[col])\n",
    "#     X_test_encoded[col] = label_encoder.transform(X_test[col])\n",
    "\n",
    "# # 변환된 데이터 확인\n",
    "# X_train_encoded.info()"
   ]
  },
  {
   "cell_type": "code",
   "execution_count": 22,
   "metadata": {
    "id": "xzLgLypgKZbu"
   },
   "outputs": [],
   "source": [
    "from sklearn.preprocessing import StandardScaler\n",
    "from sklearn.preprocessing import MinMaxScaler\n",
    "\n",
    "# Min-Max Scaler 생성\n",
    "scaler = MinMaxScaler()\n",
    "\n",
    "# Min-Max Scaling을 적용할 변수들에 대해 fit 및 transform 수행<--최종적으로 사용할 입력변수\n",
    "X_train_encoded[numeric_cols] = scaler.fit_transform(X_train_encoded[numeric_cols])\n",
    "X_test_encoded[numeric_cols] = scaler.transform(X_test_encoded[numeric_cols])"
   ]
  },
  {
   "cell_type": "code",
   "execution_count": 23,
   "metadata": {
    "colab": {
     "base_uri": "https://localhost:8080/",
     "height": 441
    },
    "id": "Ohyp15y8K_rU",
    "outputId": "4e3b7c03-240c-402c-cfd0-6ece73850d15"
   },
   "outputs": [
    {
     "data": {
      "text/html": [
       "<div>\n",
       "<style scoped>\n",
       "    .dataframe tbody tr th:only-of-type {\n",
       "        vertical-align: middle;\n",
       "    }\n",
       "\n",
       "    .dataframe tbody tr th {\n",
       "        vertical-align: top;\n",
       "    }\n",
       "\n",
       "    .dataframe thead th {\n",
       "        text-align: right;\n",
       "    }\n",
       "</style>\n",
       "<table border=\"1\" class=\"dataframe\">\n",
       "  <thead>\n",
       "    <tr style=\"text-align: right;\">\n",
       "      <th></th>\n",
       "      <th>Credit Score</th>\n",
       "      <th>Age</th>\n",
       "      <th>Employment Period</th>\n",
       "      <th>Account Balance</th>\n",
       "      <th>Number of Subscribed Product</th>\n",
       "      <th>Credit Card</th>\n",
       "      <th>Active Member</th>\n",
       "      <th>Salary</th>\n",
       "      <th>Nationality_France</th>\n",
       "      <th>Nationality_Germany</th>\n",
       "      <th>Nationality_Spain</th>\n",
       "      <th>Gender_Female</th>\n",
       "      <th>Gender_Male</th>\n",
       "    </tr>\n",
       "  </thead>\n",
       "  <tbody>\n",
       "    <tr>\n",
       "      <th>0</th>\n",
       "      <td>0.656</td>\n",
       "      <td>0.189189</td>\n",
       "      <td>0.5</td>\n",
       "      <td>0.000000</td>\n",
       "      <td>0.333333</td>\n",
       "      <td>1.0</td>\n",
       "      <td>0.0</td>\n",
       "      <td>0.451408</td>\n",
       "      <td>1</td>\n",
       "      <td>0</td>\n",
       "      <td>0</td>\n",
       "      <td>1</td>\n",
       "      <td>0</td>\n",
       "    </tr>\n",
       "    <tr>\n",
       "      <th>1</th>\n",
       "      <td>0.526</td>\n",
       "      <td>0.108108</td>\n",
       "      <td>0.4</td>\n",
       "      <td>0.400348</td>\n",
       "      <td>0.000000</td>\n",
       "      <td>0.0</td>\n",
       "      <td>1.0</td>\n",
       "      <td>0.748283</td>\n",
       "      <td>1</td>\n",
       "      <td>0</td>\n",
       "      <td>0</td>\n",
       "      <td>0</td>\n",
       "      <td>1</td>\n",
       "    </tr>\n",
       "    <tr>\n",
       "      <th>2</th>\n",
       "      <td>0.490</td>\n",
       "      <td>0.364865</td>\n",
       "      <td>0.9</td>\n",
       "      <td>0.422483</td>\n",
       "      <td>0.000000</td>\n",
       "      <td>0.0</td>\n",
       "      <td>0.0</td>\n",
       "      <td>0.957278</td>\n",
       "      <td>0</td>\n",
       "      <td>1</td>\n",
       "      <td>0</td>\n",
       "      <td>1</td>\n",
       "      <td>0</td>\n",
       "    </tr>\n",
       "    <tr>\n",
       "      <th>3</th>\n",
       "      <td>0.580</td>\n",
       "      <td>0.243243</td>\n",
       "      <td>0.4</td>\n",
       "      <td>0.000000</td>\n",
       "      <td>0.000000</td>\n",
       "      <td>0.0</td>\n",
       "      <td>0.0</td>\n",
       "      <td>0.865107</td>\n",
       "      <td>0</td>\n",
       "      <td>0</td>\n",
       "      <td>1</td>\n",
       "      <td>0</td>\n",
       "      <td>1</td>\n",
       "    </tr>\n",
       "    <tr>\n",
       "      <th>4</th>\n",
       "      <td>0.254</td>\n",
       "      <td>0.243243</td>\n",
       "      <td>0.3</td>\n",
       "      <td>0.469118</td>\n",
       "      <td>0.000000</td>\n",
       "      <td>0.0</td>\n",
       "      <td>0.0</td>\n",
       "      <td>0.370187</td>\n",
       "      <td>0</td>\n",
       "      <td>1</td>\n",
       "      <td>0</td>\n",
       "      <td>1</td>\n",
       "      <td>0</td>\n",
       "    </tr>\n",
       "    <tr>\n",
       "      <th>...</th>\n",
       "      <td>...</td>\n",
       "      <td>...</td>\n",
       "      <td>...</td>\n",
       "      <td>...</td>\n",
       "      <td>...</td>\n",
       "      <td>...</td>\n",
       "      <td>...</td>\n",
       "      <td>...</td>\n",
       "      <td>...</td>\n",
       "      <td>...</td>\n",
       "      <td>...</td>\n",
       "      <td>...</td>\n",
       "      <td>...</td>\n",
       "    </tr>\n",
       "    <tr>\n",
       "      <th>8995</th>\n",
       "      <td>0.498</td>\n",
       "      <td>0.310811</td>\n",
       "      <td>0.2</td>\n",
       "      <td>0.364007</td>\n",
       "      <td>0.000000</td>\n",
       "      <td>1.0</td>\n",
       "      <td>0.0</td>\n",
       "      <td>0.578621</td>\n",
       "      <td>1</td>\n",
       "      <td>0</td>\n",
       "      <td>0</td>\n",
       "      <td>1</td>\n",
       "      <td>0</td>\n",
       "    </tr>\n",
       "    <tr>\n",
       "      <th>8996</th>\n",
       "      <td>0.630</td>\n",
       "      <td>0.337838</td>\n",
       "      <td>0.2</td>\n",
       "      <td>0.463624</td>\n",
       "      <td>1.000000</td>\n",
       "      <td>1.0</td>\n",
       "      <td>0.0</td>\n",
       "      <td>0.178160</td>\n",
       "      <td>0</td>\n",
       "      <td>1</td>\n",
       "      <td>0</td>\n",
       "      <td>1</td>\n",
       "      <td>0</td>\n",
       "    </tr>\n",
       "    <tr>\n",
       "      <th>8997</th>\n",
       "      <td>0.634</td>\n",
       "      <td>0.202703</td>\n",
       "      <td>0.4</td>\n",
       "      <td>0.000000</td>\n",
       "      <td>0.333333</td>\n",
       "      <td>1.0</td>\n",
       "      <td>1.0</td>\n",
       "      <td>0.659179</td>\n",
       "      <td>1</td>\n",
       "      <td>0</td>\n",
       "      <td>0</td>\n",
       "      <td>0</td>\n",
       "      <td>1</td>\n",
       "    </tr>\n",
       "    <tr>\n",
       "      <th>8998</th>\n",
       "      <td>0.598</td>\n",
       "      <td>0.391892</td>\n",
       "      <td>0.1</td>\n",
       "      <td>0.000000</td>\n",
       "      <td>0.333333</td>\n",
       "      <td>1.0</td>\n",
       "      <td>1.0</td>\n",
       "      <td>0.727981</td>\n",
       "      <td>1</td>\n",
       "      <td>0</td>\n",
       "      <td>0</td>\n",
       "      <td>0</td>\n",
       "      <td>1</td>\n",
       "    </tr>\n",
       "    <tr>\n",
       "      <th>8999</th>\n",
       "      <td>0.990</td>\n",
       "      <td>0.310811</td>\n",
       "      <td>0.2</td>\n",
       "      <td>0.325765</td>\n",
       "      <td>0.333333</td>\n",
       "      <td>0.0</td>\n",
       "      <td>0.0</td>\n",
       "      <td>0.998844</td>\n",
       "      <td>0</td>\n",
       "      <td>1</td>\n",
       "      <td>0</td>\n",
       "      <td>1</td>\n",
       "      <td>0</td>\n",
       "    </tr>\n",
       "  </tbody>\n",
       "</table>\n",
       "<p>9000 rows × 13 columns</p>\n",
       "</div>"
      ],
      "text/plain": [
       "      Credit Score       Age  Employment Period  Account Balance  \\\n",
       "0            0.656  0.189189                0.5         0.000000   \n",
       "1            0.526  0.108108                0.4         0.400348   \n",
       "2            0.490  0.364865                0.9         0.422483   \n",
       "3            0.580  0.243243                0.4         0.000000   \n",
       "4            0.254  0.243243                0.3         0.469118   \n",
       "...            ...       ...                ...              ...   \n",
       "8995         0.498  0.310811                0.2         0.364007   \n",
       "8996         0.630  0.337838                0.2         0.463624   \n",
       "8997         0.634  0.202703                0.4         0.000000   \n",
       "8998         0.598  0.391892                0.1         0.000000   \n",
       "8999         0.990  0.310811                0.2         0.325765   \n",
       "\n",
       "      Number of Subscribed Product  Credit Card  Active Member    Salary  \\\n",
       "0                         0.333333          1.0            0.0  0.451408   \n",
       "1                         0.000000          0.0            1.0  0.748283   \n",
       "2                         0.000000          0.0            0.0  0.957278   \n",
       "3                         0.000000          0.0            0.0  0.865107   \n",
       "4                         0.000000          0.0            0.0  0.370187   \n",
       "...                            ...          ...            ...       ...   \n",
       "8995                      0.000000          1.0            0.0  0.578621   \n",
       "8996                      1.000000          1.0            0.0  0.178160   \n",
       "8997                      0.333333          1.0            1.0  0.659179   \n",
       "8998                      0.333333          1.0            1.0  0.727981   \n",
       "8999                      0.333333          0.0            0.0  0.998844   \n",
       "\n",
       "      Nationality_France  Nationality_Germany  Nationality_Spain  \\\n",
       "0                      1                    0                  0   \n",
       "1                      1                    0                  0   \n",
       "2                      0                    1                  0   \n",
       "3                      0                    0                  1   \n",
       "4                      0                    1                  0   \n",
       "...                  ...                  ...                ...   \n",
       "8995                   1                    0                  0   \n",
       "8996                   0                    1                  0   \n",
       "8997                   1                    0                  0   \n",
       "8998                   1                    0                  0   \n",
       "8999                   0                    1                  0   \n",
       "\n",
       "      Gender_Female  Gender_Male  \n",
       "0                 1            0  \n",
       "1                 0            1  \n",
       "2                 1            0  \n",
       "3                 0            1  \n",
       "4                 1            0  \n",
       "...             ...          ...  \n",
       "8995              1            0  \n",
       "8996              1            0  \n",
       "8997              0            1  \n",
       "8998              0            1  \n",
       "8999              1            0  \n",
       "\n",
       "[9000 rows x 13 columns]"
      ]
     },
     "execution_count": 23,
     "metadata": {},
     "output_type": "execute_result"
    }
   ],
   "source": [
    "X_train_encoded"
   ]
  },
  {
   "cell_type": "code",
   "execution_count": 19,
   "metadata": {
    "id": "q6zx3YveW_kP"
   },
   "outputs": [],
   "source": [
    "# 추가적으로 변수를 생성하거나 추출하고자 한다면 진행하셔도 됩니다."
   ]
  },
  {
   "cell_type": "markdown",
   "metadata": {
    "id": "XgGG8d-eNizO"
   },
   "source": [
    "# 모델 실험"
   ]
  },
  {
   "cell_type": "code",
   "execution_count": 24,
   "metadata": {
    "id": "rarXDEJ1OFYv"
   },
   "outputs": [],
   "source": [
    "#실험을 위한 데이터셋 분리\n",
    "X_train, X_valid, Y_train, Y_valid = train_test_split(X_train_encoded, Y_train, test_size=0.2, random_state=10,stratify=Y_train)"
   ]
  },
  {
   "cell_type": "markdown",
   "metadata": {
    "id": "y5ObM8vpVawS"
   },
   "source": [
    "### KNN"
   ]
  },
  {
   "cell_type": "code",
   "execution_count": 128,
   "metadata": {
    "scrolled": true
   },
   "outputs": [
    {
     "data": {
      "image/png": "[encoded data removed]",
      "text/plain": [
       "<Figure size 640x480 with 1 Axes>"
      ]
     },
     "metadata": {},
     "output_type": "display_data"
    }
   ],
   "source": [
    "from sklearn.neighbors import KNeighborsClassifier \n",
    "import matplotlib.pyplot as plt\n",
    "k_list = range(1,20) # K 설정\n",
    "train_accuracies = []\n",
    "test_accuracies = []\n",
    "score_list = []\n",
    "for k in k_list:\n",
    "    classifier = KNeighborsClassifier(n_neighbors = k)\n",
    "    classifier.fit(X_train, Y_train)\n",
    "\n",
    "    train_accuracies.append(classifier.score(X_train, Y_train))\n",
    "    test_accuracies.append(classifier.score(X_valid, Y_valid))\n",
    "        \n",
    "    valid_pred = classifier.predict(X_valid)\n",
    "    tem = f1_score(valid_pred,Y_valid) # 성능지표 = f1-score 사용\n",
    "    score_list.append(tem)    \n",
    "    \n",
    "plt.plot(k_list, train_accuracies,label=\"Train data\")\n",
    "plt.plot(k_list, test_accuracies,label=\"Test data\")\n",
    "plt.plot(k_list, score_list,label=\"Score data\")\n",
    "plt.xlabel(\"K\",fontsize = 15)\n",
    "plt.ylabel(\"Accuracy\",fontsize = 15)\n",
    "plt.legend(fontsize= 13)\n",
    "plt.show()"
   ]
  },
  {
   "cell_type": "code",
   "execution_count": 132,
   "metadata": {
    "scrolled": true
   },
   "outputs": [],
   "source": [
    "# K값이 6일 때 Test 성능이 가장 좋음\n",
    "# f1_score는 1일 때 가장 좋으나 K=1 이면 과적합 가능성이 있어서 K 값은 3으로 결정"
   ]
  },
  {
   "cell_type": "code",
   "execution_count": 133,
   "metadata": {},
   "outputs": [
    {
     "name": "stdout",
     "output_type": "stream",
     "text": [
      "예측 결과\n",
      "[0 0 0 1 0 1 1 0 0 0]\n",
      "\n",
      "성능\n",
      "0.8161111111111111\n"
     ]
    }
   ],
   "source": [
    "from sklearn.neighbors import KNeighborsClassifier \n",
    "\n",
    "# n_neighbors = K \n",
    "classifier = KNeighborsClassifier(n_neighbors = 3)\n",
    "classifier.fit(X_train, Y_train)\n",
    "\n",
    "train_preds = classifier.predict(X_train) # 학습 데이터 예측\n",
    "preds = classifier.predict(X_valid) # 테스트 데이터 예측\n",
    "\n",
    "print(\"예측 결과\")\n",
    "print(preds[:10])\n",
    "print(\"\")\n",
    "print(\"성능\")\n",
    "print(classifier.score(X_valid, Y_valid))\n",
    "\n"
   ]
  },
  {
   "cell_type": "code",
   "execution_count": 134,
   "metadata": {},
   "outputs": [
    {
     "name": "stdout",
     "output_type": "stream",
     "text": [
      "model의 recall 값은 0.384\n",
      "model의 2종 오류 확률 값은 0.616\n",
      "model의 Specificity 값은 0.927\n",
      "model의 1종 오류 확률 값은 0.073\n",
      "model의 precision 값은 0.573\n",
      "model의 f1_score 값은 0.460\n",
      "model의 G-mean 값은 0.597\n",
      "model의 accuracy 값은 0.816\n"
     ]
    }
   ],
   "source": [
    "print_all_reg(Y_valid, preds)\n",
    "# KNN의 f1_score : 0.33"
   ]
  },
  {
   "cell_type": "code",
   "execution_count": 135,
   "metadata": {},
   "outputs": [],
   "source": [
    "knn_pred = preds # 결과값 저장"
   ]
  },
  {
   "cell_type": "markdown",
   "metadata": {
    "id": "xfYVrscMVfAB"
   },
   "source": [
    "### DT"
   ]
  },
  {
   "cell_type": "markdown",
   "metadata": {},
   "source": [
    "#### 사전 가지치기"
   ]
  },
  {
   "cell_type": "code",
   "execution_count": 136,
   "metadata": {},
   "outputs": [
    {
     "name": "stdout",
     "output_type": "stream",
     "text": [
      "{'max_depth': 4, 'max_leaf_nodes': 5, 'min_samples_leaf': 2, 'min_samples_split': 2}\n",
      " \n",
      "BEST SCORE 0.559463986599665\n",
      "BEST PARAMS {'max_depth': 5, 'max_leaf_nodes': 10, 'min_samples_leaf': 2, 'min_samples_split': 2}\n"
     ]
    }
   ],
   "source": [
    "from sklearn.tree import DecisionTreeClassifier\n",
    "from sklearn.model_selection import ParameterGrid\n",
    "# 원하는 파라미터 설정 (파라미터를 추가하려면 위의 함수에도 추가해줘야함.)\n",
    "# 사전 가지치기를 위한 하이퍼 파라미터들\n",
    "params={\n",
    "    \"max_depth\":[4,5,6,7,8,9,10],\n",
    "    \"min_samples_leaf\" : [2, 3, 4, 5, 6],\n",
    "    \"min_samples_split\" : range(2,16,2), #2, 4, 6\n",
    "    \"max_leaf_nodes\": [5,10,15]\n",
    "}\n",
    "\n",
    "# ParameterGrid 통해서 모든 경우의 수 만들기\n",
    "params_list = list(ParameterGrid(params)) # 4x3x3x3 = 총 108개의 경우의수를 담은 리스트 반환\n",
    "print(params_list[0])\n",
    "print(\" \")\n",
    "\n",
    "# Grid search 진행\n",
    "score_list = []\n",
    "for params2 in params_list:\n",
    "    model_use = DecisionTreeClassifier(random_state = 0,max_depth = params2[\"max_depth\"],min_samples_leaf = params2[\"min_samples_leaf\"],\n",
    "                                   min_samples_split = params2[\"min_samples_split\"],max_leaf_nodes = params2[\"max_leaf_nodes\"]\n",
    "                                  )\n",
    "    model_use.fit(X_train, Y_train)\n",
    "    valid_pred = model_use.predict(X_valid)\n",
    "    tem = f1_score(valid_pred,Y_valid) # 성능지표 = f1-score 사용\n",
    "    score_list.append(tem)\n",
    "\n",
    "# BEST SCORE 계산\n",
    "best_index= np.argmax(score_list) # 가장 높은 f1-score 갖는 경우를 best case로 설정\n",
    "print(\"BEST SCORE\", score_list[best_index])\n",
    "print(\"BEST PARAMS\", params_list[best_index])"
   ]
  },
  {
   "cell_type": "code",
   "execution_count": 137,
   "metadata": {},
   "outputs": [
    {
     "name": "stdout",
     "output_type": "stream",
     "text": [
      "0.559463986599665\n",
      "Train 데이터 성능\n",
      "model의 recall 값은 0.439\n",
      "model의 2종 오류 확률 값은 0.561\n",
      "model의 Specificity 값은 0.959\n",
      "model의 1종 오류 확률 값은 0.041\n",
      "model의 precision 값은 0.731\n",
      "model의 f1_score 값은 0.549\n",
      "model의 G-mean 값은 0.649\n",
      "model의 accuracy 값은 0.853\n",
      " \n",
      "TEST 데이터 성능\n",
      "model의 recall 값은 0.455\n",
      "model의 2종 오류 확률 값은 0.545\n",
      "model의 Specificity 값은 0.956\n",
      "model의 1종 오류 확률 값은 0.044\n",
      "model의 precision 값은 0.726\n",
      "model의 f1_score 값은 0.559\n",
      "model의 G-mean 값은 0.660\n",
      "model의 accuracy 값은 0.854\n"
     ]
    }
   ],
   "source": [
    "# best case의 하이퍼파라미터로 의사결정나무 학습\n",
    "\n",
    "model_use = DecisionTreeClassifier(random_state = 0,max_depth = params_list[best_index][\"max_depth\"],min_samples_leaf = params_list[best_index][\"min_samples_leaf\"],\n",
    "                                   min_samples_split = params_list[best_index][\"min_samples_split\"],max_leaf_nodes = params_list[best_index][\"max_leaf_nodes\"]\n",
    "                                  )\n",
    "model_use.fit(X_train, Y_train)\n",
    "pred_train = model_use.predict(X_train)\n",
    "pred_test = model_use.predict(X_valid)\n",
    "tem = f1_score(Y_valid,pred_test)\n",
    "print(tem)\n",
    "\n",
    "#출력\n",
    "print(\"Train 데이터 성능\")\n",
    "print_all_reg(Y_train,pred_train)\n",
    "print(\" \")\n",
    "print(\"TEST 데이터 성능\")\n",
    "print_all_reg(Y_valid,pred_test)"
   ]
  },
  {
   "cell_type": "code",
   "execution_count": 138,
   "metadata": {},
   "outputs": [],
   "source": [
    "DT_pred = pred_test #사전 가지치기 결과값 저장"
   ]
  },
  {
   "cell_type": "markdown",
   "metadata": {},
   "source": [
    "#### 사후 가지치기"
   ]
  },
  {
   "cell_type": "code",
   "execution_count": 72,
   "metadata": {},
   "outputs": [
    {
     "data": {
      "image/png": "[encoded data removed]",
      "text/plain": [
       "<Figure size 640x480 with 1 Axes>"
      ]
     },
     "metadata": {},
     "output_type": "display_data"
    },
    {
     "name": "stdout",
     "output_type": "stream",
     "text": [
      "가장 좋은 test 성능을 보이는 ccp_alpha 값: 0.0009999999999997788\n"
     ]
    }
   ],
   "source": [
    "from sklearn.tree import DecisionTreeClassifier\n",
    "\n",
    "ccp_alpha_list = np.arange(0.25,0,-0.001) # 0.25부터 0까지 0.001씩 감소\n",
    "train_scores =[]\n",
    "test_scores =[]\n",
    "for alpha in ccp_alpha_list:\n",
    "    clf = DecisionTreeClassifier(ccp_alpha= alpha) #\n",
    "    clf.fit(X_train,Y_train) # 학습용 데이터로 모델 학습\n",
    "\n",
    "    preds_train = clf.predict(X_train) # 모델 예측\n",
    "    preds = clf.predict(X_valid)\n",
    "\n",
    "    train_scores.append(f1_score(Y_train,preds_train)) # 학습용 데이터 오분류율\n",
    "    test_scores.append(f1_score(Y_valid,preds)) # 테스트 데이터 오분류율\n",
    "    \n",
    "# ccp-alpha 값을 변화시키면서 얻은 모델 결과 시각화\n",
    "\n",
    "fig, ax = plt.subplots()\n",
    "ax.set_xlabel(\"ccp alpha\")\n",
    "ax.set_ylabel(\"1-accuracy\")\n",
    "\n",
    "#ax.set_title(\"나무 복잡도 증가에 따른 오분류율 그래프\")\n",
    "ax.plot(ccp_alpha_list, pd.Series(train_scores).rolling(10,center =True).mean(),  label=\"train data\", drawstyle=\"steps-post\") #train_socres 데이터 10개단위로 이동평균, 중심점은 5번째 데이터\n",
    "ax.plot(ccp_alpha_list, pd.Series(test_scores).rolling(10,center=True).mean(),  label=\"test data\", drawstyle=\"steps-post\")\n",
    "\n",
    "# ax.plot(ccp_alpha_list, train_scores, drawstyle=\"steps-post\")\n",
    "# ax.plot(ccp_alpha_list, test_scores, drawstyle=\"steps-post\")\n",
    "\n",
    "ax.legend()\n",
    "#plt.xlim(0.7)\n",
    "plt.show()\n",
    "plt.close('all')\n",
    "best_ccp_alpha_index = np.argmax(test_scores)\n",
    "best_ccp_alpha = ccp_alpha_list[best_ccp_alpha_index]\n",
    "print(\"가장 좋은 test 성능을 보이는 ccp_alpha 값:\", best_ccp_alpha)"
   ]
  },
  {
   "cell_type": "code",
   "execution_count": 73,
   "metadata": {},
   "outputs": [
    {
     "name": "stdout",
     "output_type": "stream",
     "text": [
      "model의 recall 값은 0.987\n",
      "model의 2종 오류 확률 값은 0.013\n",
      "model의 Specificity 값은 1.000\n",
      "model의 1종 오류 확률 값은 0.000\n",
      "model의 precision 값은 0.999\n",
      "model의 f1_score 값은 0.993\n",
      "model의 G-mean 값은 0.993\n",
      "model의 accuracy 값은 0.997\n",
      " \n",
      "model의 recall 값은 0.515\n",
      "model의 2종 오류 확률 값은 0.485\n",
      "model의 Specificity 값은 0.871\n",
      "model의 1종 오류 확률 값은 0.129\n",
      "model의 precision 값은 0.505\n",
      "model의 f1_score 값은 0.510\n",
      "model의 G-mean 값은 0.670\n",
      "model의 accuracy 값은 0.798\n"
     ]
    }
   ],
   "source": [
    "# 최적 ccp-alpha로 모델 학습\n",
    "\n",
    "alpha = 0.0001\n",
    "clf = DecisionTreeClassifier(ccp_alpha= alpha)\n",
    "clf.fit(X_train,Y_train)\n",
    "preds = clf.predict(X_valid)\n",
    "preds_train = clf.predict(X_train) # 훈련용 X 데이터셋으로 예측값 생성\n",
    "print_all_reg(Y_train,preds_train) # 실제 y값과 예측값을 비교하여 성능지표 출력\n",
    "print(\" \")\n",
    "print_all_reg(Y_valid,preds)"
   ]
  },
  {
   "cell_type": "code",
   "execution_count": null,
   "metadata": {},
   "outputs": [],
   "source": [
    "# 사후가지치기는 해당 모델에서 ccp alpha 값이 0에 가까워질수록 오분류율이 감소하여 과적합 발생\n",
    "# 사전가지치기로 진행"
   ]
  },
  {
   "cell_type": "markdown",
   "metadata": {
    "id": "KYpl8iNMVbCV"
   },
   "source": [
    "### SVM-rbf kernel"
   ]
  },
  {
   "cell_type": "code",
   "execution_count": 107,
   "metadata": {
    "colab": {
     "base_uri": "https://localhost:8080/"
    },
    "id": "YbzPDwTRL5v4",
    "outputId": "94bed2a3-50b7-400e-d380-6de0026b1d8b"
   },
   "outputs": [
    {
     "name": "stdout",
     "output_type": "stream",
     "text": [
      "BEST SCORE 0.5391304347826087\n",
      "BEST PARAMS {'C': 10, 'gamma': 1}\n"
     ]
    }
   ],
   "source": [
    "# 비선형 svm - rbf\n",
    "from sklearn.svm import LinearSVC, SVC\n",
    "from sklearn.model_selection import ParameterGrid\n",
    "\n",
    "# 사용 하이퍼파라미터:C, gamma = 커널의 곡률을 결정함\n",
    "\n",
    "#gamma: 커널 계수를 조절하는 파라미터. 클수록 모델이 훈련 데이터에 fitting 되며, 작을수록 일반화\n",
    "# 작은 gamma 값은 결정 경계를 부드럽게 만들어 과소적합을 유발하는 반면, 반대로 큰 gamma 값은 결정 경계를 복잡하게 만들어 과대적합을 유발함\n",
    "param_grid = {\"C\": [1, 3, 5, 7, 10],\n",
    "              \"gamma\": [0.001, 0.01, 0.1, 1, 10]}\n",
    "\n",
    "# ParameterGrid 통해서 모든 경우의 수 만들기\n",
    "params_list = list(ParameterGrid(param_grid))\n",
    "\n",
    "# Grid search 진행\n",
    "score_list = []\n",
    "for params2 in params_list:\n",
    "    model_use = SVC(kernel='rbf',C = params2[\"C\"],gamma = params2[\"gamma\"])\n",
    "    model_use.fit(X_train, Y_train)\n",
    "    valid_pred = model_use.predict(X_valid)\n",
    "    tem = f1_score(valid_pred,Y_valid) # 성능지표 = f1-score 사용\n",
    "    score_list.append(tem)\n",
    "\n",
    "# BEST SCORE 계산\n",
    "best_index= np.argmax(score_list) # 가장 높은 f1-score 갖는 경우를 best case로 설정\n",
    "print(\"BEST SCORE\", score_list[best_index])\n",
    "print(\"BEST PARAMS\", params_list[best_index])"
   ]
  },
  {
   "cell_type": "code",
   "execution_count": 108,
   "metadata": {
    "colab": {
     "base_uri": "https://localhost:8080/"
    },
    "id": "bv5lgDDiP5yr",
    "outputId": "980cedd3-1570-4ef3-b2e8-e54b456f3be9"
   },
   "outputs": [
    {
     "name": "stdout",
     "output_type": "stream",
     "text": [
      "0.5391304347826087\n",
      "Train 데이터 성능\n",
      "model의 recall 값은 0.467\n",
      "model의 2종 오류 확률 값은 0.533\n",
      "model의 Specificity 값은 0.981\n",
      "model의 1종 오류 확률 값은 0.019\n",
      "model의 precision 값은 0.863\n",
      "model의 f1_score 값은 0.606\n",
      "model의 G-mean 값은 0.677\n",
      "model의 accuracy 값은 0.876\n",
      " \n",
      "TEST 데이터 성능\n",
      "model의 recall 값은 0.422\n",
      "model의 2종 오류 확률 값은 0.578\n",
      "model의 Specificity 값은 0.963\n",
      "model의 1종 오류 확률 값은 0.037\n",
      "model의 precision 값은 0.745\n",
      "model의 f1_score 값은 0.539\n",
      "model의 G-mean 값은 0.638\n",
      "model의 accuracy 값은 0.853\n"
     ]
    }
   ],
   "source": [
    "# best case의 하이퍼파라미터로 SVM\n",
    "SVM_best_model = SVC(kernel='rbf',C = params_list[best_index][\"C\"],gamma = params_list[best_index][\"gamma\"])\n",
    "# SVM_best_model = SVC(kernel='rbf',C = 10,gamma =1) #0.1, 1, 1000 넣고 비교해보기\n",
    "\n",
    "SVM_best_model.fit(X_train, Y_train)\n",
    "pred_train = SVM_best_model.predict(X_train)\n",
    "pred_test = SVM_best_model.predict(X_valid)\n",
    "tem = f1_score(Y_valid,pred_test)\n",
    "print(tem)\n",
    "\n",
    "#출력\n",
    "print(\"Train 데이터 성능\")\n",
    "print_all_reg(Y_train,pred_train)\n",
    "print(\" \")\n",
    "print(\"TEST 데이터 성능\")\n",
    "print_all_reg(Y_valid,pred_test)\n"
   ]
  },
  {
   "cell_type": "code",
   "execution_count": 109,
   "metadata": {
    "id": "qEhy5t_CPyWE"
   },
   "outputs": [],
   "source": [
    "#SVM으로 예측값 반환\n",
    "SVM_pred = SVM_best_model.predict(X_valid)"
   ]
  },
  {
   "cell_type": "markdown",
   "metadata": {
    "id": "8c50620e-b134-40f3-b224-a2a8db43fa3d"
   },
   "source": [
    "## Submission File"
   ]
  },
  {
   "cell_type": "code",
   "execution_count": 110,
   "metadata": {
    "id": "68778f86-5c4d-4e2c-ac99-cdf615152ba7",
    "tags": []
   },
   "outputs": [],
   "source": [
    "SVM_submit = pd.DataFrame(SVM_pred, columns=['SVM 예측'])\n",
    "knn_submit = pd.DataFrame(knn_pred, columns=['KNN 예측'])\n",
    "DT_submit = pd.DataFrame(DT_pred, columns=['DT 예측'])"
   ]
  },
  {
   "cell_type": "code",
   "execution_count": 111,
   "metadata": {
    "colab": {
     "base_uri": "https://localhost:8080/",
     "height": 423
    },
    "id": "LchpNrfzxUeZ",
    "outputId": "b215c8bb-200f-4dc6-e389-b94c9de563bf"
   },
   "outputs": [
    {
     "data": {
      "text/html": [
       "<div>\n",
       "<style scoped>\n",
       "    .dataframe tbody tr th:only-of-type {\n",
       "        vertical-align: middle;\n",
       "    }\n",
       "\n",
       "    .dataframe tbody tr th {\n",
       "        vertical-align: top;\n",
       "    }\n",
       "\n",
       "    .dataframe thead th {\n",
       "        text-align: right;\n",
       "    }\n",
       "</style>\n",
       "<table border=\"1\" class=\"dataframe\">\n",
       "  <thead>\n",
       "    <tr style=\"text-align: right;\">\n",
       "      <th></th>\n",
       "      <th>SVM 예측</th>\n",
       "    </tr>\n",
       "  </thead>\n",
       "  <tbody>\n",
       "    <tr>\n",
       "      <th>0</th>\n",
       "      <td>0</td>\n",
       "    </tr>\n",
       "    <tr>\n",
       "      <th>1</th>\n",
       "      <td>0</td>\n",
       "    </tr>\n",
       "    <tr>\n",
       "      <th>2</th>\n",
       "      <td>0</td>\n",
       "    </tr>\n",
       "    <tr>\n",
       "      <th>3</th>\n",
       "      <td>1</td>\n",
       "    </tr>\n",
       "    <tr>\n",
       "      <th>4</th>\n",
       "      <td>0</td>\n",
       "    </tr>\n",
       "    <tr>\n",
       "      <th>...</th>\n",
       "      <td>...</td>\n",
       "    </tr>\n",
       "    <tr>\n",
       "      <th>1795</th>\n",
       "      <td>0</td>\n",
       "    </tr>\n",
       "    <tr>\n",
       "      <th>1796</th>\n",
       "      <td>0</td>\n",
       "    </tr>\n",
       "    <tr>\n",
       "      <th>1797</th>\n",
       "      <td>0</td>\n",
       "    </tr>\n",
       "    <tr>\n",
       "      <th>1798</th>\n",
       "      <td>1</td>\n",
       "    </tr>\n",
       "    <tr>\n",
       "      <th>1799</th>\n",
       "      <td>1</td>\n",
       "    </tr>\n",
       "  </tbody>\n",
       "</table>\n",
       "<p>1800 rows × 1 columns</p>\n",
       "</div>"
      ],
      "text/plain": [
       "      SVM 예측\n",
       "0          0\n",
       "1          0\n",
       "2          0\n",
       "3          1\n",
       "4          0\n",
       "...      ...\n",
       "1795       0\n",
       "1796       0\n",
       "1797       0\n",
       "1798       1\n",
       "1799       1\n",
       "\n",
       "[1800 rows x 1 columns]"
      ]
     },
     "execution_count": 111,
     "metadata": {},
     "output_type": "execute_result"
    }
   ],
   "source": [
    "SVM_submit"
   ]
  },
  {
   "cell_type": "code",
   "execution_count": 139,
   "metadata": {
    "id": "45d06647-86a2-4a67-9880-193dc33aca25",
    "tags": []
   },
   "outputs": [],
   "source": [
    "classification_pred = pd.concat([knn_submit, DT_submit, SVM_submit], axis=1)\n",
    "classification_pred.to_csv('문제2_predict.csv', index=False, encoding='euc-kr')"
   ]
  },
  {
   "cell_type": "code",
   "execution_count": 140,
   "metadata": {
    "colab": {
     "base_uri": "https://localhost:8080/",
     "height": 423
    },
    "id": "xXjpKuz9xZAd",
    "outputId": "ba40e759-fdad-43a4-9ad6-9a2b031a4ff6"
   },
   "outputs": [
    {
     "data": {
      "text/html": [
       "<div>\n",
       "<style scoped>\n",
       "    .dataframe tbody tr th:only-of-type {\n",
       "        vertical-align: middle;\n",
       "    }\n",
       "\n",
       "    .dataframe tbody tr th {\n",
       "        vertical-align: top;\n",
       "    }\n",
       "\n",
       "    .dataframe thead th {\n",
       "        text-align: right;\n",
       "    }\n",
       "</style>\n",
       "<table border=\"1\" class=\"dataframe\">\n",
       "  <thead>\n",
       "    <tr style=\"text-align: right;\">\n",
       "      <th></th>\n",
       "      <th>KNN 예측</th>\n",
       "      <th>DT 예측</th>\n",
       "      <th>SVM 예측</th>\n",
       "    </tr>\n",
       "  </thead>\n",
       "  <tbody>\n",
       "    <tr>\n",
       "      <th>0</th>\n",
       "      <td>0</td>\n",
       "      <td>0</td>\n",
       "      <td>0</td>\n",
       "    </tr>\n",
       "    <tr>\n",
       "      <th>1</th>\n",
       "      <td>0</td>\n",
       "      <td>0</td>\n",
       "      <td>0</td>\n",
       "    </tr>\n",
       "    <tr>\n",
       "      <th>2</th>\n",
       "      <td>0</td>\n",
       "      <td>0</td>\n",
       "      <td>0</td>\n",
       "    </tr>\n",
       "    <tr>\n",
       "      <th>3</th>\n",
       "      <td>0</td>\n",
       "      <td>1</td>\n",
       "      <td>1</td>\n",
       "    </tr>\n",
       "    <tr>\n",
       "      <th>4</th>\n",
       "      <td>0</td>\n",
       "      <td>0</td>\n",
       "      <td>0</td>\n",
       "    </tr>\n",
       "    <tr>\n",
       "      <th>...</th>\n",
       "      <td>...</td>\n",
       "      <td>...</td>\n",
       "      <td>...</td>\n",
       "    </tr>\n",
       "    <tr>\n",
       "      <th>1795</th>\n",
       "      <td>0</td>\n",
       "      <td>0</td>\n",
       "      <td>0</td>\n",
       "    </tr>\n",
       "    <tr>\n",
       "      <th>1796</th>\n",
       "      <td>0</td>\n",
       "      <td>0</td>\n",
       "      <td>0</td>\n",
       "    </tr>\n",
       "    <tr>\n",
       "      <th>1797</th>\n",
       "      <td>0</td>\n",
       "      <td>0</td>\n",
       "      <td>0</td>\n",
       "    </tr>\n",
       "    <tr>\n",
       "      <th>1798</th>\n",
       "      <td>0</td>\n",
       "      <td>1</td>\n",
       "      <td>1</td>\n",
       "    </tr>\n",
       "    <tr>\n",
       "      <th>1799</th>\n",
       "      <td>1</td>\n",
       "      <td>1</td>\n",
       "      <td>1</td>\n",
       "    </tr>\n",
       "  </tbody>\n",
       "</table>\n",
       "<p>1800 rows × 3 columns</p>\n",
       "</div>"
      ],
      "text/plain": [
       "      KNN 예측  DT 예측  SVM 예측\n",
       "0          0      0       0\n",
       "1          0      0       0\n",
       "2          0      0       0\n",
       "3          0      1       1\n",
       "4          0      0       0\n",
       "...      ...    ...     ...\n",
       "1795       0      0       0\n",
       "1796       0      0       0\n",
       "1797       0      0       0\n",
       "1798       0      1       1\n",
       "1799       1      1       1\n",
       "\n",
       "[1800 rows x 3 columns]"
      ]
     },
     "execution_count": 140,
     "metadata": {},
     "output_type": "execute_result"
    }
   ],
   "source": [
    "classification_pred"
   ]
  },
  {
   "cell_type": "markdown",
   "metadata": {
    "id": "-w4M6wq4xZto"
   },
   "source": [
    "# f1_score\n",
    "\n",
    "### 결과\n",
    "#### KNN : 0.46\n",
    "#### DT : 0.559\n",
    "#### SVM : 0.539"
   ]
  },
  {
   "cell_type": "code",
   "execution_count": null,
   "metadata": {},
   "outputs": [],
   "source": []
  }
 ],
 "metadata": {
  "colab": {
   "provenance": []
  },
  "kernelspec": {
   "display_name": "Python 3 (ipykernel)",
   "language": "python",
   "name": "python3"
  },
  "language_info": {
   "codemirror_mode": {
    "name": "ipython",
    "version": 3
   },
   "file_extension": ".py",
   "mimetype": "text/x-python",
   "name": "python",
   "nbconvert_exporter": "python",
   "pygments_lexer": "ipython3",
   "version": "3.10.14"
  }
 },
 "nbformat": 4,
 "nbformat_minor": 1
}
